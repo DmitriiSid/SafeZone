{
 "cells": [
  {
   "cell_type": "code",
   "execution_count": 2,
   "metadata": {},
   "outputs": [],
   "source": [
    "import pandas as pd\n",
    "import requests\n",
    "import pandas as pd\n",
    "from bs4 import BeautifulSoup\n",
    "import re\n",
    "from tqdm import tqdm \n",
    "from urllib.parse import urljoin\n"
   ]
  },
  {
   "cell_type": "code",
   "execution_count": 16,
   "metadata": {},
   "outputs": [],
   "source": [
    "def data_prep(subset:bool = False) -> pd.DataFrame:\n",
    "    db_pomoci = pd.read_csv(\"../db_pomoci.csv\")\n",
    "    df = db_pomoci.rename(columns={\"Webová stránka\" : \"web\", \"Název\":\"nazev\",\"E-mail\":\"email\"})\n",
    "    black_list = ['http://www.dc-brno.cz','www.freeklub.cz', 'http://www.cszs.cz/','http://www.fokustabor.cz/centrum-dusevniho-zdravi-_-komunitni-tym-tabor']\n",
    "    df = df[(~df[\"web\"].isna()) & (~df['web'].isin(black_list))]\n",
    "    df['web'] = df['web'].str.replace(r'\\s+', '', regex=True)\n",
    "    df.loc[df['web'].str.endswith('.cz'), 'web'] = df['web'].str.replace('.cz^', '.cz', regex=True)\n",
    "    df.loc[df['web'].str.startswith('www'), 'web'] = df['web'].str.replace('^www', 'https://www', regex=True)\n",
    "    df_agg_tel = df.groupby(\"web\")[\"Telefon\"].agg(list).reset_index()\n",
    "    df_agg_email = df.groupby(\"web\")[\"email\"].agg(list).reset_index()\n",
    "    df_agg = pd.merge(df_agg_tel, df_agg_email, on=\"web\")#.drop(\"index\", axis= 1)\n",
    "    df_agg = df_agg.rename(columns={'web': 'web', 'Telefon': 'Telefon'})\n",
    "    df_agg = pd.DataFrame(df_agg)\n",
    "    if subset:\n",
    "        df_agg = df_agg.head(300) # ubset first 300 rows\n",
    "    return df_agg"
   ]
  },
  {
   "cell_type": "code",
   "execution_count": 17,
   "metadata": {},
   "outputs": [],
   "source": [
    "# db_pomoci = pd.read_csv(\"db_pomoci.csv\")\n",
    "\n",
    "# black_list = ['http://www.dc-brno.cz','www.freeklub.cz, www.cszs.cz','https://www.freeklub.cz']\n",
    "\n",
    "# df = db_pomoci.rename(columns={\"Webová stránka\" : \"web\", \"Název\":\"nazev\",\"E-mail\":\"email\"})\n",
    "\n",
    "# df = df[(~df[\"web\"].isna()) & (~df['web'].isin(black_list))]\n",
    "\n",
    "# df.loc[df['web'].str.startswith('www'), 'web'] = df['web'].str.replace('^www', 'https://www', regex=True)\n",
    "\n",
    "# df_agg_tel = df.groupby(\"web\")[\"Telefon\"].agg(list).reset_index()\n",
    "# df_agg_email = df.groupby(\"web\")[\"email\"].agg(list).reset_index()\n",
    "# df_agg = pd.merge(df_agg_tel, df_agg_email, on=\"web\")#.drop(\"index\", axis= 1)\n",
    "# df_agg = df_agg.rename(columns={'web': 'web', 'Telefon': 'Telefon'})\n",
    "# df_agg = pd.DataFrame(df_agg)\n",
    "# df_agg = df_agg[~df_agg['web'].isin(black_list)]\n",
    "# df_agg.head()\n",
    "# #df.sort_values(\"web\")\n"
   ]
  },
  {
   "cell_type": "code",
   "execution_count": 18,
   "metadata": {},
   "outputs": [
    {
     "ename": "NameError",
     "evalue": "name 'df_agg' is not defined",
     "output_type": "error",
     "traceback": [
      "\u001b[0;31m---------------------------------------------------------------------------\u001b[0m",
      "\u001b[0;31mNameError\u001b[0m                                 Traceback (most recent call last)",
      "Cell \u001b[0;32mIn[18], line 1\u001b[0m\n\u001b[0;32m----> 1\u001b[0m matching_rows \u001b[38;5;241m=\u001b[39m \u001b[43mdf_agg\u001b[49m[df_agg[\u001b[38;5;124m'\u001b[39m\u001b[38;5;124mweb\u001b[39m\u001b[38;5;124m'\u001b[39m]\u001b[38;5;241m.\u001b[39mstr\u001b[38;5;241m.\u001b[39mcontains(\u001b[38;5;124m'\u001b[39m\u001b[38;5;124mfreeklub\u001b[39m\u001b[38;5;124m'\u001b[39m, case\u001b[38;5;241m=\u001b[39m\u001b[38;5;28;01mFalse\u001b[39;00m, na\u001b[38;5;241m=\u001b[39m\u001b[38;5;28;01mFalse\u001b[39;00m)]\n\u001b[1;32m      3\u001b[0m \u001b[38;5;66;03m# Display the matching rows\u001b[39;00m\n\u001b[1;32m      4\u001b[0m \u001b[38;5;28mprint\u001b[39m(matching_rows)\n",
      "\u001b[0;31mNameError\u001b[0m: name 'df_agg' is not defined"
     ]
    }
   ],
   "source": [
    "matching_rows = df_agg[df_agg['web'].str.contains('freeklub', case=False, na=False)]\n",
    "\n",
    "# Display the matching rows\n",
    "print(matching_rows)"
   ]
  },
  {
   "cell_type": "code",
   "execution_count": 30,
   "metadata": {},
   "outputs": [],
   "source": [
    "def scrape_urls(df):    \n",
    "    email_regex = re.compile(r\"[a-zA-Z0-9._%+-]+@[a-zA-Z0-9.-]+\\.[a-zA-Z]{2,}\")\n",
    "    phone_regex = re.compile(r\"\"\"\n",
    "        (?:\n",
    "            \\+420[-\\s]?       # Optional country code +420 followed by an optional space or dash\n",
    "        )?\n",
    "        (?:                  # Non-capturing group for the phone number\n",
    "            \\d{3}[-\\s]?      # First part of the phone number (3 digits)\n",
    "            \\d{3}[-\\s]?      # Second part of the phone number (3 digits)\n",
    "            \\d{3}            # Third part of the phone number (3 digits)\n",
    "            (?:\\d{3})?       # Optional fourth part of the phone number (3 digits)\n",
    "        )\n",
    "    \"\"\", re.VERBOSE)\n",
    "\n",
    "    # List to collect data\n",
    "    data = []\n",
    "\n",
    "    # Function to scrape a single URL\n",
    "    def scrape_website_main_page(url):\n",
    "        try:\n",
    "            response = requests.get(url)\n",
    "            response.raise_for_status()  # Raises an HTTPError if the response status code is 4XX or 5XX\n",
    "            soup = BeautifulSoup(response.text, 'html.parser')\n",
    "            emails = set(email_regex.findall(soup.text))\n",
    "            phones = set(phone_regex.findall(soup.text))\n",
    "            return emails, phones\n",
    "        except requests.RequestException as e:\n",
    "            print(f\"Error fetching {url}: {e}\")\n",
    "            return set(),set()\n",
    "\n",
    "    # Function to scrape potential contact pages\n",
    "    def scrape_website_contacts(base_url, path='', visited_urls=set()):\n",
    "        full_url = urljoin(base_url, path)\n",
    "        if full_url in visited_urls:\n",
    "            return set()  # Return empty set if URL has already been visited\n",
    "        visited_urls.add(full_url)\n",
    "\n",
    "        try:\n",
    "            response = requests.get(full_url)\n",
    "            response.raise_for_status()\n",
    "            soup = BeautifulSoup(response.text, 'html.parser')\n",
    "\n",
    "            emails = set(email_regex.findall(soup.text))\n",
    "            phones = set(phone_regex.findall(soup.text))\n",
    "\n",
    "            # Checking for links that may contain contact info\n",
    "            contact_links = []\n",
    "            for link in soup.find_all('a', href=True):\n",
    "                if 'kontakt' in link.text.lower() or 'contact' in link.text.lower() or 'kontakty' in link.text.lower() \\\n",
    "                or 'kdo-jsem' in link.text.lower():\n",
    "                    contact_href = urljoin(full_url, link['href'])\n",
    "                    if contact_href not in visited_urls:\n",
    "                        contact_links.append(contact_href)\n",
    "\n",
    "            # Scrape each potential contact page\n",
    "            for link in contact_links:\n",
    "                sub_emails, sub_phones = scrape_website_main_page(link)\n",
    "                emails.update(sub_emails)\n",
    "                phones.update(sub_phones)\n",
    "\n",
    "            return emails, phones\n",
    "        except requests.RequestException as e:\n",
    "            print(f\"Error fetching {full_url}: {e}\")\n",
    "            return set(),set()\n",
    "\n",
    "    # Set of URLs to scrape\n",
    "    urls = set(df[\"web\"])\n",
    "\n",
    "    # Loop through the URLs and scrape each one\n",
    "    visited_urls = set()\n",
    "    for url in tqdm(urls):\n",
    "        #print(f\"Scraping {url}\")\n",
    "        \n",
    "        emails, phones = scrape_website_contacts(url, visited_urls=visited_urls)\n",
    "        ###\n",
    "        # Condition if main page does not contain contact infromation\n",
    "        ###    \n",
    "        # if  ('' in emails) or  ('' in phones):        \n",
    "        #     emails_2, phones_2 = scrape_website_contacts(url, visited_urls=visited_urls)\n",
    "        #     emails.add(emails_2)\n",
    "        #     phones.add(phones_2)\n",
    "        emails_str = ', '.join(emails)\n",
    "        phones_str = ', '.join(phones)\n",
    "        \n",
    "        # Collect data\n",
    "        data.append({'Website': url, 'Emails': emails_str, 'Phone Numbers': phones_str})\n",
    "        #print(\"Done\")\n",
    "        #print(\"\")\n",
    "    return data\n"
   ]
  },
  {
   "cell_type": "code",
   "execution_count": 31,
   "metadata": {},
   "outputs": [
    {
     "data": {
      "text/plain": [
       "(300, 3)"
      ]
     },
     "execution_count": 31,
     "metadata": {},
     "output_type": "execute_result"
    }
   ],
   "source": [
    "df = data_prep(subset=True)\n",
    "#total_rows = df.shape[0]\n",
    "#df = df.loc[601:total_rows]\n",
    "df.shape"
   ]
  },
  {
   "cell_type": "code",
   "execution_count": 32,
   "metadata": {},
   "outputs": [
    {
     "name": "stderr",
     "output_type": "stream",
     "text": [
      "  1%|          | 2/300 [00:01<02:24,  2.06it/s]"
     ]
    },
    {
     "name": "stdout",
     "output_type": "stream",
     "text": [
      "Error fetching cdzostrava.cz: Invalid URL 'cdzostrava.cz': No scheme supplied. Perhaps you meant https://cdzostrava.cz?\n"
     ]
    },
    {
     "name": "stderr",
     "output_type": "stream",
     "text": [
      "  2%|▏         | 5/300 [00:02<02:22,  2.07it/s]"
     ]
    },
    {
     "name": "stdout",
     "output_type": "stream",
     "text": [
      "Error fetching mailto:kontakt@martinbayer.cz: No connection adapters were found for 'mailto:kontakt@martinbayer.cz'\n",
      "Error fetching http://www.nemckr.cz/index.php/cs/ambulance/soukr-ordinace/psychiatrie: HTTPConnectionPool(host='www.nemckr.cz', port=80): Max retries exceeded with url: /index.php/cs/ambulance/soukr-ordinace/psychiatrie (Caused by NameResolutionError(\"<urllib3.connection.HTTPConnection object at 0x7feac81242b0>: Failed to resolve 'www.nemckr.cz' ([Errno 8] nodename nor servname provided, or not known)\"))\n"
     ]
    },
    {
     "name": "stderr",
     "output_type": "stream",
     "text": [
      "  3%|▎         | 8/300 [00:05<04:19,  1.13it/s]"
     ]
    },
    {
     "name": "stdout",
     "output_type": "stream",
     "text": [
      "Error fetching mailto:kontakt@martinbayer.cz: No connection adapters were found for 'mailto:kontakt@martinbayer.cz'\n"
     ]
    },
    {
     "name": "stderr",
     "output_type": "stream",
     "text": [
      "  3%|▎         | 9/300 [00:06<03:23,  1.43it/s]"
     ]
    },
    {
     "name": "stdout",
     "output_type": "stream",
     "text": [
      "Error fetching http://psychologslany.cz/index_sl.html: 404 Client Error: Not Found for url: https://psychologslany.cz/index_sl.html\n"
     ]
    },
    {
     "name": "stderr",
     "output_type": "stream",
     "text": [
      "  4%|▍         | 12/300 [00:07<02:36,  1.84it/s]"
     ]
    },
    {
     "name": "stdout",
     "output_type": "stream",
     "text": [
      "Error fetching http://www.fenix-centrum.cz/centrum-dusevniho-zdravi: 404 Client Error: Not Found for url: https://www.fenix-centrum.cz/centrum-dusevniho-zdravi/\n"
     ]
    },
    {
     "name": "stderr",
     "output_type": "stream",
     "text": [
      "  7%|▋         | 21/300 [00:11<02:33,  1.82it/s]"
     ]
    },
    {
     "name": "stdout",
     "output_type": "stream",
     "text": [
      "Error fetching mailto:kontakt@martinbayer.cz: No connection adapters were found for 'mailto:kontakt@martinbayer.cz'\n"
     ]
    },
    {
     "name": "stderr",
     "output_type": "stream",
     "text": [
      "  7%|▋         | 22/300 [00:12<02:46,  1.67it/s]"
     ]
    },
    {
     "name": "stdout",
     "output_type": "stream",
     "text": [
      "Error fetching mailto:kontakt@martinbayer.cz: No connection adapters were found for 'mailto:kontakt@martinbayer.cz'\n"
     ]
    },
    {
     "name": "stderr",
     "output_type": "stream",
     "text": [
      "  9%|▊         | 26/300 [00:17<05:31,  1.21s/it]"
     ]
    },
    {
     "name": "stdout",
     "output_type": "stream",
     "text": [
      "Error fetching http://pivecka-ops.cz/?page_id=1948: 404 Client Error: Not Found for url: https://pivecka-ops.cz/?page_id=1948\n"
     ]
    },
    {
     "name": "stderr",
     "output_type": "stream",
     "text": [
      " 12%|█▏        | 37/300 [00:28<03:15,  1.35it/s]"
     ]
    },
    {
     "name": "stdout",
     "output_type": "stream",
     "text": [
      "Error fetching mailto:kontakt@martinbayer.cz: No connection adapters were found for 'mailto:kontakt@martinbayer.cz'\n"
     ]
    },
    {
     "name": "stderr",
     "output_type": "stream",
     "text": [
      " 13%|█▎        | 39/300 [00:29<03:11,  1.36it/s]"
     ]
    },
    {
     "name": "stdout",
     "output_type": "stream",
     "text": [
      "Error fetching mailto:kontakt@martinbayer.cz: No connection adapters were found for 'mailto:kontakt@martinbayer.cz'\n",
      "Error fetching http://www.onlinekarvina.cz/: HTTPConnectionPool(host='www.onlinekarvina.cz', port=80): Max retries exceeded with url: / (Caused by NameResolutionError(\"<urllib3.connection.HTTPConnection object at 0x7fead8fd5c10>: Failed to resolve 'www.onlinekarvina.cz' ([Errno 8] nodename nor servname provided, or not known)\"))\n"
     ]
    },
    {
     "name": "stderr",
     "output_type": "stream",
     "text": [
      " 15%|█▌        | 46/300 [02:39<1:58:06, 27.90s/it]"
     ]
    },
    {
     "name": "stdout",
     "output_type": "stream",
     "text": [
      "Error fetching http://www.psycholog-tejklova.cz/: 504 Server Error: Gateway Time-out for url: http://www.psycholog-tejklova.cz/\n"
     ]
    },
    {
     "name": "stderr",
     "output_type": "stream",
     "text": [
      " 16%|█▌        | 47/300 [02:40<1:30:42, 21.51s/it]"
     ]
    },
    {
     "name": "stdout",
     "output_type": "stream",
     "text": [
      "Error fetching mailto:poradna.kontakt@csspraha.cz: No connection adapters were found for 'mailto:poradna.kontakt@csspraha.cz'\n"
     ]
    },
    {
     "name": "stderr",
     "output_type": "stream",
     "text": [
      " 16%|█▋        | 49/300 [02:48<57:21, 13.71s/it]  "
     ]
    },
    {
     "name": "stdout",
     "output_type": "stream",
     "text": [
      "Error fetching csps-hk.cz: Invalid URL 'csps-hk.cz': No scheme supplied. Perhaps you meant https://csps-hk.cz?\n",
      "Error fetching asistovanekontakty.cz: Invalid URL 'asistovanekontakty.cz': No scheme supplied. Perhaps you meant https://asistovanekontakty.cz?\n"
     ]
    },
    {
     "name": "stderr",
     "output_type": "stream",
     "text": [
      " 18%|█▊        | 53/300 [02:48<21:19,  5.18s/it]"
     ]
    },
    {
     "name": "stdout",
     "output_type": "stream",
     "text": [
      "Error fetching http://www.psychomost.cz/: HTTPConnectionPool(host='www.psychomost.cz', port=80): Max retries exceeded with url: / (Caused by NameResolutionError(\"<urllib3.connection.HTTPConnection object at 0x7feaf9439940>: Failed to resolve 'www.psychomost.cz' ([Errno 8] nodename nor servname provided, or not known)\"))\n"
     ]
    },
    {
     "name": "stderr",
     "output_type": "stream",
     "text": [
      " 18%|█▊        | 54/300 [02:48<16:45,  4.09s/it]"
     ]
    },
    {
     "name": "stdout",
     "output_type": "stream",
     "text": [
      "Error fetching http://armadaspasy.cz/o-nas/aktuality-media/kontakt-pro-media/: 404 Client Error: Not Found for url: https://armadaspasy.cz/o-nas/aktuality-media/kontakt-pro-media/\n",
      "Error fetching http://armadaspasy.cz/o-nas/kontakty/ustredi-as/: 404 Client Error: Not Found for url: https://armadaspasy.cz/o-nas/kontakty/ustredi-as/\n"
     ]
    },
    {
     "name": "stderr",
     "output_type": "stream",
     "text": [
      " 21%|██        | 63/300 [03:07<13:45,  3.48s/it]"
     ]
    },
    {
     "name": "stdout",
     "output_type": "stream",
     "text": [
      "Error fetching http://www.psychologickapraxe-krnov.cz/: HTTPConnectionPool(host='www.psychologickapraxe-krnov.cz', port=80): Max retries exceeded with url: / (Caused by NameResolutionError(\"<urllib3.connection.HTTPConnection object at 0x7feae94a92e0>: Failed to resolve 'www.psychologickapraxe-krnov.cz' ([Errno 8] nodename nor servname provided, or not known)\"))\n"
     ]
    },
    {
     "name": "stderr",
     "output_type": "stream",
     "text": [
      " 22%|██▏       | 66/300 [03:09<07:19,  1.88s/it]"
     ]
    },
    {
     "name": "stdout",
     "output_type": "stream",
     "text": [
      "Error fetching http://www.prevcentrum.cz/nzdm: 404 Client Error: Not Found for url: https://www.prevcentrum.cz/nzdm\n",
      "Error fetching mailto:kontakt@martinbayer.cz: No connection adapters were found for 'mailto:kontakt@martinbayer.cz'\n"
     ]
    },
    {
     "name": "stderr",
     "output_type": "stream",
     "text": [
      " 23%|██▎       | 69/300 [03:26<15:27,  4.02s/it]"
     ]
    },
    {
     "name": "stdout",
     "output_type": "stream",
     "text": [
      "Error fetching http://www.nemdac.cz/ambulance/psychiatricka-ambulance/: 404 Client Error: Not Found for url: https://www.nemdac.cz/ambulance/psychiatricka-ambulance/\n",
      "Error fetching http://ww.poliklinika-hb.cz/126-mudr-zemanov: 404 Client Error: Not Found for url: http://ww.poliklinika-hb.cz/126-mudr-zemanov\n"
     ]
    },
    {
     "name": "stderr",
     "output_type": "stream",
     "text": [
      " 25%|██▌       | 75/300 [03:28<04:33,  1.21s/it]"
     ]
    },
    {
     "name": "stdout",
     "output_type": "stream",
     "text": [
      "Error fetching mailto:kontakt@martinbayer.cz: No connection adapters were found for 'mailto:kontakt@martinbayer.cz'\n"
     ]
    },
    {
     "name": "stderr",
     "output_type": "stream",
     "text": [
      " 26%|██▌       | 78/300 [03:36<07:19,  1.98s/it]"
     ]
    },
    {
     "name": "stdout",
     "output_type": "stream",
     "text": [
      "Error fetching http://armadaspasy.cz/o-nas/aktuality-media/kontakt-pro-media/: 404 Client Error: Not Found for url: https://armadaspasy.cz/o-nas/aktuality-media/kontakt-pro-media/\n",
      "Error fetching http://armadaspasy.cz/o-nas/kontakty/ustredi-as/: 404 Client Error: Not Found for url: https://armadaspasy.cz/o-nas/kontakty/ustredi-as/\n"
     ]
    },
    {
     "name": "stderr",
     "output_type": "stream",
     "text": [
      " 27%|██▋       | 82/300 [03:47<09:19,  2.57s/it]"
     ]
    },
    {
     "name": "stdout",
     "output_type": "stream",
     "text": [
      "Error fetching mailto:kontakt@martinbayer.cz: No connection adapters were found for 'mailto:kontakt@martinbayer.cz'\n"
     ]
    },
    {
     "name": "stderr",
     "output_type": "stream",
     "text": [
      " 28%|██▊       | 84/300 [03:49<06:09,  1.71s/it]"
     ]
    },
    {
     "name": "stdout",
     "output_type": "stream",
     "text": [
      "Error fetching mailto:kontakt@martinbayer.cz: No connection adapters were found for 'mailto:kontakt@martinbayer.cz'\n"
     ]
    },
    {
     "name": "stderr",
     "output_type": "stream",
     "text": [
      " 30%|███       | 91/300 [03:55<03:35,  1.03s/it]"
     ]
    },
    {
     "name": "stdout",
     "output_type": "stream",
     "text": [
      "Error fetching mailto:kontakt@martinbayer.cz: No connection adapters were found for 'mailto:kontakt@martinbayer.cz'\n"
     ]
    },
    {
     "name": "stderr",
     "output_type": "stream",
     "text": [
      " 32%|███▏      | 95/300 [04:06<06:01,  1.76s/it]"
     ]
    },
    {
     "name": "stdout",
     "output_type": "stream",
     "text": [
      "Error fetching http://www.pojmanova.cz/: HTTPConnectionPool(host='www.pojmanova.cz', port=80): Max retries exceeded with url: / (Caused by NameResolutionError(\"<urllib3.connection.HTTPConnection object at 0x7feaf9502ee0>: Failed to resolve 'www.pojmanova.cz' ([Errno 8] nodename nor servname provided, or not known)\"))\n"
     ]
    },
    {
     "name": "stderr",
     "output_type": "stream",
     "text": [
      " 34%|███▎      | 101/300 [04:12<04:26,  1.34s/it]"
     ]
    },
    {
     "name": "stdout",
     "output_type": "stream",
     "text": [
      "Error fetching mailto:kontakt@martinbayer.cz: No connection adapters were found for 'mailto:kontakt@martinbayer.cz'\n"
     ]
    },
    {
     "name": "stderr",
     "output_type": "stream",
     "text": [
      " 36%|███▋      | 109/300 [04:34<04:52,  1.53s/it]"
     ]
    },
    {
     "name": "stdout",
     "output_type": "stream",
     "text": [
      "Error fetching http://www.dopravni-psychologicke-pracovist.webnode.cz/: 404 Client Error: Not Found for url: http://www.dopravni-psychologicke-pracovist.webnode.cz/\n"
     ]
    },
    {
     "name": "stderr",
     "output_type": "stream",
     "text": [
      " 37%|███▋      | 110/300 [04:35<04:15,  1.35s/it]"
     ]
    },
    {
     "name": "stdout",
     "output_type": "stream",
     "text": [
      "Error fetching mailto:kontakt@martinbayer.cz: No connection adapters were found for 'mailto:kontakt@martinbayer.cz'\n",
      "Error fetching http://ppp-olomouc.cz/index.php/kontakty: 404 Client Error: Not Found for url: https://pppaspc-ok.cz/pobocky-ppp/ppp-olomouc/index.php/kontakty\n",
      "Error fetching http://ppp-olomouc.cz/index.php/kontakty: 404 Client Error: Not Found for url: https://pppaspc-ok.cz/pobocky-ppp/ppp-olomouc/index.php/kontakty\n"
     ]
    },
    {
     "name": "stderr",
     "output_type": "stream",
     "text": [
      " 37%|███▋      | 111/300 [04:36<03:49,  1.22s/it]"
     ]
    },
    {
     "name": "stdout",
     "output_type": "stream",
     "text": [
      "Error fetching http://ppp-olomouc.cz/index.php/kontakty: 404 Client Error: Not Found for url: https://pppaspc-ok.cz/pobocky-ppp/ppp-olomouc/index.php/kontakty\n"
     ]
    },
    {
     "name": "stderr",
     "output_type": "stream",
     "text": [
      " 38%|███▊      | 113/300 [04:40<04:45,  1.52s/it]"
     ]
    },
    {
     "name": "stdout",
     "output_type": "stream",
     "text": [
      "Error fetching mailto:kontakt@martinbayer.cz: No connection adapters were found for 'mailto:kontakt@martinbayer.cz'\n"
     ]
    },
    {
     "name": "stderr",
     "output_type": "stream",
     "text": [
      " 38%|███▊      | 114/300 [04:41<04:06,  1.32s/it]"
     ]
    },
    {
     "name": "stdout",
     "output_type": "stream",
     "text": [
      "Error fetching mailto:kontakt@martinbayer.cz: No connection adapters were found for 'mailto:kontakt@martinbayer.cz'\n"
     ]
    },
    {
     "name": "stderr",
     "output_type": "stream",
     "text": [
      " 38%|███▊      | 115/300 [04:42<03:13,  1.05s/it]"
     ]
    },
    {
     "name": "stdout",
     "output_type": "stream",
     "text": [
      "Error fetching http://poradna.krumlov.cz/w/pobocky-ckrumlov-kaplice-vetrni-215/: 404 Client Error: Not Found for url: https://poradna.icosck.cz/w/pobocky-ckrumlov-kaplice-vetrni-215/\n"
     ]
    },
    {
     "name": "stderr",
     "output_type": "stream",
     "text": [
      " 39%|███▉      | 117/300 [04:44<03:10,  1.04s/it]"
     ]
    },
    {
     "name": "stdout",
     "output_type": "stream",
     "text": [
      "Error fetching http://www.prah-brno.cz/novinky/2-uncategorised/63-odborne-socialni-poradenstvi: 404 Client Error: Not Found for url: https://www.prahjm.cz/novinky/2-uncategorised/63-odborne-socialni-poradenstvi\n"
     ]
    },
    {
     "name": "stderr",
     "output_type": "stream",
     "text": [
      " 40%|████      | 120/300 [04:44<01:22,  2.18it/s]"
     ]
    },
    {
     "name": "stdout",
     "output_type": "stream",
     "text": [
      "Error fetching http://ppp3a9.cz/: HTTPConnectionPool(host='ppp3a9.cz', port=80): Max retries exceeded with url: / (Caused by NameResolutionError(\"<urllib3.connection.HTTPConnection object at 0x7feaf8e3cf10>: Failed to resolve 'ppp3a9.cz' ([Errno 8] nodename nor servname provided, or not known)\"))\n"
     ]
    },
    {
     "name": "stderr",
     "output_type": "stream",
     "text": [
      " 40%|████      | 121/300 [04:45<01:36,  1.86it/s]"
     ]
    },
    {
     "name": "stdout",
     "output_type": "stream",
     "text": [
      "Error fetching mailto:kontakt@martinbayer.cz: No connection adapters were found for 'mailto:kontakt@martinbayer.cz'\n"
     ]
    },
    {
     "name": "stderr",
     "output_type": "stream",
     "text": [
      " 43%|████▎     | 129/300 [05:13<15:34,  5.47s/it]"
     ]
    },
    {
     "name": "stdout",
     "output_type": "stream",
     "text": [
      "Error fetching http://armadaspasy.cz/o-nas/aktuality-media/kontakt-pro-media/: 404 Client Error: Not Found for url: https://armadaspasy.cz/o-nas/aktuality-media/kontakt-pro-media/\n",
      "Error fetching http://armadaspasy.cz/o-nas/kontakty/ustredi-as/: 404 Client Error: Not Found for url: https://armadaspasy.cz/o-nas/kontakty/ustredi-as/\n"
     ]
    },
    {
     "name": "stderr",
     "output_type": "stream",
     "text": [
      " 45%|████▌     | 136/300 [05:26<05:12,  1.91s/it]"
     ]
    },
    {
     "name": "stdout",
     "output_type": "stream",
     "text": [
      "Error fetching mailto:kontakt@martinbayer.cz: No connection adapters were found for 'mailto:kontakt@martinbayer.cz'\n"
     ]
    },
    {
     "name": "stderr",
     "output_type": "stream",
     "text": [
      " 49%|████▉     | 147/300 [05:38<03:15,  1.28s/it]"
     ]
    },
    {
     "name": "stdout",
     "output_type": "stream",
     "text": [
      "Error fetching mailto:kontakt@martinbayer.cz: No connection adapters were found for 'mailto:kontakt@martinbayer.cz'\n"
     ]
    },
    {
     "name": "stderr",
     "output_type": "stream",
     "text": [
      " 50%|████▉     | 149/300 [05:40<02:21,  1.07it/s]"
     ]
    },
    {
     "name": "stdout",
     "output_type": "stream",
     "text": [
      "Error fetching http://www.psychologcimlova.cz/uvod.html: 404 Client Error: Not Found for url: http://www.psychologcimlova.cz/uvod.html\n"
     ]
    },
    {
     "name": "stderr",
     "output_type": "stream",
     "text": [
      " 52%|█████▏    | 155/300 [05:45<01:48,  1.34it/s]"
     ]
    },
    {
     "name": "stdout",
     "output_type": "stream",
     "text": [
      "Error fetching mailto:poradna.ji@psychocentrum.cz: No connection adapters were found for 'mailto:poradna.ji@psychocentrum.cz'\n"
     ]
    },
    {
     "name": "stderr",
     "output_type": "stream",
     "text": [
      " 53%|█████▎    | 158/300 [05:49<02:29,  1.05s/it]"
     ]
    },
    {
     "name": "stdout",
     "output_type": "stream",
     "text": [
      "Error fetching mailto:kontakt@martinbayer.cz: No connection adapters were found for 'mailto:kontakt@martinbayer.cz'\n"
     ]
    },
    {
     "name": "stderr",
     "output_type": "stream",
     "text": [
      " 53%|█████▎    | 160/300 [05:51<01:50,  1.27it/s]"
     ]
    },
    {
     "name": "stdout",
     "output_type": "stream",
     "text": [
      "Error fetching http://hb.charita.cz/nabizene-sluzby/sluzby-socialni/nizkoprahovy-klub-ban/: 404 Client Error: Not Found for url: https://hb.charita.cz/nabizene-sluzby/sluzby-socialni/nizkoprahovy-klub-ban/\n"
     ]
    },
    {
     "name": "stderr",
     "output_type": "stream",
     "text": [
      " 55%|█████▍    | 164/300 [06:05<04:22,  1.93s/it]"
     ]
    },
    {
     "name": "stdout",
     "output_type": "stream",
     "text": [
      "Error fetching mailto:kontakt@martinbayer.cz: No connection adapters were found for 'mailto:kontakt@martinbayer.cz'\n"
     ]
    },
    {
     "name": "stderr",
     "output_type": "stream",
     "text": [
      " 56%|█████▌    | 167/300 [06:09<03:36,  1.63s/it]"
     ]
    },
    {
     "name": "stdout",
     "output_type": "stream",
     "text": [
      "Error fetching mailto:kontakt@martinbayer.cz: No connection adapters were found for 'mailto:kontakt@martinbayer.cz'\n"
     ]
    },
    {
     "name": "stderr",
     "output_type": "stream",
     "text": [
      " 57%|█████▋    | 170/300 [06:13<02:58,  1.38s/it]"
     ]
    },
    {
     "name": "stdout",
     "output_type": "stream",
     "text": [
      "Error fetching http://www.psycholog-hk.cz/: HTTPConnectionPool(host='www.psycholog-hk.cz', port=80): Max retries exceeded with url: / (Caused by NameResolutionError(\"<urllib3.connection.HTTPConnection object at 0x7fead926f340>: Failed to resolve 'www.psycholog-hk.cz' ([Errno 8] nodename nor servname provided, or not known)\"))\n",
      "Error fetching http://www.opava.eurotopia.cz/index-caravan.php: 404 Client Error: Not Found for url: http://www.opava.eurotopia.cz/index-caravan.php\n"
     ]
    },
    {
     "name": "stderr",
     "output_type": "stream",
     "text": [
      " 59%|█████▊    | 176/300 [06:19<02:14,  1.08s/it]"
     ]
    },
    {
     "name": "stdout",
     "output_type": "stream",
     "text": [
      "Error fetching mailto:kontakt@martinbayer.cz: No connection adapters were found for 'mailto:kontakt@martinbayer.cz'\n"
     ]
    },
    {
     "name": "stderr",
     "output_type": "stream",
     "text": [
      " 59%|█████▉    | 177/300 [06:20<02:09,  1.05s/it]"
     ]
    },
    {
     "name": "stdout",
     "output_type": "stream",
     "text": [
      "Error fetching mailto:kontakt@martinbayer.cz: No connection adapters were found for 'mailto:kontakt@martinbayer.cz'\n"
     ]
    },
    {
     "name": "stderr",
     "output_type": "stream",
     "text": [
      " 59%|█████▉    | 178/300 [06:22<02:20,  1.15s/it]"
     ]
    },
    {
     "name": "stdout",
     "output_type": "stream",
     "text": [
      "Error fetching http://www.fnmotol.cz/kliniky-a-oddeleni/spolecna-pracoviste/oddeleni-klinicke-psychologie/vedeni-a-personal/: 404 Client Error: Not Found for url: https://www.fnmotol.cz/kliniky-a-oddeleni/spolecna-pracoviste/oddeleni-klinicke-psychologie/vedeni-a-personal/\n"
     ]
    },
    {
     "name": "stderr",
     "output_type": "stream",
     "text": [
      " 61%|██████    | 182/300 [06:26<02:54,  1.48s/it]"
     ]
    },
    {
     "name": "stdout",
     "output_type": "stream",
     "text": [
      "Error fetching http://www.psychotera.cz/profesni_zivotopisES.htm: 404 Client Error: Not Found for url: https://psychotera.cz/profesni_zivotopisES.htm\n"
     ]
    },
    {
     "name": "stderr",
     "output_type": "stream",
     "text": [
      " 62%|██████▏   | 187/300 [06:38<03:24,  1.81s/it]"
     ]
    },
    {
     "name": "stdout",
     "output_type": "stream",
     "text": [
      "Error fetching http://www.educozatec.cz/: HTTPConnectionPool(host='www.educozatec.cz', port=80): Max retries exceeded with url: / (Caused by NameResolutionError(\"<urllib3.connection.HTTPConnection object at 0x7feae910bbe0>: Failed to resolve 'www.educozatec.cz' ([Errno 8] nodename nor servname provided, or not known)\"))\n"
     ]
    },
    {
     "name": "stderr",
     "output_type": "stream",
     "text": [
      " 63%|██████▎   | 188/300 [06:39<03:03,  1.64s/it]"
     ]
    },
    {
     "name": "stdout",
     "output_type": "stream",
     "text": [
      "Error fetching http://kairos-hk.cz/nabizene-sluzby/: HTTPConnectionPool(host='kairos-hk.cz', port=80): Max retries exceeded with url: /nabizene-sluzby/ (Caused by NameResolutionError(\"<urllib3.connection.HTTPConnection object at 0x7fead8fe93a0>: Failed to resolve 'kairos-hk.cz' ([Errno 8] nodename nor servname provided, or not known)\"))\n"
     ]
    },
    {
     "name": "stderr",
     "output_type": "stream",
     "text": [
      " 63%|██████▎   | 190/300 [06:40<02:08,  1.16s/it]"
     ]
    },
    {
     "name": "stdout",
     "output_type": "stream",
     "text": [
      "Error fetching mailto:kontakt@martinbayer.cz: No connection adapters were found for 'mailto:kontakt@martinbayer.cz'\n"
     ]
    },
    {
     "name": "stderr",
     "output_type": "stream",
     "text": [
      " 64%|██████▎   | 191/300 [06:40<01:56,  1.07s/it]"
     ]
    },
    {
     "name": "stdout",
     "output_type": "stream",
     "text": [
      "Error fetching mailto:kontakt@martinbayer.cz: No connection adapters were found for 'mailto:kontakt@martinbayer.cz'\n"
     ]
    },
    {
     "name": "stderr",
     "output_type": "stream",
     "text": [
      " 66%|██████▌   | 198/300 [07:00<01:56,  1.14s/it]"
     ]
    },
    {
     "name": "stdout",
     "output_type": "stream",
     "text": [
      "Error fetching mailto:kontakt@martinbayer.cz: No connection adapters were found for 'mailto:kontakt@martinbayer.cz'\n"
     ]
    },
    {
     "name": "stderr",
     "output_type": "stream",
     "text": [
      " 67%|██████▋   | 201/300 [07:06<02:24,  1.46s/it]"
     ]
    },
    {
     "name": "stdout",
     "output_type": "stream",
     "text": [
      "Error fetching mailto:kontakt@martinbayer.cz: No connection adapters were found for 'mailto:kontakt@martinbayer.cz'\n",
      "Error fetching mailto:kontakt@martinbayer.cz: No connection adapters were found for 'mailto:kontakt@martinbayer.cz'\n"
     ]
    },
    {
     "name": "stderr",
     "output_type": "stream",
     "text": [
      " 68%|██████▊   | 205/300 [07:10<01:47,  1.14s/it]"
     ]
    },
    {
     "name": "stdout",
     "output_type": "stream",
     "text": [
      "Error fetching mailto:kontakt@martinbayer.cz: No connection adapters were found for 'mailto:kontakt@martinbayer.cz'\n"
     ]
    },
    {
     "name": "stderr",
     "output_type": "stream",
     "text": [
      " 69%|██████▉   | 207/300 [07:12<01:30,  1.03it/s]"
     ]
    },
    {
     "name": "stdout",
     "output_type": "stream",
     "text": [
      "Error fetching mailto:kontakt@martinbayer.cz: No connection adapters were found for 'mailto:kontakt@martinbayer.cz'\n"
     ]
    },
    {
     "name": "stderr",
     "output_type": "stream",
     "text": [
      " 70%|██████▉   | 209/300 [07:13<01:22,  1.10it/s]"
     ]
    },
    {
     "name": "stdout",
     "output_type": "stream",
     "text": [
      "Error fetching mailto:kontakt@martinbayer.cz: No connection adapters were found for 'mailto:kontakt@martinbayer.cz'\n"
     ]
    },
    {
     "name": "stderr",
     "output_type": "stream",
     "text": [
      " 71%|███████▏  | 214/300 [07:17<01:03,  1.36it/s]"
     ]
    },
    {
     "name": "stdout",
     "output_type": "stream",
     "text": [
      "Error fetching mailto:kontakt@martinbayer.cz: No connection adapters were found for 'mailto:kontakt@martinbayer.cz'\n"
     ]
    },
    {
     "name": "stderr",
     "output_type": "stream",
     "text": [
      " 72%|███████▏  | 217/300 [07:36<05:47,  4.18s/it]"
     ]
    },
    {
     "name": "stdout",
     "output_type": "stream",
     "text": [
      "Error fetching mailto:kontakt@martinbayer.cz: No connection adapters were found for 'mailto:kontakt@martinbayer.cz'\n"
     ]
    },
    {
     "name": "stderr",
     "output_type": "stream",
     "text": [
      " 73%|███████▎  | 220/300 [07:37<02:20,  1.76s/it]"
     ]
    },
    {
     "name": "stdout",
     "output_type": "stream",
     "text": [
      "Error fetching http://poradna.krumlov.cz/w/-310/: 404 Client Error: Not Found for url: https://poradna.icosck.cz/w/-310/\n",
      "Error fetching http://selfhelp.dinphoto.com/: HTTPConnectionPool(host='selfhelp.dinphoto.com', port=80): Max retries exceeded with url: / (Caused by NameResolutionError(\"<urllib3.connection.HTTPConnection object at 0x7feaa9499f40>: Failed to resolve 'selfhelp.dinphoto.com' ([Errno 8] nodename nor servname provided, or not known)\"))\n"
     ]
    },
    {
     "name": "stderr",
     "output_type": "stream",
     "text": [
      " 74%|███████▍  | 222/300 [07:38<01:29,  1.15s/it]"
     ]
    },
    {
     "name": "stdout",
     "output_type": "stream",
     "text": [
      "Error fetching mailto:kontakt@martinbayer.cz: No connection adapters were found for 'mailto:kontakt@martinbayer.cz'\n"
     ]
    },
    {
     "name": "stderr",
     "output_type": "stream",
     "text": [
      " 74%|███████▍  | 223/300 [07:39<01:25,  1.12s/it]"
     ]
    },
    {
     "name": "stdout",
     "output_type": "stream",
     "text": [
      "Error fetching mailto:kontakt@martinbayer.cz: No connection adapters were found for 'mailto:kontakt@martinbayer.cz'\n"
     ]
    },
    {
     "name": "stderr",
     "output_type": "stream",
     "text": [
      " 75%|███████▌  | 225/300 [07:40<00:55,  1.35it/s]"
     ]
    },
    {
     "name": "stdout",
     "output_type": "stream",
     "text": [
      "Error fetching http://poradna.krumlov.cz/w/pobocky-tsviny-nhrady-218/: 404 Client Error: Not Found for url: https://poradna.icosck.cz/w/pobocky-tsviny-nhrady-218/\n",
      "Error fetching mailto:kontakt@martinbayer.cz: No connection adapters were found for 'mailto:kontakt@martinbayer.cz'\n"
     ]
    },
    {
     "name": "stderr",
     "output_type": "stream",
     "text": [
      " 75%|███████▌  | 226/300 [07:41<00:55,  1.34it/s]"
     ]
    },
    {
     "name": "stdout",
     "output_type": "stream",
     "text": [
      "Error fetching http://www.porceta.cz: 403 Client Error: Forbidden for url: https://www.porceta.cz/\n"
     ]
    },
    {
     "name": "stderr",
     "output_type": "stream",
     "text": [
      " 77%|███████▋  | 231/300 [07:59<02:33,  2.23s/it]"
     ]
    },
    {
     "name": "stdout",
     "output_type": "stream",
     "text": [
      "Error fetching mailto:kontakt@martinbayer.cz: No connection adapters were found for 'mailto:kontakt@martinbayer.cz'\n"
     ]
    },
    {
     "name": "stderr",
     "output_type": "stream",
     "text": [
      " 78%|███████▊  | 233/300 [07:59<01:36,  1.44s/it]"
     ]
    },
    {
     "name": "stdout",
     "output_type": "stream",
     "text": [
      "Error fetching mailto:kontakt@martinbayer.cz: No connection adapters were found for 'mailto:kontakt@martinbayer.cz'\n"
     ]
    },
    {
     "name": "stderr",
     "output_type": "stream",
     "text": [
      " 80%|███████▉  | 239/300 [08:08<01:15,  1.23s/it]"
     ]
    },
    {
     "name": "stdout",
     "output_type": "stream",
     "text": [
      "Error fetching mailto:kontakt@martinbayer.cz: No connection adapters were found for 'mailto:kontakt@martinbayer.cz'\n"
     ]
    },
    {
     "name": "stderr",
     "output_type": "stream",
     "text": [
      " 80%|████████  | 241/300 [08:10<01:01,  1.04s/it]"
     ]
    },
    {
     "name": "stdout",
     "output_type": "stream",
     "text": [
      "Error fetching http://www.fokus-mb.cz/klubko: 403 Client Error: Forbidden for url: https://www.fokus-mb.cz/klubko/\n",
      "Error fetching mailto:kontakt@martinbayer.cz: No connection adapters were found for 'mailto:kontakt@martinbayer.cz'\n"
     ]
    },
    {
     "name": "stderr",
     "output_type": "stream",
     "text": [
      " 84%|████████▍ | 253/300 [08:30<00:50,  1.06s/it]"
     ]
    },
    {
     "name": "stdout",
     "output_type": "stream",
     "text": [
      "Error fetching mailto:kontakt@martinbayer.cz: No connection adapters were found for 'mailto:kontakt@martinbayer.cz'\n"
     ]
    },
    {
     "name": "stderr",
     "output_type": "stream",
     "text": [
      " 85%|████████▍ | 254/300 [08:32<00:55,  1.21s/it]"
     ]
    },
    {
     "name": "stdout",
     "output_type": "stream",
     "text": [
      "Error fetching mailto:kontakt@martinbayer.cz: No connection adapters were found for 'mailto:kontakt@martinbayer.cz'\n"
     ]
    },
    {
     "name": "stderr",
     "output_type": "stream",
     "text": [
      " 88%|████████▊ | 263/300 [08:43<00:56,  1.54s/it]"
     ]
    },
    {
     "name": "stdout",
     "output_type": "stream",
     "text": [
      "Error fetching charita-most.cz: Invalid URL 'charita-most.cz': No scheme supplied. Perhaps you meant https://charita-most.cz?\n"
     ]
    },
    {
     "name": "stderr",
     "output_type": "stream",
     "text": [
      " 88%|████████▊ | 265/300 [08:43<00:32,  1.09it/s]"
     ]
    },
    {
     "name": "stdout",
     "output_type": "stream",
     "text": [
      "Error fetching mailto:kontakt@martinbayer.cz: No connection adapters were found for 'mailto:kontakt@martinbayer.cz'\n"
     ]
    },
    {
     "name": "stderr",
     "output_type": "stream",
     "text": [
      " 90%|█████████ | 270/300 [08:50<00:30,  1.01s/it]"
     ]
    },
    {
     "name": "stdout",
     "output_type": "stream",
     "text": [
      "Error fetching mailto:kontakt@martinbayer.cz: No connection adapters were found for 'mailto:kontakt@martinbayer.cz'\n"
     ]
    },
    {
     "name": "stderr",
     "output_type": "stream",
     "text": [
      " 91%|█████████ | 273/300 [08:53<00:28,  1.06s/it]"
     ]
    },
    {
     "name": "stdout",
     "output_type": "stream",
     "text": [
      "Error fetching mailto:kontakt@martinbayer.cz: No connection adapters were found for 'mailto:kontakt@martinbayer.cz'\n"
     ]
    },
    {
     "name": "stderr",
     "output_type": "stream",
     "text": [
      " 93%|█████████▎| 279/300 [09:08<00:37,  1.76s/it]"
     ]
    },
    {
     "name": "stdout",
     "output_type": "stream",
     "text": [
      "Error fetching http://www.psycholog-praha.pro/: 403 Client Error: Forbidden for url: https://www.psycholog-praha.pro/\n"
     ]
    },
    {
     "name": "stderr",
     "output_type": "stream",
     "text": [
      " 96%|█████████▌| 288/300 [09:41<00:24,  2.00s/it]"
     ]
    },
    {
     "name": "stdout",
     "output_type": "stream",
     "text": [
      "Error fetching http://www.neuropsychiatriehk.cz/lipky: 404 Client Error: Not Found for url: http://neuropsychiatriehk.cz/lipky\n"
     ]
    },
    {
     "name": "stderr",
     "output_type": "stream",
     "text": [
      " 97%|█████████▋| 292/300 [09:43<00:06,  1.16it/s]"
     ]
    },
    {
     "name": "stdout",
     "output_type": "stream",
     "text": [
      "Error fetching http://www.janhaase.cz/index.php: 503 Server Error: Service Temporarily Unavailable for url: http://www.janhaase.cz/index.php\n"
     ]
    },
    {
     "name": "stderr",
     "output_type": "stream",
     "text": [
      " 98%|█████████▊| 295/300 [09:48<00:07,  1.54s/it]"
     ]
    },
    {
     "name": "stdout",
     "output_type": "stream",
     "text": [
      "Error fetching mailto:kontakt@martinbayer.cz: No connection adapters were found for 'mailto:kontakt@martinbayer.cz'\n"
     ]
    },
    {
     "name": "stderr",
     "output_type": "stream",
     "text": [
      " 99%|█████████▊| 296/300 [09:48<00:05,  1.34s/it]"
     ]
    },
    {
     "name": "stdout",
     "output_type": "stream",
     "text": [
      "Error fetching mailto:kontakt@martinbayer.cz: No connection adapters were found for 'mailto:kontakt@martinbayer.cz'\n"
     ]
    },
    {
     "name": "stderr",
     "output_type": "stream",
     "text": [
      "100%|█████████▉| 299/300 [09:52<00:01,  1.36s/it]"
     ]
    },
    {
     "name": "stdout",
     "output_type": "stream",
     "text": [
      "Error fetching http://www.pdz.cz/czd-pa.html: 404 Client Error: Not Found for url: https://pdz.cz/czd-pa.html\n",
      "Error fetching mailto:kontakt@martinbayer.cz: No connection adapters were found for 'mailto:kontakt@martinbayer.cz'\n"
     ]
    },
    {
     "name": "stderr",
     "output_type": "stream",
     "text": [
      "100%|██████████| 300/300 [09:53<00:00,  1.98s/it]\n"
     ]
    },
    {
     "ename": "OSError",
     "evalue": "Cannot save file into a non-existent directory: 'data/29_05'",
     "output_type": "error",
     "traceback": [
      "\u001b[0;31m---------------------------------------------------------------------------\u001b[0m",
      "\u001b[0;31mOSError\u001b[0m                                   Traceback (most recent call last)",
      "Cell \u001b[0;32mIn[32], line 2\u001b[0m\n\u001b[1;32m      1\u001b[0m df_res \u001b[38;5;241m=\u001b[39m pd\u001b[38;5;241m.\u001b[39mDataFrame(scrape_urls(df))\n\u001b[0;32m----> 2\u001b[0m \u001b[43mdf_res\u001b[49m\u001b[38;5;241;43m.\u001b[39;49m\u001b[43mto_csv\u001b[49m\u001b[43m(\u001b[49m\u001b[38;5;124;43m'\u001b[39;49m\u001b[38;5;124;43mdata/29_05/df_scraped_v3_300.csv\u001b[39;49m\u001b[38;5;124;43m'\u001b[39;49m\u001b[43m,\u001b[49m\u001b[43m \u001b[49m\u001b[43mindex\u001b[49m\u001b[38;5;241;43m=\u001b[39;49m\u001b[38;5;28;43;01mFalse\u001b[39;49;00m\u001b[43m)\u001b[49m\n",
      "File \u001b[0;32m~/Desktop/python/webscraping/myenv/lib/python3.9/site-packages/pandas/util/_decorators.py:333\u001b[0m, in \u001b[0;36mdeprecate_nonkeyword_arguments.<locals>.decorate.<locals>.wrapper\u001b[0;34m(*args, **kwargs)\u001b[0m\n\u001b[1;32m    327\u001b[0m \u001b[38;5;28;01mif\u001b[39;00m \u001b[38;5;28mlen\u001b[39m(args) \u001b[38;5;241m>\u001b[39m num_allow_args:\n\u001b[1;32m    328\u001b[0m     warnings\u001b[38;5;241m.\u001b[39mwarn(\n\u001b[1;32m    329\u001b[0m         msg\u001b[38;5;241m.\u001b[39mformat(arguments\u001b[38;5;241m=\u001b[39m_format_argument_list(allow_args)),\n\u001b[1;32m    330\u001b[0m         \u001b[38;5;167;01mFutureWarning\u001b[39;00m,\n\u001b[1;32m    331\u001b[0m         stacklevel\u001b[38;5;241m=\u001b[39mfind_stack_level(),\n\u001b[1;32m    332\u001b[0m     )\n\u001b[0;32m--> 333\u001b[0m \u001b[38;5;28;01mreturn\u001b[39;00m \u001b[43mfunc\u001b[49m\u001b[43m(\u001b[49m\u001b[38;5;241;43m*\u001b[39;49m\u001b[43margs\u001b[49m\u001b[43m,\u001b[49m\u001b[43m \u001b[49m\u001b[38;5;241;43m*\u001b[39;49m\u001b[38;5;241;43m*\u001b[39;49m\u001b[43mkwargs\u001b[49m\u001b[43m)\u001b[49m\n",
      "File \u001b[0;32m~/Desktop/python/webscraping/myenv/lib/python3.9/site-packages/pandas/core/generic.py:3967\u001b[0m, in \u001b[0;36mNDFrame.to_csv\u001b[0;34m(self, path_or_buf, sep, na_rep, float_format, columns, header, index, index_label, mode, encoding, compression, quoting, quotechar, lineterminator, chunksize, date_format, doublequote, escapechar, decimal, errors, storage_options)\u001b[0m\n\u001b[1;32m   3956\u001b[0m df \u001b[38;5;241m=\u001b[39m \u001b[38;5;28mself\u001b[39m \u001b[38;5;28;01mif\u001b[39;00m \u001b[38;5;28misinstance\u001b[39m(\u001b[38;5;28mself\u001b[39m, ABCDataFrame) \u001b[38;5;28;01melse\u001b[39;00m \u001b[38;5;28mself\u001b[39m\u001b[38;5;241m.\u001b[39mto_frame()\n\u001b[1;32m   3958\u001b[0m formatter \u001b[38;5;241m=\u001b[39m DataFrameFormatter(\n\u001b[1;32m   3959\u001b[0m     frame\u001b[38;5;241m=\u001b[39mdf,\n\u001b[1;32m   3960\u001b[0m     header\u001b[38;5;241m=\u001b[39mheader,\n\u001b[0;32m   (...)\u001b[0m\n\u001b[1;32m   3964\u001b[0m     decimal\u001b[38;5;241m=\u001b[39mdecimal,\n\u001b[1;32m   3965\u001b[0m )\n\u001b[0;32m-> 3967\u001b[0m \u001b[38;5;28;01mreturn\u001b[39;00m \u001b[43mDataFrameRenderer\u001b[49m\u001b[43m(\u001b[49m\u001b[43mformatter\u001b[49m\u001b[43m)\u001b[49m\u001b[38;5;241;43m.\u001b[39;49m\u001b[43mto_csv\u001b[49m\u001b[43m(\u001b[49m\n\u001b[1;32m   3968\u001b[0m \u001b[43m    \u001b[49m\u001b[43mpath_or_buf\u001b[49m\u001b[43m,\u001b[49m\n\u001b[1;32m   3969\u001b[0m \u001b[43m    \u001b[49m\u001b[43mlineterminator\u001b[49m\u001b[38;5;241;43m=\u001b[39;49m\u001b[43mlineterminator\u001b[49m\u001b[43m,\u001b[49m\n\u001b[1;32m   3970\u001b[0m \u001b[43m    \u001b[49m\u001b[43msep\u001b[49m\u001b[38;5;241;43m=\u001b[39;49m\u001b[43msep\u001b[49m\u001b[43m,\u001b[49m\n\u001b[1;32m   3971\u001b[0m \u001b[43m    \u001b[49m\u001b[43mencoding\u001b[49m\u001b[38;5;241;43m=\u001b[39;49m\u001b[43mencoding\u001b[49m\u001b[43m,\u001b[49m\n\u001b[1;32m   3972\u001b[0m \u001b[43m    \u001b[49m\u001b[43merrors\u001b[49m\u001b[38;5;241;43m=\u001b[39;49m\u001b[43merrors\u001b[49m\u001b[43m,\u001b[49m\n\u001b[1;32m   3973\u001b[0m \u001b[43m    \u001b[49m\u001b[43mcompression\u001b[49m\u001b[38;5;241;43m=\u001b[39;49m\u001b[43mcompression\u001b[49m\u001b[43m,\u001b[49m\n\u001b[1;32m   3974\u001b[0m \u001b[43m    \u001b[49m\u001b[43mquoting\u001b[49m\u001b[38;5;241;43m=\u001b[39;49m\u001b[43mquoting\u001b[49m\u001b[43m,\u001b[49m\n\u001b[1;32m   3975\u001b[0m \u001b[43m    \u001b[49m\u001b[43mcolumns\u001b[49m\u001b[38;5;241;43m=\u001b[39;49m\u001b[43mcolumns\u001b[49m\u001b[43m,\u001b[49m\n\u001b[1;32m   3976\u001b[0m \u001b[43m    \u001b[49m\u001b[43mindex_label\u001b[49m\u001b[38;5;241;43m=\u001b[39;49m\u001b[43mindex_label\u001b[49m\u001b[43m,\u001b[49m\n\u001b[1;32m   3977\u001b[0m \u001b[43m    \u001b[49m\u001b[43mmode\u001b[49m\u001b[38;5;241;43m=\u001b[39;49m\u001b[43mmode\u001b[49m\u001b[43m,\u001b[49m\n\u001b[1;32m   3978\u001b[0m \u001b[43m    \u001b[49m\u001b[43mchunksize\u001b[49m\u001b[38;5;241;43m=\u001b[39;49m\u001b[43mchunksize\u001b[49m\u001b[43m,\u001b[49m\n\u001b[1;32m   3979\u001b[0m \u001b[43m    \u001b[49m\u001b[43mquotechar\u001b[49m\u001b[38;5;241;43m=\u001b[39;49m\u001b[43mquotechar\u001b[49m\u001b[43m,\u001b[49m\n\u001b[1;32m   3980\u001b[0m \u001b[43m    \u001b[49m\u001b[43mdate_format\u001b[49m\u001b[38;5;241;43m=\u001b[39;49m\u001b[43mdate_format\u001b[49m\u001b[43m,\u001b[49m\n\u001b[1;32m   3981\u001b[0m \u001b[43m    \u001b[49m\u001b[43mdoublequote\u001b[49m\u001b[38;5;241;43m=\u001b[39;49m\u001b[43mdoublequote\u001b[49m\u001b[43m,\u001b[49m\n\u001b[1;32m   3982\u001b[0m \u001b[43m    \u001b[49m\u001b[43mescapechar\u001b[49m\u001b[38;5;241;43m=\u001b[39;49m\u001b[43mescapechar\u001b[49m\u001b[43m,\u001b[49m\n\u001b[1;32m   3983\u001b[0m \u001b[43m    \u001b[49m\u001b[43mstorage_options\u001b[49m\u001b[38;5;241;43m=\u001b[39;49m\u001b[43mstorage_options\u001b[49m\u001b[43m,\u001b[49m\n\u001b[1;32m   3984\u001b[0m \u001b[43m\u001b[49m\u001b[43m)\u001b[49m\n",
      "File \u001b[0;32m~/Desktop/python/webscraping/myenv/lib/python3.9/site-packages/pandas/io/formats/format.py:1014\u001b[0m, in \u001b[0;36mDataFrameRenderer.to_csv\u001b[0;34m(self, path_or_buf, encoding, sep, columns, index_label, mode, compression, quoting, quotechar, lineterminator, chunksize, date_format, doublequote, escapechar, errors, storage_options)\u001b[0m\n\u001b[1;32m    993\u001b[0m     created_buffer \u001b[38;5;241m=\u001b[39m \u001b[38;5;28;01mFalse\u001b[39;00m\n\u001b[1;32m    995\u001b[0m csv_formatter \u001b[38;5;241m=\u001b[39m CSVFormatter(\n\u001b[1;32m    996\u001b[0m     path_or_buf\u001b[38;5;241m=\u001b[39mpath_or_buf,\n\u001b[1;32m    997\u001b[0m     lineterminator\u001b[38;5;241m=\u001b[39mlineterminator,\n\u001b[0;32m   (...)\u001b[0m\n\u001b[1;32m   1012\u001b[0m     formatter\u001b[38;5;241m=\u001b[39m\u001b[38;5;28mself\u001b[39m\u001b[38;5;241m.\u001b[39mfmt,\n\u001b[1;32m   1013\u001b[0m )\n\u001b[0;32m-> 1014\u001b[0m \u001b[43mcsv_formatter\u001b[49m\u001b[38;5;241;43m.\u001b[39;49m\u001b[43msave\u001b[49m\u001b[43m(\u001b[49m\u001b[43m)\u001b[49m\n\u001b[1;32m   1016\u001b[0m \u001b[38;5;28;01mif\u001b[39;00m created_buffer:\n\u001b[1;32m   1017\u001b[0m     \u001b[38;5;28;01massert\u001b[39;00m \u001b[38;5;28misinstance\u001b[39m(path_or_buf, StringIO)\n",
      "File \u001b[0;32m~/Desktop/python/webscraping/myenv/lib/python3.9/site-packages/pandas/io/formats/csvs.py:251\u001b[0m, in \u001b[0;36mCSVFormatter.save\u001b[0;34m(self)\u001b[0m\n\u001b[1;32m    247\u001b[0m \u001b[38;5;250m\u001b[39m\u001b[38;5;124;03m\"\"\"\u001b[39;00m\n\u001b[1;32m    248\u001b[0m \u001b[38;5;124;03mCreate the writer & save.\u001b[39;00m\n\u001b[1;32m    249\u001b[0m \u001b[38;5;124;03m\"\"\"\u001b[39;00m\n\u001b[1;32m    250\u001b[0m \u001b[38;5;66;03m# apply compression and byte/text conversion\u001b[39;00m\n\u001b[0;32m--> 251\u001b[0m \u001b[38;5;28;01mwith\u001b[39;00m \u001b[43mget_handle\u001b[49m\u001b[43m(\u001b[49m\n\u001b[1;32m    252\u001b[0m \u001b[43m    \u001b[49m\u001b[38;5;28;43mself\u001b[39;49m\u001b[38;5;241;43m.\u001b[39;49m\u001b[43mfilepath_or_buffer\u001b[49m\u001b[43m,\u001b[49m\n\u001b[1;32m    253\u001b[0m \u001b[43m    \u001b[49m\u001b[38;5;28;43mself\u001b[39;49m\u001b[38;5;241;43m.\u001b[39;49m\u001b[43mmode\u001b[49m\u001b[43m,\u001b[49m\n\u001b[1;32m    254\u001b[0m \u001b[43m    \u001b[49m\u001b[43mencoding\u001b[49m\u001b[38;5;241;43m=\u001b[39;49m\u001b[38;5;28;43mself\u001b[39;49m\u001b[38;5;241;43m.\u001b[39;49m\u001b[43mencoding\u001b[49m\u001b[43m,\u001b[49m\n\u001b[1;32m    255\u001b[0m \u001b[43m    \u001b[49m\u001b[43merrors\u001b[49m\u001b[38;5;241;43m=\u001b[39;49m\u001b[38;5;28;43mself\u001b[39;49m\u001b[38;5;241;43m.\u001b[39;49m\u001b[43merrors\u001b[49m\u001b[43m,\u001b[49m\n\u001b[1;32m    256\u001b[0m \u001b[43m    \u001b[49m\u001b[43mcompression\u001b[49m\u001b[38;5;241;43m=\u001b[39;49m\u001b[38;5;28;43mself\u001b[39;49m\u001b[38;5;241;43m.\u001b[39;49m\u001b[43mcompression\u001b[49m\u001b[43m,\u001b[49m\n\u001b[1;32m    257\u001b[0m \u001b[43m    \u001b[49m\u001b[43mstorage_options\u001b[49m\u001b[38;5;241;43m=\u001b[39;49m\u001b[38;5;28;43mself\u001b[39;49m\u001b[38;5;241;43m.\u001b[39;49m\u001b[43mstorage_options\u001b[49m\u001b[43m,\u001b[49m\n\u001b[1;32m    258\u001b[0m \u001b[43m\u001b[49m\u001b[43m)\u001b[49m \u001b[38;5;28;01mas\u001b[39;00m handles:\n\u001b[1;32m    259\u001b[0m     \u001b[38;5;66;03m# Note: self.encoding is irrelevant here\u001b[39;00m\n\u001b[1;32m    260\u001b[0m     \u001b[38;5;28mself\u001b[39m\u001b[38;5;241m.\u001b[39mwriter \u001b[38;5;241m=\u001b[39m csvlib\u001b[38;5;241m.\u001b[39mwriter(\n\u001b[1;32m    261\u001b[0m         handles\u001b[38;5;241m.\u001b[39mhandle,\n\u001b[1;32m    262\u001b[0m         lineterminator\u001b[38;5;241m=\u001b[39m\u001b[38;5;28mself\u001b[39m\u001b[38;5;241m.\u001b[39mlineterminator,\n\u001b[0;32m   (...)\u001b[0m\n\u001b[1;32m    267\u001b[0m         quotechar\u001b[38;5;241m=\u001b[39m\u001b[38;5;28mself\u001b[39m\u001b[38;5;241m.\u001b[39mquotechar,\n\u001b[1;32m    268\u001b[0m     )\n\u001b[1;32m    270\u001b[0m     \u001b[38;5;28mself\u001b[39m\u001b[38;5;241m.\u001b[39m_save()\n",
      "File \u001b[0;32m~/Desktop/python/webscraping/myenv/lib/python3.9/site-packages/pandas/io/common.py:749\u001b[0m, in \u001b[0;36mget_handle\u001b[0;34m(path_or_buf, mode, encoding, compression, memory_map, is_text, errors, storage_options)\u001b[0m\n\u001b[1;32m    747\u001b[0m \u001b[38;5;66;03m# Only for write methods\u001b[39;00m\n\u001b[1;32m    748\u001b[0m \u001b[38;5;28;01mif\u001b[39;00m \u001b[38;5;124m\"\u001b[39m\u001b[38;5;124mr\u001b[39m\u001b[38;5;124m\"\u001b[39m \u001b[38;5;129;01mnot\u001b[39;00m \u001b[38;5;129;01min\u001b[39;00m mode \u001b[38;5;129;01mand\u001b[39;00m is_path:\n\u001b[0;32m--> 749\u001b[0m     \u001b[43mcheck_parent_directory\u001b[49m\u001b[43m(\u001b[49m\u001b[38;5;28;43mstr\u001b[39;49m\u001b[43m(\u001b[49m\u001b[43mhandle\u001b[49m\u001b[43m)\u001b[49m\u001b[43m)\u001b[49m\n\u001b[1;32m    751\u001b[0m \u001b[38;5;28;01mif\u001b[39;00m compression:\n\u001b[1;32m    752\u001b[0m     \u001b[38;5;28;01mif\u001b[39;00m compression \u001b[38;5;241m!=\u001b[39m \u001b[38;5;124m\"\u001b[39m\u001b[38;5;124mzstd\u001b[39m\u001b[38;5;124m\"\u001b[39m:\n\u001b[1;32m    753\u001b[0m         \u001b[38;5;66;03m# compression libraries do not like an explicit text-mode\u001b[39;00m\n",
      "File \u001b[0;32m~/Desktop/python/webscraping/myenv/lib/python3.9/site-packages/pandas/io/common.py:616\u001b[0m, in \u001b[0;36mcheck_parent_directory\u001b[0;34m(path)\u001b[0m\n\u001b[1;32m    614\u001b[0m parent \u001b[38;5;241m=\u001b[39m Path(path)\u001b[38;5;241m.\u001b[39mparent\n\u001b[1;32m    615\u001b[0m \u001b[38;5;28;01mif\u001b[39;00m \u001b[38;5;129;01mnot\u001b[39;00m parent\u001b[38;5;241m.\u001b[39mis_dir():\n\u001b[0;32m--> 616\u001b[0m     \u001b[38;5;28;01mraise\u001b[39;00m \u001b[38;5;167;01mOSError\u001b[39;00m(\u001b[38;5;124mrf\u001b[39m\u001b[38;5;124m\"\u001b[39m\u001b[38;5;124mCannot save file into a non-existent directory: \u001b[39m\u001b[38;5;124m'\u001b[39m\u001b[38;5;132;01m{\u001b[39;00mparent\u001b[38;5;132;01m}\u001b[39;00m\u001b[38;5;124m'\u001b[39m\u001b[38;5;124m\"\u001b[39m)\n",
      "\u001b[0;31mOSError\u001b[0m: Cannot save file into a non-existent directory: 'data/29_05'"
     ]
    }
   ],
   "source": [
    "df_res = pd.DataFrame(scrape_urls(df))\n"
   ]
  },
  {
   "cell_type": "code",
   "execution_count": 33,
   "metadata": {},
   "outputs": [],
   "source": [
    "df_res.to_csv('../data/29_05/df_scraped_v3_300.csv', index=False)"
   ]
  },
  {
   "cell_type": "code",
   "execution_count": 112,
   "metadata": {},
   "outputs": [
    {
     "data": {
      "text/html": [
       "<div>\n",
       "<style scoped>\n",
       "    .dataframe tbody tr th:only-of-type {\n",
       "        vertical-align: middle;\n",
       "    }\n",
       "\n",
       "    .dataframe tbody tr th {\n",
       "        vertical-align: top;\n",
       "    }\n",
       "\n",
       "    .dataframe thead th {\n",
       "        text-align: right;\n",
       "    }\n",
       "</style>\n",
       "<table border=\"1\" class=\"dataframe\">\n",
       "  <thead>\n",
       "    <tr style=\"text-align: right;\">\n",
       "      <th></th>\n",
       "      <th>Website</th>\n",
       "      <th>Emails</th>\n",
       "      <th>Phone Numbers</th>\n",
       "    </tr>\n",
       "  </thead>\n",
       "  <tbody>\n",
       "    <tr>\n",
       "      <th>7</th>\n",
       "      <td>http://www.psychologcb.cz/</td>\n",
       "      <td>NaN</td>\n",
       "      <td>NaN</td>\n",
       "    </tr>\n",
       "    <tr>\n",
       "      <th>8</th>\n",
       "      <td>http://www.cheiront.cz/</td>\n",
       "      <td>NaN</td>\n",
       "      <td>NaN</td>\n",
       "    </tr>\n",
       "    <tr>\n",
       "      <th>12</th>\n",
       "      <td>http://www.michaelvaclavik.cz/</td>\n",
       "      <td>NaN</td>\n",
       "      <td>+420 608 443 228</td>\n",
       "    </tr>\n",
       "    <tr>\n",
       "      <th>13</th>\n",
       "      <td>http://www.cetera.cz</td>\n",
       "      <td>NaN</td>\n",
       "      <td>NaN</td>\n",
       "    </tr>\n",
       "    <tr>\n",
       "      <th>15</th>\n",
       "      <td>http://www.kappa-help.cz</td>\n",
       "      <td>NaN</td>\n",
       "      <td>+420 773 821 003, +420 773 821 001, +420 773 0...</td>\n",
       "    </tr>\n",
       "    <tr>\n",
       "      <th>...</th>\n",
       "      <td>...</td>\n",
       "      <td>...</td>\n",
       "      <td>...</td>\n",
       "    </tr>\n",
       "    <tr>\n",
       "      <th>287</th>\n",
       "      <td>http://www.psycholog-tejklova.cz/</td>\n",
       "      <td>NaN</td>\n",
       "      <td>NaN</td>\n",
       "    </tr>\n",
       "    <tr>\n",
       "      <th>288</th>\n",
       "      <td>http://www.arcana.cz/</td>\n",
       "      <td>NaN</td>\n",
       "      <td>NaN</td>\n",
       "    </tr>\n",
       "    <tr>\n",
       "      <th>289</th>\n",
       "      <td>http://www.psychoterapeut-liberec.cz/</td>\n",
       "      <td>andrea.pirkova@gmail.com</td>\n",
       "      <td>NaN</td>\n",
       "    </tr>\n",
       "    <tr>\n",
       "      <th>290</th>\n",
       "      <td>http://psychologtabor.cz/</td>\n",
       "      <td>info@psychologtabor.cz</td>\n",
       "      <td>NaN</td>\n",
       "    </tr>\n",
       "    <tr>\n",
       "      <th>293</th>\n",
       "      <td>http://www.psychocentrumzlin.cz/</td>\n",
       "      <td>NaN</td>\n",
       "      <td>NaN</td>\n",
       "    </tr>\n",
       "  </tbody>\n",
       "</table>\n",
       "<p>129 rows × 3 columns</p>\n",
       "</div>"
      ],
      "text/plain": [
       "                                   Website                    Emails  \\\n",
       "7               http://www.psychologcb.cz/                       NaN   \n",
       "8                  http://www.cheiront.cz/                       NaN   \n",
       "12          http://www.michaelvaclavik.cz/                       NaN   \n",
       "13                    http://www.cetera.cz                       NaN   \n",
       "15                http://www.kappa-help.cz                       NaN   \n",
       "..                                     ...                       ...   \n",
       "287      http://www.psycholog-tejklova.cz/                       NaN   \n",
       "288                  http://www.arcana.cz/                       NaN   \n",
       "289  http://www.psychoterapeut-liberec.cz/  andrea.pirkova@gmail.com   \n",
       "290              http://psychologtabor.cz/    info@psychologtabor.cz   \n",
       "293       http://www.psychocentrumzlin.cz/                       NaN   \n",
       "\n",
       "                                         Phone Numbers  \n",
       "7                                                  NaN  \n",
       "8                                                  NaN  \n",
       "12                                    +420 608 443 228  \n",
       "13                                                 NaN  \n",
       "15   +420 773 821 003, +420 773 821 001, +420 773 0...  \n",
       "..                                                 ...  \n",
       "287                                                NaN  \n",
       "288                                                NaN  \n",
       "289                                                NaN  \n",
       "290                                                NaN  \n",
       "293                                                NaN  \n",
       "\n",
       "[129 rows x 3 columns]"
      ]
     },
     "execution_count": 112,
     "metadata": {},
     "output_type": "execute_result"
    }
   ],
   "source": [
    "df_scraped_v2_300_600 = pd.read_csv('data/29_05/df_scraped_v3_300.csv')\n",
    "df_scraped_v2_300_600[(df_scraped_v2_300_600['Emails'].isna()) | (df_scraped_v2_300_600['Phone Numbers'].isna())]"
   ]
  },
  {
   "cell_type": "code",
   "execution_count": 113,
   "metadata": {},
   "outputs": [
    {
     "data": {
      "text/plain": [
       "0.5519630484988453"
      ]
     },
     "execution_count": 113,
     "metadata": {},
     "output_type": "execute_result"
    }
   ],
   "source": [
    "df = data_prep(subset=False)\n",
    "(df.shape[0]-(129 + 121 + 138))/df.shape[0]\n"
   ]
  },
  {
   "cell_type": "code",
   "execution_count": 115,
   "metadata": {},
   "outputs": [],
   "source": [
    "df1 = pd.read_csv('data/29_05/df_scraped_v2_300.csv')\n",
    "df2 = pd.read_csv('data/29_05/df_scraped_v2_300_600.csv')\n",
    "df3 = pd.read_csv('data/29_05/df_scraped_v2_601_plus.csv')\n",
    "\n",
    "# Concatenate the DataFrames\n",
    "concatenated_df = pd.concat([df1, df2, df3], ignore_index=True)\n",
    "\n",
    "# Save the concatenated DataFrame to a new CSV file\n",
    "concatenated_df.to_csv('df_scraped_v2.csv', index=False)"
   ]
  },
  {
   "cell_type": "code",
   "execution_count": 117,
   "metadata": {},
   "outputs": [
    {
     "data": {
      "text/plain": [
       "(866, 3)"
      ]
     },
     "execution_count": 117,
     "metadata": {},
     "output_type": "execute_result"
    }
   ],
   "source": []
  },
  {
   "cell_type": "code",
   "execution_count": null,
   "metadata": {},
   "outputs": [],
   "source": []
  },
  {
   "cell_type": "code",
   "execution_count": 94,
   "metadata": {},
   "outputs": [
    {
     "name": "stdout",
     "output_type": "stream",
     "text": [
      "Matched: cheiront@cheiront.cz\n"
     ]
    }
   ],
   "source": [
    "test_emails = ['cheiront@cheiront.cz']\n",
    "email_regex = re.compile(r\"[a-zA-Z0-9._%+-]+@[a-zA-Z0-9.-]+\\.[a-zA-Z]{2,}\")\n",
    "\n",
    "for email in test_emails:\n",
    "    match = email_regex.search(email)\n",
    "    if match:\n",
    "        print(f\"Matched: {match.group()}\")\n",
    "    else:\n",
    "        print(f\"No match: {email}\")"
   ]
  },
  {
   "cell_type": "markdown",
   "metadata": {},
   "source": [
    "# Specific web check"
   ]
  },
  {
   "cell_type": "code",
   "execution_count": 121,
   "metadata": {},
   "outputs": [
    {
     "name": "stdout",
     "output_type": "stream",
     "text": [
      "({'podatelna@zvole.info'}, {'+420\\xa0257\\xa0760\\xa0337', '257\\xa0760 337'})\n"
     ]
    }
   ],
   "source": [
    "web = 'https://www.zvole.info'\n",
    "print(scrape_website_main_page(web))"
   ]
  },
  {
   "cell_type": "code",
   "execution_count": null,
   "metadata": {},
   "outputs": [],
   "source": []
  }
 ],
 "metadata": {
  "kernelspec": {
   "display_name": "streamlit_env",
   "language": "python",
   "name": "python3"
  },
  "language_info": {
   "codemirror_mode": {
    "name": "ipython",
    "version": 3
   },
   "file_extension": ".py",
   "mimetype": "text/x-python",
   "name": "python",
   "nbconvert_exporter": "python",
   "pygments_lexer": "ipython3",
   "version": "3.9.7"
  }
 },
 "nbformat": 4,
 "nbformat_minor": 2
}
