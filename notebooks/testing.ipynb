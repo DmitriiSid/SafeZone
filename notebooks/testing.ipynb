{
 "cells": [
  {
   "cell_type": "code",
   "execution_count": 1,
   "metadata": {
    "ExecuteTime": {
     "end_time": "2024-05-01T10:42:17.447521Z",
     "start_time": "2024-05-01T10:41:11.396985Z"
    }
   },
   "outputs": [],
   "source": [
    "import pandas as pd\n",
    "import requests\n",
    "import pandas as pd\n",
    "from bs4 import BeautifulSoup\n",
    "import re\n",
    "from tqdm import tqdm \n",
    "from urllib.parse import urljoin\n",
    "db_pomoci = pd.read_csv(\"db_pomoci.csv\")"
   ]
  },
  {
   "cell_type": "code",
   "execution_count": 2,
   "metadata": {},
   "outputs": [],
   "source": [
    "db_pomoci = pd.read_csv(\"db_pomoci.csv\")\n",
    "black_list = ['http://www.dc-brno.cz']\n",
    "df = db_pomoci.rename(columns={\"Webová stránka\" : \"web\", \"Název\":\"nazev\"})\n",
    "df = df[(~df[\"web\"].isna()) & (~df['web'].isin(black_list))]\n",
    "df.loc[df['web'].str.startswith('www'), 'web'] = df['web'].str.replace('^www', 'https://www', regex=True)\n",
    "# df['web'] = df['web'].str.replace('https://www', 'www')\n",
    "# df['web'] = df['web'].str.replace('www', 'https://www')\n",
    "df_agg = df.groupby(\"web\")[\"Telefon\"].agg(list)\n",
    "df_agg[\"email\"] = df.groupby(\"web\")[\"E-mail\"].agg(list)\n",
    "df_agg = df_agg.reset_index().rename(columns={'web': 'web', 'Telefon': 'Telefon'})\n",
    "df_agg = pd.DataFrame(df_agg)\n",
    "#df.sort_values(\"web\")\n"
   ]
  },
  {
   "cell_type": "code",
   "execution_count": 22,
   "metadata": {},
   "outputs": [],
   "source": [
    "db_scraped = pd.read_csv(\"data/df_scraped.csv\")\n",
    "df_res = db_scraped[~db_scraped[\"Phone Numbers\"].isna()]\n",
    "df_res = df_res.rename(columns={'web': 'web', 'Telefon': 'Telefon'}).drop(\"Unnamed: 0\", axis= 1)\n",
    "df_res = df_res.rename(columns= {\"Website\":\"web\"})\n",
    "df_res = df_res.rename(columns= {\"Phone Numbers\":\"phones_scraped\"})"
   ]
  },
  {
   "cell_type": "code",
   "execution_count": 23,
   "metadata": {},
   "outputs": [
    {
     "data": {
      "text/html": [
       "<div>\n",
       "<style scoped>\n",
       "    .dataframe tbody tr th:only-of-type {\n",
       "        vertical-align: middle;\n",
       "    }\n",
       "\n",
       "    .dataframe tbody tr th {\n",
       "        vertical-align: top;\n",
       "    }\n",
       "\n",
       "    .dataframe thead th {\n",
       "        text-align: right;\n",
       "    }\n",
       "</style>\n",
       "<table border=\"1\" class=\"dataframe\">\n",
       "  <thead>\n",
       "    <tr style=\"text-align: right;\">\n",
       "      <th></th>\n",
       "      <th>web</th>\n",
       "      <th>phones_scraped</th>\n",
       "      <th>Telefon</th>\n",
       "    </tr>\n",
       "  </thead>\n",
       "  <tbody>\n",
       "    <tr>\n",
       "      <th>0</th>\n",
       "      <td>http://www.pdz.cz</td>\n",
       "      <td>[121 407 9329, 64 24 22 18, 420 466 400 116]</td>\n",
       "      <td>[778 526 216, 469 626 383, 774 915 755]</td>\n",
       "    </tr>\n",
       "    <tr>\n",
       "      <th>1</th>\n",
       "      <td>http://www.medsix.cz/?option=com_content&amp;view=...</td>\n",
       "      <td>[483 341 232, 483 300 087, 483 310 919, 483 34...</td>\n",
       "      <td>[483 341 267]</td>\n",
       "    </tr>\n",
       "    <tr>\n",
       "      <th>2</th>\n",
       "      <td>https://jindrichuvhradec.charita.cz/sluzba/852/</td>\n",
       "      <td>[731 402 982, 731 604 554, 605 849 877]</td>\n",
       "      <td>[731 402 982, 605 849 877]</td>\n",
       "    </tr>\n",
       "    <tr>\n",
       "      <th>3</th>\n",
       "      <td>https://www.homeopatiecz.com/</td>\n",
       "      <td>[777 169 278, 736 660 315, 777 146 760, 725 76...</td>\n",
       "      <td>[736 660 315]</td>\n",
       "    </tr>\n",
       "    <tr>\n",
       "      <th>4</th>\n",
       "      <td>http://www.ponton.cz/</td>\n",
       "      <td>[773 334 363]</td>\n",
       "      <td>[774 433 395]</td>\n",
       "    </tr>\n",
       "    <tr>\n",
       "      <th>...</th>\n",
       "      <td>...</td>\n",
       "      <td>...</td>\n",
       "      <td>...</td>\n",
       "    </tr>\n",
       "    <tr>\n",
       "      <th>557</th>\n",
       "      <td>https://www.firmy.cz/detail/13179143-phdr-tere...</td>\n",
       "      <td>[420 376 322 688]</td>\n",
       "      <td>[376 322 688]</td>\n",
       "    </tr>\n",
       "    <tr>\n",
       "      <th>558</th>\n",
       "      <td>https://search.seznam.cz/?q=psychiatrick%C3%A1...</td>\n",
       "      <td>[420608971030]</td>\n",
       "      <td>[736 132 143]</td>\n",
       "    </tr>\n",
       "    <tr>\n",
       "      <th>559</th>\n",
       "      <td>http://ssp-ol.cz/</td>\n",
       "      <td>[585 427 141]</td>\n",
       "      <td>[774 406 453]</td>\n",
       "    </tr>\n",
       "    <tr>\n",
       "      <th>560</th>\n",
       "      <td>http://www.psychoterapeuti.cz/adresar-psychote...</td>\n",
       "      <td>[284 016 451, 736 660 315, 530 334 600, 775 18...</td>\n",
       "      <td>[466 611 601]</td>\n",
       "    </tr>\n",
       "    <tr>\n",
       "      <th>561</th>\n",
       "      <td>http://www.psychoterapeuti.cz/adresar-psychote...</td>\n",
       "      <td>[284 016 451, 736 660 315, 530 334 600, 775 18...</td>\n",
       "      <td>[261 006 253]</td>\n",
       "    </tr>\n",
       "  </tbody>\n",
       "</table>\n",
       "<p>562 rows × 3 columns</p>\n",
       "</div>"
      ],
      "text/plain": [
       "                                                   web  \\\n",
       "0                                    http://www.pdz.cz   \n",
       "1    http://www.medsix.cz/?option=com_content&view=...   \n",
       "2      https://jindrichuvhradec.charita.cz/sluzba/852/   \n",
       "3                        https://www.homeopatiecz.com/   \n",
       "4                                http://www.ponton.cz/   \n",
       "..                                                 ...   \n",
       "557  https://www.firmy.cz/detail/13179143-phdr-tere...   \n",
       "558  https://search.seznam.cz/?q=psychiatrick%C3%A1...   \n",
       "559                                  http://ssp-ol.cz/   \n",
       "560  http://www.psychoterapeuti.cz/adresar-psychote...   \n",
       "561  http://www.psychoterapeuti.cz/adresar-psychote...   \n",
       "\n",
       "                                        phones_scraped  \\\n",
       "0         [121 407 9329, 64 24 22 18, 420 466 400 116]   \n",
       "1    [483 341 232, 483 300 087, 483 310 919, 483 34...   \n",
       "2              [731 402 982, 731 604 554, 605 849 877]   \n",
       "3    [777 169 278, 736 660 315, 777 146 760, 725 76...   \n",
       "4                                        [773 334 363]   \n",
       "..                                                 ...   \n",
       "557                                  [420 376 322 688]   \n",
       "558                                     [420608971030]   \n",
       "559                                      [585 427 141]   \n",
       "560  [284 016 451, 736 660 315, 530 334 600, 775 18...   \n",
       "561  [284 016 451, 736 660 315, 530 334 600, 775 18...   \n",
       "\n",
       "                                     Telefon  \n",
       "0    [778 526 216, 469 626 383, 774 915 755]  \n",
       "1                              [483 341 267]  \n",
       "2                 [731 402 982, 605 849 877]  \n",
       "3                              [736 660 315]  \n",
       "4                              [774 433 395]  \n",
       "..                                       ...  \n",
       "557                            [376 322 688]  \n",
       "558                            [736 132 143]  \n",
       "559                            [774 406 453]  \n",
       "560                            [466 611 601]  \n",
       "561                            [261 006 253]  \n",
       "\n",
       "[562 rows x 3 columns]"
      ]
     },
     "execution_count": 23,
     "metadata": {},
     "output_type": "execute_result"
    }
   ],
   "source": [
    "preview = df_res.merge(df_agg , on=\"web\")\n",
    "preview['phones_scraped'] = preview['phones_scraped'].str.split(', ')\n",
    "preview"
   ]
  },
  {
   "cell_type": "code",
   "execution_count": 3,
   "metadata": {},
   "outputs": [
    {
     "data": {
      "text/html": [
       "<div>\n",
       "<style scoped>\n",
       "    .dataframe tbody tr th:only-of-type {\n",
       "        vertical-align: middle;\n",
       "    }\n",
       "\n",
       "    .dataframe tbody tr th {\n",
       "        vertical-align: top;\n",
       "    }\n",
       "\n",
       "    .dataframe thead th {\n",
       "        text-align: right;\n",
       "    }\n",
       "</style>\n",
       "<table border=\"1\" class=\"dataframe\">\n",
       "  <thead>\n",
       "    <tr style=\"text-align: right;\">\n",
       "      <th></th>\n",
       "      <th>nazev</th>\n",
       "      <th>Kategorie</th>\n",
       "      <th>Adresa</th>\n",
       "      <th>E-mail</th>\n",
       "      <th>Telefon</th>\n",
       "      <th>web</th>\n",
       "    </tr>\n",
       "  </thead>\n",
       "  <tbody>\n",
       "    <tr>\n",
       "      <th>63</th>\n",
       "      <td>CDZ Brno I (Práh jižní Morava)</td>\n",
       "      <td>CDZ - Centrum duševního zdraví</td>\n",
       "      <td>Štěpánská 2, Brno-Trnitá (část) 602 00, Jihomo...</td>\n",
       "      <td>terennitym@prah-brno.cz</td>\n",
       "      <td>733 643 379</td>\n",
       "      <td>https://www.cdz-brno.cz/</td>\n",
       "    </tr>\n",
       "    <tr>\n",
       "      <th>64</th>\n",
       "      <td>CDZ Brno II (Práh jižní Morava)</td>\n",
       "      <td>CDZ - Centrum duševního zdraví</td>\n",
       "      <td>Jugoslávská 17, Zábrdovice (Brno-sever) (část)...</td>\n",
       "      <td>cdz@pnbrno.cz</td>\n",
       "      <td>737 390 737</td>\n",
       "      <td>https://www.pnbrno.cz/centrum-dusevniho-zdravi/</td>\n",
       "    </tr>\n",
       "    <tr>\n",
       "      <th>321</th>\n",
       "      <td>Odborné sociální poradenství - poradna PřES PRÁH</td>\n",
       "      <td>Odborné sociální poradenství</td>\n",
       "      <td>Tuřanská 12, Brno-Tuřany (část) 620 00, Jihomo...</td>\n",
       "      <td>jana.wudyova@prah-brno.cz</td>\n",
       "      <td>734 850 546</td>\n",
       "      <td>http://www.prah-brno.cz/novinky/2-uncategorise...</td>\n",
       "    </tr>\n",
       "    <tr>\n",
       "      <th>492</th>\n",
       "      <td>Pedagogicko-psychologická poradna Brno, příspě...</td>\n",
       "      <td>Pedagogicko-psychologické poradny</td>\n",
       "      <td>Hybešova 253/15, Staré Brno, 602 00 Brno</td>\n",
       "      <td>hybesova@pppbrno.cz</td>\n",
       "      <td>541 422 822</td>\n",
       "      <td>https://www.pppbrno.cz/cs/</td>\n",
       "    </tr>\n",
       "    <tr>\n",
       "      <th>546</th>\n",
       "      <td>Černý Vojtěch PhDr., Ph.D.</td>\n",
       "      <td>Psychoterapeuti</td>\n",
       "      <td>Františkánská 6, 602 00 Brno</td>\n",
       "      <td>info@cervoy.cz</td>\n",
       "      <td>602 737 026</td>\n",
       "      <td>http://www.psychologiebrno.cz/</td>\n",
       "    </tr>\n",
       "    <tr>\n",
       "      <th>1428</th>\n",
       "      <td>Nízkoprahový klub Kumbál</td>\n",
       "      <td>Nízkoprahové zařízení</td>\n",
       "      <td>Vídeňská 14/78, Brno-střed, Štýřice, 639 00 Brno</td>\n",
       "      <td>gajdziok.jan@brno.cz</td>\n",
       "      <td>543 210 670</td>\n",
       "      <td>http://www.brno.cz</td>\n",
       "    </tr>\n",
       "  </tbody>\n",
       "</table>\n",
       "</div>"
      ],
      "text/plain": [
       "                                                  nazev  \\\n",
       "63                       CDZ Brno I (Práh jižní Morava)   \n",
       "64                      CDZ Brno II (Práh jižní Morava)   \n",
       "321    Odborné sociální poradenství - poradna PřES PRÁH   \n",
       "492   Pedagogicko-psychologická poradna Brno, příspě...   \n",
       "546                          Černý Vojtěch PhDr., Ph.D.   \n",
       "1428                           Nízkoprahový klub Kumbál   \n",
       "\n",
       "                              Kategorie  \\\n",
       "63       CDZ - Centrum duševního zdraví   \n",
       "64       CDZ - Centrum duševního zdraví   \n",
       "321        Odborné sociální poradenství   \n",
       "492   Pedagogicko-psychologické poradny   \n",
       "546                     Psychoterapeuti   \n",
       "1428              Nízkoprahové zařízení   \n",
       "\n",
       "                                                 Adresa  \\\n",
       "63    Štěpánská 2, Brno-Trnitá (část) 602 00, Jihomo...   \n",
       "64    Jugoslávská 17, Zábrdovice (Brno-sever) (část)...   \n",
       "321   Tuřanská 12, Brno-Tuřany (část) 620 00, Jihomo...   \n",
       "492            Hybešova 253/15, Staré Brno, 602 00 Brno   \n",
       "546                        Františkánská 6, 602 00 Brno   \n",
       "1428   Vídeňská 14/78, Brno-střed, Štýřice, 639 00 Brno   \n",
       "\n",
       "                         E-mail      Telefon  \\\n",
       "63      terennitym@prah-brno.cz  733 643 379   \n",
       "64                cdz@pnbrno.cz  737 390 737   \n",
       "321   jana.wudyova@prah-brno.cz  734 850 546   \n",
       "492         hybesova@pppbrno.cz  541 422 822   \n",
       "546              info@cervoy.cz  602 737 026   \n",
       "1428       gajdziok.jan@brno.cz  543 210 670   \n",
       "\n",
       "                                                    web  \n",
       "63                             https://www.cdz-brno.cz/  \n",
       "64      https://www.pnbrno.cz/centrum-dusevniho-zdravi/  \n",
       "321   http://www.prah-brno.cz/novinky/2-uncategorise...  \n",
       "492                          https://www.pppbrno.cz/cs/  \n",
       "546                      http://www.psychologiebrno.cz/  \n",
       "1428                                 http://www.brno.cz  "
      ]
     },
     "execution_count": 3,
     "metadata": {},
     "output_type": "execute_result"
    }
   ],
   "source": [
    "#df[df[\"web\"].str.contains('brno')]"
   ]
  },
  {
   "cell_type": "code",
   "execution_count": 10,
   "metadata": {},
   "outputs": [],
   "source": [
    "not_matched = pd.read_csv(\"data/not_matched.csv\")\n",
    "urls = set(not_matched[\"web\"])\n"
   ]
  },
  {
   "cell_type": "markdown",
   "metadata": {},
   "source": [
    "# Email scraper"
   ]
  },
  {
   "cell_type": "code",
   "execution_count": 12,
   "metadata": {},
   "outputs": [
    {
     "name": "stderr",
     "output_type": "stream",
     "text": [
      "  0%|          | 0/321 [00:00<?, ?it/s]"
     ]
    },
    {
     "name": "stderr",
     "output_type": "stream",
     "text": [
      "  1%|          | 2/321 [00:00<00:28, 11.13it/s]"
     ]
    },
    {
     "name": "stdout",
     "output_type": "stream",
     "text": [
      "Error fetching http://www.fokustabor.cz/centrum-dusevniho-zdravi-_-komunitni-tym-tabor: 404 Client Error: Not Found for url: http://www.fokustabor.cz/centrum-dusevniho-zdravi-_-komunitni-tym-tabor\n"
     ]
    },
    {
     "name": "stderr",
     "output_type": "stream",
     "text": [
      "  2%|▏         | 8/321 [00:11<11:04,  2.12s/it]"
     ]
    },
    {
     "name": "stdout",
     "output_type": "stream",
     "text": [
      "Error fetching https://www.cinka-decin.cz: HTTPSConnectionPool(host='www.cinka-decin.cz', port=443): Max retries exceeded with url: / (Caused by SSLError(CertificateError(\"hostname 'www.cinka-decin.cz' doesn't match either of '*.blueboard.cz', 'blueboard.cz'\")))\n"
     ]
    },
    {
     "name": "stderr",
     "output_type": "stream",
     "text": [
      "  3%|▎         | 11/321 [01:29<1:27:42, 16.98s/it]"
     ]
    },
    {
     "name": "stdout",
     "output_type": "stream",
     "text": [
      "Error fetching http://www.sterba.mypage.cz/: HTTPConnectionPool(host='www.sterba.mypage.cz', port=80): Max retries exceeded with url: / (Caused by ConnectTimeoutError(<urllib3.connection.HTTPConnection object at 0x173adcbd0>, 'Connection to www.sterba.mypage.cz timed out. (connect timeout=None)'))\n",
      "Error fetching http://psychologslany.cz/index_sl.html: 404 Client Error: Not Found for url: https://psychologslany.cz/index_sl.html\n"
     ]
    },
    {
     "name": "stderr",
     "output_type": "stream",
     "text": [
      "  4%|▍         | 13/321 [02:44<2:03:46, 24.11s/it]"
     ]
    },
    {
     "name": "stdout",
     "output_type": "stream",
     "text": [
      "Error fetching https://www.vaspsychiatr.cz: HTTPSConnectionPool(host='www.vaspsychiatr.cz', port=443): Max retries exceeded with url: / (Caused by ConnectTimeoutError(<urllib3.connection.HTTPSConnection object at 0x173d81450>, 'Connection to www.vaspsychiatr.cz timed out. (connect timeout=None)'))\n"
     ]
    },
    {
     "name": "stderr",
     "output_type": "stream",
     "text": [
      "  6%|▌         | 19/321 [02:57<27:49,  5.53s/it]  "
     ]
    },
    {
     "name": "stdout",
     "output_type": "stream",
     "text": [
      "Error fetching http://www.prevcentrum.cz/nzdm: 404 Client Error: Not Found for url: https://www.prevcentrum.cz/nzdm\n"
     ]
    },
    {
     "name": "stderr",
     "output_type": "stream",
     "text": [
      "  7%|▋         | 21/321 [03:02<20:12,  4.04s/it]"
     ]
    },
    {
     "name": "stdout",
     "output_type": "stream",
     "text": [
      "Error fetching http://www.porceta.cz: 403 Client Error: Forbidden for url: https://www.porceta.cz/\n"
     ]
    },
    {
     "name": "stderr",
     "output_type": "stream",
     "text": [
      "  7%|▋         | 24/321 [04:20<1:25:44, 17.32s/it]"
     ]
    },
    {
     "name": "stdout",
     "output_type": "stream",
     "text": [
      "Error fetching https://www.freeklub.cz: HTTPSConnectionPool(host='www.freeklub.cz', port=443): Max retries exceeded with url: / (Caused by ConnectTimeoutError(<urllib3.connection.HTTPSConnection object at 0x173f46e90>, 'Connection to www.freeklub.cz timed out. (connect timeout=None)'))\n",
      "Error fetching http://www.riaps.cz/ambulance/: 403 Client Error: Forbidden for url: http://www.riaps.cz/ambulance/\n",
      "Error fetching https://www.centrumkamarad.eu: HTTPSConnectionPool(host='www.centrumkamarad.eu', port=443): Max retries exceeded with url: / (Caused by NewConnectionError('<urllib3.connection.HTTPSConnection object at 0x173f3b010>: Failed to establish a new connection: [Errno 8] nodename nor servname provided, or not known'))\n",
      "Error fetching klinicka.psychologie.decin@seznam.cz: Invalid URL 'klinicka.psychologie.decin@seznam.cz': No scheme supplied. Perhaps you meant https://klinicka.psychologie.decin@seznam.cz?\n"
     ]
    },
    {
     "name": "stderr",
     "output_type": "stream",
     "text": [
      "  8%|▊         | 27/321 [04:26<43:03,  8.79s/it]  "
     ]
    },
    {
     "name": "stdout",
     "output_type": "stream",
     "text": [
      "Error fetching https://www.ddzbraslav.cz/?page_id=12: 503 Server Error: Service Unavailable for url: https://www.ddzbraslav.cz/?page_id=12\n"
     ]
    },
    {
     "name": "stderr",
     "output_type": "stream",
     "text": [
      "  9%|▊         | 28/321 [04:31<38:40,  7.92s/it]"
     ]
    },
    {
     "name": "stdout",
     "output_type": "stream",
     "text": [
      "Error fetching http://www.psychoterapeuti.cz/mspsychiatrie.cz: Exceeded 30 redirects.\n"
     ]
    },
    {
     "name": "stderr",
     "output_type": "stream",
     "text": [
      "  9%|▉         | 29/321 [04:34<33:23,  6.86s/it]"
     ]
    },
    {
     "name": "stdout",
     "output_type": "stream",
     "text": [
      "Error fetching psychoporadnahk.cz: Invalid URL 'psychoporadnahk.cz': No scheme supplied. Perhaps you meant https://psychoporadnahk.cz?\n"
     ]
    },
    {
     "name": "stderr",
     "output_type": "stream",
     "text": [
      " 10%|▉         | 32/321 [04:42<22:31,  4.68s/it]"
     ]
    },
    {
     "name": "stdout",
     "output_type": "stream",
     "text": [
      "Error fetching yveta.mikulicova@phdrmikulicova.cz: Invalid URL 'yveta.mikulicova@phdrmikulicova.cz': No scheme supplied. Perhaps you meant https://yveta.mikulicova@phdrmikulicova.cz?\n"
     ]
    },
    {
     "name": "stderr",
     "output_type": "stream",
     "text": [
      " 11%|█         | 34/321 [04:43<14:38,  3.06s/it]"
     ]
    },
    {
     "name": "stdout",
     "output_type": "stream",
     "text": [
      "Error fetching http://www.vithoigr.cz/: 403 Client Error: Forbidden for url: http://www.vithoigr.cz/\n"
     ]
    },
    {
     "name": "stderr",
     "output_type": "stream",
     "text": [
      " 12%|█▏        | 37/321 [04:50<12:57,  2.74s/it]"
     ]
    },
    {
     "name": "stdout",
     "output_type": "stream",
     "text": [
      "Error fetching nnm.cz/ambulance-detail?id=049: Invalid URL 'nnm.cz/ambulance-detail?id=049': No scheme supplied. Perhaps you meant https://nnm.cz/ambulance-detail?id=049?\n"
     ]
    },
    {
     "name": "stderr",
     "output_type": "stream",
     "text": [
      " 12%|█▏        | 39/321 [04:53<11:00,  2.34s/it]"
     ]
    },
    {
     "name": "stdout",
     "output_type": "stream",
     "text": [
      "Error fetching https://www.csspraha.cz/krizove-centrum-riaps-krizova-intervence-a-psychologicka-podpora: 404 Client Error: Not Found for url: https://www.csspraha.cz/krizove-centrum-riaps-krizova-intervence-a-psychologicka-podpora\n"
     ]
    },
    {
     "name": "stderr",
     "output_type": "stream",
     "text": [
      " 13%|█▎        | 41/321 [05:02<14:38,  3.14s/it]"
     ]
    },
    {
     "name": "stdout",
     "output_type": "stream",
     "text": [
      "Error fetching https://www.cepsymed.cz/o-nas.html: 404 Client Error: Not Found for url: https://www.cepsymed.cz/o-nas.html\n"
     ]
    },
    {
     "name": "stderr",
     "output_type": "stream",
     "text": [
      " 15%|█▍        | 47/321 [05:25<17:47,  3.90s/it]"
     ]
    },
    {
     "name": "stdout",
     "output_type": "stream",
     "text": [
      "Error fetching psycholog-hradec-kralove.cz: Invalid URL 'psycholog-hradec-kralove.cz': No scheme supplied. Perhaps you meant https://psycholog-hradec-kralove.cz?\n",
      "Error fetching danuse.jandourkova@ckp-dobrichovice.cz: Invalid URL 'danuse.jandourkova@ckp-dobrichovice.cz': No scheme supplied. Perhaps you meant https://danuse.jandourkova@ckp-dobrichovice.cz?\n"
     ]
    },
    {
     "name": "stderr",
     "output_type": "stream",
     "text": [
      " 17%|█▋        | 56/321 [05:38<08:11,  1.85s/it]"
     ]
    },
    {
     "name": "stdout",
     "output_type": "stream",
     "text": [
      "Error fetching https://www.eeg-biofeedback-hradec.cz: 403 Client Error: Forbidden for url: https://www.eeg-biofeedback-hradec.cz/\n"
     ]
    },
    {
     "name": "stderr",
     "output_type": "stream",
     "text": [
      " 18%|█▊        | 58/321 [05:41<07:53,  1.80s/it]"
     ]
    },
    {
     "name": "stdout",
     "output_type": "stream",
     "text": [
      "Error fetching https://www.unko.cz/: 403 Client Error: Forbidden for url: https://www.unko.cz/\n"
     ]
    },
    {
     "name": "stderr",
     "output_type": "stream",
     "text": [
      " 19%|█▊        | 60/321 [05:50<14:15,  3.28s/it]"
     ]
    },
    {
     "name": "stdout",
     "output_type": "stream",
     "text": [
      "Error fetching http://www.pdz.cz/czd-pa.html: 404 Client Error: Not Found for url: https://pdz.cz/czd-pa.html\n"
     ]
    },
    {
     "name": "stderr",
     "output_type": "stream",
     "text": [
      " 19%|█▉        | 61/321 [06:05<28:14,  6.52s/it]"
     ]
    },
    {
     "name": "stdout",
     "output_type": "stream",
     "text": [
      "Error fetching http://www.riaps.cz/poradna/: 403 Client Error: Forbidden for url: http://www.riaps.cz/poradna/\n",
      "Error fetching mudrgrimova@centrum.cz: Invalid URL 'mudrgrimova@centrum.cz': No scheme supplied. Perhaps you meant https://mudrgrimova@centrum.cz?\n"
     ]
    },
    {
     "name": "stderr",
     "output_type": "stream",
     "text": [
      " 20%|█▉        | 64/321 [06:08<14:56,  3.49s/it]"
     ]
    },
    {
     "name": "stdout",
     "output_type": "stream",
     "text": [
      "Error fetching http://kairos-hk.cz/nabizene-sluzby/: HTTPConnectionPool(host='kairos-hk.cz', port=80): Max retries exceeded with url: /nabizene-sluzby/ (Caused by NewConnectionError('<urllib3.connection.HTTPConnection object at 0x173ab75d0>: Failed to establish a new connection: [Errno 8] nodename nor servname provided, or not known'))\n"
     ]
    },
    {
     "name": "stderr",
     "output_type": "stream",
     "text": [
      " 21%|██        | 66/321 [06:12<12:54,  3.04s/it]"
     ]
    },
    {
     "name": "stdout",
     "output_type": "stream",
     "text": [
      "Error fetching http://www.fnmotol.cz/kliniky-a-oddeleni/spolecna-pracoviste/oddeleni-klinicke-psychologie/vedeni-a-personal/: 404 Client Error: Not Found for url: https://www.fnmotol.cz/kliniky-a-oddeleni/spolecna-pracoviste/oddeleni-klinicke-psychologie/vedeni-a-personal/\n"
     ]
    },
    {
     "name": "stderr",
     "output_type": "stream",
     "text": [
      " 21%|██▏       | 69/321 [06:20<11:56,  2.84s/it]"
     ]
    },
    {
     "name": "stdout",
     "output_type": "stream",
     "text": [
      "Error fetching https://www.vorjihlava.cz/cdz_jihlava/informace: 404 Client Error: Not Found for url: https://www.vorjihlava.cz/cdz_jihlava/informace\n"
     ]
    },
    {
     "name": "stderr",
     "output_type": "stream",
     "text": [
      " 23%|██▎       | 75/321 [06:30<05:18,  1.30s/it]"
     ]
    },
    {
     "name": "stdout",
     "output_type": "stream",
     "text": [
      "Error fetching https://www.diakoniezapad.cz/sluzby-diakonie-zapad/pro-lidi-v-nouzi/poradna-pro-obcany-v-nesnazich/: 404 Client Error: Not Found for url: https://www.zapad.diakonie.cz/sluzby-diakonie-zapad/pro-lidi-v-nouzi/poradna-pro-obcany-v-nesnazich/\n"
     ]
    },
    {
     "name": "stderr",
     "output_type": "stream",
     "text": [
      " 24%|██▎       | 76/321 [06:32<06:30,  1.59s/it]"
     ]
    },
    {
     "name": "stdout",
     "output_type": "stream",
     "text": [
      "Error fetching http://www.fokus-mb.cz/klubko: 403 Client Error: Forbidden for url: https://www.fokus-mb.cz/klubko/\n"
     ]
    },
    {
     "name": "stderr",
     "output_type": "stream",
     "text": [
      " 25%|██▍       | 79/321 [06:43<10:41,  2.65s/it]"
     ]
    },
    {
     "name": "stdout",
     "output_type": "stream",
     "text": [
      "Error fetching https://psychologie-plzen.cz/: HTTPSConnectionPool(host='psychologie-plzen.cz', port=443): Max retries exceeded with url: / (Caused by NewConnectionError('<urllib3.connection.HTTPSConnection object at 0x173e4f490>: Failed to establish a new connection: [Errno 8] nodename nor servname provided, or not known'))\n",
      "Error fetching http://www.psycholog-hk.cz/: HTTPConnectionPool(host='www.psycholog-hk.cz', port=80): Max retries exceeded with url: / (Caused by NewConnectionError('<urllib3.connection.HTTPConnection object at 0x173e4fc10>: Failed to establish a new connection: [Errno 8] nodename nor servname provided, or not known'))\n"
     ]
    },
    {
     "name": "stderr",
     "output_type": "stream",
     "text": [
      " 26%|██▌       | 84/321 [06:50<07:47,  1.97s/it]"
     ]
    },
    {
     "name": "stdout",
     "output_type": "stream",
     "text": [
      "Error fetching http://www.psycholog-praha.pro/: 403 Client Error: Forbidden for url: https://www.psycholog-praha.pro/\n"
     ]
    },
    {
     "name": "stderr",
     "output_type": "stream",
     "text": [
      " 26%|██▋       | 85/321 [06:57<12:39,  3.22s/it]"
     ]
    },
    {
     "name": "stdout",
     "output_type": "stream",
     "text": [
      "Error fetching https://www.nempt.cz/ambulance/soukrome-ambulance/psychiatricka-ambulance/: 404 Client Error: Not Found for url: https://nempt.cz/ambulance/soukrome-ambulance/psychiatricka-ambulance/\n"
     ]
    },
    {
     "name": "stderr",
     "output_type": "stream",
     "text": [
      " 27%|██▋       | 86/321 [07:00<12:32,  3.20s/it]"
     ]
    },
    {
     "name": "stdout",
     "output_type": "stream",
     "text": [
      "Error fetching https://pisek.charita.cz/jak-pomahame/oblastni-poradna-pisek/: 404 Client Error: Not Found for url: https://pisek.charita.cz/jak-pomahame/oblastni-poradna-pisek/\n"
     ]
    },
    {
     "name": "stderr",
     "output_type": "stream",
     "text": [
      " 27%|██▋       | 87/321 [07:04<12:40,  3.25s/it]"
     ]
    },
    {
     "name": "stdout",
     "output_type": "stream",
     "text": [
      "Error fetching http://www.nemckr.cz/index.php/cs/ambulance/soukr-ordinace/psychiatrie: HTTPConnectionPool(host='www.nemckr.cz', port=80): Max retries exceeded with url: /index.php/cs/ambulance/soukr-ordinace/psychiatrie (Caused by NewConnectionError('<urllib3.connection.HTTPConnection object at 0x173f49cd0>: Failed to establish a new connection: [Errno 8] nodename nor servname provided, or not known'))\n",
      "Error fetching https://www.zavinac.sdb.cz: HTTPSConnectionPool(host='www.zavinac.sdb.cz', port=443): Max retries exceeded with url: / (Caused by NewConnectionError('<urllib3.connection.HTTPSConnection object at 0x173fedc90>: Failed to establish a new connection: [Errno 8] nodename nor servname provided, or not known'))\n"
     ]
    },
    {
     "name": "stderr",
     "output_type": "stream",
     "text": [
      " 28%|██▊       | 90/321 [07:04<06:09,  1.60s/it]"
     ]
    },
    {
     "name": "stdout",
     "output_type": "stream",
     "text": [
      "Error fetching https://www.diakoniezapad.cz/sluzby-diakonie-zapad/pro-lidi-v-nouzi/teren-pro-ohrozene-osoby/: 404 Client Error: Not Found for url: https://www.zapad.diakonie.cz/sluzby-diakonie-zapad/pro-lidi-v-nouzi/teren-pro-ohrozene-osoby/\n"
     ]
    },
    {
     "name": "stderr",
     "output_type": "stream",
     "text": [
      " 28%|██▊       | 91/321 [07:07<07:23,  1.93s/it]"
     ]
    },
    {
     "name": "stdout",
     "output_type": "stream",
     "text": [
      "Error fetching https://www.netfirmy.cz/firma/6757-polacek-jaroslav-mudr/: 404 Client Error: Not Found for url: https://www.netfirmy.cz/firma/6757-polacek-jaroslav-mudr/\n"
     ]
    },
    {
     "name": "stderr",
     "output_type": "stream",
     "text": [
      " 31%|███       | 98/321 [07:18<04:47,  1.29s/it]"
     ]
    },
    {
     "name": "stdout",
     "output_type": "stream",
     "text": [
      "Error fetching cdzostrava.cz: Invalid URL 'cdzostrava.cz': No scheme supplied. Perhaps you meant https://cdzostrava.cz?\n",
      "Error fetching http://www.psychologcimlova.cz/uvod.html: 404 Client Error: Not Found for url: http://www.psychologcimlova.cz/uvod.html\n"
     ]
    },
    {
     "name": "stderr",
     "output_type": "stream",
     "text": [
      " 32%|███▏      | 102/321 [07:28<08:07,  2.23s/it]"
     ]
    },
    {
     "name": "stdout",
     "output_type": "stream",
     "text": [
      "Error fetching http://www.psychotera.cz/profesni_zivotopisES.htm: 404 Client Error: Not Found for url: https://psychotera.cz/profesni_zivotopisES.htm\n"
     ]
    },
    {
     "name": "stderr",
     "output_type": "stream",
     "text": [
      " 33%|███▎      | 105/321 [07:35<09:29,  2.64s/it]"
     ]
    },
    {
     "name": "stdout",
     "output_type": "stream",
     "text": [
      "Error fetching amit.rt@tiscali.cz: Invalid URL 'amit.rt@tiscali.cz': No scheme supplied. Perhaps you meant https://amit.rt@tiscali.cz?\n"
     ]
    },
    {
     "name": "stderr",
     "output_type": "stream",
     "text": [
      " 34%|███▎      | 108/321 [07:42<09:09,  2.58s/it]"
     ]
    },
    {
     "name": "stdout",
     "output_type": "stream",
     "text": [
      "Error fetching http://www.nemdac.cz/ambulance/psychiatricka-ambulance/: 404 Client Error: Not Found for url: https://www.nemdac.cz/ambulance/psychiatricka-ambulance/\n"
     ]
    },
    {
     "name": "stderr",
     "output_type": "stream",
     "text": [
      " 34%|███▍      | 109/321 [07:45<09:00,  2.55s/it]"
     ]
    },
    {
     "name": "stdout",
     "output_type": "stream",
     "text": [
      "Error fetching https://saintmedical.cz/klinicka-psychologie: 404 Client Error: Not Found for url: https://saintmedical.cz/klinicka-psychologie\n"
     ]
    },
    {
     "name": "stderr",
     "output_type": "stream",
     "text": [
      " 35%|███▍      | 111/321 [08:42<59:33, 17.02s/it]"
     ]
    },
    {
     "name": "stdout",
     "output_type": "stream",
     "text": [
      "Error fetching hudlicka@fokus-praha.cz: Invalid URL 'hudlicka@fokus-praha.cz': No scheme supplied. Perhaps you meant https://hudlicka@fokus-praha.cz?\n"
     ]
    },
    {
     "name": "stderr",
     "output_type": "stream",
     "text": [
      " 36%|███▌      | 114/321 [08:44<26:35,  7.71s/it]"
     ]
    },
    {
     "name": "stdout",
     "output_type": "stream",
     "text": [
      "Error fetching https://www.krebul.cz/obcanska-poradna: ('Connection aborted.', RemoteDisconnected('Remote end closed connection without response'))\n",
      "Error fetching nem-tr.cz/cze/ambulance/klinicky-psycholog/: Invalid URL 'nem-tr.cz/cze/ambulance/klinicky-psycholog/': No scheme supplied. Perhaps you meant https://nem-tr.cz/cze/ambulance/klinicky-psycholog/?\n",
      "Error fetching terapie-poradenstvi.wz.cz: Invalid URL 'terapie-poradenstvi.wz.cz': No scheme supplied. Perhaps you meant https://terapie-poradenstvi.wz.cz?\n"
     ]
    },
    {
     "name": "stderr",
     "output_type": "stream",
     "text": [
      " 37%|███▋      | 119/321 [08:53<12:32,  3.73s/it]"
     ]
    },
    {
     "name": "stdout",
     "output_type": "stream",
     "text": [
      "Error fetching http://www.unko.cz: 403 Client Error: Forbidden for url: https://www.unko.cz/\n"
     ]
    },
    {
     "name": "stderr",
     "output_type": "stream",
     "text": [
      " 38%|███▊      | 122/321 [08:56<07:07,  2.15s/it]"
     ]
    },
    {
     "name": "stdout",
     "output_type": "stream",
     "text": [
      "Error fetching https://pardubice.nempk.cz/: HTTPSConnectionPool(host='pardubice.nempk.cz', port=443): Max retries exceeded with url: / (Caused by SSLError(SSLCertVerificationError(1, '[SSL: CERTIFICATE_VERIFY_FAILED] certificate verify failed: unable to get local issuer certificate (_ssl.c:1002)')))\n",
      "Error fetching asistovanekontakty.cz: Invalid URL 'asistovanekontakty.cz': No scheme supplied. Perhaps you meant https://asistovanekontakty.cz?\n"
     ]
    },
    {
     "name": "stderr",
     "output_type": "stream",
     "text": [
      " 40%|███▉      | 128/321 [09:21<10:31,  3.27s/it]"
     ]
    },
    {
     "name": "stdout",
     "output_type": "stream",
     "text": [
      "Error fetching https://www.sance.chrudim.cz: HTTPSConnectionPool(host='www.sance.chrudim.cz', port=443): Max retries exceeded with url: / (Caused by SSLError(SSLError(1, '[SSL: DH_KEY_TOO_SMALL] dh key too small (_ssl.c:1002)')))\n",
      "Error fetching http://ppp3a9.cz/: HTTPConnectionPool(host='ppp3a9.cz', port=80): Max retries exceeded with url: / (Caused by NewConnectionError('<urllib3.connection.HTTPConnection object at 0x174814f90>: Failed to establish a new connection: [Errno 8] nodename nor servname provided, or not known'))\n"
     ]
    },
    {
     "name": "stderr",
     "output_type": "stream",
     "text": [
      " 41%|████      | 132/321 [09:29<07:56,  2.52s/it]"
     ]
    },
    {
     "name": "stdout",
     "output_type": "stream",
     "text": [
      "Error fetching http://hb.charita.cz/nabizene-sluzby/sluzby-socialni/nizkoprahovy-klub-ban/: 404 Client Error: Not Found for url: https://hb.charita.cz/nabizene-sluzby/sluzby-socialni/nizkoprahovy-klub-ban/\n"
     ]
    },
    {
     "name": "stderr",
     "output_type": "stream",
     "text": [
      " 42%|████▏     | 134/321 [09:35<08:40,  2.78s/it]"
     ]
    },
    {
     "name": "stdout",
     "output_type": "stream",
     "text": [
      "Error fetching https://www.psychiatrietrebic.cz: HTTPSConnectionPool(host='www.psychiatrietrebic.cz', port=443): Max retries exceeded with url: / (Caused by NewConnectionError('<urllib3.connection.HTTPSConnection object at 0x173fc8950>: Failed to establish a new connection: [Errno 8] nodename nor servname provided, or not known'))\n"
     ]
    },
    {
     "name": "stderr",
     "output_type": "stream",
     "text": [
      " 42%|████▏     | 136/321 [09:38<06:46,  2.20s/it]"
     ]
    },
    {
     "name": "stdout",
     "output_type": "stream",
     "text": [
      "Error fetching https://www.ekatalog.cz/firma/265781-honova-marcela-mudr/: 404 Client Error: Not Found for url: https://www.ekatalog.cz/firma/265781-honova-marcela-mudr/\n"
     ]
    },
    {
     "name": "stderr",
     "output_type": "stream",
     "text": [
      " 43%|████▎     | 137/321 [09:44<09:39,  3.15s/it]"
     ]
    },
    {
     "name": "stdout",
     "output_type": "stream",
     "text": [
      "Error fetching https://www.css-ostrava.cz/sluzba/krizove-centrum-pro-deti-a-rodinu/: 404 Client Error: Not Found for url: https://css-ostrava.cz/sluzba/krizove-centrum-pro-deti-a-rodinu\n"
     ]
    },
    {
     "name": "stderr",
     "output_type": "stream",
     "text": [
      " 44%|████▍     | 141/321 [09:50<05:14,  1.75s/it]"
     ]
    },
    {
     "name": "stdout",
     "output_type": "stream",
     "text": [
      "Error fetching http://www.riaps.cz/cdz/: 403 Client Error: Forbidden for url: http://www.riaps.cz/cdz/\n",
      "Error fetching http://www.aura-psycholog.cz/: 403 Client Error: Forbidden for url: http://www.aura-psycholog.cz/\n"
     ]
    },
    {
     "name": "stderr",
     "output_type": "stream",
     "text": [
      " 44%|████▍     | 142/321 [09:51<04:22,  1.47s/it]"
     ]
    },
    {
     "name": "stdout",
     "output_type": "stream",
     "text": [
      "Error fetching http://www.janhaase.cz/index.php: 503 Server Error: Service Temporarily Unavailable for url: http://www.janhaase.cz/index.php\n"
     ]
    },
    {
     "name": "stderr",
     "output_type": "stream",
     "text": [
      " 45%|████▍     | 143/321 [10:02<11:14,  3.79s/it]"
     ]
    },
    {
     "name": "stdout",
     "output_type": "stream",
     "text": [
      "Error fetching http://www.neuropsychiatriehk.cz/lipky: 404 Client Error: Not Found for url: http://neuropsychiatriehk.cz/lipky\n"
     ]
    },
    {
     "name": "stderr",
     "output_type": "stream",
     "text": [
      " 45%|████▌     | 145/321 [10:05<07:49,  2.67s/it]"
     ]
    },
    {
     "name": "stdout",
     "output_type": "stream",
     "text": [
      "Error fetching https://www.opava.eurotopia.cz: HTTPSConnectionPool(host='www.opava.eurotopia.cz', port=443): Max retries exceeded with url: / (Caused by SSLError(CertificateError(\"hostname 'www.opava.eurotopia.cz' doesn't match 'm137.server4u.cz'\")))\n",
      "Error fetching https://www.vidacr.cz: HTTPSConnectionPool(host='www.vidacr.cz', port=443): Max retries exceeded with url: / (Caused by NewConnectionError('<urllib3.connection.HTTPSConnection object at 0x173ca2fd0>: Failed to establish a new connection: [Errno 61] Connection refused'))\n"
     ]
    },
    {
     "name": "stderr",
     "output_type": "stream",
     "text": [
      " 45%|████▌     | 146/321 [10:08<08:24,  2.88s/it]"
     ]
    },
    {
     "name": "stdout",
     "output_type": "stream",
     "text": [
      "Error fetching https://www.tempericb.cz: HTTPSConnectionPool(host='www.tempericb.cz', port=443): Max retries exceeded with url: / (Caused by NewConnectionError('<urllib3.connection.HTTPSConnection object at 0x173ca3490>: Failed to establish a new connection: [Errno 61] Connection refused'))\n"
     ]
    },
    {
     "name": "stderr",
     "output_type": "stream",
     "text": [
      " 46%|████▌     | 148/321 [10:11<06:25,  2.23s/it]"
     ]
    },
    {
     "name": "stdout",
     "output_type": "stream",
     "text": [
      "Error fetching http://www.unko.cz/: 403 Client Error: Forbidden for url: https://www.unko.cz/\n",
      "Error fetching http:// www.psycholog-sro.cz: HTTPConnectionPool(host='%20www.psycholog-sro.cz', port=80): Max retries exceeded with url: / (Caused by NewConnectionError('<urllib3.connection.HTTPConnection object at 0x173f745d0>: Failed to establish a new connection: [Errno 8] nodename nor servname provided, or not known'))\n",
      "Error fetching https://ordinace-thamova.webnode.https//www.psychologpraha.cz/cz/: HTTPSConnectionPool(host='ordinace-thamova.webnode.https', port=443): Max retries exceeded with url: //www.psychologpraha.cz/cz/ (Caused by NewConnectionError('<urllib3.connection.HTTPSConnection object at 0x173f74b90>: Failed to establish a new connection: [Errno 8] nodename nor servname provided, or not known'))\n"
     ]
    },
    {
     "name": "stderr",
     "output_type": "stream",
     "text": [
      " 48%|████▊     | 154/321 [10:20<04:50,  1.74s/it]"
     ]
    },
    {
     "name": "stdout",
     "output_type": "stream",
     "text": [
      "Error fetching https://fokus-praha.cz/cz/pomahame/centrum-podskali/cdz-podskali: 404 Client Error: Not Found for url: https://fokus-praha.cz/cz/pomahame/centrum-podskali/cdz-podskali\n",
      "Error fetching http://www.dopravni-psychologicke-pracovist.webnode.cz/: 404 Client Error: Not Found for url: http://www.dopravni-psychologicke-pracovist.webnode.cz/\n"
     ]
    },
    {
     "name": "stderr",
     "output_type": "stream",
     "text": [
      " 49%|████▉     | 157/321 [10:23<03:43,  1.36s/it]"
     ]
    },
    {
     "name": "stdout",
     "output_type": "stream",
     "text": [
      "Error fetching https://www.clovekvtisni.cz/cs/socialni-prace/pobocka/karlovy-vary: HTTPSConnectionPool(host='www.clovekvtisni.cz', port=443): Max retries exceeded with url: /cs/socialni-prace/pobocka/karlovy-vary (Caused by SSLError(SSLCertVerificationError(1, '[SSL: CERTIFICATE_VERIFY_FAILED] certificate verify failed: unable to get local issuer certificate (_ssl.c:1002)')))\n"
     ]
    },
    {
     "name": "stderr",
     "output_type": "stream",
     "text": [
      " 49%|████▉     | 158/321 [10:26<04:50,  1.78s/it]"
     ]
    },
    {
     "name": "stdout",
     "output_type": "stream",
     "text": [
      "Error fetching https://ordinace-thamova.webnode.cz/: 404 Client Error: Not Found for url: https://ordinace-thamova.webnode.cz/\n"
     ]
    },
    {
     "name": "stderr",
     "output_type": "stream",
     "text": [
      " 50%|████▉     | 160/321 [10:29<04:13,  1.57s/it]"
     ]
    },
    {
     "name": "stdout",
     "output_type": "stream",
     "text": [
      "Error fetching http://www.fenix-centrum.cz/centrum-dusevniho-zdravi: 404 Client Error: Not Found for url: https://www.fenix-centrum.cz/centrum-dusevniho-zdravi/\n",
      "Error fetching http://www.psychologiezlin.eu/: 403 Client Error: Forbidden for url: http://www.psychologiezlin.eu/\n"
     ]
    },
    {
     "name": "stderr",
     "output_type": "stream",
     "text": [
      " 50%|█████     | 162/321 [10:33<04:17,  1.62s/it]"
     ]
    },
    {
     "name": "stdout",
     "output_type": "stream",
     "text": [
      "Error fetching charita-most.cz: Invalid URL 'charita-most.cz': No scheme supplied. Perhaps you meant https://charita-most.cz?\n",
      "Error fetching psychoterapiehradeckralove.cz: Invalid URL 'psychoterapiehradeckralove.cz': No scheme supplied. Perhaps you meant https://psychoterapiehradeckralove.cz?\n"
     ]
    },
    {
     "name": "stderr",
     "output_type": "stream",
     "text": [
      " 52%|█████▏    | 166/321 [10:36<02:53,  1.12s/it]"
     ]
    },
    {
     "name": "stdout",
     "output_type": "stream",
     "text": [
      "Error fetching https://www.milicak.cz: HTTPSConnectionPool(host='www.milicak.cz', port=443): Max retries exceeded with url: / (Caused by SSLError(CertificateError(\"hostname 'www.milicak.cz' doesn't match either of '*.default.cz', 'default.cz'\")))\n"
     ]
    },
    {
     "name": "stderr",
     "output_type": "stream",
     "text": [
      " 52%|█████▏    | 167/321 [10:42<05:40,  2.21s/it]"
     ]
    },
    {
     "name": "stdout",
     "output_type": "stream",
     "text": [
      "Error fetching https://www.fokus-praha.cz/cz/pomahame/centrum-brevnov/cdz6#prvni-navsteva: 404 Client Error: Not Found for url: https://fokus-praha.cz/cz/pomahame/centrum-brevnov/cdz6#prvni-navsteva\n"
     ]
    },
    {
     "name": "stderr",
     "output_type": "stream",
     "text": [
      " 52%|█████▏    | 168/321 [10:44<05:28,  2.15s/it]"
     ]
    },
    {
     "name": "stdout",
     "output_type": "stream",
     "text": [
      "Error fetching https://www.pppbrno.cz/cs/: 403 Client Error: Forbidden for url: https://www.pppbrno.cz/cs/\n"
     ]
    },
    {
     "name": "stderr",
     "output_type": "stream",
     "text": [
      " 53%|█████▎    | 169/321 [10:47<05:53,  2.32s/it]"
     ]
    },
    {
     "name": "stdout",
     "output_type": "stream",
     "text": [
      "Error fetching https://www.romanojasnica.webnode.cz: HTTPSConnectionPool(host='www.romanojasnica.webnode.cz', port=443): Max retries exceeded with url: / (Caused by SSLError(CertificateError(\"hostname 'www.romanojasnica.webnode.cz' doesn't match either of '*.cms.webnode.cz', '*.preview.webnode.cz', '*.static.webnode.cz', '*.user.webnode.cz', '*.webnode.cz', 'webnode.cz'\")))\n"
     ]
    },
    {
     "name": "stderr",
     "output_type": "stream",
     "text": [
      " 55%|█████▍    | 176/321 [11:10<08:26,  3.49s/it]"
     ]
    },
    {
     "name": "stdout",
     "output_type": "stream",
     "text": [
      "Error fetching tvuj-terapeut.cz: Invalid URL 'tvuj-terapeut.cz': No scheme supplied. Perhaps you meant https://tvuj-terapeut.cz?\n"
     ]
    },
    {
     "name": "stderr",
     "output_type": "stream",
     "text": [
      " 55%|█████▌    | 178/321 [11:15<07:07,  2.99s/it]"
     ]
    },
    {
     "name": "stdout",
     "output_type": "stream",
     "text": [
      "Error fetching https://www.skolskykomplex.cz/g-jgm/: 404 Client Error: Not Found for url: https://www.skolskykomplex.cz/g-jgm/\n"
     ]
    },
    {
     "name": "stderr",
     "output_type": "stream",
     "text": [
      " 56%|█████▌    | 180/321 [11:19<06:20,  2.70s/it]"
     ]
    },
    {
     "name": "stdout",
     "output_type": "stream",
     "text": [
      "Error fetching https://www.anabell.cz: HTTPSConnectionPool(host='www.anabell.cz', port=443): Max retries exceeded with url: / (Caused by SSLError(CertificateError(\"hostname 'www.anabell.cz' doesn't match either of '*.savana-hosting.cz', 'savana-hosting.cz'\")))\n"
     ]
    },
    {
     "name": "stderr",
     "output_type": "stream",
     "text": [
      " 58%|█████▊    | 185/321 [11:33<05:41,  2.51s/it]"
     ]
    },
    {
     "name": "stdout",
     "output_type": "stream",
     "text": [
      "Error fetching https://komunitnikostel.cz/husita: 404 Client Error: Not Found for url: https://komunitnikostel.cz/husita\n",
      "Error fetching ceska.spolecnost@telecom.cz: Invalid URL 'ceska.spolecnost@telecom.cz': No scheme supplied. Perhaps you meant https://ceska.spolecnost@telecom.cz?\n"
     ]
    },
    {
     "name": "stderr",
     "output_type": "stream",
     "text": [
      " 59%|█████▉    | 189/321 [11:44<05:50,  2.66s/it]"
     ]
    },
    {
     "name": "stdout",
     "output_type": "stream",
     "text": [
      "Error fetching nzdm@milicak.cz: Invalid URL 'nzdm@milicak.cz': No scheme supplied. Perhaps you meant https://nzdm@milicak.cz?\n"
     ]
    },
    {
     "name": "stderr",
     "output_type": "stream",
     "text": [
      " 60%|█████▉    | 191/321 [11:47<04:49,  2.23s/it]"
     ]
    },
    {
     "name": "stdout",
     "output_type": "stream",
     "text": [
      "Error fetching https://www.psycholog-jesenik.cz/: 403 Client Error: Forbidden for url: https://www.psycholog-jesenik.cz/\n"
     ]
    },
    {
     "name": "stderr",
     "output_type": "stream",
     "text": [
      " 61%|██████    | 196/321 [11:56<03:25,  1.64s/it]"
     ]
    },
    {
     "name": "stdout",
     "output_type": "stream",
     "text": [
      "Error fetching http://ww.poliklinika-hb.cz/126-mudr-zemanov: 404 Client Error: Not Found for url: http://ww.poliklinika-hb.cz/126-mudr-zemanov\n"
     ]
    },
    {
     "name": "stderr",
     "output_type": "stream",
     "text": [
      " 63%|██████▎   | 202/321 [13:23<47:17, 23.84s/it]"
     ]
    },
    {
     "name": "stdout",
     "output_type": "stream",
     "text": [
      "Error fetching https://murgasova.cz/: HTTPSConnectionPool(host='murgasova.cz', port=443): Max retries exceeded with url: / (Caused by ConnectTimeoutError(<urllib3.connection.HTTPSConnection object at 0x1748621d0>, 'Connection to murgasova.cz timed out. (connect timeout=None)'))\n",
      "Error fetching http://www.riaps.cz: 403 Client Error: Forbidden for url: http://www.riaps.cz/\n",
      "Error fetching v.burianek@centrum.cz: Invalid URL 'v.burianek@centrum.cz': No scheme supplied. Perhaps you meant https://v.burianek@centrum.cz?\n"
     ]
    },
    {
     "name": "stderr",
     "output_type": "stream",
     "text": [
      " 65%|██████▌   | 209/321 [13:35<11:07,  5.96s/it]"
     ]
    },
    {
     "name": "stdout",
     "output_type": "stream",
     "text": [
      "Error fetching https://mudrslanina.webnode.cz/_files/200000069-75c1e75c20/Medajlonek%20Hanzlovsk%C3%BD.pdf: 404 Client Error: Not Found for url: https://mudrslanina.webnode.cz/_files/200000069-75c1e75c20/Medajlonek%20Hanzlovsk%C3%BD.pdf\n"
     ]
    },
    {
     "name": "stderr",
     "output_type": "stream",
     "text": [
      " 66%|██████▋   | 213/321 [13:41<04:56,  2.75s/it]"
     ]
    },
    {
     "name": "stdout",
     "output_type": "stream",
     "text": [
      "Error fetching https://pllnare.cz/ambulance: 403 Client Error: Forbidden for url: https://pllnare.cz/ambulance\n",
      "Error fetching klubbarka.estranky.cz: Invalid URL 'klubbarka.estranky.cz': No scheme supplied. Perhaps you meant https://klubbarka.estranky.cz?\n",
      "Error fetching sojka@hbnet.cz: Invalid URL 'sojka@hbnet.cz': No scheme supplied. Perhaps you meant https://sojka@hbnet.cz?\n"
     ]
    },
    {
     "name": "stderr",
     "output_type": "stream",
     "text": [
      " 67%|██████▋   | 216/321 [13:41<02:14,  1.28s/it]"
     ]
    },
    {
     "name": "stdout",
     "output_type": "stream",
     "text": [
      "Error fetching rovnovaha.ostrava@seznam.cz: Invalid URL 'rovnovaha.ostrava@seznam.cz': No scheme supplied. Perhaps you meant https://rovnovaha.ostrava@seznam.cz?\n"
     ]
    },
    {
     "name": "stderr",
     "output_type": "stream",
     "text": [
      " 69%|██████▉   | 221/321 [13:59<04:37,  2.77s/it]"
     ]
    },
    {
     "name": "stdout",
     "output_type": "stream",
     "text": [
      "Error fetching https://www.prosapia-zu.cz: HTTPSConnectionPool(host='www.prosapia-zu.cz', port=443): Max retries exceeded with url: / (Caused by SSLError(CertificateError(\"hostname 'www.prosapia-zu.cz' doesn't match either of '*.savana-hosting.cz', 'savana-hosting.cz'\")))\n"
     ]
    },
    {
     "name": "stderr",
     "output_type": "stream",
     "text": [
      " 70%|███████   | 225/321 [14:17<05:48,  3.63s/it]"
     ]
    },
    {
     "name": "stdout",
     "output_type": "stream",
     "text": [
      "Error fetching https://www.kamin.klubexit.cz: HTTPSConnectionPool(host='www.kamin.klubexit.cz', port=443): Max retries exceeded with url: / (Caused by SSLError(CertificateError(\"hostname 'www.kamin.klubexit.cz' doesn't match either of '*.profiwh.com', 'profiwh.com'\")))\n"
     ]
    },
    {
     "name": "stderr",
     "output_type": "stream",
     "text": [
      " 71%|███████   | 227/321 [14:23<05:07,  3.27s/it]"
     ]
    },
    {
     "name": "stdout",
     "output_type": "stream",
     "text": [
      "Error fetching https://www.clovekvtisni.cz/bilina: HTTPSConnectionPool(host='www.clovekvtisni.cz', port=443): Max retries exceeded with url: /bilina (Caused by SSLError(SSLCertVerificationError(1, '[SSL: CERTIFICATE_VERIFY_FAILED] certificate verify failed: unable to get local issuer certificate (_ssl.c:1002)')))\n",
      "Error fetching https://www.jiskraduse.cz: HTTPSConnectionPool(host='www.jiskraduse.cz', port=443): Max retries exceeded with url: / (Caused by NewConnectionError('<urllib3.connection.HTTPSConnection object at 0x116ed1ed0>: Failed to establish a new connection: [Errno 8] nodename nor servname provided, or not known'))\n"
     ]
    },
    {
     "name": "stderr",
     "output_type": "stream",
     "text": [
      " 72%|███████▏  | 230/321 [14:32<04:42,  3.10s/it]"
     ]
    },
    {
     "name": "stdout",
     "output_type": "stream",
     "text": [
      "Error fetching https://www.psychiatrie-konupcikova.cz: HTTPSConnectionPool(host='www.psychiatrie-konupcikova.cz', port=443): Max retries exceeded with url: / (Caused by SSLError(SSLCertVerificationError(1, '[SSL: CERTIFICATE_VERIFY_FAILED] certificate verify failed: certificate has expired (_ssl.c:1002)')))\n"
     ]
    },
    {
     "name": "stderr",
     "output_type": "stream",
     "text": [
      " 73%|███████▎  | 233/321 [14:43<05:01,  3.43s/it]"
     ]
    },
    {
     "name": "stdout",
     "output_type": "stream",
     "text": [
      "Error fetching http://www.clovekvtisni.cz/plzen: HTTPSConnectionPool(host='www.clovekvtisni.cz', port=443): Max retries exceeded with url: /plzen (Caused by SSLError(SSLCertVerificationError(1, '[SSL: CERTIFICATE_VERIFY_FAILED] certificate verify failed: unable to get local issuer certificate (_ssl.c:1002)')))\n"
     ]
    },
    {
     "name": "stderr",
     "output_type": "stream",
     "text": [
      " 73%|███████▎  | 234/321 [14:51<06:52,  4.75s/it]"
     ]
    },
    {
     "name": "stdout",
     "output_type": "stream",
     "text": [
      "Error fetching http://www.psychologickapraxe-krnov.cz/: HTTPConnectionPool(host='www.psychologickapraxe-krnov.cz', port=80): Max retries exceeded with url: / (Caused by NewConnectionError('<urllib3.connection.HTTPConnection object at 0x17391dfd0>: Failed to establish a new connection: [Errno 8] nodename nor servname provided, or not known'))\n"
     ]
    },
    {
     "name": "stderr",
     "output_type": "stream",
     "text": [
      " 74%|███████▍  | 239/321 [15:15<07:20,  5.38s/it]"
     ]
    },
    {
     "name": "stdout",
     "output_type": "stream",
     "text": [
      "Error fetching https://silviebartosova.www3.cz: HTTPSConnectionPool(host='silviebartosova.www3.cz', port=443): Max retries exceeded with url: / (Caused by NewConnectionError('<urllib3.connection.HTTPSConnection object at 0x173b766d0>: Failed to establish a new connection: [Errno 51] Network is unreachable'))\n"
     ]
    },
    {
     "name": "stderr",
     "output_type": "stream",
     "text": [
      " 75%|███████▍  | 240/321 [15:17<05:56,  4.40s/it]"
     ]
    },
    {
     "name": "stdout",
     "output_type": "stream",
     "text": [
      "Error fetching http://www.opava.eurotopia.cz/index-caravan.php: 404 Client Error: Not Found for url: http://www.opava.eurotopia.cz/index-caravan.php\n",
      "Error fetching http://www.riaps.cz/ambulance: 403 Client Error: Forbidden for url: http://www.riaps.cz/ambulance\n"
     ]
    },
    {
     "name": "stderr",
     "output_type": "stream",
     "text": [
      " 76%|███████▌  | 243/321 [15:24<04:13,  3.25s/it]"
     ]
    },
    {
     "name": "stdout",
     "output_type": "stream",
     "text": [
      "Error fetching https://nemji.cz/vismo/o_utvar.asp?id_org=427000&id_u=1019&tzv=2&p1=1154: 404 Client Error: Not Found for url: https://www.nemji.cz/vismo/o_utvar.asp?id_org=427000&id_u=1019&tzv=2&p1=1154\n"
     ]
    },
    {
     "name": "stderr",
     "output_type": "stream",
     "text": [
      " 77%|███████▋  | 246/321 [15:26<02:24,  1.93s/it]"
     ]
    },
    {
     "name": "stdout",
     "output_type": "stream",
     "text": [
      "Error fetching https://www.ekatalog.cz/firma/268148-mudr-vlasta-hoskova-psychiatrie/: 404 Client Error: Not Found for url: https://www.ekatalog.cz/firma/268148-mudr-vlasta-hoskova-psychiatrie/\n",
      "Error fetching http:// www.psychamb.cz: 400 Client Error: Bad Request for url: http://%20www.psychamb.cz/\n"
     ]
    },
    {
     "name": "stderr",
     "output_type": "stream",
     "text": [
      " 78%|███████▊  | 249/321 [15:32<02:20,  1.95s/it]"
     ]
    },
    {
     "name": "stdout",
     "output_type": "stream",
     "text": [
      "Error fetching https://www.clovekvtisni.cz/co-delame/socialni-prace-v-cr/plzensky-kraj: HTTPSConnectionPool(host='www.clovekvtisni.cz', port=443): Max retries exceeded with url: /co-delame/socialni-prace-v-cr/plzensky-kraj (Caused by SSLError(SSLCertVerificationError(1, '[SSL: CERTIFICATE_VERIFY_FAILED] certificate verify failed: unable to get local issuer certificate (_ssl.c:1002)')))\n"
     ]
    },
    {
     "name": "stderr",
     "output_type": "stream",
     "text": [
      " 79%|███████▉  | 254/321 [15:47<02:54,  2.60s/it]"
     ]
    },
    {
     "name": "stdout",
     "output_type": "stream",
     "text": [
      "Error fetching https://psycholog-iva-gregorova.business.site/: 404 Client Error: Not Found for url: https://psycholog-iva-gregorova.business.site/\n"
     ]
    },
    {
     "name": "stderr",
     "output_type": "stream",
     "text": [
      " 80%|████████  | 258/321 [15:53<01:47,  1.70s/it]"
     ]
    },
    {
     "name": "stdout",
     "output_type": "stream",
     "text": [
      "Error fetching https://www.pnkosmonosy.cz/cdz.html: 404 Client Error: Not Found for url: https://www.pnkosmonosy.cz/cdz.html\n",
      "Error fetching https://www.homolka.cz/: 403 Client Error: Forbidden for url: https://www.homolka.cz/\n"
     ]
    },
    {
     "name": "stderr",
     "output_type": "stream",
     "text": [
      " 81%|████████  | 259/321 [15:56<02:06,  2.03s/it]"
     ]
    },
    {
     "name": "stdout",
     "output_type": "stream",
     "text": [
      "Error fetching https://www.psycholozkazpatehopatra.cz: 403 Client Error: Forbidden for url: https://www.psycholozkazpatehopatra.cz/\n"
     ]
    },
    {
     "name": "stderr",
     "output_type": "stream",
     "text": [
      " 81%|████████▏ | 261/321 [16:00<01:43,  1.72s/it]"
     ]
    },
    {
     "name": "stdout",
     "output_type": "stream",
     "text": [
      "Error fetching https://psycholog-domazlice.cz/: 403 Client Error: Forbidden for url: https://psycholog-domazlice.cz/\n"
     ]
    },
    {
     "name": "stderr",
     "output_type": "stream",
     "text": [
      " 82%|████████▏ | 263/321 [16:05<02:14,  2.31s/it]"
     ]
    },
    {
     "name": "stdout",
     "output_type": "stream",
     "text": [
      "Error fetching onhb.cz/Article.asp?nDepartmentID=256&nArticleID=341&nLanguageID=1: Invalid URL 'onhb.cz/Article.asp?nDepartmentID=256&nArticleID=341&nLanguageID=1': No scheme supplied. Perhaps you meant https://onhb.cz/Article.asp?nDepartmentID=256&nArticleID=341&nLanguageID=1?\n"
     ]
    },
    {
     "name": "stderr",
     "output_type": "stream",
     "text": [
      " 83%|████████▎ | 266/321 [16:11<01:56,  2.11s/it]"
     ]
    },
    {
     "name": "stdout",
     "output_type": "stream",
     "text": [
      "Error fetching https://www.fokuslabe.cz/centra-dusevniho-zdravi/centrum-dusevniho-zdravi-usti-nad-labem/: 404 Client Error: Not Found for url: https://www.fokuslabe.cz/centra-dusevniho-zdravi/centrum-dusevniho-zdravi-usti-nad-labem/\n"
     ]
    },
    {
     "name": "stderr",
     "output_type": "stream",
     "text": [
      " 83%|████████▎ | 268/321 [16:16<01:51,  2.11s/it]"
     ]
    },
    {
     "name": "stdout",
     "output_type": "stream",
     "text": [
      "Error fetching https://www.psychocentrum.cz/pracoviste-havlickuv-brod: 404 Client Error: Not Found for url: https://www.psychocentrum.cz/pracoviste-havlickuv-brod\n",
      "Error fetching mb-psychoterapie.cz: Invalid URL 'mb-psychoterapie.cz': No scheme supplied. Perhaps you meant https://mb-psychoterapie.cz?\n"
     ]
    },
    {
     "name": "stderr",
     "output_type": "stream",
     "text": [
      " 84%|████████▍ | 271/321 [16:20<01:18,  1.57s/it]"
     ]
    },
    {
     "name": "stdout",
     "output_type": "stream",
     "text": [
      "Error fetching psyche-centrum.cz: Invalid URL 'psyche-centrum.cz': No scheme supplied. Perhaps you meant https://psyche-centrum.cz?\n"
     ]
    },
    {
     "name": "stderr",
     "output_type": "stream",
     "text": [
      " 85%|████████▌ | 273/321 [16:20<00:47,  1.01it/s]"
     ]
    },
    {
     "name": "stdout",
     "output_type": "stream",
     "text": [
      "Error fetching https://www.psychocentrum.cz/pracoviste-jihlava: 404 Client Error: Not Found for url: https://www.psychocentrum.cz/pracoviste-jihlava\n"
     ]
    },
    {
     "name": "stderr",
     "output_type": "stream",
     "text": [
      " 85%|████████▌ | 274/321 [16:23<01:06,  1.42s/it]"
     ]
    },
    {
     "name": "stdout",
     "output_type": "stream",
     "text": [
      "Error fetching https://www.magdalena-ops.eu: HTTPSConnectionPool(host='www.magdalena-ops.eu', port=443): Max retries exceeded with url: / (Caused by SSLError(CertificateError(\"hostname 'www.magdalena-ops.eu' doesn't match either of '*.webglobe.com', 'webglobe.com'\")))\n"
     ]
    },
    {
     "name": "stderr",
     "output_type": "stream",
     "text": [
      " 86%|████████▌ | 275/321 [16:27<01:36,  2.09s/it]"
     ]
    },
    {
     "name": "stdout",
     "output_type": "stream",
     "text": [
      "Error fetching http://www.prah-brno.cz/novinky/2-uncategorised/63-odborne-socialni-poradenstvi: 404 Client Error: Not Found for url: https://www.prahjm.cz/novinky/2-uncategorised/63-odborne-socialni-poradenstvi\n"
     ]
    },
    {
     "name": "stderr",
     "output_type": "stream",
     "text": [
      " 86%|████████▋ | 277/321 [16:29<01:07,  1.52s/it]"
     ]
    },
    {
     "name": "stdout",
     "output_type": "stream",
     "text": [
      "Error fetching https://www.firmy.cz/detail/385148-mudr-frantisek-zahourek-pisek-budejovicke-predmesti.html: 410 Client Error: Gone for url: https://www.firmy.cz/detail/385148-mudr-frantisek-zahourek-pisek-budejovicke-predmesti.html\n"
     ]
    },
    {
     "name": "stderr",
     "output_type": "stream",
     "text": [
      " 87%|████████▋ | 278/321 [16:32<01:20,  1.87s/it]"
     ]
    },
    {
     "name": "stdout",
     "output_type": "stream",
     "text": [
      "Error fetching http://www.clovekvtisni.cz/: HTTPSConnectionPool(host='www.clovekvtisni.cz', port=443): Max retries exceeded with url: / (Caused by SSLError(SSLCertVerificationError(1, '[SSL: CERTIFICATE_VERIFY_FAILED] certificate verify failed: unable to get local issuer certificate (_ssl.c:1002)')))\n",
      "Error fetching http://www.pojmanova.cz/: HTTPConnectionPool(host='www.pojmanova.cz', port=80): Max retries exceeded with url: / (Caused by NewConnectionError('<urllib3.connection.HTTPConnection object at 0x173aa4650>: Failed to establish a new connection: [Errno 8] nodename nor servname provided, or not known'))\n",
      "Error fetching https://www.clovekvtisni.cz: HTTPSConnectionPool(host='www.clovekvtisni.cz', port=443): Max retries exceeded with url: / (Caused by SSLError(SSLCertVerificationError(1, '[SSL: CERTIFICATE_VERIFY_FAILED] certificate verify failed: unable to get local issuer certificate (_ssl.c:1002)')))\n"
     ]
    },
    {
     "name": "stderr",
     "output_type": "stream",
     "text": [
      " 88%|████████▊ | 282/321 [16:38<01:06,  1.71s/it]"
     ]
    },
    {
     "name": "stdout",
     "output_type": "stream",
     "text": [
      "Error fetching csps-hk.cz: Invalid URL 'csps-hk.cz': No scheme supplied. Perhaps you meant https://csps-hk.cz?\n",
      "Error fetching salesianiteplice.cz: Invalid URL 'salesianiteplice.cz': No scheme supplied. Perhaps you meant https://salesianiteplice.cz?\n"
     ]
    },
    {
     "name": "stderr",
     "output_type": "stream",
     "text": [
      " 89%|████████▉ | 285/321 [16:41<00:49,  1.36s/it]"
     ]
    },
    {
     "name": "stdout",
     "output_type": "stream",
     "text": [
      "Error fetching https://www.dixie.ymca.cz: HTTPSConnectionPool(host='www.dixie.ymca.cz', port=443): Max retries exceeded with url: / (Caused by SSLError(CertificateError(\"hostname 'www.dixie.ymca.cz' doesn't match either of '*.web4ce.cz', 'web4ce.cz'\")))\n",
      "Error fetching psychosomatika.info: Invalid URL 'psychosomatika.info': No scheme supplied. Perhaps you meant https://psychosomatika.info?\n",
      "Error fetching https://www.psychiatrie-hajda.cz/#utm_source=firmy.cz&utm_medium=ppd&utm_campaign=firmy.cz-13300779: HTTPSConnectionPool(host='www.psychiatrie-hajda.cz', port=443): Max retries exceeded with url: / (Caused by NewConnectionError('<urllib3.connection.HTTPSConnection object at 0x172f0f1d0>: Failed to establish a new connection: [Errno 8] nodename nor servname provided, or not known'))\n"
     ]
    },
    {
     "name": "stderr",
     "output_type": "stream",
     "text": [
      " 91%|█████████ | 292/321 [16:59<00:58,  2.02s/it]"
     ]
    },
    {
     "name": "stdout",
     "output_type": "stream",
     "text": [
      "Error fetching http://selfhelp.dinphoto.com/: 403 Client Error: Forbidden for url: http://selfhelp.dinphoto.com/\n",
      "Error fetching info@psychomost.cz: Invalid URL 'info@psychomost.cz': No scheme supplied. Perhaps you meant https://info@psychomost.cz?\n"
     ]
    },
    {
     "name": "stderr",
     "output_type": "stream",
     "text": [
      " 92%|█████████▏| 294/321 [17:03<00:50,  1.89s/it]"
     ]
    },
    {
     "name": "stdout",
     "output_type": "stream",
     "text": [
      "Error fetching http://www.ymkarium.ymca.cz: 404 Client Error: Not Found for url: http://www.ymkarium.ymca.cz/\n"
     ]
    },
    {
     "name": "stderr",
     "output_type": "stream",
     "text": [
      " 93%|█████████▎| 299/321 [17:11<00:34,  1.55s/it]"
     ]
    },
    {
     "name": "stdout",
     "output_type": "stream",
     "text": [
      "Error fetching http://www.onlinekarvina.cz/: HTTPConnectionPool(host='www.onlinekarvina.cz', port=80): Max retries exceeded with url: / (Caused by NewConnectionError('<urllib3.connection.HTTPConnection object at 0x174226c50>: Failed to establish a new connection: [Errno 8] nodename nor servname provided, or not known'))\n"
     ]
    },
    {
     "name": "stderr",
     "output_type": "stream",
     "text": [
      " 94%|█████████▍| 301/321 [17:15<00:34,  1.74s/it]"
     ]
    },
    {
     "name": "stdout",
     "output_type": "stream",
     "text": [
      "Error fetching http://pivecka-ops.cz/?page_id=1948: 404 Client Error: Not Found for url: https://pivecka-ops.cz/?page_id=1948\n"
     ]
    },
    {
     "name": "stderr",
     "output_type": "stream",
     "text": [
      " 94%|█████████▍| 303/321 [17:24<00:50,  2.80s/it]"
     ]
    },
    {
     "name": "stdout",
     "output_type": "stream",
     "text": [
      "Error fetching mdrdova@spzkolobezka.cz: Invalid URL 'mdrdova@spzkolobezka.cz': No scheme supplied. Perhaps you meant https://mdrdova@spzkolobezka.cz?\n"
     ]
    },
    {
     "name": "stderr",
     "output_type": "stream",
     "text": [
      " 95%|█████████▌| 305/321 [17:30<00:46,  2.91s/it]"
     ]
    },
    {
     "name": "stdout",
     "output_type": "stream",
     "text": [
      "Error fetching http://www.educozatec.cz/: HTTPConnectionPool(host='www.educozatec.cz', port=80): Max retries exceeded with url: / (Caused by NewConnectionError('<urllib3.connection.HTTPConnection object at 0x17467ebd0>: Failed to establish a new connection: [Errno 8] nodename nor servname provided, or not known'))\n"
     ]
    },
    {
     "name": "stderr",
     "output_type": "stream",
     "text": [
      " 96%|█████████▌| 307/321 [17:34<00:36,  2.62s/it]"
     ]
    },
    {
     "name": "stdout",
     "output_type": "stream",
     "text": [
      "Error fetching proximity.unas.cz: Invalid URL 'proximity.unas.cz': No scheme supplied. Perhaps you meant https://proximity.unas.cz?\n"
     ]
    },
    {
     "name": "stderr",
     "output_type": "stream",
     "text": [
      " 97%|█████████▋| 310/321 [17:41<00:27,  2.46s/it]"
     ]
    },
    {
     "name": "stdout",
     "output_type": "stream",
     "text": [
      "Error fetching https://www.jekhetane.cz: HTTPSConnectionPool(host='www.jekhetane.cz', port=443): Max retries exceeded with url: / (Caused by SSLError(SSLCertVerificationError(1, '[SSL: CERTIFICATE_VERIFY_FAILED] certificate verify failed: certificate has expired (_ssl.c:1002)')))\n",
      "Error fetching misa.zapletalova@tiscali.cz: Invalid URL 'misa.zapletalova@tiscali.cz': No scheme supplied. Perhaps you meant https://misa.zapletalova@tiscali.cz?\n"
     ]
    },
    {
     "name": "stderr",
     "output_type": "stream",
     "text": [
      " 98%|█████████▊| 313/321 [17:44<00:15,  1.97s/it]"
     ]
    },
    {
     "name": "stdout",
     "output_type": "stream",
     "text": [
      "Error fetching http://www.psychomost.cz/: HTTPConnectionPool(host='www.psychomost.cz', port=80): Max retries exceeded with url: / (Caused by NewConnectionError('<urllib3.connection.HTTPConnection object at 0x1745aefd0>: Failed to establish a new connection: [Errno 8] nodename nor servname provided, or not known'))\n"
     ]
    },
    {
     "name": "stderr",
     "output_type": "stream",
     "text": [
      " 98%|█████████▊| 316/321 [17:50<00:10,  2.04s/it]"
     ]
    },
    {
     "name": "stdout",
     "output_type": "stream",
     "text": [
      "Error fetching https://www.fokuslabe.cz/centra-dusevniho-zdravi/centrum-dusevniho-zdravi-chomutov/: 404 Client Error: Not Found for url: https://www.fokuslabe.cz/centra-dusevniho-zdravi/centrum-dusevniho-zdravi-chomutov/\n"
     ]
    },
    {
     "name": "stderr",
     "output_type": "stream",
     "text": [
      " 99%|█████████▉| 319/321 [18:02<00:06,  3.13s/it]"
     ]
    },
    {
     "name": "stdout",
     "output_type": "stream",
     "text": [
      "Error fetching hrdlickova@fokus-praha.cz: Invalid URL 'hrdlickova@fokus-praha.cz': No scheme supplied. Perhaps you meant https://hrdlickova@fokus-praha.cz?\n"
     ]
    },
    {
     "name": "stderr",
     "output_type": "stream",
     "text": [
      "100%|██████████| 321/321 [18:05<00:00,  3.38s/it]"
     ]
    },
    {
     "name": "stdout",
     "output_type": "stream",
     "text": [
      "                                     nazev                       Kategorie  \\\n",
      "0                 CDZ Hradec Králové (PDZ)  CDZ - Centrum duševního zdraví   \n",
      "1                  CDZ Opava (Fokus Opava)  CDZ - Centrum duševního zdraví   \n",
      "2                        CDZ Chrudim (PDZ)  CDZ - Centrum duševního zdraví   \n",
      "3              CDZ Přerov (Duševní zdraví)  CDZ - Centrum duševního zdraví   \n",
      "4     Psychiatrická ambulance Karlovy Vary         Psychiatrická ambulance   \n",
      "...                                    ...                             ...   \n",
      "1451                           NZDM Decima           Nízkoprahové zařízení   \n",
      "1452                         NZDM Ymkárium           Nízkoprahové zařízení   \n",
      "1453                            NZDM Dixie           Nízkoprahové zařízení   \n",
      "1454               Nízkoprahový klub Orion           Nízkoprahové zařízení   \n",
      "1455              Nízkoprahový klub U-kryt           Nízkoprahové zařízení   \n",
      "\n",
      "                                                 Adresa  \\\n",
      "0     Kavčí plácek 121/1, Hradec Králové (část) 500 ...   \n",
      "1     Ostrožná 27/244, Opava 746 01, Moravskoslezský...   \n",
      "2     Městský park 828, Chrudim III (část) 537 01, P...   \n",
      "3     Kosmákova 44, Přerov, Přerov I-Město 750 02, O...   \n",
      "4     Krymská 1799/25A, Karlovy Vary 360 01, Karlova...   \n",
      "...                                                 ...   \n",
      "1451  U seřadiště 1578/1, Praha 10-Vršovice, 101 00 ...   \n",
      "1452     Tererova 1551/8, Praha 11-Chodov, 149 00 Praha   \n",
      "1453  Ortenovo náměstí 1275/34, Praha 7-Holešovice, ...   \n",
      "1454  Krčínova 801/6, Ústí nad Labem-Neštěmice, Krás...   \n",
      "1455  Jiřího z Poděbrad 3109, Frýdek, 738 01 Frýdek-...   \n",
      "\n",
      "                      E-mail                   Telefon  \\\n",
      "0              pdz-hk@pdz.cz               778 526 216   \n",
      "1       fokusopava@seznam.cz  553 652 433, 723 457 998   \n",
      "2              pdz-cr@pdz.cz  469 626 383, 774 915 755   \n",
      "3           tym@cdzprerov.cz               583 035 220   \n",
      "4     vaclav.ferus@seznam.cz               353 230 878   \n",
      "...                      ...                       ...   \n",
      "1451           praha@ymca.cz               775 317 814   \n",
      "1452  ymkarium@praha.ymca.cz               737 629 149   \n",
      "1453     dixie@praha.ymca.cz               737 872 116   \n",
      "1454          usti@ymca.cz\\r               475 220 831   \n",
      "1455        u-kryt@seznam.cz               776 219 568   \n",
      "\n",
      "                                                    web  \n",
      "0                                     http://www.pdz.cz  \n",
      "1                               http://www.cdzopava.cz/  \n",
      "2                                     http://www.pdz.cz  \n",
      "3     http://dusevnizdravi.com/centrum-dusevniho-zdr...  \n",
      "4        https://mudr-vaclav-ferus.zdravotniregistr.cz/  \n",
      "...                                                 ...  \n",
      "1451                          https://www.praha.ymca.cz  \n",
      "1452                        http://www.ymkarium.ymca.cz  \n",
      "1453                          https://www.dixie.ymca.cz  \n",
      "1454                            http://www.usti.ymca.cz  \n",
      "1455                              https://www.u-kryt.cz  \n",
      "\n",
      "[1116 rows x 6 columns]\n"
     ]
    },
    {
     "name": "stderr",
     "output_type": "stream",
     "text": [
      "\n"
     ]
    }
   ],
   "source": [
    "\n",
    "# Regular expressions for matching emails and phone numbers\n",
    "email_regex = re.compile(r\"[a-zA-Z0-9_.+-]+@[a-zA-Z0-9-]+\\.[a-zA-Z0-9-.]+\")\n",
    "phone_regex = re.compile(r\"\\+?(\\d[\\d\\-\\(\\) ]{9,}\\d)\")\n",
    "\n",
    "\n",
    "# List to collect data\n",
    "data = []\n",
    "\n",
    "# Function to scrape a single URL\n",
    "def scrape_website_main_page(url):\n",
    "    try:\n",
    "        response = requests.get(url)\n",
    "        response.raise_for_status()  # Raises an HTTPError if the response status code is 4XX or 5XX\n",
    "        soup = BeautifulSoup(response.text, 'html.parser')\n",
    "\n",
    "        emails = set(email_regex.findall(soup.text))\n",
    "        phones = set(phone_regex.findall(soup.text))\n",
    "\n",
    "        return emails, phones\n",
    "    except requests.RequestException as e:\n",
    "        print(f\"Error fetching {url}: {e}\")\n",
    "        return set(), set()\n",
    "\n",
    "def scrape_website_contacts(base_url, path='', visited_urls=set()):\n",
    "    full_url = urljoin(base_url, path)\n",
    "    if full_url in visited_urls:\n",
    "        return set(), set()  # Return empty sets if URL has already been visited\n",
    "    visited_urls.add(full_url)\n",
    "\n",
    "    try:\n",
    "        response = requests.get(full_url)\n",
    "        response.raise_for_status()\n",
    "        soup = BeautifulSoup(response.text, 'html.parser')\n",
    "\n",
    "        emails = set(email_regex.findall(soup.text))\n",
    "        phones = set(phone_regex.findall(soup.text))\n",
    "\n",
    "        # Checking for links that may contain contact info\n",
    "        contact_links = []\n",
    "        for link in soup.find_all('a', href=True):\n",
    "            if 'kontakt' in link.text.lower() or 'contact' in link.text.lower() or 'kontakty' in link.text.lower() \\\n",
    "                or 'o nás' in link.text.lower():\n",
    "                contact_href = urljoin(full_url, link['href'])\n",
    "                if contact_href not in visited_urls:\n",
    "                    contact_links.append(contact_href)\n",
    "\n",
    "        # Scrape each potential contact page\n",
    "        for link in contact_links:\n",
    "            sub_emails, sub_phones = scrape_website_main_page(base_url, link, visited_urls)\n",
    "            emails.update(sub_emails)\n",
    "            phones.update(sub_phones)\n",
    "\n",
    "        return emails, phones\n",
    "    except requests.RequestException as e:\n",
    "        #print(f\"Error fetching {full_url}: {e}\")\n",
    "        return set(), set()\n",
    "\n",
    "# Loop through the URLs and scrape each one\n",
    "visited_urls = set()\n",
    "for url in tqdm(urls):\n",
    "    #print(f\"Scraping {url}\")\n",
    "    \n",
    "    emails, phones = scrape_website_main_page(url)\n",
    "    # if  ('' in emails) or  ('' in phones):        \n",
    "    #     emails_2, phones_2 = scrape_website_contacts(url, visited_urls=visited_urls)\n",
    "    #     emails.add(emails_2)\n",
    "    #     phones.add(phones_2)\n",
    "    # Convert sets to comma-separated strings for storage\n",
    "    #emails_str = ', '.join(emails)\n",
    "    phones_str = ', '.join(phones)\n",
    "    \n",
    "    # Collect data\n",
    "    #data.append({'Website': url, 'Emails': emails_str, 'Phone Numbers': phones_str})\n",
    "    data.append({'Website': url, 'Phone Numbers': phones_str})\n",
    "    #print(\"Done\")\n",
    "    #print(\"\")\n",
    "# Create DataFrame from collected data\n",
    "df_res = pd.DataFrame(data)\n",
    "df_res.to_csv('df_scraped.csv')\n",
    "print(df)"
   ]
  },
  {
   "cell_type": "code",
   "execution_count": 13,
   "metadata": {},
   "outputs": [],
   "source": [
    "df_res.to_csv('data/df_scraped_not_matched.csv')"
   ]
  },
  {
   "cell_type": "code",
   "execution_count": 63,
   "metadata": {},
   "outputs": [
    {
     "data": {
      "text/html": [
       "<div>\n",
       "<style scoped>\n",
       "    .dataframe tbody tr th:only-of-type {\n",
       "        vertical-align: middle;\n",
       "    }\n",
       "\n",
       "    .dataframe tbody tr th {\n",
       "        vertical-align: top;\n",
       "    }\n",
       "\n",
       "    .dataframe thead th {\n",
       "        text-align: right;\n",
       "    }\n",
       "</style>\n",
       "<table border=\"1\" class=\"dataframe\">\n",
       "  <thead>\n",
       "    <tr style=\"text-align: right;\">\n",
       "      <th></th>\n",
       "      <th>web</th>\n",
       "      <th>phones_scraped</th>\n",
       "    </tr>\n",
       "  </thead>\n",
       "  <tbody>\n",
       "    <tr>\n",
       "      <th>0</th>\n",
       "      <td>http://www.pdz.cz</td>\n",
       "      <td>NaN</td>\n",
       "    </tr>\n",
       "    <tr>\n",
       "      <th>1</th>\n",
       "      <td>http://www.medsix.cz/?option=com_content&amp;view=...</td>\n",
       "      <td>NaN</td>\n",
       "    </tr>\n",
       "    <tr>\n",
       "      <th>2</th>\n",
       "      <td>https://www.osbonanza.cz</td>\n",
       "      <td>NaN</td>\n",
       "    </tr>\n",
       "    <tr>\n",
       "      <th>3</th>\n",
       "      <td>https://www.svetlokadanzs.cz</td>\n",
       "      <td>NaN</td>\n",
       "    </tr>\n",
       "    <tr>\n",
       "      <th>4</th>\n",
       "      <td>https://jindrichuvhradec.charita.cz/sluzba/852/</td>\n",
       "      <td>NaN</td>\n",
       "    </tr>\n",
       "  </tbody>\n",
       "</table>\n",
       "</div>"
      ],
      "text/plain": [
       "                                                 web  phones_scraped\n",
       "0                                  http://www.pdz.cz             NaN\n",
       "1  http://www.medsix.cz/?option=com_content&view=...             NaN\n",
       "2                           https://www.osbonanza.cz             NaN\n",
       "3                       https://www.svetlokadanzs.cz             NaN\n",
       "4    https://jindrichuvhradec.charita.cz/sluzba/852/             NaN"
      ]
     },
     "execution_count": 63,
     "metadata": {},
     "output_type": "execute_result"
    }
   ],
   "source": [
    "df_res = pd.read_csv('df_scraped.csv')\n",
    "df_res = df_res.rename(columns={'web': 'web', 'Telefon': 'Telefon'}).drop(\"Unnamed: 0\", axis= 1)\n",
    "df_res = df_res.rename(columns= {\"Website\":\"web\"})\n",
    "df_res = df_res.rename(columns= {\"Phone Numbers\":\"phones_scraped\"})\n",
    "\n",
    "df_res.head()"
   ]
  },
  {
   "cell_type": "code",
   "execution_count": 62,
   "metadata": {},
   "outputs": [
    {
     "data": {
      "text/html": [
       "<div>\n",
       "<style scoped>\n",
       "    .dataframe tbody tr th:only-of-type {\n",
       "        vertical-align: middle;\n",
       "    }\n",
       "\n",
       "    .dataframe tbody tr th {\n",
       "        vertical-align: top;\n",
       "    }\n",
       "\n",
       "    .dataframe thead th {\n",
       "        text-align: right;\n",
       "    }\n",
       "</style>\n",
       "<table border=\"1\" class=\"dataframe\">\n",
       "  <thead>\n",
       "    <tr style=\"text-align: right;\">\n",
       "      <th></th>\n",
       "      <th>web</th>\n",
       "      <th>Telefon</th>\n",
       "    </tr>\n",
       "  </thead>\n",
       "  <tbody>\n",
       "    <tr>\n",
       "      <th>0</th>\n",
       "      <td>asistovanekontakty.cz</td>\n",
       "      <td>[603 739 658]</td>\n",
       "    </tr>\n",
       "    <tr>\n",
       "      <th>1</th>\n",
       "      <td>cdzostrava.cz</td>\n",
       "      <td>[595 223 166]</td>\n",
       "    </tr>\n",
       "    <tr>\n",
       "      <th>2</th>\n",
       "      <td>charita-most.cz</td>\n",
       "      <td>[476 119 999, 476 119 999]</td>\n",
       "    </tr>\n",
       "    <tr>\n",
       "      <th>3</th>\n",
       "      <td>csps-hk.cz</td>\n",
       "      <td>[607 248 533]</td>\n",
       "    </tr>\n",
       "    <tr>\n",
       "      <th>4</th>\n",
       "      <td>http:// www.psychamb.cz</td>\n",
       "      <td>[736 105 209]</td>\n",
       "    </tr>\n",
       "    <tr>\n",
       "      <th>...</th>\n",
       "      <td>...</td>\n",
       "      <td>...</td>\n",
       "    </tr>\n",
       "    <tr>\n",
       "      <th>866</th>\n",
       "      <td>psychoterapiehradeckralove.cz</td>\n",
       "      <td>[736 190 725]</td>\n",
       "    </tr>\n",
       "    <tr>\n",
       "      <th>867</th>\n",
       "      <td>salesianiteplice.cz</td>\n",
       "      <td>[739 959 566]</td>\n",
       "    </tr>\n",
       "    <tr>\n",
       "      <th>868</th>\n",
       "      <td>terapie-poradenstvi.wz.cz</td>\n",
       "      <td>[606 484 975]</td>\n",
       "    </tr>\n",
       "    <tr>\n",
       "      <th>869</th>\n",
       "      <td>tvuj-terapeut.cz</td>\n",
       "      <td>[775 505 315]</td>\n",
       "    </tr>\n",
       "    <tr>\n",
       "      <th>870</th>\n",
       "      <td>email</td>\n",
       "      <td>web\n",
       "asistovanekontakty.cz                     ...</td>\n",
       "    </tr>\n",
       "  </tbody>\n",
       "</table>\n",
       "<p>871 rows × 2 columns</p>\n",
       "</div>"
      ],
      "text/plain": [
       "                               web  \\\n",
       "0            asistovanekontakty.cz   \n",
       "1                    cdzostrava.cz   \n",
       "2                  charita-most.cz   \n",
       "3                       csps-hk.cz   \n",
       "4          http:// www.psychamb.cz   \n",
       "..                             ...   \n",
       "866  psychoterapiehradeckralove.cz   \n",
       "867            salesianiteplice.cz   \n",
       "868      terapie-poradenstvi.wz.cz   \n",
       "869               tvuj-terapeut.cz   \n",
       "870                          email   \n",
       "\n",
       "                                               Telefon  \n",
       "0                                        [603 739 658]  \n",
       "1                                        [595 223 166]  \n",
       "2                           [476 119 999, 476 119 999]  \n",
       "3                                        [607 248 533]  \n",
       "4                                        [736 105 209]  \n",
       "..                                                 ...  \n",
       "866                                      [736 190 725]  \n",
       "867                                      [739 959 566]  \n",
       "868                                      [606 484 975]  \n",
       "869                                      [775 505 315]  \n",
       "870  web\n",
       "asistovanekontakty.cz                     ...  \n",
       "\n",
       "[871 rows x 2 columns]"
      ]
     },
     "execution_count": 62,
     "metadata": {},
     "output_type": "execute_result"
    }
   ],
   "source": [
    "df_res"
   ]
  },
  {
   "cell_type": "code",
   "execution_count": 24,
   "metadata": {},
   "outputs": [
    {
     "data": {
      "text/html": [
       "<div>\n",
       "<style scoped>\n",
       "    .dataframe tbody tr th:only-of-type {\n",
       "        vertical-align: middle;\n",
       "    }\n",
       "\n",
       "    .dataframe tbody tr th {\n",
       "        vertical-align: top;\n",
       "    }\n",
       "\n",
       "    .dataframe thead th {\n",
       "        text-align: right;\n",
       "    }\n",
       "</style>\n",
       "<table border=\"1\" class=\"dataframe\">\n",
       "  <thead>\n",
       "    <tr style=\"text-align: right;\">\n",
       "      <th></th>\n",
       "      <th>web</th>\n",
       "      <th>phones_scraped</th>\n",
       "      <th>Telefon</th>\n",
       "    </tr>\n",
       "  </thead>\n",
       "  <tbody>\n",
       "    <tr>\n",
       "      <th>0</th>\n",
       "      <td>http://www.pdz.cz</td>\n",
       "      <td>[121 407 9329, 64 24 22 18, 420 466 400 116]</td>\n",
       "      <td>[778 526 216, 469 626 383, 774 915 755]</td>\n",
       "    </tr>\n",
       "    <tr>\n",
       "      <th>1</th>\n",
       "      <td>http://www.medsix.cz/?option=com_content&amp;view=...</td>\n",
       "      <td>[483 341 232, 483 300 087, 483 310 919, 483 34...</td>\n",
       "      <td>[483 341 267]</td>\n",
       "    </tr>\n",
       "    <tr>\n",
       "      <th>2</th>\n",
       "      <td>https://www.osbonanza.cz</td>\n",
       "      <td>NaN</td>\n",
       "      <td>[608 218 847, 608 218 847]</td>\n",
       "    </tr>\n",
       "    <tr>\n",
       "      <th>3</th>\n",
       "      <td>https://www.svetlokadanzs.cz</td>\n",
       "      <td>NaN</td>\n",
       "      <td>[725 556 109, 727 925 741, 702 042 647, 702 04...</td>\n",
       "    </tr>\n",
       "    <tr>\n",
       "      <th>4</th>\n",
       "      <td>https://jindrichuvhradec.charita.cz/sluzba/852/</td>\n",
       "      <td>[731 402 982, 731 604 554, 605 849 877]</td>\n",
       "      <td>[731 402 982, 605 849 877]</td>\n",
       "    </tr>\n",
       "    <tr>\n",
       "      <th>...</th>\n",
       "      <td>...</td>\n",
       "      <td>...</td>\n",
       "      <td>...</td>\n",
       "    </tr>\n",
       "    <tr>\n",
       "      <th>864</th>\n",
       "      <td>https://pisek.charita.cz/jak-pomahame/oblastni...</td>\n",
       "      <td>NaN</td>\n",
       "      <td>[382 214 828]</td>\n",
       "    </tr>\n",
       "    <tr>\n",
       "      <th>865</th>\n",
       "      <td>http://ssp-ol.cz/</td>\n",
       "      <td>[585 427 141]</td>\n",
       "      <td>[774 406 453]</td>\n",
       "    </tr>\n",
       "    <tr>\n",
       "      <th>866</th>\n",
       "      <td>http://www.psychoterapeuti.cz/adresar-psychote...</td>\n",
       "      <td>[284 016 451, 736 660 315, 530 334 600, 775 18...</td>\n",
       "      <td>[466 611 601]</td>\n",
       "    </tr>\n",
       "    <tr>\n",
       "      <th>867</th>\n",
       "      <td>http://www.psychoterapeuti.cz/adresar-psychote...</td>\n",
       "      <td>[284 016 451, 736 660 315, 530 334 600, 775 18...</td>\n",
       "      <td>[261 006 253]</td>\n",
       "    </tr>\n",
       "    <tr>\n",
       "      <th>868</th>\n",
       "      <td>http://www.vkci.cz/</td>\n",
       "      <td>NaN</td>\n",
       "      <td>[774 262 243]</td>\n",
       "    </tr>\n",
       "  </tbody>\n",
       "</table>\n",
       "<p>869 rows × 3 columns</p>\n",
       "</div>"
      ],
      "text/plain": [
       "                                                   web  \\\n",
       "0                                    http://www.pdz.cz   \n",
       "1    http://www.medsix.cz/?option=com_content&view=...   \n",
       "2                             https://www.osbonanza.cz   \n",
       "3                         https://www.svetlokadanzs.cz   \n",
       "4      https://jindrichuvhradec.charita.cz/sluzba/852/   \n",
       "..                                                 ...   \n",
       "864  https://pisek.charita.cz/jak-pomahame/oblastni...   \n",
       "865                                  http://ssp-ol.cz/   \n",
       "866  http://www.psychoterapeuti.cz/adresar-psychote...   \n",
       "867  http://www.psychoterapeuti.cz/adresar-psychote...   \n",
       "868                                http://www.vkci.cz/   \n",
       "\n",
       "                                        phones_scraped  \\\n",
       "0         [121 407 9329, 64 24 22 18, 420 466 400 116]   \n",
       "1    [483 341 232, 483 300 087, 483 310 919, 483 34...   \n",
       "2                                                  NaN   \n",
       "3                                                  NaN   \n",
       "4              [731 402 982, 731 604 554, 605 849 877]   \n",
       "..                                                 ...   \n",
       "864                                                NaN   \n",
       "865                                      [585 427 141]   \n",
       "866  [284 016 451, 736 660 315, 530 334 600, 775 18...   \n",
       "867  [284 016 451, 736 660 315, 530 334 600, 775 18...   \n",
       "868                                                NaN   \n",
       "\n",
       "                                               Telefon  \n",
       "0              [778 526 216, 469 626 383, 774 915 755]  \n",
       "1                                        [483 341 267]  \n",
       "2                           [608 218 847, 608 218 847]  \n",
       "3    [725 556 109, 727 925 741, 702 042 647, 702 04...  \n",
       "4                           [731 402 982, 605 849 877]  \n",
       "..                                                 ...  \n",
       "864                                      [382 214 828]  \n",
       "865                                      [774 406 453]  \n",
       "866                                      [466 611 601]  \n",
       "867                                      [261 006 253]  \n",
       "868                                      [774 262 243]  \n",
       "\n",
       "[869 rows x 3 columns]"
      ]
     },
     "execution_count": 24,
     "metadata": {},
     "output_type": "execute_result"
    }
   ],
   "source": [
    "preview = df_res.merge(df_agg , on=\"web\")\n",
    "preview['phones_scraped'] = preview['phones_scraped'].str.split(', ')\n",
    "preview"
   ]
  },
  {
   "cell_type": "code",
   "execution_count": 28,
   "metadata": {},
   "outputs": [
    {
     "data": {
      "text/plain": [
       "list"
      ]
     },
     "execution_count": 28,
     "metadata": {},
     "output_type": "execute_result"
    }
   ],
   "source": [
    "type(preview['Telefon'][0])"
   ]
  },
  {
   "cell_type": "markdown",
   "metadata": {},
   "source": [
    "# Exploding"
   ]
  },
  {
   "cell_type": "code",
   "execution_count": 61,
   "metadata": {},
   "outputs": [
    {
     "data": {
      "text/html": [
       "<div>\n",
       "<style scoped>\n",
       "    .dataframe tbody tr th:only-of-type {\n",
       "        vertical-align: middle;\n",
       "    }\n",
       "\n",
       "    .dataframe tbody tr th {\n",
       "        vertical-align: top;\n",
       "    }\n",
       "\n",
       "    .dataframe thead th {\n",
       "        text-align: right;\n",
       "    }\n",
       "</style>\n",
       "<table border=\"1\" class=\"dataframe\">\n",
       "  <thead>\n",
       "    <tr style=\"text-align: right;\">\n",
       "      <th></th>\n",
       "      <th>web</th>\n",
       "      <th>phones_scraped</th>\n",
       "    </tr>\n",
       "  </thead>\n",
       "  <tbody>\n",
       "    <tr>\n",
       "      <th>0</th>\n",
       "      <td>http://www.pdz.cz</td>\n",
       "      <td>NaN</td>\n",
       "    </tr>\n",
       "    <tr>\n",
       "      <th>1</th>\n",
       "      <td>http://www.medsix.cz/?option=com_content&amp;view=...</td>\n",
       "      <td>NaN</td>\n",
       "    </tr>\n",
       "    <tr>\n",
       "      <th>2</th>\n",
       "      <td>https://www.osbonanza.cz</td>\n",
       "      <td>NaN</td>\n",
       "    </tr>\n",
       "    <tr>\n",
       "      <th>3</th>\n",
       "      <td>https://www.svetlokadanzs.cz</td>\n",
       "      <td>NaN</td>\n",
       "    </tr>\n",
       "    <tr>\n",
       "      <th>4</th>\n",
       "      <td>https://jindrichuvhradec.charita.cz/sluzba/852/</td>\n",
       "      <td>NaN</td>\n",
       "    </tr>\n",
       "  </tbody>\n",
       "</table>\n",
       "</div>"
      ],
      "text/plain": [
       "                                                 web  phones_scraped\n",
       "0                                  http://www.pdz.cz             NaN\n",
       "1  http://www.medsix.cz/?option=com_content&view=...             NaN\n",
       "2                           https://www.osbonanza.cz             NaN\n",
       "3                       https://www.svetlokadanzs.cz             NaN\n",
       "4    https://jindrichuvhradec.charita.cz/sluzba/852/             NaN"
      ]
     },
     "execution_count": 61,
     "metadata": {},
     "output_type": "execute_result"
    }
   ],
   "source": [
    "df_res.head()"
   ]
  },
  {
   "cell_type": "code",
   "execution_count": 60,
   "metadata": {},
   "outputs": [
    {
     "ename": "AttributeError",
     "evalue": "Can only use .str accessor with string values!",
     "output_type": "error",
     "traceback": [
      "\u001b[0;31m---------------------------------------------------------------------------\u001b[0m",
      "\u001b[0;31mAttributeError\u001b[0m                            Traceback (most recent call last)",
      "Cell \u001b[0;32mIn[60], line 1\u001b[0m\n\u001b[0;32m----> 1\u001b[0m df_res[\u001b[38;5;124m'\u001b[39m\u001b[38;5;124mphones_scraped\u001b[39m\u001b[38;5;124m'\u001b[39m] \u001b[38;5;241m=\u001b[39m \u001b[43mdf_res\u001b[49m\u001b[43m[\u001b[49m\u001b[38;5;124;43m'\u001b[39;49m\u001b[38;5;124;43mphones_scraped\u001b[39;49m\u001b[38;5;124;43m'\u001b[39;49m\u001b[43m]\u001b[49m\u001b[38;5;241;43m.\u001b[39;49m\u001b[43mstr\u001b[49m\u001b[38;5;241m.\u001b[39msplit(\u001b[38;5;124m'\u001b[39m\u001b[38;5;124m, \u001b[39m\u001b[38;5;124m'\u001b[39m)\n\u001b[1;32m      2\u001b[0m df_agg \u001b[38;5;241m=\u001b[39m df_agg\u001b[38;5;241m.\u001b[39mrename(columns\u001b[38;5;241m=\u001b[39m {\u001b[38;5;124m\"\u001b[39m\u001b[38;5;124mTelefon\u001b[39m\u001b[38;5;124m\"\u001b[39m:\u001b[38;5;124m\"\u001b[39m\u001b[38;5;124mphones_scraped\u001b[39m\u001b[38;5;124m\"\u001b[39m})\n\u001b[1;32m      3\u001b[0m df_res_exp \u001b[38;5;241m=\u001b[39m df_res\u001b[38;5;241m.\u001b[39mexplode(\u001b[38;5;124m'\u001b[39m\u001b[38;5;124mphones_scraped\u001b[39m\u001b[38;5;124m'\u001b[39m)\u001b[38;5;241m.\u001b[39mreset_index(drop\u001b[38;5;241m=\u001b[39m\u001b[38;5;28;01mTrue\u001b[39;00m)\n",
      "File \u001b[0;32m~/opt/anaconda3/envs/streamlit_env/lib/python3.11/site-packages/pandas/core/generic.py:5989\u001b[0m, in \u001b[0;36mNDFrame.__getattr__\u001b[0;34m(self, name)\u001b[0m\n\u001b[1;32m   5982\u001b[0m \u001b[38;5;28;01mif\u001b[39;00m (\n\u001b[1;32m   5983\u001b[0m     name \u001b[38;5;129;01mnot\u001b[39;00m \u001b[38;5;129;01min\u001b[39;00m \u001b[38;5;28mself\u001b[39m\u001b[38;5;241m.\u001b[39m_internal_names_set\n\u001b[1;32m   5984\u001b[0m     \u001b[38;5;129;01mand\u001b[39;00m name \u001b[38;5;129;01mnot\u001b[39;00m \u001b[38;5;129;01min\u001b[39;00m \u001b[38;5;28mself\u001b[39m\u001b[38;5;241m.\u001b[39m_metadata\n\u001b[1;32m   5985\u001b[0m     \u001b[38;5;129;01mand\u001b[39;00m name \u001b[38;5;129;01mnot\u001b[39;00m \u001b[38;5;129;01min\u001b[39;00m \u001b[38;5;28mself\u001b[39m\u001b[38;5;241m.\u001b[39m_accessors\n\u001b[1;32m   5986\u001b[0m     \u001b[38;5;129;01mand\u001b[39;00m \u001b[38;5;28mself\u001b[39m\u001b[38;5;241m.\u001b[39m_info_axis\u001b[38;5;241m.\u001b[39m_can_hold_identifiers_and_holds_name(name)\n\u001b[1;32m   5987\u001b[0m ):\n\u001b[1;32m   5988\u001b[0m     \u001b[38;5;28;01mreturn\u001b[39;00m \u001b[38;5;28mself\u001b[39m[name]\n\u001b[0;32m-> 5989\u001b[0m \u001b[38;5;28;01mreturn\u001b[39;00m \u001b[38;5;28;43mobject\u001b[39;49m\u001b[38;5;241;43m.\u001b[39;49m\u001b[38;5;21;43m__getattribute__\u001b[39;49m\u001b[43m(\u001b[49m\u001b[38;5;28;43mself\u001b[39;49m\u001b[43m,\u001b[49m\u001b[43m \u001b[49m\u001b[43mname\u001b[49m\u001b[43m)\u001b[49m\n",
      "File \u001b[0;32m~/opt/anaconda3/envs/streamlit_env/lib/python3.11/site-packages/pandas/core/accessor.py:224\u001b[0m, in \u001b[0;36mCachedAccessor.__get__\u001b[0;34m(self, obj, cls)\u001b[0m\n\u001b[1;32m    221\u001b[0m \u001b[38;5;28;01mif\u001b[39;00m obj \u001b[38;5;129;01mis\u001b[39;00m \u001b[38;5;28;01mNone\u001b[39;00m:\n\u001b[1;32m    222\u001b[0m     \u001b[38;5;66;03m# we're accessing the attribute of the class, i.e., Dataset.geo\u001b[39;00m\n\u001b[1;32m    223\u001b[0m     \u001b[38;5;28;01mreturn\u001b[39;00m \u001b[38;5;28mself\u001b[39m\u001b[38;5;241m.\u001b[39m_accessor\n\u001b[0;32m--> 224\u001b[0m accessor_obj \u001b[38;5;241m=\u001b[39m \u001b[38;5;28;43mself\u001b[39;49m\u001b[38;5;241;43m.\u001b[39;49m\u001b[43m_accessor\u001b[49m\u001b[43m(\u001b[49m\u001b[43mobj\u001b[49m\u001b[43m)\u001b[49m\n\u001b[1;32m    225\u001b[0m \u001b[38;5;66;03m# Replace the property with the accessor object. Inspired by:\u001b[39;00m\n\u001b[1;32m    226\u001b[0m \u001b[38;5;66;03m# https://www.pydanny.com/cached-property.html\u001b[39;00m\n\u001b[1;32m    227\u001b[0m \u001b[38;5;66;03m# We need to use object.__setattr__ because we overwrite __setattr__ on\u001b[39;00m\n\u001b[1;32m    228\u001b[0m \u001b[38;5;66;03m# NDFrame\u001b[39;00m\n\u001b[1;32m    229\u001b[0m \u001b[38;5;28mobject\u001b[39m\u001b[38;5;241m.\u001b[39m\u001b[38;5;21m__setattr__\u001b[39m(obj, \u001b[38;5;28mself\u001b[39m\u001b[38;5;241m.\u001b[39m_name, accessor_obj)\n",
      "File \u001b[0;32m~/opt/anaconda3/envs/streamlit_env/lib/python3.11/site-packages/pandas/core/strings/accessor.py:181\u001b[0m, in \u001b[0;36mStringMethods.__init__\u001b[0;34m(self, data)\u001b[0m\n\u001b[1;32m    178\u001b[0m \u001b[38;5;28;01mdef\u001b[39;00m \u001b[38;5;21m__init__\u001b[39m(\u001b[38;5;28mself\u001b[39m, data) \u001b[38;5;241m-\u001b[39m\u001b[38;5;241m>\u001b[39m \u001b[38;5;28;01mNone\u001b[39;00m:\n\u001b[1;32m    179\u001b[0m     \u001b[38;5;28;01mfrom\u001b[39;00m \u001b[38;5;21;01mpandas\u001b[39;00m\u001b[38;5;21;01m.\u001b[39;00m\u001b[38;5;21;01mcore\u001b[39;00m\u001b[38;5;21;01m.\u001b[39;00m\u001b[38;5;21;01marrays\u001b[39;00m\u001b[38;5;21;01m.\u001b[39;00m\u001b[38;5;21;01mstring_\u001b[39;00m \u001b[38;5;28;01mimport\u001b[39;00m StringDtype\n\u001b[0;32m--> 181\u001b[0m     \u001b[38;5;28mself\u001b[39m\u001b[38;5;241m.\u001b[39m_inferred_dtype \u001b[38;5;241m=\u001b[39m \u001b[38;5;28;43mself\u001b[39;49m\u001b[38;5;241;43m.\u001b[39;49m\u001b[43m_validate\u001b[49m\u001b[43m(\u001b[49m\u001b[43mdata\u001b[49m\u001b[43m)\u001b[49m\n\u001b[1;32m    182\u001b[0m     \u001b[38;5;28mself\u001b[39m\u001b[38;5;241m.\u001b[39m_is_categorical \u001b[38;5;241m=\u001b[39m is_categorical_dtype(data\u001b[38;5;241m.\u001b[39mdtype)\n\u001b[1;32m    183\u001b[0m     \u001b[38;5;28mself\u001b[39m\u001b[38;5;241m.\u001b[39m_is_string \u001b[38;5;241m=\u001b[39m \u001b[38;5;28misinstance\u001b[39m(data\u001b[38;5;241m.\u001b[39mdtype, StringDtype)\n",
      "File \u001b[0;32m~/opt/anaconda3/envs/streamlit_env/lib/python3.11/site-packages/pandas/core/strings/accessor.py:235\u001b[0m, in \u001b[0;36mStringMethods._validate\u001b[0;34m(data)\u001b[0m\n\u001b[1;32m    232\u001b[0m inferred_dtype \u001b[38;5;241m=\u001b[39m lib\u001b[38;5;241m.\u001b[39minfer_dtype(values, skipna\u001b[38;5;241m=\u001b[39m\u001b[38;5;28;01mTrue\u001b[39;00m)\n\u001b[1;32m    234\u001b[0m \u001b[38;5;28;01mif\u001b[39;00m inferred_dtype \u001b[38;5;129;01mnot\u001b[39;00m \u001b[38;5;129;01min\u001b[39;00m allowed_types:\n\u001b[0;32m--> 235\u001b[0m     \u001b[38;5;28;01mraise\u001b[39;00m \u001b[38;5;167;01mAttributeError\u001b[39;00m(\u001b[38;5;124m\"\u001b[39m\u001b[38;5;124mCan only use .str accessor with string values!\u001b[39m\u001b[38;5;124m\"\u001b[39m)\n\u001b[1;32m    236\u001b[0m \u001b[38;5;28;01mreturn\u001b[39;00m inferred_dtype\n",
      "\u001b[0;31mAttributeError\u001b[0m: Can only use .str accessor with string values!"
     ]
    }
   ],
   "source": [
    "df_res['phones_scraped'] = df_res['phones_scraped'].str.split(', ')\n",
    "df_agg = df_agg.rename(columns= {\"Telefon\":\"phones_scraped\"})\n",
    "df_res_exp = df_res.explode('phones_scraped').reset_index(drop=True)\n",
    "df_agg_exp = df_agg.explode('Telefon').reset_index(drop=True)\n",
    "df_union = pd.concat([df_agg_exp, df_res_exp])"
   ]
  },
  {
   "cell_type": "code",
   "execution_count": 44,
   "metadata": {},
   "outputs": [
    {
     "data": {
      "text/html": [
       "<div>\n",
       "<style scoped>\n",
       "    .dataframe tbody tr th:only-of-type {\n",
       "        vertical-align: middle;\n",
       "    }\n",
       "\n",
       "    .dataframe tbody tr th {\n",
       "        vertical-align: top;\n",
       "    }\n",
       "\n",
       "    .dataframe thead th {\n",
       "        text-align: right;\n",
       "    }\n",
       "</style>\n",
       "<table border=\"1\" class=\"dataframe\">\n",
       "  <thead>\n",
       "    <tr style=\"text-align: right;\">\n",
       "      <th></th>\n",
       "      <th>web</th>\n",
       "      <th>Telefon</th>\n",
       "      <th>phones_scraped</th>\n",
       "    </tr>\n",
       "  </thead>\n",
       "  <tbody>\n",
       "    <tr>\n",
       "      <th>0</th>\n",
       "      <td>asistovanekontakty.cz</td>\n",
       "      <td>603 739 658</td>\n",
       "      <td>NaN</td>\n",
       "    </tr>\n",
       "    <tr>\n",
       "      <th>1</th>\n",
       "      <td>cdzostrava.cz</td>\n",
       "      <td>595 223 166</td>\n",
       "      <td>NaN</td>\n",
       "    </tr>\n",
       "    <tr>\n",
       "      <th>2</th>\n",
       "      <td>charita-most.cz</td>\n",
       "      <td>476 119 999</td>\n",
       "      <td>NaN</td>\n",
       "    </tr>\n",
       "    <tr>\n",
       "      <th>3</th>\n",
       "      <td>charita-most.cz</td>\n",
       "      <td>476 119 999</td>\n",
       "      <td>NaN</td>\n",
       "    </tr>\n",
       "    <tr>\n",
       "      <th>4</th>\n",
       "      <td>csps-hk.cz</td>\n",
       "      <td>607 248 533</td>\n",
       "      <td>NaN</td>\n",
       "    </tr>\n",
       "  </tbody>\n",
       "</table>\n",
       "</div>"
      ],
      "text/plain": [
       "                     web      Telefon  phones_scraped\n",
       "0  asistovanekontakty.cz  603 739 658             NaN\n",
       "1          cdzostrava.cz  595 223 166             NaN\n",
       "2        charita-most.cz  476 119 999             NaN\n",
       "3        charita-most.cz  476 119 999             NaN\n",
       "4             csps-hk.cz  607 248 533             NaN"
      ]
     },
     "execution_count": 44,
     "metadata": {},
     "output_type": "execute_result"
    }
   ],
   "source": [
    "df_union.head()"
   ]
  },
  {
   "cell_type": "code",
   "execution_count": 45,
   "metadata": {},
   "outputs": [
    {
     "data": {
      "text/html": [
       "<div>\n",
       "<style scoped>\n",
       "    .dataframe tbody tr th:only-of-type {\n",
       "        vertical-align: middle;\n",
       "    }\n",
       "\n",
       "    .dataframe tbody tr th {\n",
       "        vertical-align: top;\n",
       "    }\n",
       "\n",
       "    .dataframe thead th {\n",
       "        text-align: right;\n",
       "    }\n",
       "</style>\n",
       "<table border=\"1\" class=\"dataframe\">\n",
       "  <thead>\n",
       "    <tr style=\"text-align: right;\">\n",
       "      <th></th>\n",
       "      <th>Telefon</th>\n",
       "      <th>phones_scraped</th>\n",
       "    </tr>\n",
       "    <tr>\n",
       "      <th>web</th>\n",
       "      <th></th>\n",
       "      <th></th>\n",
       "    </tr>\n",
       "  </thead>\n",
       "  <tbody>\n",
       "    <tr>\n",
       "      <th>asistovanekontakty.cz</th>\n",
       "      <td>1</td>\n",
       "      <td>0</td>\n",
       "    </tr>\n",
       "    <tr>\n",
       "      <th>cdzostrava.cz</th>\n",
       "      <td>1</td>\n",
       "      <td>0</td>\n",
       "    </tr>\n",
       "    <tr>\n",
       "      <th>charita-most.cz</th>\n",
       "      <td>2</td>\n",
       "      <td>0</td>\n",
       "    </tr>\n",
       "    <tr>\n",
       "      <th>csps-hk.cz</th>\n",
       "      <td>1</td>\n",
       "      <td>0</td>\n",
       "    </tr>\n",
       "    <tr>\n",
       "      <th>email</th>\n",
       "      <td>870</td>\n",
       "      <td>0</td>\n",
       "    </tr>\n",
       "    <tr>\n",
       "      <th>...</th>\n",
       "      <td>...</td>\n",
       "      <td>...</td>\n",
       "    </tr>\n",
       "    <tr>\n",
       "      <th>psychosomatika.info</th>\n",
       "      <td>1</td>\n",
       "      <td>0</td>\n",
       "    </tr>\n",
       "    <tr>\n",
       "      <th>psychoterapiehradeckralove.cz</th>\n",
       "      <td>1</td>\n",
       "      <td>0</td>\n",
       "    </tr>\n",
       "    <tr>\n",
       "      <th>salesianiteplice.cz</th>\n",
       "      <td>1</td>\n",
       "      <td>0</td>\n",
       "    </tr>\n",
       "    <tr>\n",
       "      <th>terapie-poradenstvi.wz.cz</th>\n",
       "      <td>1</td>\n",
       "      <td>0</td>\n",
       "    </tr>\n",
       "    <tr>\n",
       "      <th>tvuj-terapeut.cz</th>\n",
       "      <td>1</td>\n",
       "      <td>0</td>\n",
       "    </tr>\n",
       "  </tbody>\n",
       "</table>\n",
       "<p>872 rows × 2 columns</p>\n",
       "</div>"
      ],
      "text/plain": [
       "                               Telefon  phones_scraped\n",
       "web                                                   \n",
       "asistovanekontakty.cz                1               0\n",
       "cdzostrava.cz                        1               0\n",
       "charita-most.cz                      2               0\n",
       "csps-hk.cz                           1               0\n",
       "email                              870               0\n",
       "...                                ...             ...\n",
       "psychosomatika.info                  1               0\n",
       "psychoterapiehradeckralove.cz        1               0\n",
       "salesianiteplice.cz                  1               0\n",
       "terapie-poradenstvi.wz.cz            1               0\n",
       "tvuj-terapeut.cz                     1               0\n",
       "\n",
       "[872 rows x 2 columns]"
      ]
     },
     "execution_count": 45,
     "metadata": {},
     "output_type": "execute_result"
    }
   ],
   "source": [
    "df_union.groupby('web').count()"
   ]
  },
  {
   "cell_type": "code",
   "execution_count": 30,
   "metadata": {},
   "outputs": [
    {
     "ename": "ValueError",
     "evalue": "columns must have matching element counts",
     "output_type": "error",
     "traceback": [
      "\u001b[0;31m---------------------------------------------------------------------------\u001b[0m",
      "\u001b[0;31mValueError\u001b[0m                                Traceback (most recent call last)",
      "\u001b[0;32m/var/folders/rd/l77bltt96_97jdz4bbkmq5z40000gn/T/ipykernel_80316/245593209.py\u001b[0m in \u001b[0;36m?\u001b[0;34m()\u001b[0m\n\u001b[0;32m----> 1\u001b[0;31m \u001b[0mdf_pivoted\u001b[0m \u001b[0;34m=\u001b[0m \u001b[0mpreview\u001b[0m\u001b[0;34m.\u001b[0m\u001b[0mexplode\u001b[0m\u001b[0;34m(\u001b[0m\u001b[0;34m[\u001b[0m\u001b[0;34m'phones_scraped'\u001b[0m\u001b[0;34m,\u001b[0m\u001b[0;34m'Telefon'\u001b[0m\u001b[0;34m]\u001b[0m\u001b[0;34m)\u001b[0m\u001b[0;34m.\u001b[0m\u001b[0mreset_index\u001b[0m\u001b[0;34m(\u001b[0m\u001b[0mdrop\u001b[0m\u001b[0;34m=\u001b[0m\u001b[0;32mTrue\u001b[0m\u001b[0;34m)\u001b[0m\u001b[0;34m\u001b[0m\u001b[0;34m\u001b[0m\u001b[0m\n\u001b[0m\u001b[1;32m      2\u001b[0m \u001b[0mdf_pivoted\u001b[0m\u001b[0;34m.\u001b[0m\u001b[0mhead\u001b[0m\u001b[0;34m(\u001b[0m\u001b[0;36m30\u001b[0m\u001b[0;34m)\u001b[0m\u001b[0;34m\u001b[0m\u001b[0;34m\u001b[0m\u001b[0m\n",
      "\u001b[0;32m~/opt/anaconda3/envs/streamlit_env/lib/python3.11/site-packages/pandas/core/frame.py\u001b[0m in \u001b[0;36m?\u001b[0;34m(self, column, ignore_index)\u001b[0m\n\u001b[1;32m   8883\u001b[0m             \u001b[0mmylen\u001b[0m \u001b[0;34m=\u001b[0m \u001b[0;32mlambda\u001b[0m \u001b[0mx\u001b[0m\u001b[0;34m:\u001b[0m \u001b[0mlen\u001b[0m\u001b[0;34m(\u001b[0m\u001b[0mx\u001b[0m\u001b[0;34m)\u001b[0m \u001b[0;32mif\u001b[0m \u001b[0;34m(\u001b[0m\u001b[0mis_list_like\u001b[0m\u001b[0;34m(\u001b[0m\u001b[0mx\u001b[0m\u001b[0;34m)\u001b[0m \u001b[0;32mand\u001b[0m \u001b[0mlen\u001b[0m\u001b[0;34m(\u001b[0m\u001b[0mx\u001b[0m\u001b[0;34m)\u001b[0m \u001b[0;34m>\u001b[0m \u001b[0;36m0\u001b[0m\u001b[0;34m)\u001b[0m \u001b[0;32melse\u001b[0m \u001b[0;36m1\u001b[0m\u001b[0;34m\u001b[0m\u001b[0;34m\u001b[0m\u001b[0m\n\u001b[1;32m   8884\u001b[0m             \u001b[0mcounts0\u001b[0m \u001b[0;34m=\u001b[0m \u001b[0mself\u001b[0m\u001b[0;34m[\u001b[0m\u001b[0mcolumns\u001b[0m\u001b[0;34m[\u001b[0m\u001b[0;36m0\u001b[0m\u001b[0;34m]\u001b[0m\u001b[0;34m]\u001b[0m\u001b[0;34m.\u001b[0m\u001b[0mapply\u001b[0m\u001b[0;34m(\u001b[0m\u001b[0mmylen\u001b[0m\u001b[0;34m)\u001b[0m\u001b[0;34m\u001b[0m\u001b[0;34m\u001b[0m\u001b[0m\n\u001b[1;32m   8885\u001b[0m             \u001b[0;32mfor\u001b[0m \u001b[0mc\u001b[0m \u001b[0;32min\u001b[0m \u001b[0mcolumns\u001b[0m\u001b[0;34m[\u001b[0m\u001b[0;36m1\u001b[0m\u001b[0;34m:\u001b[0m\u001b[0;34m]\u001b[0m\u001b[0;34m:\u001b[0m\u001b[0;34m\u001b[0m\u001b[0;34m\u001b[0m\u001b[0m\n\u001b[1;32m   8886\u001b[0m                 \u001b[0;32mif\u001b[0m \u001b[0;32mnot\u001b[0m \u001b[0mall\u001b[0m\u001b[0;34m(\u001b[0m\u001b[0mcounts0\u001b[0m \u001b[0;34m==\u001b[0m \u001b[0mself\u001b[0m\u001b[0;34m[\u001b[0m\u001b[0mc\u001b[0m\u001b[0;34m]\u001b[0m\u001b[0;34m.\u001b[0m\u001b[0mapply\u001b[0m\u001b[0;34m(\u001b[0m\u001b[0mmylen\u001b[0m\u001b[0;34m)\u001b[0m\u001b[0;34m)\u001b[0m\u001b[0;34m:\u001b[0m\u001b[0;34m\u001b[0m\u001b[0;34m\u001b[0m\u001b[0m\n\u001b[0;32m-> 8887\u001b[0;31m                     \u001b[0;32mraise\u001b[0m \u001b[0mValueError\u001b[0m\u001b[0;34m(\u001b[0m\u001b[0;34m\"columns must have matching element counts\"\u001b[0m\u001b[0;34m)\u001b[0m\u001b[0;34m\u001b[0m\u001b[0;34m\u001b[0m\u001b[0m\n\u001b[0m\u001b[1;32m   8888\u001b[0m             \u001b[0mresult\u001b[0m \u001b[0;34m=\u001b[0m \u001b[0mDataFrame\u001b[0m\u001b[0;34m(\u001b[0m\u001b[0;34m{\u001b[0m\u001b[0mc\u001b[0m\u001b[0;34m:\u001b[0m \u001b[0mdf\u001b[0m\u001b[0;34m[\u001b[0m\u001b[0mc\u001b[0m\u001b[0;34m]\u001b[0m\u001b[0;34m.\u001b[0m\u001b[0mexplode\u001b[0m\u001b[0;34m(\u001b[0m\u001b[0;34m)\u001b[0m \u001b[0;32mfor\u001b[0m \u001b[0mc\u001b[0m \u001b[0;32min\u001b[0m \u001b[0mcolumns\u001b[0m\u001b[0;34m}\u001b[0m\u001b[0;34m)\u001b[0m\u001b[0;34m\u001b[0m\u001b[0;34m\u001b[0m\u001b[0m\n\u001b[1;32m   8889\u001b[0m         \u001b[0mresult\u001b[0m \u001b[0;34m=\u001b[0m \u001b[0mdf\u001b[0m\u001b[0;34m.\u001b[0m\u001b[0mdrop\u001b[0m\u001b[0;34m(\u001b[0m\u001b[0mcolumns\u001b[0m\u001b[0;34m,\u001b[0m \u001b[0maxis\u001b[0m\u001b[0;34m=\u001b[0m\u001b[0;36m1\u001b[0m\u001b[0;34m)\u001b[0m\u001b[0;34m.\u001b[0m\u001b[0mjoin\u001b[0m\u001b[0;34m(\u001b[0m\u001b[0mresult\u001b[0m\u001b[0;34m)\u001b[0m\u001b[0;34m\u001b[0m\u001b[0;34m\u001b[0m\u001b[0m\n\u001b[1;32m   8890\u001b[0m         \u001b[0;32mif\u001b[0m \u001b[0mignore_index\u001b[0m\u001b[0;34m:\u001b[0m\u001b[0;34m\u001b[0m\u001b[0;34m\u001b[0m\u001b[0m\n",
      "\u001b[0;31mValueError\u001b[0m: columns must have matching element counts"
     ]
    }
   ],
   "source": [
    "df_pivoted = preview.explode(['phones_scraped','Telefon']).reset_index(drop=True)\n",
    "df_pivoted.head(30)"
   ]
  },
  {
   "cell_type": "markdown",
   "metadata": {},
   "source": []
  },
  {
   "cell_type": "code",
   "execution_count": 15,
   "metadata": {},
   "outputs": [
    {
     "data": {
      "text/html": [
       "<div>\n",
       "<style scoped>\n",
       "    .dataframe tbody tr th:only-of-type {\n",
       "        vertical-align: middle;\n",
       "    }\n",
       "\n",
       "    .dataframe tbody tr th {\n",
       "        vertical-align: top;\n",
       "    }\n",
       "\n",
       "    .dataframe thead th {\n",
       "        text-align: right;\n",
       "    }\n",
       "</style>\n",
       "<table border=\"1\" class=\"dataframe\">\n",
       "  <thead>\n",
       "    <tr style=\"text-align: right;\">\n",
       "      <th></th>\n",
       "      <th>web</th>\n",
       "      <th>Phone Numbers</th>\n",
       "      <th>Telefon</th>\n",
       "    </tr>\n",
       "  </thead>\n",
       "  <tbody>\n",
       "    <tr>\n",
       "      <th>0</th>\n",
       "      <td>https://www.zachranny-kruh.cz/</td>\n",
       "      <td>1 - 197-197</td>\n",
       "      <td>[353 230 000]</td>\n",
       "    </tr>\n",
       "    <tr>\n",
       "      <th>1</th>\n",
       "      <td>http://psych.fnplzen.cz/cs/node/839</td>\n",
       "      <td>377 103 959, 377 441 850, 377 103 111, 377 401...</td>\n",
       "      <td>[377 103 111]</td>\n",
       "    </tr>\n",
       "    <tr>\n",
       "      <th>2</th>\n",
       "      <td>http://www.porceta.cz</td>\n",
       "      <td></td>\n",
       "      <td>[777 882 002]</td>\n",
       "    </tr>\n",
       "    <tr>\n",
       "      <th>3</th>\n",
       "      <td>https://www.prevent99.cz/spot/</td>\n",
       "      <td></td>\n",
       "      <td>[606 089 789]</td>\n",
       "    </tr>\n",
       "    <tr>\n",
       "      <th>4</th>\n",
       "      <td>http://www.detemzlin.cz/</td>\n",
       "      <td>577 922 056</td>\n",
       "      <td>[577 645 231]</td>\n",
       "    </tr>\n",
       "    <tr>\n",
       "      <th>5</th>\n",
       "      <td>https://www.homolka.cz/</td>\n",
       "      <td></td>\n",
       "      <td>[257 271 111]</td>\n",
       "    </tr>\n",
       "    <tr>\n",
       "      <th>6</th>\n",
       "      <td>http://www.educozatec.cz/</td>\n",
       "      <td></td>\n",
       "      <td>[603 253 634]</td>\n",
       "    </tr>\n",
       "    <tr>\n",
       "      <th>7</th>\n",
       "      <td>https://www.charitasluknov.cz</td>\n",
       "      <td>602 236 279, 723 352 633</td>\n",
       "      <td>[734 799 081, 733 160 911]</td>\n",
       "    </tr>\n",
       "    <tr>\n",
       "      <th>8</th>\n",
       "      <td>http://www.psychoterapeuti.cz/adresar-psychote...</td>\n",
       "      <td>774 979 714, 257 322 366, 770 623 916, 607 669...</td>\n",
       "      <td>[233 351 741, 776 736 832]</td>\n",
       "    </tr>\n",
       "    <tr>\n",
       "      <th>9</th>\n",
       "      <td>http://www.psychoterapeuti.cz/adresar-psychote...</td>\n",
       "      <td>774 979 714, 257 322 366, 770 623 916, 607 669...</td>\n",
       "      <td>[777 808 424]</td>\n",
       "    </tr>\n",
       "    <tr>\n",
       "      <th>10</th>\n",
       "      <td>http://www.mudrcerny.cz/</td>\n",
       "      <td></td>\n",
       "      <td>[774 918 150]</td>\n",
       "    </tr>\n",
       "    <tr>\n",
       "      <th>11</th>\n",
       "      <td>https://cdz9.cz/</td>\n",
       "      <td>734 785 106</td>\n",
       "      <td>[734 785 106]</td>\n",
       "    </tr>\n",
       "    <tr>\n",
       "      <th>12</th>\n",
       "      <td>http://www.arcana.cz/</td>\n",
       "      <td></td>\n",
       "      <td>[604 207 640]</td>\n",
       "    </tr>\n",
       "    <tr>\n",
       "      <th>13</th>\n",
       "      <td>http://www.ordinace.cz/ordinace/vo/design_10/p...</td>\n",
       "      <td>420 354 692 253, 420 773 111 129, 773 111 129</td>\n",
       "      <td>[354 692 253]</td>\n",
       "    </tr>\n",
       "    <tr>\n",
       "      <th>14</th>\n",
       "      <td>http://www.kodytkova.cz/</td>\n",
       "      <td>721 979 708</td>\n",
       "      <td>[721 979 708]</td>\n",
       "    </tr>\n",
       "    <tr>\n",
       "      <th>15</th>\n",
       "      <td>https://www.socialnipece.cz</td>\n",
       "      <td></td>\n",
       "      <td>[720 053 420]</td>\n",
       "    </tr>\n",
       "    <tr>\n",
       "      <th>16</th>\n",
       "      <td>https://www.znamylekar.cz/jan-kovar/psycholog-...</td>\n",
       "      <td></td>\n",
       "      <td>[381261311, 731567836]</td>\n",
       "    </tr>\n",
       "    <tr>\n",
       "      <th>17</th>\n",
       "      <td>http://www.psy-dobiasova.cz/</td>\n",
       "      <td></td>\n",
       "      <td>[495 511 324]</td>\n",
       "    </tr>\n",
       "    <tr>\n",
       "      <th>18</th>\n",
       "      <td>https://www.ckp-dobrichovice.cz/</td>\n",
       "      <td></td>\n",
       "      <td>[723 603 600, 723 603 600]</td>\n",
       "    </tr>\n",
       "    <tr>\n",
       "      <th>19</th>\n",
       "      <td>https://www.sos-vesnicky.cz</td>\n",
       "      <td>420 233 335 452</td>\n",
       "      <td>[775 720 285]</td>\n",
       "    </tr>\n",
       "    <tr>\n",
       "      <th>20</th>\n",
       "      <td>http://www.aura-psycholog.cz/</td>\n",
       "      <td></td>\n",
       "      <td>[724 135 213]</td>\n",
       "    </tr>\n",
       "    <tr>\n",
       "      <th>21</th>\n",
       "      <td>https://www.pelhrimov.charita.cz</td>\n",
       "      <td>115-451000237, 565 322 539</td>\n",
       "      <td>[731 562 681]</td>\n",
       "    </tr>\n",
       "    <tr>\n",
       "      <th>22</th>\n",
       "      <td>https://www.psychiatr.info/#utm_source=firmy.c...</td>\n",
       "      <td>602 955 155</td>\n",
       "      <td>[602 955 155, 380 120 155]</td>\n",
       "    </tr>\n",
       "    <tr>\n",
       "      <th>23</th>\n",
       "      <td>http://www.motylek.org</td>\n",
       "      <td>775 403 270, 777 964 763, 777 964 764, 775 964...</td>\n",
       "      <td>[775 964 796]</td>\n",
       "    </tr>\n",
       "    <tr>\n",
       "      <th>24</th>\n",
       "      <td>http://www.sdbplzen.cz</td>\n",
       "      <td>377 266 953</td>\n",
       "      <td>[377 266 953]</td>\n",
       "    </tr>\n",
       "    <tr>\n",
       "      <th>25</th>\n",
       "      <td>https://www.darmodej.cz</td>\n",
       "      <td>2223242526272818, 29301234519, 151617181920211...</td>\n",
       "      <td>[775 039 589]</td>\n",
       "    </tr>\n",
       "    <tr>\n",
       "      <th>26</th>\n",
       "      <td>https://www.firmy.cz/detail/384809-mudr-viliam...</td>\n",
       "      <td>420 379 725 814</td>\n",
       "      <td>[379 725 814]</td>\n",
       "    </tr>\n",
       "    <tr>\n",
       "      <th>27</th>\n",
       "      <td>https://www.zlatestranky.cz/profil/H691323</td>\n",
       "      <td>420 354 430 001</td>\n",
       "      <td>[354 430 001]</td>\n",
       "    </tr>\n",
       "    <tr>\n",
       "      <th>28</th>\n",
       "      <td>https://mudr-magdalena-bohacova.business.site/</td>\n",
       "      <td></td>\n",
       "      <td>[731 085 300]</td>\n",
       "    </tr>\n",
       "    <tr>\n",
       "      <th>29</th>\n",
       "      <td>http://www.psychologiebrno.cz/</td>\n",
       "      <td></td>\n",
       "      <td>[602 737 026]</td>\n",
       "    </tr>\n",
       "  </tbody>\n",
       "</table>\n",
       "</div>"
      ],
      "text/plain": [
       "                                                  web  \\\n",
       "0                      https://www.zachranny-kruh.cz/   \n",
       "1                 http://psych.fnplzen.cz/cs/node/839   \n",
       "2                               http://www.porceta.cz   \n",
       "3                      https://www.prevent99.cz/spot/   \n",
       "4                            http://www.detemzlin.cz/   \n",
       "5                             https://www.homolka.cz/   \n",
       "6                           http://www.educozatec.cz/   \n",
       "7                       https://www.charitasluknov.cz   \n",
       "8   http://www.psychoterapeuti.cz/adresar-psychote...   \n",
       "9   http://www.psychoterapeuti.cz/adresar-psychote...   \n",
       "10                           http://www.mudrcerny.cz/   \n",
       "11                                   https://cdz9.cz/   \n",
       "12                              http://www.arcana.cz/   \n",
       "13  http://www.ordinace.cz/ordinace/vo/design_10/p...   \n",
       "14                           http://www.kodytkova.cz/   \n",
       "15                        https://www.socialnipece.cz   \n",
       "16  https://www.znamylekar.cz/jan-kovar/psycholog-...   \n",
       "17                       http://www.psy-dobiasova.cz/   \n",
       "18                   https://www.ckp-dobrichovice.cz/   \n",
       "19                        https://www.sos-vesnicky.cz   \n",
       "20                      http://www.aura-psycholog.cz/   \n",
       "21                   https://www.pelhrimov.charita.cz   \n",
       "22  https://www.psychiatr.info/#utm_source=firmy.c...   \n",
       "23                             http://www.motylek.org   \n",
       "24                             http://www.sdbplzen.cz   \n",
       "25                            https://www.darmodej.cz   \n",
       "26  https://www.firmy.cz/detail/384809-mudr-viliam...   \n",
       "27         https://www.zlatestranky.cz/profil/H691323   \n",
       "28     https://mudr-magdalena-bohacova.business.site/   \n",
       "29                     http://www.psychologiebrno.cz/   \n",
       "\n",
       "                                        Phone Numbers  \\\n",
       "0                                         1 - 197-197   \n",
       "1   377 103 959, 377 441 850, 377 103 111, 377 401...   \n",
       "2                                                       \n",
       "3                                                       \n",
       "4                                         577 922 056   \n",
       "5                                                       \n",
       "6                                                       \n",
       "7                            602 236 279, 723 352 633   \n",
       "8   774 979 714, 257 322 366, 770 623 916, 607 669...   \n",
       "9   774 979 714, 257 322 366, 770 623 916, 607 669...   \n",
       "10                                                      \n",
       "11                                        734 785 106   \n",
       "12                                                      \n",
       "13      420 354 692 253, 420 773 111 129, 773 111 129   \n",
       "14                                        721 979 708   \n",
       "15                                                      \n",
       "16                                                      \n",
       "17                                                      \n",
       "18                                                      \n",
       "19                                    420 233 335 452   \n",
       "20                                                      \n",
       "21                         115-451000237, 565 322 539   \n",
       "22                                        602 955 155   \n",
       "23  775 403 270, 777 964 763, 777 964 764, 775 964...   \n",
       "24                                        377 266 953   \n",
       "25  2223242526272818, 29301234519, 151617181920211...   \n",
       "26                                    420 379 725 814   \n",
       "27                                    420 354 430 001   \n",
       "28                                                      \n",
       "29                                                      \n",
       "\n",
       "                       Telefon  \n",
       "0                [353 230 000]  \n",
       "1                [377 103 111]  \n",
       "2                [777 882 002]  \n",
       "3                [606 089 789]  \n",
       "4                [577 645 231]  \n",
       "5                [257 271 111]  \n",
       "6                [603 253 634]  \n",
       "7   [734 799 081, 733 160 911]  \n",
       "8   [233 351 741, 776 736 832]  \n",
       "9                [777 808 424]  \n",
       "10               [774 918 150]  \n",
       "11               [734 785 106]  \n",
       "12               [604 207 640]  \n",
       "13               [354 692 253]  \n",
       "14               [721 979 708]  \n",
       "15               [720 053 420]  \n",
       "16      [381261311, 731567836]  \n",
       "17               [495 511 324]  \n",
       "18  [723 603 600, 723 603 600]  \n",
       "19               [775 720 285]  \n",
       "20               [724 135 213]  \n",
       "21               [731 562 681]  \n",
       "22  [602 955 155, 380 120 155]  \n",
       "23               [775 964 796]  \n",
       "24               [377 266 953]  \n",
       "25               [775 039 589]  \n",
       "26               [379 725 814]  \n",
       "27               [354 430 001]  \n",
       "28               [731 085 300]  \n",
       "29               [602 737 026]  "
      ]
     },
     "execution_count": 15,
     "metadata": {},
     "output_type": "execute_result"
    }
   ],
   "source": [
    "preview.head(30)"
   ]
  },
  {
   "cell_type": "code",
   "execution_count": null,
   "metadata": {},
   "outputs": [],
   "source": []
  }
 ],
 "metadata": {
  "kernelspec": {
   "display_name": "Python 3",
   "language": "python",
   "name": "python3"
  },
  "language_info": {
   "codemirror_mode": {
    "name": "ipython",
    "version": 3
   },
   "file_extension": ".py",
   "mimetype": "text/x-python",
   "name": "python",
   "nbconvert_exporter": "python",
   "pygments_lexer": "ipython3",
   "version": "3.11.4"
  }
 },
 "nbformat": 4,
 "nbformat_minor": 2
}
