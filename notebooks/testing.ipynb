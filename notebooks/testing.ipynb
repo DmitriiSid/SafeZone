{
 "cells": [
  {
   "cell_type": "code",
   "execution_count": 5,
   "metadata": {},
   "outputs": [],
   "source": [
    "import pandas as pd\n",
    "import requests\n",
    "import pandas as pd\n",
    "from bs4 import BeautifulSoup\n",
    "import re\n",
    "from tqdm import tqdm \n",
    "from urllib.parse import urljoin\n",
    "db_pomoci = pd.read_csv(\"db_pomoci.csv\")"
   ]
  },
  {
   "cell_type": "code",
   "execution_count": 6,
   "metadata": {},
   "outputs": [],
   "source": [
    "black_list = ['http://www.dc-brno.cz']\n",
    "df = db_pomoci.rename(columns={\"Webová stránka\" : \"web\", \"Název\":\"nazev\"})\n",
    "df = df[(~df[\"web\"].isna()) & (~df['web'].isin(black_list))]\n",
    "df.loc[df['web'].str.startswith('www'), 'web'] = df['web'].str.replace('^www', 'https://www', regex=True)\n",
    "# df['web'] = df['web'].str.replace('https://www', 'www')\n",
    "# df['web'] = df['web'].str.replace('www', 'https://www')\n",
    "df_agg = df.groupby(\"web\")[\"Telefon\"].agg(list)\n",
    "df_agg[\"email\"] = df.groupby(\"web\")[\"E-mail\"].agg(list)\n",
    "df_agg = df_agg.reset_index().rename(columns={'web': 'web', 'Telefon': 'Telefon'})\n",
    "df_agg = pd.DataFrame(df_agg)\n",
    "#df.sort_values(\"web\")\n"
   ]
  },
  {
   "cell_type": "code",
   "execution_count": 3,
   "metadata": {},
   "outputs": [
    {
     "data": {
      "text/html": [
       "<div>\n",
       "<style scoped>\n",
       "    .dataframe tbody tr th:only-of-type {\n",
       "        vertical-align: middle;\n",
       "    }\n",
       "\n",
       "    .dataframe tbody tr th {\n",
       "        vertical-align: top;\n",
       "    }\n",
       "\n",
       "    .dataframe thead th {\n",
       "        text-align: right;\n",
       "    }\n",
       "</style>\n",
       "<table border=\"1\" class=\"dataframe\">\n",
       "  <thead>\n",
       "    <tr style=\"text-align: right;\">\n",
       "      <th></th>\n",
       "      <th>nazev</th>\n",
       "      <th>Kategorie</th>\n",
       "      <th>Adresa</th>\n",
       "      <th>E-mail</th>\n",
       "      <th>Telefon</th>\n",
       "      <th>web</th>\n",
       "    </tr>\n",
       "  </thead>\n",
       "  <tbody>\n",
       "    <tr>\n",
       "      <th>63</th>\n",
       "      <td>CDZ Brno I (Práh jižní Morava)</td>\n",
       "      <td>CDZ - Centrum duševního zdraví</td>\n",
       "      <td>Štěpánská 2, Brno-Trnitá (část) 602 00, Jihomo...</td>\n",
       "      <td>terennitym@prah-brno.cz</td>\n",
       "      <td>733 643 379</td>\n",
       "      <td>https://www.cdz-brno.cz/</td>\n",
       "    </tr>\n",
       "    <tr>\n",
       "      <th>64</th>\n",
       "      <td>CDZ Brno II (Práh jižní Morava)</td>\n",
       "      <td>CDZ - Centrum duševního zdraví</td>\n",
       "      <td>Jugoslávská 17, Zábrdovice (Brno-sever) (část)...</td>\n",
       "      <td>cdz@pnbrno.cz</td>\n",
       "      <td>737 390 737</td>\n",
       "      <td>https://www.pnbrno.cz/centrum-dusevniho-zdravi/</td>\n",
       "    </tr>\n",
       "    <tr>\n",
       "      <th>321</th>\n",
       "      <td>Odborné sociální poradenství - poradna PřES PRÁH</td>\n",
       "      <td>Odborné sociální poradenství</td>\n",
       "      <td>Tuřanská 12, Brno-Tuřany (část) 620 00, Jihomo...</td>\n",
       "      <td>jana.wudyova@prah-brno.cz</td>\n",
       "      <td>734 850 546</td>\n",
       "      <td>http://www.prah-brno.cz/novinky/2-uncategorise...</td>\n",
       "    </tr>\n",
       "    <tr>\n",
       "      <th>492</th>\n",
       "      <td>Pedagogicko-psychologická poradna Brno, příspě...</td>\n",
       "      <td>Pedagogicko-psychologické poradny</td>\n",
       "      <td>Hybešova 253/15, Staré Brno, 602 00 Brno</td>\n",
       "      <td>hybesova@pppbrno.cz</td>\n",
       "      <td>541 422 822</td>\n",
       "      <td>https://www.pppbrno.cz/cs/</td>\n",
       "    </tr>\n",
       "    <tr>\n",
       "      <th>546</th>\n",
       "      <td>Černý Vojtěch PhDr., Ph.D.</td>\n",
       "      <td>Psychoterapeuti</td>\n",
       "      <td>Františkánská 6, 602 00 Brno</td>\n",
       "      <td>info@cervoy.cz</td>\n",
       "      <td>602 737 026</td>\n",
       "      <td>http://www.psychologiebrno.cz/</td>\n",
       "    </tr>\n",
       "    <tr>\n",
       "      <th>1428</th>\n",
       "      <td>Nízkoprahový klub Kumbál</td>\n",
       "      <td>Nízkoprahové zařízení</td>\n",
       "      <td>Vídeňská 14/78, Brno-střed, Štýřice, 639 00 Brno</td>\n",
       "      <td>gajdziok.jan@brno.cz</td>\n",
       "      <td>543 210 670</td>\n",
       "      <td>http://www.brno.cz</td>\n",
       "    </tr>\n",
       "  </tbody>\n",
       "</table>\n",
       "</div>"
      ],
      "text/plain": [
       "                                                  nazev  \\\n",
       "63                       CDZ Brno I (Práh jižní Morava)   \n",
       "64                      CDZ Brno II (Práh jižní Morava)   \n",
       "321    Odborné sociální poradenství - poradna PřES PRÁH   \n",
       "492   Pedagogicko-psychologická poradna Brno, příspě...   \n",
       "546                          Černý Vojtěch PhDr., Ph.D.   \n",
       "1428                           Nízkoprahový klub Kumbál   \n",
       "\n",
       "                              Kategorie  \\\n",
       "63       CDZ - Centrum duševního zdraví   \n",
       "64       CDZ - Centrum duševního zdraví   \n",
       "321        Odborné sociální poradenství   \n",
       "492   Pedagogicko-psychologické poradny   \n",
       "546                     Psychoterapeuti   \n",
       "1428              Nízkoprahové zařízení   \n",
       "\n",
       "                                                 Adresa  \\\n",
       "63    Štěpánská 2, Brno-Trnitá (část) 602 00, Jihomo...   \n",
       "64    Jugoslávská 17, Zábrdovice (Brno-sever) (část)...   \n",
       "321   Tuřanská 12, Brno-Tuřany (část) 620 00, Jihomo...   \n",
       "492            Hybešova 253/15, Staré Brno, 602 00 Brno   \n",
       "546                        Františkánská 6, 602 00 Brno   \n",
       "1428   Vídeňská 14/78, Brno-střed, Štýřice, 639 00 Brno   \n",
       "\n",
       "                         E-mail      Telefon  \\\n",
       "63      terennitym@prah-brno.cz  733 643 379   \n",
       "64                cdz@pnbrno.cz  737 390 737   \n",
       "321   jana.wudyova@prah-brno.cz  734 850 546   \n",
       "492         hybesova@pppbrno.cz  541 422 822   \n",
       "546              info@cervoy.cz  602 737 026   \n",
       "1428       gajdziok.jan@brno.cz  543 210 670   \n",
       "\n",
       "                                                    web  \n",
       "63                             https://www.cdz-brno.cz/  \n",
       "64      https://www.pnbrno.cz/centrum-dusevniho-zdravi/  \n",
       "321   http://www.prah-brno.cz/novinky/2-uncategorise...  \n",
       "492                          https://www.pppbrno.cz/cs/  \n",
       "546                      http://www.psychologiebrno.cz/  \n",
       "1428                                 http://www.brno.cz  "
      ]
     },
     "execution_count": 3,
     "metadata": {},
     "output_type": "execute_result"
    }
   ],
   "source": [
    "df[df[\"web\"].str.contains('brno')]"
   ]
  },
  {
   "cell_type": "code",
   "execution_count": 4,
   "metadata": {},
   "outputs": [],
   "source": [
    "urls = set(df[\"web\"])\n"
   ]
  },
  {
   "cell_type": "code",
   "execution_count": 8,
   "metadata": {},
   "outputs": [
    {
     "name": "stderr",
     "output_type": "stream",
     "text": [
      "  0%|          | 0/870 [00:00<?, ?it/s]"
     ]
    },
    {
     "name": "stdout",
     "output_type": "stream",
     "text": [
      "Scraping http://www.pdz.cz\n"
     ]
    },
    {
     "name": "stderr",
     "output_type": "stream",
     "text": [
      "  0%|          | 2/870 [00:01<08:18,  1.74it/s]"
     ]
    },
    {
     "name": "stdout",
     "output_type": "stream",
     "text": [
      "Done\n",
      "\n",
      "Scraping http://www.medsix.cz/?option=com_content&view=article&id=48&Itemid=120#utm_source=firmy.cz&utm_medium=ppd&utm_campaign=firmy.cz-12830443\n",
      "Done\n",
      "\n",
      "Scraping https://www.osbonanza.cz\n"
     ]
    },
    {
     "name": "stderr",
     "output_type": "stream",
     "text": [
      "  0%|          | 3/870 [00:03<16:09,  1.12s/it]"
     ]
    },
    {
     "name": "stdout",
     "output_type": "stream",
     "text": [
      "Done\n",
      "\n",
      "Scraping https://www.svetlokadanzs.cz\n"
     ]
    },
    {
     "name": "stderr",
     "output_type": "stream",
     "text": [
      "  1%|          | 5/870 [00:03<07:41,  1.87it/s]"
     ]
    },
    {
     "name": "stdout",
     "output_type": "stream",
     "text": [
      "Done\n",
      "\n",
      "Scraping https://jindrichuvhradec.charita.cz/sluzba/852/\n",
      "Done\n",
      "\n",
      "Scraping https://www.homeopatiecz.com/\n"
     ]
    },
    {
     "name": "stderr",
     "output_type": "stream",
     "text": [
      "  1%|          | 7/870 [00:04<05:36,  2.57it/s]"
     ]
    },
    {
     "name": "stdout",
     "output_type": "stream",
     "text": [
      "Done\n",
      "\n",
      "Scraping https://www.hipojupiter.cz\n",
      "Done\n",
      "\n",
      "Scraping http://www.ponton.cz/\n"
     ]
    },
    {
     "name": "stderr",
     "output_type": "stream",
     "text": [
      "  1%|          | 8/870 [00:04<07:50,  1.83it/s]"
     ]
    },
    {
     "name": "stdout",
     "output_type": "stream",
     "text": [
      "Done\n",
      "\n",
      "Scraping https://www.znamylekar.cz/vasilij-storcak/psychiatr/karlovy-vary\n"
     ]
    },
    {
     "name": "stderr",
     "output_type": "stream",
     "text": [
      "  1%|          | 9/870 [00:05<08:46,  1.64it/s]"
     ]
    },
    {
     "name": "stdout",
     "output_type": "stream",
     "text": [
      "Done\n",
      "\n",
      "Scraping http://www.pppkhk.cz/\n"
     ]
    },
    {
     "name": "stderr",
     "output_type": "stream",
     "text": [
      "  1%|          | 10/870 [00:09<20:54,  1.46s/it]"
     ]
    },
    {
     "name": "stdout",
     "output_type": "stream",
     "text": [
      "Done\n",
      "\n",
      "Scraping https://euc.cz/nase-zarizeni/kliniky/euc-klinika-ceske-budejovice/psychiatrie/\n"
     ]
    },
    {
     "name": "stderr",
     "output_type": "stream",
     "text": [
      "  1%|▏         | 11/870 [00:09<17:28,  1.22s/it]"
     ]
    },
    {
     "name": "stdout",
     "output_type": "stream",
     "text": [
      "Done\n",
      "\n",
      "Scraping http://www.adiktologickecentrum.cz/kontakt/10-kolin\n"
     ]
    },
    {
     "name": "stderr",
     "output_type": "stream",
     "text": [
      "  1%|▏         | 12/870 [00:11<17:32,  1.23s/it]"
     ]
    },
    {
     "name": "stdout",
     "output_type": "stream",
     "text": [
      "Done\n",
      "\n",
      "Scraping http://www.armadaspasy.cz/havirov\n"
     ]
    },
    {
     "name": "stderr",
     "output_type": "stream",
     "text": [
      "  1%|▏         | 13/870 [00:11<15:17,  1.07s/it]"
     ]
    },
    {
     "name": "stdout",
     "output_type": "stream",
     "text": [
      "Done\n",
      "\n",
      "Scraping http://www.psychoterapeuti.cz/adresar-psychoterapeutu/item/64-vrba-ludek-phdr\n"
     ]
    },
    {
     "name": "stderr",
     "output_type": "stream",
     "text": [
      "  2%|▏         | 14/870 [00:12<12:41,  1.12it/s]"
     ]
    },
    {
     "name": "stdout",
     "output_type": "stream",
     "text": [
      "Done\n",
      "\n",
      "Scraping http://palimpsest.cz/\n"
     ]
    },
    {
     "name": "stderr",
     "output_type": "stream",
     "text": [
      "  2%|▏         | 15/870 [00:14<19:14,  1.35s/it]"
     ]
    },
    {
     "name": "stdout",
     "output_type": "stream",
     "text": [
      "Done\n",
      "\n",
      "Scraping http://www.psychoterapeuti.cz/adresar-psychoterapeutu/item/60-telerovsky-roman-mgr\n"
     ]
    },
    {
     "name": "stderr",
     "output_type": "stream",
     "text": [
      "  2%|▏         | 17/870 [00:15<11:04,  1.28it/s]"
     ]
    },
    {
     "name": "stdout",
     "output_type": "stream",
     "text": [
      "Done\n",
      "\n",
      "Scraping https://www.jablonec.diakonie.cz\n",
      "Done\n",
      "\n",
      "Scraping http://psychologslany.cz/index_sl.html\n"
     ]
    },
    {
     "name": "stderr",
     "output_type": "stream",
     "text": [
      "  2%|▏         | 18/870 [00:15<08:21,  1.70it/s]"
     ]
    },
    {
     "name": "stdout",
     "output_type": "stream",
     "text": [
      "Error fetching http://psychologslany.cz/index_sl.html: 404 Client Error: Not Found for url: https://psychologslany.cz/index_sl.html\n",
      "Done\n",
      "\n",
      "Scraping https://www.cppt.cz/nase-zarizeni/adiktologicka-a-preventivni-ambulance-21\n"
     ]
    },
    {
     "name": "stderr",
     "output_type": "stream",
     "text": [
      "  2%|▏         | 19/870 [00:15<07:52,  1.80it/s]"
     ]
    },
    {
     "name": "stdout",
     "output_type": "stream",
     "text": [
      "Done\n",
      "\n",
      "Scraping http://www.at-ambulance.cz/\n"
     ]
    },
    {
     "name": "stderr",
     "output_type": "stream",
     "text": [
      "  2%|▏         | 20/870 [00:16<09:01,  1.57it/s]"
     ]
    },
    {
     "name": "stdout",
     "output_type": "stream",
     "text": [
      "Done\n",
      "\n",
      "Scraping http://znojmo.charita.cz/\n"
     ]
    },
    {
     "name": "stderr",
     "output_type": "stream",
     "text": [
      "  2%|▏         | 21/870 [00:17<11:16,  1.25it/s]"
     ]
    },
    {
     "name": "stdout",
     "output_type": "stream",
     "text": [
      "Done\n",
      "\n",
      "Scraping https://www.kocero.cz\n",
      "Done\n",
      "\n",
      "Scraping https://www.hranice.charita.cz\n"
     ]
    },
    {
     "name": "stderr",
     "output_type": "stream",
     "text": [
      "  3%|▎         | 23/870 [00:17<06:45,  2.09it/s]"
     ]
    },
    {
     "name": "stdout",
     "output_type": "stream",
     "text": [
      "Done\n",
      "\n",
      "Scraping https://www.csstachov.cz/rodinna-poradna/o-poradne\n"
     ]
    },
    {
     "name": "stderr",
     "output_type": "stream",
     "text": [
      "  3%|▎         | 24/870 [00:19<09:05,  1.55it/s]"
     ]
    },
    {
     "name": "stdout",
     "output_type": "stream",
     "text": [
      "Done\n",
      "\n",
      "Scraping http://www.riaps.cz/ambulance\n",
      "Error fetching http://www.riaps.cz/ambulance: 403 Client Error: Forbidden for url: http://www.riaps.cz/ambulance\n",
      "Done\n",
      "\n",
      "Scraping http://www.psychicus.cz\n"
     ]
    },
    {
     "name": "stderr",
     "output_type": "stream",
     "text": [
      "  3%|▎         | 26/870 [00:20<09:10,  1.53it/s]"
     ]
    },
    {
     "name": "stdout",
     "output_type": "stream",
     "text": [
      "Done\n",
      "\n",
      "Scraping https://psychiatriekv.cz/\n"
     ]
    },
    {
     "name": "stderr",
     "output_type": "stream",
     "text": [
      "  3%|▎         | 27/870 [00:20<08:06,  1.73it/s]"
     ]
    },
    {
     "name": "stdout",
     "output_type": "stream",
     "text": [
      "Done\n",
      "\n",
      "Scraping http://www.psychoterapeuti.cz/adresar-psychoterapeutu/item/67-sojka-vlastimil-phdr\n"
     ]
    },
    {
     "name": "stderr",
     "output_type": "stream",
     "text": [
      "  3%|▎         | 28/870 [00:21<07:14,  1.94it/s]"
     ]
    },
    {
     "name": "stdout",
     "output_type": "stream",
     "text": [
      "Done\n",
      "\n",
      "Scraping http://www.svetlokadanzs.cz\n"
     ]
    },
    {
     "name": "stderr",
     "output_type": "stream",
     "text": [
      "  4%|▎         | 31/870 [00:22<06:31,  2.14it/s]"
     ]
    },
    {
     "name": "stdout",
     "output_type": "stream",
     "text": [
      "Done\n",
      "\n",
      "Scraping http://www.psychiatrie-konupcikova.cz/kontakt.htm\n",
      "Done\n",
      "\n",
      "Scraping https://psychologicka-poradna-tabor.cz\n",
      "Done\n",
      "\n",
      "Scraping https://www.firmy.cz/detail/384787-mudr-zdenka-nejdlova-domazlice-horejsi-predmesti.html\n"
     ]
    },
    {
     "name": "stderr",
     "output_type": "stream",
     "text": [
      "  4%|▎         | 32/870 [00:23<06:09,  2.27it/s]"
     ]
    },
    {
     "name": "stdout",
     "output_type": "stream",
     "text": [
      "Done\n",
      "\n",
      "Scraping http://www.jahoda.cz/\n"
     ]
    },
    {
     "name": "stderr",
     "output_type": "stream",
     "text": [
      "  4%|▍         | 33/870 [00:23<05:54,  2.36it/s]"
     ]
    },
    {
     "name": "stdout",
     "output_type": "stream",
     "text": [
      "Done\n",
      "\n",
      "Scraping http://www.profem.cz/\n"
     ]
    },
    {
     "name": "stderr",
     "output_type": "stream",
     "text": [
      "  4%|▍         | 35/870 [00:23<04:21,  3.19it/s]"
     ]
    },
    {
     "name": "stdout",
     "output_type": "stream",
     "text": [
      "Done\n",
      "\n",
      "Scraping https://www.ckrumlov.charita.cz\n",
      "Done\n",
      "\n",
      "Scraping http://www.csdzo.unas.cz/\n",
      "Done\n",
      "\n",
      "Scraping https://www.dopatra.cz\n"
     ]
    },
    {
     "name": "stderr",
     "output_type": "stream",
     "text": [
      "  4%|▍         | 38/870 [00:24<03:09,  4.39it/s]"
     ]
    },
    {
     "name": "stdout",
     "output_type": "stream",
     "text": [
      "Done\n",
      "\n",
      "Scraping https://www.sance.chrudim.cz\n",
      "Error fetching https://www.sance.chrudim.cz: HTTPSConnectionPool(host='www.sance.chrudim.cz', port=443): Max retries exceeded with url: / (Caused by SSLError(SSLError(1, '[SSL: DH_KEY_TOO_SMALL] dh key too small (_ssl.c:1002)')))\n",
      "Done\n",
      "\n",
      "Scraping https://www.znamylekar.cz/nadezda-kramarova/psychiatr/ceske-budejovice\n"
     ]
    },
    {
     "name": "stderr",
     "output_type": "stream",
     "text": [
      "  4%|▍         | 39/870 [00:26<09:29,  1.46it/s]"
     ]
    },
    {
     "name": "stdout",
     "output_type": "stream",
     "text": [
      "Done\n",
      "\n",
      "Scraping http://www.arka-alkohol.cz/\n"
     ]
    },
    {
     "name": "stderr",
     "output_type": "stream",
     "text": [
      "  5%|▍         | 40/870 [00:26<08:04,  1.71it/s]"
     ]
    },
    {
     "name": "stdout",
     "output_type": "stream",
     "text": [
      "Done\n",
      "\n",
      "Scraping http://www.sance.chrudim.cz/\n"
     ]
    },
    {
     "name": "stderr",
     "output_type": "stream",
     "text": [
      "  5%|▍         | 41/870 [00:27<07:21,  1.88it/s]"
     ]
    },
    {
     "name": "stdout",
     "output_type": "stream",
     "text": [
      "Done\n",
      "\n",
      "Scraping https://www.modrykriz.org/\n"
     ]
    },
    {
     "name": "stderr",
     "output_type": "stream",
     "text": [
      "  5%|▍         | 42/870 [00:28<09:16,  1.49it/s]"
     ]
    },
    {
     "name": "stdout",
     "output_type": "stream",
     "text": [
      "Done\n",
      "\n",
      "Scraping http://www.openhousebruntal.cz/\n"
     ]
    },
    {
     "name": "stderr",
     "output_type": "stream",
     "text": [
      "  5%|▍         | 43/870 [00:28<07:39,  1.80it/s]"
     ]
    },
    {
     "name": "stdout",
     "output_type": "stream",
     "text": [
      "Done\n",
      "\n",
      "Scraping http://www.psy-dobiasova.cz/\n",
      "Done\n",
      "\n",
      "Scraping https://www.nadeje.cz\n"
     ]
    },
    {
     "name": "stderr",
     "output_type": "stream",
     "text": [
      "  5%|▌         | 45/870 [00:29<07:34,  1.82it/s]"
     ]
    },
    {
     "name": "stdout",
     "output_type": "stream",
     "text": [
      "Done\n",
      "\n",
      "Scraping https://klatovy.nemocnicepk.cz\n"
     ]
    },
    {
     "name": "stderr",
     "output_type": "stream",
     "text": [
      "  5%|▌         | 46/870 [00:29<07:04,  1.94it/s]"
     ]
    },
    {
     "name": "stdout",
     "output_type": "stream",
     "text": [
      "Done\n",
      "\n",
      "Scraping http://www.pppkarvina.cz/\n",
      "Done\n",
      "\n",
      "Scraping psychoporadnahk.cz\n",
      "Error fetching psychoporadnahk.cz: Invalid URL 'psychoporadnahk.cz': No scheme supplied. Perhaps you meant https://psychoporadnahk.cz?\n",
      "Done\n",
      "\n",
      "Scraping https://www.ostrava-psycholog.cz/\n"
     ]
    },
    {
     "name": "stderr",
     "output_type": "stream",
     "text": [
      "  6%|▌         | 49/870 [00:30<04:16,  3.20it/s]"
     ]
    },
    {
     "name": "stdout",
     "output_type": "stream",
     "text": [
      "Done\n",
      "\n",
      "Scraping https://www.firmy.cz/detail/12762133-norbertinum-pelhrimov.html\n"
     ]
    },
    {
     "name": "stderr",
     "output_type": "stream",
     "text": [
      "  6%|▌         | 50/870 [00:30<05:40,  2.41it/s]"
     ]
    },
    {
     "name": "stdout",
     "output_type": "stream",
     "text": [
      "Done\n",
      "\n",
      "Scraping http://www.psychoterapeuti.cz/adresar-psychoterapeutu/item/92-nemcova-nadezda-phdr\n"
     ]
    },
    {
     "name": "stderr",
     "output_type": "stream",
     "text": [
      "  6%|▌         | 51/870 [00:31<05:30,  2.48it/s]"
     ]
    },
    {
     "name": "stdout",
     "output_type": "stream",
     "text": [
      "Done\n",
      "\n",
      "Scraping http://www.michaelord.eu/\n"
     ]
    },
    {
     "name": "stderr",
     "output_type": "stream",
     "text": [
      "  6%|▌         | 52/870 [00:31<04:58,  2.74it/s]"
     ]
    },
    {
     "name": "stdout",
     "output_type": "stream",
     "text": [
      "Done\n",
      "\n",
      "Scraping http://www.tadyated.org/\n"
     ]
    },
    {
     "name": "stderr",
     "output_type": "stream",
     "text": [
      "  6%|▌         | 53/870 [00:32<06:07,  2.22it/s]"
     ]
    },
    {
     "name": "stdout",
     "output_type": "stream",
     "text": [
      "Done\n",
      "\n",
      "Scraping https://www.doktor.cz/doktor/mudr-vaclav-ferus-psychiatrie-navykove-nemoci-9110/mudr-vaclav-ferus-u-nemocnice-1161-karlovy-vary-36301-10622\n"
     ]
    },
    {
     "name": "stderr",
     "output_type": "stream",
     "text": [
      "  6%|▌         | 54/870 [00:32<06:05,  2.23it/s]"
     ]
    },
    {
     "name": "stdout",
     "output_type": "stream",
     "text": [
      "Done\n",
      "\n",
      "Scraping https://www.cssdomazlice.cz/rodinna-poradna-domazlice/o-nas/\n"
     ]
    },
    {
     "name": "stderr",
     "output_type": "stream",
     "text": [
      "  6%|▋         | 55/870 [00:33<06:51,  1.98it/s]"
     ]
    },
    {
     "name": "stdout",
     "output_type": "stream",
     "text": [
      "Done\n",
      "\n",
      "Scraping https://www.opava.eurotopia.cz\n",
      "Error fetching https://www.opava.eurotopia.cz: HTTPSConnectionPool(host='www.opava.eurotopia.cz', port=443): Max retries exceeded with url: / (Caused by SSLError(CertificateError(\"hostname 'www.opava.eurotopia.cz' doesn't match 'm137.server4u.cz'\")))\n",
      "Done\n",
      "\n",
      "Scraping http://www.fenix-centrum.cz/centrum-dusevniho-zdravi\n"
     ]
    },
    {
     "name": "stderr",
     "output_type": "stream",
     "text": [
      "  7%|▋         | 57/870 [00:33<04:27,  3.04it/s]"
     ]
    },
    {
     "name": "stdout",
     "output_type": "stream",
     "text": [
      "Error fetching http://www.fenix-centrum.cz/centrum-dusevniho-zdravi: 404 Client Error: Not Found for url: https://www.fenix-centrum.cz/centrum-dusevniho-zdravi/\n",
      "Done\n",
      "\n",
      "Scraping https://pestalozzi.cz/\n"
     ]
    },
    {
     "name": "stderr",
     "output_type": "stream",
     "text": [
      "  7%|▋         | 59/870 [00:34<04:29,  3.01it/s]"
     ]
    },
    {
     "name": "stdout",
     "output_type": "stream",
     "text": [
      "Done\n",
      "\n",
      "Scraping http://www.charitahk.cz/\n",
      "Done\n",
      "\n",
      "Scraping http://www.iqrs.cz\n"
     ]
    },
    {
     "name": "stderr",
     "output_type": "stream",
     "text": [
      "  7%|▋         | 61/870 [00:36<08:34,  1.57it/s]"
     ]
    },
    {
     "name": "stdout",
     "output_type": "stream",
     "text": [
      "Done\n",
      "\n",
      "Scraping http://www.dopravni-psychologicke-pracovist.webnode.cz/\n",
      "Error fetching http://www.dopravni-psychologicke-pracovist.webnode.cz/: 404 Client Error: Not Found for url: http://www.dopravni-psychologicke-pracovist.webnode.cz/\n",
      "Done\n",
      "\n",
      "Scraping http://www.detemzlin.cz/\n",
      "Done\n",
      "\n",
      "Scraping https://www.uhradiste.charita.cz/nase-sluzby/obcanska-poradna-uherske-hradiste/\n"
     ]
    },
    {
     "name": "stderr",
     "output_type": "stream",
     "text": [
      "  7%|▋         | 65/870 [00:36<03:38,  3.69it/s]"
     ]
    },
    {
     "name": "stdout",
     "output_type": "stream",
     "text": [
      "Done\n",
      "\n",
      "Scraping http://www.psychologietesin.cz/\n",
      "Done\n",
      "\n",
      "Scraping https://www.psychologicka-poradna-hk.cz\n",
      "Done\n",
      "\n",
      "Scraping http://www.icmck.cz/\n",
      "Done\n",
      "\n",
      "Scraping https://www.utocistecheb.cz\n"
     ]
    },
    {
     "name": "stderr",
     "output_type": "stream",
     "text": [
      "  8%|▊         | 67/870 [00:37<03:11,  4.19it/s]"
     ]
    },
    {
     "name": "stdout",
     "output_type": "stream",
     "text": [
      "Done\n",
      "\n",
      "Scraping https://www.slezskadiakonie.cz\n"
     ]
    },
    {
     "name": "stderr",
     "output_type": "stream",
     "text": [
      "  8%|▊         | 68/870 [00:37<03:54,  3.43it/s]"
     ]
    },
    {
     "name": "stdout",
     "output_type": "stream",
     "text": [
      "Done\n",
      "\n",
      "Scraping http://www.bunkr.cz/\n"
     ]
    },
    {
     "name": "stderr",
     "output_type": "stream",
     "text": [
      "  8%|▊         | 69/870 [00:38<03:43,  3.58it/s]"
     ]
    },
    {
     "name": "stdout",
     "output_type": "stream",
     "text": [
      "Done\n",
      "\n",
      "Scraping http://www.psycholog-slany.cz/\n"
     ]
    },
    {
     "name": "stderr",
     "output_type": "stream",
     "text": [
      "  8%|▊         | 70/870 [00:39<08:31,  1.56it/s]"
     ]
    },
    {
     "name": "stdout",
     "output_type": "stream",
     "text": [
      "Done\n",
      "\n",
      "Scraping http://psychiatrie-rokycany.cz/\n"
     ]
    },
    {
     "name": "stderr",
     "output_type": "stream",
     "text": [
      "  8%|▊         | 71/870 [00:41<12:17,  1.08it/s]"
     ]
    },
    {
     "name": "stdout",
     "output_type": "stream",
     "text": [
      "Done\n",
      "\n",
      "Scraping http://www.vsetin.caritas.cz\n"
     ]
    },
    {
     "name": "stderr",
     "output_type": "stream",
     "text": [
      "  8%|▊         | 72/870 [00:41<09:48,  1.36it/s]"
     ]
    },
    {
     "name": "stdout",
     "output_type": "stream",
     "text": [
      "Done\n",
      "\n",
      "Scraping https://www.firmy.cz/detail/12829455-mudr-lenka-puflerova-psychiatrie-plzen-vychodni-predmesti.html\n"
     ]
    },
    {
     "name": "stderr",
     "output_type": "stream",
     "text": [
      "  8%|▊         | 73/870 [00:45<21:31,  1.62s/it]"
     ]
    },
    {
     "name": "stdout",
     "output_type": "stream",
     "text": [
      "Done\n",
      "\n",
      "Scraping http://www.ponton.cz\n"
     ]
    },
    {
     "name": "stderr",
     "output_type": "stream",
     "text": [
      "  9%|▊         | 74/870 [00:47<20:14,  1.53s/it]"
     ]
    },
    {
     "name": "stdout",
     "output_type": "stream",
     "text": [
      "Done\n",
      "\n",
      "Scraping http://www.cpdm.cz\n",
      "Done\n",
      "\n",
      "Scraping http://www.psychoterapeuti.cz/adresar-psychoterapeutu/item/37-konopasek-petr-mgr\n"
     ]
    },
    {
     "name": "stderr",
     "output_type": "stream",
     "text": [
      "  9%|▊         | 76/870 [00:47<12:31,  1.06it/s]"
     ]
    },
    {
     "name": "stdout",
     "output_type": "stream",
     "text": [
      "Done\n",
      "\n",
      "Scraping https://www.podaneruce.cz\n"
     ]
    },
    {
     "name": "stderr",
     "output_type": "stream",
     "text": [
      "  9%|▉         | 78/870 [00:49<12:40,  1.04it/s]"
     ]
    },
    {
     "name": "stdout",
     "output_type": "stream",
     "text": [
      "Done\n",
      "\n",
      "Scraping https://psychoterapie-ostrava-praha.cz/Ostrava.php\n",
      "Done\n",
      "\n",
      "Scraping https://www.clovekvtisni.cz/co-delame/socialni-prace-v-cr/plzensky-kraj\n",
      "Error fetching https://www.clovekvtisni.cz/co-delame/socialni-prace-v-cr/plzensky-kraj: HTTPSConnectionPool(host='www.clovekvtisni.cz', port=443): Max retries exceeded with url: /co-delame/socialni-prace-v-cr/plzensky-kraj (Caused by SSLError(SSLCertVerificationError(1, '[SSL: CERTIFICATE_VERIFY_FAILED] certificate verify failed: unable to get local issuer certificate (_ssl.c:1002)')))\n",
      "Done\n",
      "\n",
      "Scraping https://www.firmy.cz/detail/1355618-mgr-iva-matejckova-zezulova-tachov.html\n"
     ]
    },
    {
     "name": "stderr",
     "output_type": "stream",
     "text": [
      "  9%|▉         | 81/870 [00:50<07:44,  1.70it/s]"
     ]
    },
    {
     "name": "stdout",
     "output_type": "stream",
     "text": [
      "Done\n",
      "\n",
      "Scraping https://www.registrlekaru.cz/ordinace-psychologie-marcela-kelucova-20975/\n",
      "Done\n",
      "\n",
      "Scraping http://www.dchp.cz/\n"
     ]
    },
    {
     "name": "stderr",
     "output_type": "stream",
     "text": [
      " 10%|▉         | 83/870 [00:51<05:19,  2.46it/s]"
     ]
    },
    {
     "name": "stdout",
     "output_type": "stream",
     "text": [
      "Done\n",
      "\n",
      "Scraping https://koparkovamonika.cz/\n",
      "Done\n",
      "\n",
      "Scraping https://www.diakonievsetin.cz\n"
     ]
    },
    {
     "name": "stderr",
     "output_type": "stream",
     "text": [
      " 10%|▉         | 84/870 [00:51<04:14,  3.09it/s]"
     ]
    },
    {
     "name": "stdout",
     "output_type": "stream",
     "text": [
      "Done\n",
      "\n",
      "Scraping https://www.oskvetina.cz\n"
     ]
    },
    {
     "name": "stderr",
     "output_type": "stream",
     "text": [
      " 10%|▉         | 85/870 [00:52<07:18,  1.79it/s]"
     ]
    },
    {
     "name": "stdout",
     "output_type": "stream",
     "text": [
      "Done\n",
      "\n",
      "Scraping https://www.ostrava.charita.cz\n"
     ]
    },
    {
     "name": "stderr",
     "output_type": "stream",
     "text": [
      " 10%|▉         | 86/870 [00:52<06:00,  2.18it/s]"
     ]
    },
    {
     "name": "stdout",
     "output_type": "stream",
     "text": [
      "Done\n",
      "\n",
      "Scraping https://cdz9.cz/\n"
     ]
    },
    {
     "name": "stderr",
     "output_type": "stream",
     "text": [
      " 10%|█         | 87/870 [00:55<13:34,  1.04s/it]"
     ]
    },
    {
     "name": "stdout",
     "output_type": "stream",
     "text": [
      "Done\n",
      "\n",
      "Scraping https://www.diteakun.cz\n"
     ]
    },
    {
     "name": "stderr",
     "output_type": "stream",
     "text": [
      " 10%|█         | 88/870 [00:56<14:58,  1.15s/it]"
     ]
    },
    {
     "name": "stdout",
     "output_type": "stream",
     "text": [
      "Done\n",
      "\n",
      "Scraping https://www.a-shine.cz/\n"
     ]
    },
    {
     "name": "stderr",
     "output_type": "stream",
     "text": [
      " 10%|█         | 89/870 [00:57<13:39,  1.05s/it]"
     ]
    },
    {
     "name": "stdout",
     "output_type": "stream",
     "text": [
      "Done\n",
      "\n",
      "Scraping https://psychologicke-centrum-kromeriz.webnode.cz/\n"
     ]
    },
    {
     "name": "stderr",
     "output_type": "stream",
     "text": [
      " 11%|█         | 92/870 [00:58<07:10,  1.81it/s]"
     ]
    },
    {
     "name": "stdout",
     "output_type": "stream",
     "text": [
      "Done\n",
      "\n",
      "Scraping https://www.zavinac.sdb.cz\n",
      "Error fetching https://www.zavinac.sdb.cz: HTTPSConnectionPool(host='www.zavinac.sdb.cz', port=443): Max retries exceeded with url: / (Caused by NewConnectionError('<urllib3.connection.HTTPSConnection object at 0x171c58c90>: Failed to establish a new connection: [Errno 8] nodename nor servname provided, or not known'))\n",
      "Done\n",
      "\n",
      "Scraping https://kh.charita.cz\n",
      "Done\n",
      "\n",
      "Scraping http://www.leccos.cz\n"
     ]
    },
    {
     "name": "stderr",
     "output_type": "stream",
     "text": [
      " 11%|█         | 93/870 [00:59<08:31,  1.52it/s]"
     ]
    },
    {
     "name": "stdout",
     "output_type": "stream",
     "text": [
      "Done\n",
      "\n",
      "Scraping http://www.prostorpro.cz\n"
     ]
    },
    {
     "name": "stderr",
     "output_type": "stream",
     "text": [
      " 11%|█         | 94/870 [00:59<07:13,  1.79it/s]"
     ]
    },
    {
     "name": "stdout",
     "output_type": "stream",
     "text": [
      "Done\n",
      "\n",
      "Scraping https://www.fokus-praha.cz/cz/pomahame/centrum-brevnov/cdz6#prvni-navsteva\n"
     ]
    },
    {
     "name": "stderr",
     "output_type": "stream",
     "text": [
      " 11%|█         | 95/870 [01:02<14:40,  1.14s/it]"
     ]
    },
    {
     "name": "stdout",
     "output_type": "stream",
     "text": [
      "Error fetching https://www.fokus-praha.cz/cz/pomahame/centrum-brevnov/cdz6#prvni-navsteva: 404 Client Error: Not Found for url: https://fokus-praha.cz/cz/pomahame/centrum-brevnov/cdz6#prvni-navsteva\n",
      "Done\n",
      "\n",
      "Scraping https://psychologie-plzen.cz/\n",
      "Error fetching https://psychologie-plzen.cz/: HTTPSConnectionPool(host='psychologie-plzen.cz', port=443): Max retries exceeded with url: / (Caused by NewConnectionError('<urllib3.connection.HTTPSConnection object at 0x171aa92d0>: Failed to establish a new connection: [Errno 8] nodename nor servname provided, or not known'))\n",
      "Done\n",
      "\n",
      "Scraping http://www.psychoterapeuti.cz/adresar-psychoterapeutu/item/52-pecena-marie-phdr\n"
     ]
    },
    {
     "name": "stderr",
     "output_type": "stream",
     "text": [
      " 11%|█         | 97/870 [01:02<09:18,  1.38it/s]"
     ]
    },
    {
     "name": "stdout",
     "output_type": "stream",
     "text": [
      "Done\n",
      "\n",
      "Scraping http://www.cheiront.cz/\n"
     ]
    },
    {
     "name": "stderr",
     "output_type": "stream",
     "text": [
      " 11%|█▏        | 98/870 [01:06<17:49,  1.39s/it]"
     ]
    },
    {
     "name": "stdout",
     "output_type": "stream",
     "text": [
      "Done\n",
      "\n",
      "Scraping http://www.psychoterapeuti.cz/adresar-psychoterapeutu/item/45-stastna-vilma-mudr\n"
     ]
    },
    {
     "name": "stderr",
     "output_type": "stream",
     "text": [
      " 11%|█▏        | 99/870 [01:06<14:25,  1.12s/it]"
     ]
    },
    {
     "name": "stdout",
     "output_type": "stream",
     "text": [
      "Done\n",
      "\n",
      "Scraping https://www.firmy.cz/detail/12844251-egomed-jaromer-prazske-predmesti.html\n"
     ]
    },
    {
     "name": "stderr",
     "output_type": "stream",
     "text": [
      " 11%|█▏        | 100/870 [01:06<11:49,  1.08it/s]"
     ]
    },
    {
     "name": "stdout",
     "output_type": "stream",
     "text": [
      "Done\n",
      "\n",
      "Scraping http://www.gerontopsychiatrie.cz/\n"
     ]
    },
    {
     "name": "stderr",
     "output_type": "stream",
     "text": [
      " 12%|█▏        | 101/870 [01:07<09:33,  1.34it/s]"
     ]
    },
    {
     "name": "stdout",
     "output_type": "stream",
     "text": [
      "Done\n",
      "\n",
      "Scraping https://www.pnvd.cz/\n"
     ]
    },
    {
     "name": "stderr",
     "output_type": "stream",
     "text": [
      " 12%|█▏        | 103/870 [01:07<06:29,  1.97it/s]"
     ]
    },
    {
     "name": "stdout",
     "output_type": "stream",
     "text": [
      "Done\n",
      "\n",
      "Scraping https://www.prerov.charita.cz\n",
      "Done\n",
      "\n",
      "Scraping https://www.ocss.cz\n",
      ": HTTPSConnectionPool(host='www.ocss.cz%0d', port=443): Max retries exceeded with url: / (Caused by NewConnectionError('<urllib3.connection.HTTPSConnection object at 0x172351b50>: Failed to establish a new connection: [Errno 8] nodename nor servname provided, or not known'))\n",
      "Done\n",
      "\n",
      "Scraping http://www.psychoterapeuti.cz/adresar-psychoterapeutu/item/104-dolezalova-romana-phdr-mgr\n"
     ]
    },
    {
     "name": "stderr",
     "output_type": "stream",
     "text": [
      " 12%|█▏        | 106/870 [01:08<04:06,  3.10it/s]"
     ]
    },
    {
     "name": "stdout",
     "output_type": "stream",
     "text": [
      "Done\n",
      "\n",
      "Scraping http://www.zdar.charita.cz\n",
      "Done\n",
      "\n",
      "Scraping https://www.poliklinikazr.cz/odbornylekar.aspx?IDOdbornost=20\n"
     ]
    },
    {
     "name": "stderr",
     "output_type": "stream",
     "text": [
      " 12%|█▏        | 107/870 [01:08<03:31,  3.60it/s]"
     ]
    },
    {
     "name": "stdout",
     "output_type": "stream",
     "text": [
      "Done\n",
      "\n",
      "Scraping https://www.ledovec.cz/socialni-sluzby/item/30-odborne-socialni-poradenstvi-ledovec\n"
     ]
    },
    {
     "name": "stderr",
     "output_type": "stream",
     "text": [
      " 12%|█▏        | 108/870 [01:11<14:41,  1.16s/it]"
     ]
    },
    {
     "name": "stdout",
     "output_type": "stream",
     "text": [
      "Done\n",
      "\n",
      "Scraping https://www.ppp-znojmo.cz/\n"
     ]
    },
    {
     "name": "stderr",
     "output_type": "stream",
     "text": [
      " 13%|█▎        | 109/870 [01:12<11:28,  1.10it/s]"
     ]
    },
    {
     "name": "stdout",
     "output_type": "stream",
     "text": [
      "Done\n",
      "\n",
      "Scraping https://www.psychiatr.info/#utm_source=firmy.cz&utm_medium=ppd&utm_campaign=firmy.cz-385369\n",
      "Done\n",
      "\n",
      "Scraping https://clinterap.cz/psychiatrie-praha-10/\n"
     ]
    },
    {
     "name": "stderr",
     "output_type": "stream",
     "text": [
      " 13%|█▎        | 111/870 [01:12<07:05,  1.78it/s]"
     ]
    },
    {
     "name": "stdout",
     "output_type": "stream",
     "text": [
      "Done\n",
      "\n",
      "Scraping https://www.facebook.com/konzultarnavsetin\n"
     ]
    },
    {
     "name": "stderr",
     "output_type": "stream",
     "text": [
      " 13%|█▎        | 112/870 [01:12<07:00,  1.80it/s]"
     ]
    },
    {
     "name": "stdout",
     "output_type": "stream",
     "text": [
      "Done\n",
      "\n",
      "Scraping http://bulovka.cz/kliniky-a-oddeleni/oddeleni-klinicke-psychologie/\n"
     ]
    },
    {
     "name": "stderr",
     "output_type": "stream",
     "text": [
      " 13%|█▎        | 113/870 [01:13<07:19,  1.72it/s]"
     ]
    },
    {
     "name": "stdout",
     "output_type": "stream",
     "text": [
      "Done\n",
      "\n",
      "Scraping https://www.cepsymed.cz/o-nas.html\n"
     ]
    },
    {
     "name": "stderr",
     "output_type": "stream",
     "text": [
      " 13%|█▎        | 114/870 [01:13<06:09,  2.05it/s]"
     ]
    },
    {
     "name": "stdout",
     "output_type": "stream",
     "text": [
      "Error fetching https://www.cepsymed.cz/o-nas.html: 404 Client Error: Not Found for url: https://www.cepsymed.cz/o-nas.html\n",
      "Done\n",
      "\n",
      "Scraping https://saintmedical.cz/klinicka-psychologie\n"
     ]
    },
    {
     "name": "stderr",
     "output_type": "stream",
     "text": [
      " 13%|█▎        | 116/870 [01:14<05:53,  2.13it/s]"
     ]
    },
    {
     "name": "stdout",
     "output_type": "stream",
     "text": [
      "Error fetching https://saintmedical.cz/klinicka-psychologie: 404 Client Error: Not Found for url: https://saintmedical.cz/klinicka-psychologie\n",
      "Done\n",
      "\n",
      "Scraping http://kralupy.charita.cz/\n",
      "Done\n",
      "\n",
      "Scraping https://www.firmy.cz/detail/385148-mudr-frantisek-zahourek-pisek-budejovicke-predmesti.html\n"
     ]
    },
    {
     "name": "stderr",
     "output_type": "stream",
     "text": [
      " 13%|█▎        | 117/870 [01:15<05:09,  2.44it/s]"
     ]
    },
    {
     "name": "stdout",
     "output_type": "stream",
     "text": [
      "Error fetching https://www.firmy.cz/detail/385148-mudr-frantisek-zahourek-pisek-budejovicke-predmesti.html: 410 Client Error: Gone for url: https://www.firmy.cz/detail/385148-mudr-frantisek-zahourek-pisek-budejovicke-predmesti.html\n",
      "Done\n",
      "\n",
      "Scraping https://www.diakoniezapad.cz\n"
     ]
    },
    {
     "name": "stderr",
     "output_type": "stream",
     "text": [
      " 14%|█▎        | 118/870 [01:15<04:24,  2.84it/s]"
     ]
    },
    {
     "name": "stdout",
     "output_type": "stream",
     "text": [
      "Done\n",
      "\n",
      "Scraping http://www.drugout.cz/\n"
     ]
    },
    {
     "name": "stderr",
     "output_type": "stream",
     "text": [
      " 14%|█▍        | 120/870 [01:16<06:27,  1.94it/s]"
     ]
    },
    {
     "name": "stdout",
     "output_type": "stream",
     "text": [
      "Done\n",
      "\n",
      "Scraping http://www.spondea.cz/\n",
      "Done\n",
      "\n",
      "Scraping http://wittnerova.sweb.cz/index.html#obal\n"
     ]
    },
    {
     "name": "stderr",
     "output_type": "stream",
     "text": [
      " 14%|█▍        | 121/870 [01:17<05:03,  2.47it/s]"
     ]
    },
    {
     "name": "stdout",
     "output_type": "stream",
     "text": [
      "Done\n",
      "\n",
      "Scraping https://stod.nemocnicepk.cz/ostatni-ambulance\n"
     ]
    },
    {
     "name": "stderr",
     "output_type": "stream",
     "text": [
      " 14%|█▍        | 122/870 [01:17<04:21,  2.86it/s]"
     ]
    },
    {
     "name": "stdout",
     "output_type": "stream",
     "text": [
      "Done\n",
      "\n",
      "Scraping http://www.sojka.hbnet.cz/\n",
      "Done\n",
      "\n",
      "Scraping http://www.hb.charita.cz\n"
     ]
    },
    {
     "name": "stderr",
     "output_type": "stream",
     "text": [
      " 14%|█▍        | 124/870 [01:17<03:09,  3.93it/s]"
     ]
    },
    {
     "name": "stdout",
     "output_type": "stream",
     "text": [
      "Done\n",
      "\n",
      "Scraping https://www.clovekvtisni.cz\n",
      "Error fetching https://www.clovekvtisni.cz: HTTPSConnectionPool(host='www.clovekvtisni.cz', port=443): Max retries exceeded with url: / (Caused by SSLError(SSLCertVerificationError(1, '[SSL: CERTIFICATE_VERIFY_FAILED] certificate verify failed: unable to get local issuer certificate (_ssl.c:1002)')))\n",
      "Done\n",
      "\n",
      "Scraping http://www.psychoterapeuti.cz/adresar-psychoterapeutu/item/7-rektor-juraj-mudr\n"
     ]
    },
    {
     "name": "stderr",
     "output_type": "stream",
     "text": [
      " 14%|█▍        | 126/870 [01:17<02:58,  4.16it/s]"
     ]
    },
    {
     "name": "stdout",
     "output_type": "stream",
     "text": [
      "Done\n",
      "\n",
      "Scraping https://www.doktor.cz/doktor/mgr-miluse-pixova-soudni-lekarstvi-psychologie-53100/mgr-miluse-pixova-psychologicka-poradna-pro-deti-a-dospele-jirovcova-1624-13-ceske-budejovice-3-ceske-budejovice-370-01-66357\n"
     ]
    },
    {
     "name": "stderr",
     "output_type": "stream",
     "text": [
      " 15%|█▍        | 128/870 [01:18<02:50,  4.34it/s]"
     ]
    },
    {
     "name": "stdout",
     "output_type": "stream",
     "text": [
      "Done\n",
      "\n",
      "Scraping https://www.cdzolomouc.cz\n",
      "Done\n",
      "\n",
      "Scraping https://www.firmy.cz/detail/2481182-mgr-radek-karchnak-ordinace-klinicke-psychologie-a-psychoterapie-cheb.html\n"
     ]
    },
    {
     "name": "stderr",
     "output_type": "stream",
     "text": [
      " 15%|█▍        | 129/870 [01:18<03:12,  3.84it/s]"
     ]
    },
    {
     "name": "stdout",
     "output_type": "stream",
     "text": [
      "Done\n",
      "\n",
      "Scraping https://www.cppt.cz/nase-zarizeni/ambulance-pro-nelatkove-zavislosti\n"
     ]
    },
    {
     "name": "stderr",
     "output_type": "stream",
     "text": [
      " 15%|█▍        | 130/870 [01:19<03:40,  3.35it/s]"
     ]
    },
    {
     "name": "stdout",
     "output_type": "stream",
     "text": [
      "Done\n",
      "\n",
      "Scraping https://www.kresadlohk.cz\n"
     ]
    },
    {
     "name": "stderr",
     "output_type": "stream",
     "text": [
      " 15%|█▌        | 131/870 [01:19<04:39,  2.65it/s]"
     ]
    },
    {
     "name": "stdout",
     "output_type": "stream",
     "text": [
      "Done\n",
      "\n",
      "Scraping https://czap.cz/Sys/PublicProfile/58885403\n"
     ]
    },
    {
     "name": "stderr",
     "output_type": "stream",
     "text": [
      " 15%|█▌        | 132/870 [01:20<05:57,  2.07it/s]"
     ]
    },
    {
     "name": "stdout",
     "output_type": "stream",
     "text": [
      "Done\n",
      "\n",
      "Scraping http://www.skp-centrum.cz/\n"
     ]
    },
    {
     "name": "stderr",
     "output_type": "stream",
     "text": [
      " 15%|█▌        | 134/870 [01:21<05:53,  2.08it/s]"
     ]
    },
    {
     "name": "stdout",
     "output_type": "stream",
     "text": [
      "Done\n",
      "\n",
      "Scraping https://radkaminarikova.webnode.cz\n",
      "Done\n",
      "\n",
      "Scraping https://www.azylovydum.cz/hledam-pomoc/poradna-pro-rodinu/\n"
     ]
    },
    {
     "name": "stderr",
     "output_type": "stream",
     "text": [
      " 16%|█▌        | 136/870 [01:23<08:17,  1.48it/s]"
     ]
    },
    {
     "name": "stdout",
     "output_type": "stream",
     "text": [
      "Done\n",
      "\n",
      "Scraping https://www.idomino.eu\n",
      "Done\n",
      "\n",
      "Scraping http://www.psycholog-praha.pro/\n",
      "Error fetching http://www.psycholog-praha.pro/: 403 Client Error: Forbidden for url: https://www.psycholog-praha.pro/\n",
      "Done\n",
      "\n",
      "Scraping charita-most.cz\n",
      "Error fetching charita-most.cz: Invalid URL 'charita-most.cz': No scheme supplied. Perhaps you meant https://charita-most.cz?\n",
      "Done\n",
      "\n",
      "Scraping http:// www.psychamb.cz\n"
     ]
    },
    {
     "name": "stderr",
     "output_type": "stream",
     "text": [
      " 16%|█▌        | 139/870 [01:26<10:59,  1.11it/s]"
     ]
    },
    {
     "name": "stdout",
     "output_type": "stream",
     "text": [
      "Error fetching http:// www.psychamb.cz: 400 Client Error: Bad Request for url: http://%20www.psychamb.cz/\n",
      "Done\n",
      "\n",
      "Scraping http://www.psychoterapeuti.cz/adresar-psychoterapeutu/item/59-strobachova-ingrid-phdr\n"
     ]
    },
    {
     "name": "stderr",
     "output_type": "stream",
     "text": [
      " 16%|█▌        | 141/870 [01:27<07:50,  1.55it/s]"
     ]
    },
    {
     "name": "stdout",
     "output_type": "stream",
     "text": [
      "Done\n",
      "\n",
      "Scraping https://www.strediskokobylisy.cz/vrtule\n",
      "Done\n",
      "\n",
      "Scraping https://www.poliklinika-km.cz/psychiatrie/\n"
     ]
    },
    {
     "name": "stderr",
     "output_type": "stream",
     "text": [
      " 16%|█▋        | 143/870 [01:27<05:11,  2.33it/s]"
     ]
    },
    {
     "name": "stdout",
     "output_type": "stream",
     "text": [
      "Done\n",
      "\n",
      "Scraping https://www.otrokovice.charita.cz/sluzba/114/\n",
      "Done\n",
      "\n",
      "Scraping http://www.psychoterapeuti.cz/adresar-psychoterapeutu/item/78-turbova-jarmila-phdr\n"
     ]
    },
    {
     "name": "stderr",
     "output_type": "stream",
     "text": [
      " 17%|█▋        | 145/870 [01:28<04:06,  2.95it/s]"
     ]
    },
    {
     "name": "stdout",
     "output_type": "stream",
     "text": [
      "Done\n",
      "\n",
      "Scraping http://www.r-mosty.cz\n",
      "Done\n",
      "\n",
      "Scraping https://www.kromeriz.charita.cz/sluzby/socialni-poradna/\n"
     ]
    },
    {
     "name": "stderr",
     "output_type": "stream",
     "text": [
      " 17%|█▋        | 146/870 [01:28<03:17,  3.66it/s]"
     ]
    },
    {
     "name": "stdout",
     "output_type": "stream",
     "text": [
      "Done\n",
      "\n",
      "Scraping https://www.pppcb.cz/\n"
     ]
    },
    {
     "name": "stderr",
     "output_type": "stream",
     "text": [
      " 17%|█▋        | 147/870 [01:28<03:10,  3.80it/s]"
     ]
    },
    {
     "name": "stdout",
     "output_type": "stream",
     "text": [
      "Done\n",
      "\n",
      "Scraping http://www.kotec.cz/regiony/tachov/\n"
     ]
    },
    {
     "name": "stderr",
     "output_type": "stream",
     "text": [
      " 17%|█▋        | 148/870 [01:29<06:27,  1.86it/s]"
     ]
    },
    {
     "name": "stdout",
     "output_type": "stream",
     "text": [
      "Done\n",
      "\n",
      "Scraping http://www.sdruzenidrak.cz/\n"
     ]
    },
    {
     "name": "stderr",
     "output_type": "stream",
     "text": [
      " 17%|█▋        | 149/870 [01:33<19:10,  1.60s/it]"
     ]
    },
    {
     "name": "stdout",
     "output_type": "stream",
     "text": [
      "Done\n",
      "\n",
      "Scraping https://www.jh.cz/cs/mestsky-urad/odbory-uradu/odbor-socialnich-veci/rodinna-poradna/\n"
     ]
    },
    {
     "name": "stderr",
     "output_type": "stream",
     "text": [
      " 17%|█▋        | 151/870 [01:37<17:24,  1.45s/it]"
     ]
    },
    {
     "name": "stdout",
     "output_type": "stream",
     "text": [
      "Done\n",
      "\n",
      "Scraping https://www.diakonievm.cz/nase-sluzby/sluzby-k-podpore-domaci-pece/poradna-pro-pecujici/\n",
      "Done\n",
      "\n",
      "Scraping https://fokus-praha.cz/cz/pomahame/centrum-podskali/cdz-podskali\n"
     ]
    },
    {
     "name": "stderr",
     "output_type": "stream",
     "text": [
      " 18%|█▊        | 153/870 [01:39<13:25,  1.12s/it]"
     ]
    },
    {
     "name": "stdout",
     "output_type": "stream",
     "text": [
      "Error fetching https://fokus-praha.cz/cz/pomahame/centrum-podskali/cdz-podskali: 404 Client Error: Not Found for url: https://fokus-praha.cz/cz/pomahame/centrum-podskali/cdz-podskali\n",
      "Done\n",
      "\n",
      "Scraping http://psych.fnplzen.cz/cs/node/839\n",
      "Done\n",
      "\n",
      "Scraping https://www.ddzbraslav.cz/?page_id=12\n"
     ]
    },
    {
     "name": "stderr",
     "output_type": "stream",
     "text": [
      " 18%|█▊        | 154/870 [01:40<15:17,  1.28s/it]"
     ]
    },
    {
     "name": "stdout",
     "output_type": "stream",
     "text": [
      "Error fetching https://www.ddzbraslav.cz/?page_id=12: 503 Server Error: Service Unavailable for url: https://www.ddzbraslav.cz/?page_id=12\n",
      "Done\n",
      "\n",
      "Scraping http://www.kappa-help.cz\n",
      "Done\n",
      "\n",
      "Scraping http://www.pdz.cz/czd-pa.html\n"
     ]
    },
    {
     "name": "stderr",
     "output_type": "stream",
     "text": [
      " 18%|█▊        | 156/870 [01:41<11:47,  1.01it/s]"
     ]
    },
    {
     "name": "stdout",
     "output_type": "stream",
     "text": [
      "Error fetching http://www.pdz.cz/czd-pa.html: 404 Client Error: Not Found for url: https://pdz.cz/czd-pa.html\n",
      "Done\n",
      "\n",
      "Scraping http://www.psychoterapeuti.cz/adresar-psychoterapeutu/item/61-trapkova-ludmila-phdr\n"
     ]
    },
    {
     "name": "stderr",
     "output_type": "stream",
     "text": [
      " 18%|█▊        | 158/870 [01:42<07:56,  1.49it/s]"
     ]
    },
    {
     "name": "stdout",
     "output_type": "stream",
     "text": [
      "Done\n",
      "\n",
      "Scraping https://www.detska-psychiatrie-mudr-novotna.cz/\n",
      "Done\n",
      "\n",
      "Scraping https://www.nadeje.cz/litomerice/nizkoprahovezarizeniprodetiamladez2\n"
     ]
    },
    {
     "name": "stderr",
     "output_type": "stream",
     "text": [
      " 18%|█▊        | 160/870 [01:43<07:01,  1.69it/s]"
     ]
    },
    {
     "name": "stdout",
     "output_type": "stream",
     "text": [
      "Done\n",
      "\n",
      "Scraping https://www.ocss.cz\n",
      "Done\n",
      "\n",
      "Scraping https://www.prozdravi21.cz\n"
     ]
    },
    {
     "name": "stderr",
     "output_type": "stream",
     "text": [
      " 19%|█▊        | 162/870 [01:45<09:12,  1.28it/s]"
     ]
    },
    {
     "name": "stdout",
     "output_type": "stream",
     "text": [
      "Done\n",
      "\n",
      "Scraping https://phdr-jiri-bauer-phd.webnode.cz/\n",
      "Done\n",
      "\n",
      "Scraping http://www.riaps.cz/ambulance/\n",
      "Error fetching http://www.riaps.cz/ambulance/: 403 Client Error: Forbidden for url: http://www.riaps.cz/ambulance/\n",
      "Done\n",
      "\n",
      "Scraping http://ppphodonin.cz/?pg=1\n"
     ]
    },
    {
     "name": "stderr",
     "output_type": "stream",
     "text": [
      " 19%|█▉        | 164/870 [01:46<06:45,  1.74it/s]"
     ]
    },
    {
     "name": "stdout",
     "output_type": "stream",
     "text": [
      "Done\n",
      "\n",
      "Scraping http://www.psychologiezlin.eu/\n"
     ]
    },
    {
     "name": "stderr",
     "output_type": "stream",
     "text": [
      " 19%|█▉        | 165/870 [01:47<08:15,  1.42it/s]"
     ]
    },
    {
     "name": "stdout",
     "output_type": "stream",
     "text": [
      "Error fetching http://www.psychologiezlin.eu/: 403 Client Error: Forbidden for url: http://www.psychologiezlin.eu/\n",
      "Done\n",
      "\n",
      "Scraping https://www.skp-centrum.cz/nase-sluzby-a-projekty/krizove-centrum-pardubice\n"
     ]
    },
    {
     "name": "stderr",
     "output_type": "stream",
     "text": [
      " 19%|█▉        | 166/870 [01:48<08:54,  1.32it/s]"
     ]
    },
    {
     "name": "stdout",
     "output_type": "stream",
     "text": [
      "Done\n",
      "\n",
      "Scraping http://www.pho.cz/lekari-a-ambulance/psychologie-klinicka/37-phdr-marie-ivanova\n"
     ]
    },
    {
     "name": "stderr",
     "output_type": "stream",
     "text": [
      " 19%|█▉        | 167/870 [01:48<07:18,  1.60it/s]"
     ]
    },
    {
     "name": "stdout",
     "output_type": "stream",
     "text": [
      "Done\n",
      "\n",
      "Scraping https://www.ppp6.cz/\n"
     ]
    },
    {
     "name": "stderr",
     "output_type": "stream",
     "text": [
      " 19%|█▉        | 168/870 [01:49<08:09,  1.43it/s]"
     ]
    },
    {
     "name": "stdout",
     "output_type": "stream",
     "text": [
      "Done\n",
      "\n",
      "Scraping https://www.modrykriz.org/karvina/\n"
     ]
    },
    {
     "name": "stderr",
     "output_type": "stream",
     "text": [
      " 19%|█▉        | 169/870 [01:50<08:55,  1.31it/s]"
     ]
    },
    {
     "name": "stdout",
     "output_type": "stream",
     "text": [
      "Done\n",
      "\n",
      "Scraping http://www.psychologie-centrum.cz/\n",
      "Done\n",
      "\n"
     ]
    },
    {
     "name": "stderr",
     "output_type": "stream",
     "text": [
      " 20%|█▉        | 170/870 [01:50<07:01,  1.66it/s]"
     ]
    },
    {
     "name": "stdout",
     "output_type": "stream",
     "text": [
      "Scraping http://www.fokustabor.cz/centrum-dusevniho-zdravi-_-komunitni-tym-tabor\n",
      "Error fetching http://www.fokustabor.cz/centrum-dusevniho-zdravi-_-komunitni-tym-tabor: 404 Client Error: Not Found for url: http://www.fokustabor.cz/centrum-dusevniho-zdravi-_-komunitni-tym-tabor\n",
      "Done\n",
      "\n",
      "Scraping http://www.os-semiramis.cz\n"
     ]
    },
    {
     "name": "stderr",
     "output_type": "stream",
     "text": [
      " 20%|█▉        | 173/870 [01:54<10:16,  1.13it/s]"
     ]
    },
    {
     "name": "stdout",
     "output_type": "stream",
     "text": [
      "Done\n",
      "\n",
      "Scraping https://www.statekvlckovice.cz\n",
      "Done\n",
      "\n",
      "Scraping http://www.psychoterapeuti.cz/adresar-psychoterapeutu/item/65-pisova-petra-phdr\n"
     ]
    },
    {
     "name": "stderr",
     "output_type": "stream",
     "text": [
      " 20%|██        | 174/870 [01:54<08:36,  1.35it/s]"
     ]
    },
    {
     "name": "stdout",
     "output_type": "stream",
     "text": [
      "Done\n",
      "\n",
      "Scraping https://www.znamylekar.cz/jan-kovar/psycholog-detsky-psycholog/tabor\n"
     ]
    },
    {
     "name": "stderr",
     "output_type": "stream",
     "text": [
      " 20%|██        | 175/870 [01:55<08:28,  1.37it/s]"
     ]
    },
    {
     "name": "stdout",
     "output_type": "stream",
     "text": [
      "Done\n",
      "\n",
      "Scraping http://www.csspraha.cz/\n"
     ]
    },
    {
     "name": "stderr",
     "output_type": "stream",
     "text": [
      " 20%|██        | 178/870 [01:56<04:17,  2.69it/s]"
     ]
    },
    {
     "name": "stdout",
     "output_type": "stream",
     "text": [
      "Done\n",
      "\n",
      "Scraping https://www.pppsemily.cz/\n",
      "Done\n",
      "\n",
      "Scraping https://www.bunkr.cz\n",
      "Done\n",
      "\n",
      "Scraping http://www.psychiatriegrimova.cz/\n"
     ]
    },
    {
     "name": "stderr",
     "output_type": "stream",
     "text": [
      " 21%|██        | 181/870 [01:56<03:21,  3.42it/s]"
     ]
    },
    {
     "name": "stdout",
     "output_type": "stream",
     "text": [
      "Done\n",
      "\n",
      "Scraping https://www.psychoterapie-vysocina.cz\n",
      "Done\n",
      "\n",
      "Scraping http://www.cdzkm.cz/\n",
      "Done\n",
      "\n",
      "Scraping http://www.psychoterapeuti.cz/adresar-psychoterapeutu/item/16-burianek-vaclav-phdr\n"
     ]
    },
    {
     "name": "stderr",
     "output_type": "stream",
     "text": [
      " 21%|██        | 182/870 [01:57<03:23,  3.38it/s]"
     ]
    },
    {
     "name": "stdout",
     "output_type": "stream",
     "text": [
      "Done\n",
      "\n",
      "Scraping http://www.psychoterapeuti.cz/adresar-psychoterapeutu/item/57-soukupova-tereza-phdr\n"
     ]
    },
    {
     "name": "stderr",
     "output_type": "stream",
     "text": [
      " 21%|██        | 183/870 [01:57<03:37,  3.15it/s]"
     ]
    },
    {
     "name": "stdout",
     "output_type": "stream",
     "text": [
      "Done\n",
      "\n",
      "Scraping https://poliklinika-otrokovice.cz/caregiver/mudr-zvonicek-josef/\n"
     ]
    },
    {
     "name": "stderr",
     "output_type": "stream",
     "text": [
      " 21%|██        | 184/870 [02:02<16:12,  1.42s/it]"
     ]
    },
    {
     "name": "stdout",
     "output_type": "stream",
     "text": [
      "Done\n",
      "\n",
      "Scraping https://www.psychiatrie-konupcikova.cz\n",
      "Error fetching https://www.psychiatrie-konupcikova.cz: HTTPSConnectionPool(host='www.psychiatrie-konupcikova.cz', port=443): Max retries exceeded with url: / (Caused by SSLError(CertificateError(\"hostname 'www.psychiatrie-konupcikova.cz' doesn't match either of '*.nameserver.sk', 'nameserver.sk'\")))\n",
      "Done\n",
      "\n",
      "Scraping http://www.fokusvysocina.cz/centrum-dusevniho-zdravi\n"
     ]
    },
    {
     "name": "stderr",
     "output_type": "stream",
     "text": [
      " 21%|██▏       | 186/870 [02:02<10:00,  1.14it/s]"
     ]
    },
    {
     "name": "stdout",
     "output_type": "stream",
     "text": [
      "Done\n",
      "\n",
      "Scraping http://www.vidacr.cz/\n"
     ]
    },
    {
     "name": "stderr",
     "output_type": "stream",
     "text": [
      " 22%|██▏       | 188/870 [02:04<09:41,  1.17it/s]"
     ]
    },
    {
     "name": "stdout",
     "output_type": "stream",
     "text": [
      "Done\n",
      "\n",
      "Scraping https://psychoterapie-pe.cz/index.html\n",
      "Done\n",
      "\n",
      "Scraping http://www.krystalhelp.cz/\n"
     ]
    },
    {
     "name": "stderr",
     "output_type": "stream",
     "text": [
      " 22%|██▏       | 189/870 [02:04<08:37,  1.32it/s]"
     ]
    },
    {
     "name": "stdout",
     "output_type": "stream",
     "text": [
      "Done\n",
      "\n",
      "Scraping https://www.praha.ymca.cz\n"
     ]
    },
    {
     "name": "stderr",
     "output_type": "stream",
     "text": [
      " 22%|██▏       | 191/870 [02:05<06:37,  1.71it/s]"
     ]
    },
    {
     "name": "stdout",
     "output_type": "stream",
     "text": [
      "Done\n",
      "\n",
      "Scraping https://www.fokus-mb.cz\n",
      "Done\n",
      "\n",
      "Scraping http://www.psychoterapeuti.cz/adresar-psychoterapeutu/item/53-pindakova-zuzana-mudr\n"
     ]
    },
    {
     "name": "stderr",
     "output_type": "stream",
     "text": [
      " 22%|██▏       | 192/870 [02:06<05:49,  1.94it/s]"
     ]
    },
    {
     "name": "stdout",
     "output_type": "stream",
     "text": [
      "Done\n",
      "\n",
      "Scraping http://www.aura-psycholog.cz/\n",
      "Error fetching http://www.aura-psycholog.cz/: 403 Client Error: Forbidden for url: http://www.aura-psycholog.cz/\n",
      "Done\n",
      "\n",
      "Scraping https://www.od5k10.cz\n"
     ]
    },
    {
     "name": "stderr",
     "output_type": "stream",
     "text": [
      " 22%|██▏       | 194/870 [02:07<06:47,  1.66it/s]"
     ]
    },
    {
     "name": "stdout",
     "output_type": "stream",
     "text": [
      "Done\n",
      "\n",
      "Scraping https://www.poradnaprozeny.eu/#utm_source=firmy.cz&utm_medium=ppd&utm_campaign=firmy.cz-12891669\n"
     ]
    },
    {
     "name": "stderr",
     "output_type": "stream",
     "text": [
      " 22%|██▏       | 195/870 [02:07<05:47,  1.94it/s]"
     ]
    },
    {
     "name": "stdout",
     "output_type": "stream",
     "text": [
      "Done\n",
      "\n",
      "Scraping http://www.psychoterapeuti.cz/adresar-psychoterapeutu/item/33-koblic-karel-phdr\n"
     ]
    },
    {
     "name": "stderr",
     "output_type": "stream",
     "text": [
      " 23%|██▎       | 196/870 [02:08<05:16,  2.13it/s]"
     ]
    },
    {
     "name": "stdout",
     "output_type": "stream",
     "text": [
      "Done\n",
      "\n",
      "Scraping https://www.pnkosmonosy.cz/cdz.html\n"
     ]
    },
    {
     "name": "stderr",
     "output_type": "stream",
     "text": [
      " 23%|██▎       | 197/870 [02:08<04:38,  2.42it/s]"
     ]
    },
    {
     "name": "stdout",
     "output_type": "stream",
     "text": [
      "Error fetching https://www.pnkosmonosy.cz/cdz.html: 404 Client Error: Not Found for url: https://www.pnkosmonosy.cz/cdz.html\n",
      "Done\n",
      "\n",
      "Scraping https://lpzsokolov.cz/index.php/lekari#mudr-moravcova-michaela\n"
     ]
    },
    {
     "name": "stderr",
     "output_type": "stream",
     "text": [
      " 23%|██▎       | 198/870 [02:08<04:58,  2.25it/s]"
     ]
    },
    {
     "name": "stdout",
     "output_type": "stream",
     "text": [
      "Done\n",
      "\n",
      "Scraping http://psychiatrie-kylar.cz/\n",
      "Done\n",
      "\n",
      "Scraping http://www.psychoterapeuti.cz/adresar-psychoterapeutu/item/8-rektorova-blanka-phdr\n"
     ]
    },
    {
     "name": "stderr",
     "output_type": "stream",
     "text": [
      " 23%|██▎       | 200/870 [02:09<03:43,  2.99it/s]"
     ]
    },
    {
     "name": "stdout",
     "output_type": "stream",
     "text": [
      "Done\n",
      "\n",
      "Scraping https://domov-plzen.cz/\n"
     ]
    },
    {
     "name": "stderr",
     "output_type": "stream",
     "text": [
      " 23%|██▎       | 201/870 [02:13<13:47,  1.24s/it]"
     ]
    },
    {
     "name": "stdout",
     "output_type": "stream",
     "text": [
      "Done\n",
      "\n",
      "Scraping https://www.psychologickapraxe.com/\n"
     ]
    },
    {
     "name": "stderr",
     "output_type": "stream",
     "text": [
      " 23%|██▎       | 203/870 [02:13<08:34,  1.30it/s]"
     ]
    },
    {
     "name": "stdout",
     "output_type": "stream",
     "text": [
      "Done\n",
      "\n",
      "Scraping http://www.blansko.charita.cz\n",
      "Done\n",
      "\n",
      "Scraping https://www.psychiatrie-ricany.cz/\n"
     ]
    },
    {
     "name": "stderr",
     "output_type": "stream",
     "text": [
      " 23%|██▎       | 204/870 [02:14<07:03,  1.57it/s]"
     ]
    },
    {
     "name": "stdout",
     "output_type": "stream",
     "text": [
      "Done\n",
      "\n",
      "Scraping http://www.kotec.cz/\n"
     ]
    },
    {
     "name": "stderr",
     "output_type": "stream",
     "text": [
      " 24%|██▎       | 205/870 [02:15<09:02,  1.23it/s]"
     ]
    },
    {
     "name": "stdout",
     "output_type": "stream",
     "text": [
      "Done\n",
      "\n",
      "Scraping http://www.linka-duvery-mb.cz/\n"
     ]
    },
    {
     "name": "stderr",
     "output_type": "stream",
     "text": [
      " 24%|██▎       | 206/870 [02:15<07:13,  1.53it/s]"
     ]
    },
    {
     "name": "stdout",
     "output_type": "stream",
     "text": [
      "Done\n",
      "\n",
      "Scraping https://pestalozzi.cz/sluzby/krizove-centrum-jihlava/\n"
     ]
    },
    {
     "name": "stderr",
     "output_type": "stream",
     "text": [
      " 24%|██▍       | 207/870 [02:16<07:29,  1.47it/s]"
     ]
    },
    {
     "name": "stdout",
     "output_type": "stream",
     "text": [
      "Done\n",
      "\n",
      "Scraping https://www.firmy.cz/detail/2123947-mudr-lukas-krejcu-ceske-budejovice-1.html\n"
     ]
    },
    {
     "name": "stderr",
     "output_type": "stream",
     "text": [
      " 24%|██▍       | 208/870 [02:16<06:53,  1.60it/s]"
     ]
    },
    {
     "name": "stdout",
     "output_type": "stream",
     "text": [
      "Done\n",
      "\n",
      "Scraping http://fokus-praha.cz/\n"
     ]
    },
    {
     "name": "stderr",
     "output_type": "stream",
     "text": [
      " 24%|██▍       | 209/870 [02:19<13:42,  1.24s/it]"
     ]
    },
    {
     "name": "stdout",
     "output_type": "stream",
     "text": [
      "Done\n",
      "\n",
      "Scraping https://www.firmy.cz/detail/2258616-magdalena-datkova-hradec-kralove-novy-hradec-kralove.html\n"
     ]
    },
    {
     "name": "stderr",
     "output_type": "stream",
     "text": [
      " 24%|██▍       | 210/870 [02:20<12:00,  1.09s/it]"
     ]
    },
    {
     "name": "stdout",
     "output_type": "stream",
     "text": [
      "Done\n",
      "\n",
      "Scraping https://www.fokus-pisek.cz/cdz-strakonice/\n"
     ]
    },
    {
     "name": "stderr",
     "output_type": "stream",
     "text": [
      " 24%|██▍       | 211/870 [02:21<13:30,  1.23s/it]"
     ]
    },
    {
     "name": "stdout",
     "output_type": "stream",
     "text": [
      "Done\n",
      "\n",
      "Scraping https://pllnare.cz/ambulance\n"
     ]
    },
    {
     "name": "stderr",
     "output_type": "stream",
     "text": [
      " 24%|██▍       | 212/870 [02:22<10:52,  1.01it/s]"
     ]
    },
    {
     "name": "stdout",
     "output_type": "stream",
     "text": [
      "Error fetching https://pllnare.cz/ambulance: 403 Client Error: Forbidden for url: https://pllnare.cz/ambulance\n",
      "Done\n",
      "\n",
      "Scraping https://www.firmy.cz/detail/12876357-mudr-jana-pechova-marianske-lazne.html\n"
     ]
    },
    {
     "name": "stderr",
     "output_type": "stream",
     "text": [
      " 24%|██▍       | 213/870 [02:22<09:13,  1.19it/s]"
     ]
    },
    {
     "name": "stdout",
     "output_type": "stream",
     "text": [
      "Done\n",
      "\n",
      "Scraping http://www.psychoterapeuti.cz/adresar-psychoterapeutu/item/51-pavkova-eva-phdr\n"
     ]
    },
    {
     "name": "stderr",
     "output_type": "stream",
     "text": [
      " 25%|██▍       | 214/870 [02:23<07:34,  1.44it/s]"
     ]
    },
    {
     "name": "stdout",
     "output_type": "stream",
     "text": [
      "Done\n",
      "\n",
      "Scraping https://www.ledovec.cz/centrum-dusevniho-zdravi/cdz-klatovy\n"
     ]
    },
    {
     "name": "stderr",
     "output_type": "stream",
     "text": [
      " 25%|██▍       | 215/870 [02:32<35:12,  3.23s/it]"
     ]
    },
    {
     "name": "stdout",
     "output_type": "stream",
     "text": [
      "Done\n",
      "\n",
      "Scraping http://terapie-tarot.cz/\n"
     ]
    },
    {
     "name": "stderr",
     "output_type": "stream",
     "text": [
      " 25%|██▍       | 216/870 [02:33<27:49,  2.55s/it]"
     ]
    },
    {
     "name": "stdout",
     "output_type": "stream",
     "text": [
      "Done\n",
      "\n",
      "Scraping https://www.skolskykomplex.cz/g-jgm/\n"
     ]
    },
    {
     "name": "stderr",
     "output_type": "stream",
     "text": [
      " 25%|██▌       | 218/870 [02:35<18:09,  1.67s/it]"
     ]
    },
    {
     "name": "stdout",
     "output_type": "stream",
     "text": [
      "Error fetching https://www.skolskykomplex.cz/g-jgm/: 404 Client Error: Not Found for url: https://www.skolskykomplex.cz/g-jgm/\n",
      "Done\n",
      "\n",
      "Scraping https://www.psychoterapiehk.cz\n",
      "Done\n",
      "\n",
      "Scraping https://www.krnov.charita.cz\n"
     ]
    },
    {
     "name": "stderr",
     "output_type": "stream",
     "text": [
      " 25%|██▌       | 219/870 [02:35<13:26,  1.24s/it]"
     ]
    },
    {
     "name": "stdout",
     "output_type": "stream",
     "text": [
      "Done\n",
      "\n",
      "Scraping http://www.sdbplzen.cz\n"
     ]
    },
    {
     "name": "stderr",
     "output_type": "stream",
     "text": [
      " 25%|██▌       | 220/870 [02:35<10:43,  1.01it/s]"
     ]
    },
    {
     "name": "stdout",
     "output_type": "stream",
     "text": [
      "Done\n",
      "\n",
      "Scraping http://www.psychologsh.cz/\n"
     ]
    },
    {
     "name": "stderr",
     "output_type": "stream",
     "text": [
      " 25%|██▌       | 221/870 [02:36<08:24,  1.29it/s]"
     ]
    },
    {
     "name": "stdout",
     "output_type": "stream",
     "text": [
      "Done\n",
      "\n",
      "Scraping http://www.psychoterapeuti.cz/adresar-psychoterapeutu/item/71-hurdalek-ivo-mgr\n"
     ]
    },
    {
     "name": "stderr",
     "output_type": "stream",
     "text": [
      " 26%|██▌       | 224/870 [02:36<04:17,  2.51it/s]"
     ]
    },
    {
     "name": "stdout",
     "output_type": "stream",
     "text": [
      "Done\n",
      "\n",
      "Scraping http://www.psycholog-hk.cz/\n",
      "Error fetching http://www.psycholog-hk.cz/: HTTPConnectionPool(host='www.psycholog-hk.cz', port=80): Max retries exceeded with url: / (Caused by NewConnectionError('<urllib3.connection.HTTPConnection object at 0x1721b69d0>: Failed to establish a new connection: [Errno 8] nodename nor servname provided, or not known'))\n",
      "Done\n",
      "\n",
      "Scraping https://www.jekhetane.cz\n",
      "Error fetching https://www.jekhetane.cz: HTTPSConnectionPool(host='www.jekhetane.cz', port=443): Max retries exceeded with url: / (Caused by SSLError(CertificateError(\"hostname 'www.jekhetane.cz' doesn't match either of '*.nameserver.sk', 'nameserver.sk'\")))\n",
      "Done\n",
      "\n",
      "Scraping https://www.doktor.cz/doktor/mudr-petr-kalina-psychiatrie-soudni-lekarstvi-22320/mudr-petr-kalina-myslbekova-1596-4-karlovy-vary-360-01-29463\n"
     ]
    },
    {
     "name": "stderr",
     "output_type": "stream",
     "text": [
      " 26%|██▌       | 225/870 [02:37<04:34,  2.35it/s]"
     ]
    },
    {
     "name": "stdout",
     "output_type": "stream",
     "text": [
      "Done\n",
      "\n",
      "Scraping http://www.psychoterapeuti.cz/adresar-psychoterapeutu/item/6-moravek-svatopluk-phdr\n"
     ]
    },
    {
     "name": "stderr",
     "output_type": "stream",
     "text": [
      " 26%|██▌       | 226/870 [02:37<04:33,  2.36it/s]"
     ]
    },
    {
     "name": "stdout",
     "output_type": "stream",
     "text": [
      "Done\n",
      "\n",
      "Scraping http://www.psychoterapeuti.cz/adresar-psychoterapeutu/item/101-weimerova-monika-mudr\n"
     ]
    },
    {
     "name": "stderr",
     "output_type": "stream",
     "text": [
      " 26%|██▌       | 227/870 [02:38<04:19,  2.47it/s]"
     ]
    },
    {
     "name": "stdout",
     "output_type": "stream",
     "text": [
      "Done\n",
      "\n",
      "Scraping https://www.css-ostrava.cz/sluzba/krizove-centrum-pro-deti-a-rodinu/\n"
     ]
    },
    {
     "name": "stderr",
     "output_type": "stream",
     "text": [
      " 26%|██▌       | 228/870 [02:38<04:59,  2.14it/s]"
     ]
    },
    {
     "name": "stdout",
     "output_type": "stream",
     "text": [
      "Error fetching https://www.css-ostrava.cz/sluzba/krizove-centrum-pro-deti-a-rodinu/: 404 Client Error: Not Found for url: https://css-ostrava.cz/sluzba/krizove-centrum-pro-deti-a-rodinu\n",
      "Done\n",
      "\n",
      "Scraping https://jihoceskaruze.cz/poradenske-centrum/\n"
     ]
    },
    {
     "name": "stderr",
     "output_type": "stream",
     "text": [
      " 26%|██▋       | 229/870 [02:39<05:53,  1.81it/s]"
     ]
    },
    {
     "name": "stdout",
     "output_type": "stream",
     "text": [
      "Done\n",
      "\n",
      "Scraping http://www.salinger.cz\n"
     ]
    },
    {
     "name": "stderr",
     "output_type": "stream",
     "text": [
      " 27%|██▋       | 231/870 [02:40<05:38,  1.89it/s]"
     ]
    },
    {
     "name": "stdout",
     "output_type": "stream",
     "text": [
      "Done\n",
      "\n",
      "Scraping http://ssub.cz\n",
      "Done\n",
      "\n",
      "Scraping http://www.psychoterapeuti.cz/adresar-psychoterapeutu/item/94-bukovjan-miroslav-mudr\n"
     ]
    },
    {
     "name": "stderr",
     "output_type": "stream",
     "text": [
      " 27%|██▋       | 233/870 [02:41<04:24,  2.41it/s]"
     ]
    },
    {
     "name": "stdout",
     "output_type": "stream",
     "text": [
      "Done\n",
      "\n",
      "Scraping https://www.ambulancekm.cz/\n",
      "Done\n",
      "\n",
      "Scraping https://mestokladno.cz/mgr-kvetuse-ksirova-klinicky-psycholog/os-200086\n"
     ]
    },
    {
     "name": "stderr",
     "output_type": "stream",
     "text": [
      " 27%|██▋       | 235/870 [02:41<03:04,  3.44it/s]"
     ]
    },
    {
     "name": "stdout",
     "output_type": "stream",
     "text": [
      "Done\n",
      "\n",
      "Scraping http://www.rodinnaporadnacb.cz/stredisko-pro-rodinu\n",
      "Done\n",
      "\n",
      "Scraping https://www.firmy.cz/detail/12865716-psychiatricka-praxe-klatovy-iv.html\n"
     ]
    },
    {
     "name": "stderr",
     "output_type": "stream",
     "text": [
      " 27%|██▋       | 237/870 [02:42<02:59,  3.52it/s]"
     ]
    },
    {
     "name": "stdout",
     "output_type": "stream",
     "text": [
      "Done\n",
      "\n",
      "Scraping https://tyn.charita.cz/jak-pomahame/obcanska-poradna/\n",
      "Done\n",
      "\n",
      "Scraping http://www.onlinekarvina.cz/\n",
      "Error fetching http://www.onlinekarvina.cz/: HTTPConnectionPool(host='www.onlinekarvina.cz', port=80): Max retries exceeded with url: / (Caused by NewConnectionError('<urllib3.connection.HTTPConnection object at 0x172542c50>: Failed to establish a new connection: [Errno 8] nodename nor servname provided, or not known'))\n",
      "Done\n",
      "\n",
      "Scraping http://www.janbetlach.cz/\n"
     ]
    },
    {
     "name": "stderr",
     "output_type": "stream",
     "text": [
      " 27%|██▋       | 239/870 [02:42<02:12,  4.77it/s]"
     ]
    },
    {
     "name": "stdout",
     "output_type": "stream",
     "text": [
      "Done\n",
      "\n",
      "Scraping http://www.cipslk.cz/\n"
     ]
    },
    {
     "name": "stderr",
     "output_type": "stream",
     "text": [
      " 28%|██▊       | 240/870 [02:43<03:44,  2.81it/s]"
     ]
    },
    {
     "name": "stdout",
     "output_type": "stream",
     "text": [
      "Done\n",
      "\n",
      "Scraping https://phdr-anna-kotrcova.zdravotniregistr.cz/#utm_source=search.seznam.cz&utm_medium=ppd&utm_content=hledani&utm_term=psycholog%20karlovy%20vary&utm_campaign=firmy.cz-384919\n"
     ]
    },
    {
     "name": "stderr",
     "output_type": "stream",
     "text": [
      " 28%|██▊       | 241/870 [02:43<03:59,  2.63it/s]"
     ]
    },
    {
     "name": "stdout",
     "output_type": "stream",
     "text": [
      "Done\n",
      "\n",
      "Scraping http://plzenskypsycholog.cz/\n"
     ]
    },
    {
     "name": "stderr",
     "output_type": "stream",
     "text": [
      " 28%|██▊       | 242/870 [02:44<04:03,  2.58it/s]"
     ]
    },
    {
     "name": "stdout",
     "output_type": "stream",
     "text": [
      "Done\n",
      "\n",
      "Scraping https://www.firmy.cz/detail/12844248-egomed-hradec-kralove.html\n"
     ]
    },
    {
     "name": "stderr",
     "output_type": "stream",
     "text": [
      " 28%|██▊       | 243/870 [02:44<04:31,  2.31it/s]"
     ]
    },
    {
     "name": "stdout",
     "output_type": "stream",
     "text": [
      "Done\n",
      "\n",
      "Scraping https://psycholog-plzen.cz/\n"
     ]
    },
    {
     "name": "stderr",
     "output_type": "stream",
     "text": [
      " 28%|██▊       | 245/870 [02:45<04:04,  2.56it/s]"
     ]
    },
    {
     "name": "stdout",
     "output_type": "stream",
     "text": [
      "Done\n",
      "\n",
      "Scraping https://www.jihlava.charita.cz\n",
      "Done\n",
      "\n",
      "Scraping https://cs-cz.facebook.com/pages/category/Medical-Center/Klinick%C3%A1-psychologie-PhDr-Ji%C5%99%C3%AD-Laciga-627210657489219/\n"
     ]
    },
    {
     "name": "stderr",
     "output_type": "stream",
     "text": [
      " 28%|██▊       | 246/870 [02:46<05:06,  2.03it/s]"
     ]
    },
    {
     "name": "stdout",
     "output_type": "stream",
     "text": [
      "Done\n",
      "\n",
      "Scraping http://www.psychoterapeuti.cz/adresar-psychoterapeutu/item/49-novakova-daniela-phdr\n"
     ]
    },
    {
     "name": "stderr",
     "output_type": "stream",
     "text": [
      " 28%|██▊       | 247/870 [02:46<04:37,  2.24it/s]"
     ]
    },
    {
     "name": "stdout",
     "output_type": "stream",
     "text": [
      "Done\n",
      "\n",
      "Scraping https://psychiatrie-praha.cz/\n"
     ]
    },
    {
     "name": "stderr",
     "output_type": "stream",
     "text": [
      " 29%|██▊       | 248/870 [02:46<04:14,  2.45it/s]"
     ]
    },
    {
     "name": "stdout",
     "output_type": "stream",
     "text": [
      "Done\n",
      "\n",
      "Scraping https://nrpzs.uzis.cz/detail-63187-psychiatricka-ordinace-mudr-josef-kasparek-s-r-o.html\n"
     ]
    },
    {
     "name": "stderr",
     "output_type": "stream",
     "text": [
      " 29%|██▊       | 249/870 [02:48<06:32,  1.58it/s]"
     ]
    },
    {
     "name": "stdout",
     "output_type": "stream",
     "text": [
      "Done\n",
      "\n",
      "Scraping https://www.pppbreclav.cz/\n"
     ]
    },
    {
     "name": "stderr",
     "output_type": "stream",
     "text": [
      " 29%|██▊       | 250/870 [02:48<05:42,  1.81it/s]"
     ]
    },
    {
     "name": "stdout",
     "output_type": "stream",
     "text": [
      "Done\n",
      "\n",
      "Scraping http://www.sternberk.caritas.cz/\n"
     ]
    },
    {
     "name": "stderr",
     "output_type": "stream",
     "text": [
      " 29%|██▉       | 251/870 [02:48<04:52,  2.12it/s]"
     ]
    },
    {
     "name": "stdout",
     "output_type": "stream",
     "text": [
      "Done\n",
      "\n",
      "Scraping http://psychologie-biofeedback.cz/\n"
     ]
    },
    {
     "name": "stderr",
     "output_type": "stream",
     "text": [
      " 29%|██▉       | 252/870 [02:54<20:37,  2.00s/it]"
     ]
    },
    {
     "name": "stdout",
     "output_type": "stream",
     "text": [
      "Done\n",
      "\n",
      "Scraping https://jarmilakrajcova.webnode.cz/\n"
     ]
    },
    {
     "name": "stderr",
     "output_type": "stream",
     "text": [
      " 29%|██▉       | 253/870 [02:54<15:55,  1.55s/it]"
     ]
    },
    {
     "name": "stdout",
     "output_type": "stream",
     "text": [
      "Done\n",
      "\n",
      "Scraping https://www.elvahelp.cz\n"
     ]
    },
    {
     "name": "stderr",
     "output_type": "stream",
     "text": [
      " 29%|██▉       | 254/870 [02:55<12:24,  1.21s/it]"
     ]
    },
    {
     "name": "stdout",
     "output_type": "stream",
     "text": [
      "Done\n",
      "\n",
      "Scraping https://www.navstevalekare.cz/lekari/psychiatr--psychiatrie-s51017/jihocesky-kraj-k300/cesky-krumlov-o501/cesky-krumlov-m1516/mudr-miroslav-norek-d5659.html\n"
     ]
    },
    {
     "name": "stderr",
     "output_type": "stream",
     "text": [
      " 29%|██▉       | 256/870 [02:55<07:14,  1.41it/s]"
     ]
    },
    {
     "name": "stdout",
     "output_type": "stream",
     "text": [
      "Done\n",
      "\n",
      "Scraping https://www.krebul.cz/obcanska-poradna\n",
      "Error fetching https://www.krebul.cz/obcanska-poradna: ('Connection aborted.', RemoteDisconnected('Remote end closed connection without response'))\n",
      "Done\n",
      "\n",
      "Scraping http://www.armadaspasy.cz/\n"
     ]
    },
    {
     "name": "stderr",
     "output_type": "stream",
     "text": [
      " 30%|██▉       | 257/870 [02:56<06:39,  1.53it/s]"
     ]
    },
    {
     "name": "stdout",
     "output_type": "stream",
     "text": [
      "Done\n",
      "\n",
      "Scraping http://ditekrize.cz/\n"
     ]
    },
    {
     "name": "stderr",
     "output_type": "stream",
     "text": [
      " 30%|██▉       | 258/870 [02:58<11:09,  1.09s/it]"
     ]
    },
    {
     "name": "stdout",
     "output_type": "stream",
     "text": [
      "Done\n",
      "\n",
      "Scraping https://www.diakoniezapad.cz/sluzby-diakonie-zapad/pro-lidi-v-nouzi/poradna-pro-obcany-v-nesnazich/\n"
     ]
    },
    {
     "name": "stderr",
     "output_type": "stream",
     "text": [
      " 30%|██▉       | 260/870 [02:58<06:47,  1.50it/s]"
     ]
    },
    {
     "name": "stdout",
     "output_type": "stream",
     "text": [
      "Error fetching https://www.diakoniezapad.cz/sluzby-diakonie-zapad/pro-lidi-v-nouzi/poradna-pro-obcany-v-nesnazich/: 404 Client Error: Not Found for url: https://www.zapad.diakonie.cz/sluzby-diakonie-zapad/pro-lidi-v-nouzi/poradna-pro-obcany-v-nesnazich/\n",
      "Done\n",
      "\n",
      "Scraping https://www.ekatalog.cz/firma/268148-mudr-vlasta-hoskova-psychiatrie/\n",
      "Error fetching https://www.ekatalog.cz/firma/268148-mudr-vlasta-hoskova-psychiatrie/: 404 Client Error: Not Found for url: https://www.ekatalog.cz/firma/268148-mudr-vlasta-hoskova-psychiatrie/\n",
      "Done\n",
      "\n",
      "Scraping https://www.ppp11a12.cz/\n"
     ]
    },
    {
     "name": "stderr",
     "output_type": "stream",
     "text": [
      " 30%|███       | 261/870 [02:59<05:22,  1.89it/s]"
     ]
    },
    {
     "name": "stdout",
     "output_type": "stream",
     "text": [
      "Done\n",
      "\n",
      "Scraping https://www.pelhrimov.charita.cz\n"
     ]
    },
    {
     "name": "stderr",
     "output_type": "stream",
     "text": [
      " 30%|███       | 263/870 [02:59<03:45,  2.69it/s]"
     ]
    },
    {
     "name": "stdout",
     "output_type": "stream",
     "text": [
      "Done\n",
      "\n",
      "Scraping https://www.dk.charita.cz\n",
      "Done\n",
      "\n",
      "Scraping https://psychiatrie.help/\n"
     ]
    },
    {
     "name": "stderr",
     "output_type": "stream",
     "text": [
      " 30%|███       | 265/870 [02:59<03:02,  3.31it/s]"
     ]
    },
    {
     "name": "stdout",
     "output_type": "stream",
     "text": [
      "Done\n",
      "\n",
      "Scraping https://podaneruce.cz/centra-sluzby/psychiatricka-ambulance-zlin/\n",
      "Done\n",
      "\n",
      "Scraping https://www.lexik.cz/pedagogicko-psychologicka-poradna\n"
     ]
    },
    {
     "name": "stderr",
     "output_type": "stream",
     "text": [
      " 31%|███       | 266/870 [03:00<02:29,  4.03it/s]"
     ]
    },
    {
     "name": "stdout",
     "output_type": "stream",
     "text": [
      "Done\n",
      "\n",
      "Scraping https://www.gp.cz/\n"
     ]
    },
    {
     "name": "stderr",
     "output_type": "stream",
     "text": [
      " 31%|███       | 267/870 [03:01<07:09,  1.40it/s]"
     ]
    },
    {
     "name": "stdout",
     "output_type": "stream",
     "text": [
      "Done\n",
      "\n",
      "Scraping https://www.psycholog-jesenik.cz/\n"
     ]
    },
    {
     "name": "stderr",
     "output_type": "stream",
     "text": [
      " 31%|███       | 268/870 [03:03<08:57,  1.12it/s]"
     ]
    },
    {
     "name": "stdout",
     "output_type": "stream",
     "text": [
      "Error fetching https://www.psycholog-jesenik.cz/: 403 Client Error: Forbidden for url: https://www.psycholog-jesenik.cz/\n",
      "Done\n",
      "\n",
      "Scraping http://www.intervencni-centrum.cz/\n"
     ]
    },
    {
     "name": "stderr",
     "output_type": "stream",
     "text": [
      " 31%|███       | 269/870 [03:03<07:50,  1.28it/s]"
     ]
    },
    {
     "name": "stdout",
     "output_type": "stream",
     "text": [
      "Done\n",
      "\n",
      "Scraping https://psycholog-bohumin.cz/\n"
     ]
    },
    {
     "name": "stderr",
     "output_type": "stream",
     "text": [
      " 31%|███       | 270/870 [03:03<06:13,  1.61it/s]"
     ]
    },
    {
     "name": "stdout",
     "output_type": "stream",
     "text": [
      "Done\n",
      "\n",
      "Scraping http://www.stred.info\n"
     ]
    },
    {
     "name": "stderr",
     "output_type": "stream",
     "text": [
      " 31%|███       | 271/870 [03:04<05:19,  1.87it/s]"
     ]
    },
    {
     "name": "stdout",
     "output_type": "stream",
     "text": [
      "Done\n",
      "\n",
      "Scraping http://www.pvcklub.podaneruce.cz\n"
     ]
    },
    {
     "name": "stderr",
     "output_type": "stream",
     "text": [
      " 31%|███▏      | 273/870 [03:04<04:07,  2.41it/s]"
     ]
    },
    {
     "name": "stdout",
     "output_type": "stream",
     "text": [
      "Done\n",
      "\n",
      "Scraping http://www.medihelp.cz\n",
      "Done\n",
      "\n",
      "Scraping https://www.firmy.cz/detail/13033107-mudr-marie-ostadalova-bystrice-pod-hostynem.html\n"
     ]
    },
    {
     "name": "stderr",
     "output_type": "stream",
     "text": [
      " 31%|███▏      | 274/870 [03:05<05:19,  1.87it/s]"
     ]
    },
    {
     "name": "stdout",
     "output_type": "stream",
     "text": [
      "Done\n",
      "\n",
      "Scraping https://nemji.cz/vismo/o_utvar.asp?id_org=427000&id_u=1019&tzv=2&p1=1154\n"
     ]
    },
    {
     "name": "stderr",
     "output_type": "stream",
     "text": [
      " 32%|███▏      | 275/870 [03:06<06:58,  1.42it/s]"
     ]
    },
    {
     "name": "stdout",
     "output_type": "stream",
     "text": [
      "Error fetching https://nemji.cz/vismo/o_utvar.asp?id_org=427000&id_u=1019&tzv=2&p1=1154: 404 Client Error: Not Found for url: https://www.nemji.cz/vismo/o_utvar.asp?id_org=427000&id_u=1019&tzv=2&p1=1154\n",
      "Done\n",
      "\n",
      "Scraping https://www.firmy.cz/detail/384809-mudr-viliam-janac-domazlice-tynske-predmesti.html\n"
     ]
    },
    {
     "name": "stderr",
     "output_type": "stream",
     "text": [
      " 32%|███▏      | 277/870 [03:07<04:41,  2.11it/s]"
     ]
    },
    {
     "name": "stdout",
     "output_type": "stream",
     "text": [
      "Done\n",
      "\n",
      "Scraping http://www.psychologickesluzby.com/\n",
      "Done\n",
      "\n",
      "Scraping http://www.janhaase.cz/index.php\n"
     ]
    },
    {
     "name": "stderr",
     "output_type": "stream",
     "text": [
      " 32%|███▏      | 279/870 [03:08<04:20,  2.27it/s]"
     ]
    },
    {
     "name": "stdout",
     "output_type": "stream",
     "text": [
      "Error fetching http://www.janhaase.cz/index.php: 503 Server Error: Service Temporarily Unavailable for url: http://www.janhaase.cz/index.php\n",
      "Done\n",
      "\n",
      "Scraping https://nrpzs.uzis.cz/detail-35916-mudr-libuse-kvasnickova.html\n",
      "Done\n",
      "\n",
      "Scraping https://www.speczs.cz/\n"
     ]
    },
    {
     "name": "stderr",
     "output_type": "stream",
     "text": [
      " 32%|███▏      | 280/870 [03:08<03:26,  2.86it/s]"
     ]
    },
    {
     "name": "stdout",
     "output_type": "stream",
     "text": [
      "Done\n",
      "\n",
      "Scraping http://www.psychologove.cz/\n"
     ]
    },
    {
     "name": "stderr",
     "output_type": "stream",
     "text": [
      " 32%|███▏      | 281/870 [03:08<03:09,  3.11it/s]"
     ]
    },
    {
     "name": "stdout",
     "output_type": "stream",
     "text": [
      "Done\n",
      "\n",
      "Scraping http://www.psychoterapeuti.cz/adresar-psychoterapeutu/item/3-pavlova-helena-mudr\n"
     ]
    },
    {
     "name": "stderr",
     "output_type": "stream",
     "text": [
      " 32%|███▏      | 282/870 [03:09<03:12,  3.06it/s]"
     ]
    },
    {
     "name": "stdout",
     "output_type": "stream",
     "text": [
      "Done\n",
      "\n",
      "Scraping http://www.pppstredoceska.cz/\n"
     ]
    },
    {
     "name": "stderr",
     "output_type": "stream",
     "text": [
      " 33%|███▎      | 283/870 [03:11<09:08,  1.07it/s]"
     ]
    },
    {
     "name": "stdout",
     "output_type": "stream",
     "text": [
      "Done\n",
      "\n",
      "Scraping http://www.psychoterapeuti.cz/adresar-psychoterapeutu/item/23-frouzova-magdalena\n"
     ]
    },
    {
     "name": "stderr",
     "output_type": "stream",
     "text": [
      " 33%|███▎      | 285/870 [03:11<05:26,  1.79it/s]"
     ]
    },
    {
     "name": "stdout",
     "output_type": "stream",
     "text": [
      "Done\n",
      "\n",
      "Scraping http://www.medisante.cz/\n",
      "Done\n",
      "\n",
      "Scraping http://www.nemocnicekladno.cz/oddeleni/spolecne-obory/klinicka-psychologie\n"
     ]
    },
    {
     "name": "stderr",
     "output_type": "stream",
     "text": [
      " 33%|███▎      | 287/870 [03:12<04:16,  2.27it/s]"
     ]
    },
    {
     "name": "stdout",
     "output_type": "stream",
     "text": [
      "Done\n",
      "\n",
      "Scraping https://www.neskrytost.cz/?gclid=EAIaIQobChMI8LuGssyO-AIVCI1oCR2AfwEOEBAYASAAEgKq2fD_BwE\n",
      "Done\n",
      "\n",
      "Scraping https://www.pppuo.cz/\n"
     ]
    },
    {
     "name": "stderr",
     "output_type": "stream",
     "text": [
      " 33%|███▎      | 289/870 [03:13<03:10,  3.05it/s]"
     ]
    },
    {
     "name": "stdout",
     "output_type": "stream",
     "text": [
      "Done\n",
      "\n",
      "Scraping http://www.agarta.cz/\n",
      "Done\n",
      "\n",
      "Scraping http://www.fokuslbc.eu/\n"
     ]
    },
    {
     "name": "stderr",
     "output_type": "stream",
     "text": [
      " 33%|███▎      | 290/870 [03:13<02:31,  3.82it/s]"
     ]
    },
    {
     "name": "stdout",
     "output_type": "stream",
     "text": [
      "Done\n",
      "\n",
      "Scraping http://www.medicpoint.cz/www.medicpoint.cz/vitejte/zdravy-zivotni-styl-sebepoznani-osobnostni-rust-a-podpora-v-naro/index.html\n"
     ]
    },
    {
     "name": "stderr",
     "output_type": "stream",
     "text": [
      " 34%|███▎      | 292/870 [03:13<02:03,  4.67it/s]"
     ]
    },
    {
     "name": "stdout",
     "output_type": "stream",
     "text": [
      "Done\n",
      "\n",
      "Scraping https://www.fnmotol.cz/\n",
      "Done\n",
      "\n",
      "Scraping http://www.klinicka-psychologie.com/inpage/kontakty\n"
     ]
    },
    {
     "name": "stderr",
     "output_type": "stream",
     "text": [
      " 34%|███▎      | 293/870 [03:13<01:50,  5.21it/s]"
     ]
    },
    {
     "name": "stdout",
     "output_type": "stream",
     "text": [
      "Done\n",
      "\n",
      "Scraping https://www.terapiejakocesta.cz/\n"
     ]
    },
    {
     "name": "stderr",
     "output_type": "stream",
     "text": [
      " 34%|███▍      | 294/870 [03:13<02:06,  4.55it/s]"
     ]
    },
    {
     "name": "stdout",
     "output_type": "stream",
     "text": [
      "Done\n",
      "\n",
      "Scraping http://www.psychoterapeuti.cz/adresar-psychoterapeutu/item/17-cibulkova-lenka-mgr\n"
     ]
    },
    {
     "name": "stderr",
     "output_type": "stream",
     "text": [
      " 34%|███▍      | 295/870 [03:14<02:23,  3.99it/s]"
     ]
    },
    {
     "name": "stdout",
     "output_type": "stream",
     "text": [
      "Done\n",
      "\n",
      "Scraping https://www.spirala-ul.cz\n"
     ]
    },
    {
     "name": "stderr",
     "output_type": "stream",
     "text": [
      " 34%|███▍      | 296/870 [03:17<09:48,  1.03s/it]"
     ]
    },
    {
     "name": "stdout",
     "output_type": "stream",
     "text": [
      "Done\n",
      "\n",
      "Scraping https://www.firmy.cz/detail/13285717-mudr-leo-prochazka-cernovice.html\n"
     ]
    },
    {
     "name": "stderr",
     "output_type": "stream",
     "text": [
      " 34%|███▍      | 297/870 [03:17<07:50,  1.22it/s]"
     ]
    },
    {
     "name": "stdout",
     "output_type": "stream",
     "text": [
      "Done\n",
      "\n",
      "Scraping http://www.phdrdokoupilova.cz/\n"
     ]
    },
    {
     "name": "stderr",
     "output_type": "stream",
     "text": [
      " 34%|███▍      | 298/870 [03:17<06:08,  1.55it/s]"
     ]
    },
    {
     "name": "stdout",
     "output_type": "stream",
     "text": [
      "Done\n",
      "\n",
      "Scraping https://hollka.com/\n"
     ]
    },
    {
     "name": "stderr",
     "output_type": "stream",
     "text": [
      " 34%|███▍      | 299/870 [03:18<05:30,  1.73it/s]"
     ]
    },
    {
     "name": "stdout",
     "output_type": "stream",
     "text": [
      "Done\n",
      "\n",
      "Scraping http://www.vithoigr.cz/\n",
      "Error fetching http://www.vithoigr.cz/: 403 Client Error: Forbidden for url: http://www.vithoigr.cz/\n",
      "Done\n",
      "\n",
      "Scraping http://www.fokuslabe.cz\n"
     ]
    },
    {
     "name": "stderr",
     "output_type": "stream",
     "text": [
      " 35%|███▍      | 301/870 [03:18<03:37,  2.61it/s]"
     ]
    },
    {
     "name": "stdout",
     "output_type": "stream",
     "text": [
      "Done\n",
      "\n",
      "Scraping http://www.ckrumlov.charita.cz\n"
     ]
    },
    {
     "name": "stderr",
     "output_type": "stream",
     "text": [
      " 35%|███▍      | 302/870 [03:18<03:16,  2.89it/s]"
     ]
    },
    {
     "name": "stdout",
     "output_type": "stream",
     "text": [
      "Done\n",
      "\n",
      "Scraping https://www.znamylekar.cz/marketa-rousalova/psychiatr/ceske-budejovice\n"
     ]
    },
    {
     "name": "stderr",
     "output_type": "stream",
     "text": [
      " 35%|███▍      | 303/870 [03:19<04:10,  2.27it/s]"
     ]
    },
    {
     "name": "stdout",
     "output_type": "stream",
     "text": [
      "Done\n",
      "\n",
      "Scraping http://www.psychoterapeuti.cz/adresar-psychoterapeutu/item/22-forman-hynek-mudr\n"
     ]
    },
    {
     "name": "stderr",
     "output_type": "stream",
     "text": [
      " 35%|███▍      | 304/870 [03:19<04:00,  2.36it/s]"
     ]
    },
    {
     "name": "stdout",
     "output_type": "stream",
     "text": [
      "Done\n",
      "\n",
      "Scraping http://klinickypsychologvsetin.cz\n"
     ]
    },
    {
     "name": "stderr",
     "output_type": "stream",
     "text": [
      " 35%|███▌      | 306/870 [03:20<03:25,  2.75it/s]"
     ]
    },
    {
     "name": "stdout",
     "output_type": "stream",
     "text": [
      "Done\n",
      "\n",
      "Scraping http://poradnaln.cz/kontakt.html\n",
      "Done\n",
      "\n",
      "Scraping http://www.poradnaukaplicky.cz/kontakt.html\n",
      "Done\n",
      "\n",
      "Scraping https://psychiatrievalmez.cz/\n"
     ]
    },
    {
     "name": "stderr",
     "output_type": "stream",
     "text": [
      " 35%|███▌      | 308/870 [03:21<03:56,  2.38it/s]"
     ]
    },
    {
     "name": "stdout",
     "output_type": "stream",
     "text": [
      "Done\n",
      "\n",
      "Scraping https://www.poradnazl.cz/\n"
     ]
    },
    {
     "name": "stderr",
     "output_type": "stream",
     "text": [
      " 36%|███▌      | 309/870 [03:21<03:49,  2.44it/s]"
     ]
    },
    {
     "name": "stdout",
     "output_type": "stream",
     "text": [
      "Done\n",
      "\n",
      "Scraping https://psychiatrie-klatovy.cz/\n"
     ]
    },
    {
     "name": "stderr",
     "output_type": "stream",
     "text": [
      " 36%|███▌      | 311/870 [03:22<04:11,  2.23it/s]"
     ]
    },
    {
     "name": "stdout",
     "output_type": "stream",
     "text": [
      "Done\n",
      "\n",
      "Scraping https://murgasova.cz/\n",
      "Done\n",
      "\n",
      "Scraping http://www.riaps.cz/poradna/\n",
      "Error fetching http://www.riaps.cz/poradna/: 403 Client Error: Forbidden for url: http://www.riaps.cz/poradna/\n",
      "Done\n",
      "\n",
      "Scraping https://www.neposeda.org\n"
     ]
    },
    {
     "name": "stderr",
     "output_type": "stream",
     "text": [
      " 36%|███▌      | 313/870 [03:30<17:21,  1.87s/it]"
     ]
    },
    {
     "name": "stdout",
     "output_type": "stream",
     "text": [
      "Done\n",
      "\n",
      "Scraping http://www.linkaztracenedite.cz/\n"
     ]
    },
    {
     "name": "stderr",
     "output_type": "stream",
     "text": [
      " 36%|███▌      | 314/870 [03:30<14:25,  1.56s/it]"
     ]
    },
    {
     "name": "stdout",
     "output_type": "stream",
     "text": [
      "Done\n",
      "\n",
      "Scraping misa.zapletalova@tiscali.cz\n",
      "Error fetching misa.zapletalova@tiscali.cz: Invalid URL 'misa.zapletalova@tiscali.cz': No scheme supplied. Perhaps you meant https://misa.zapletalova@tiscali.cz?\n",
      "Done\n",
      "\n",
      "Scraping https://www.lukasman.cz/\n"
     ]
    },
    {
     "name": "stderr",
     "output_type": "stream",
     "text": [
      " 36%|███▋      | 316/870 [03:31<09:32,  1.03s/it]"
     ]
    },
    {
     "name": "stdout",
     "output_type": "stream",
     "text": [
      "Done\n",
      "\n",
      "Scraping https://www.mediclinic.cz/lekar/vimperk-havlova\n"
     ]
    },
    {
     "name": "stderr",
     "output_type": "stream",
     "text": [
      " 36%|███▋      | 317/870 [03:32<08:44,  1.05it/s]"
     ]
    },
    {
     "name": "stdout",
     "output_type": "stream",
     "text": [
      "Done\n",
      "\n",
      "Scraping http://www.dczlin.cz/\n"
     ]
    },
    {
     "name": "stderr",
     "output_type": "stream",
     "text": [
      " 37%|███▋      | 319/870 [03:32<06:26,  1.43it/s]"
     ]
    },
    {
     "name": "stdout",
     "output_type": "stream",
     "text": [
      "Done\n",
      "\n",
      "Scraping https://www.jihoceskarozvojova.cz/sluzby/sluzby-pro-rodinu.html\n",
      "Done\n",
      "\n",
      "Scraping http://www.psychoterapeuti.cz/adresar-psychoterapeutu/item/11-cermakova-halina-mudr\n"
     ]
    },
    {
     "name": "stderr",
     "output_type": "stream",
     "text": [
      " 37%|███▋      | 320/870 [03:33<06:00,  1.53it/s]"
     ]
    },
    {
     "name": "stdout",
     "output_type": "stream",
     "text": [
      "Done\n",
      "\n",
      "Scraping cdzostrava.cz\n",
      "Error fetching cdzostrava.cz: Invalid URL 'cdzostrava.cz': No scheme supplied. Perhaps you meant https://cdzostrava.cz?\n",
      "Done\n",
      "\n",
      "Scraping http://www.psychoterapeuti.cz/adresar-psychoterapeutu/item/58-strnadlova-helena-phdr\n"
     ]
    },
    {
     "name": "stderr",
     "output_type": "stream",
     "text": [
      " 37%|███▋      | 322/870 [03:33<04:10,  2.19it/s]"
     ]
    },
    {
     "name": "stdout",
     "output_type": "stream",
     "text": [
      "Done\n",
      "\n",
      "Scraping https://www.zivefirmy.cz/bornova-libuse-mudr-_f1047322\n"
     ]
    },
    {
     "name": "stderr",
     "output_type": "stream",
     "text": [
      " 37%|███▋      | 323/870 [03:34<03:41,  2.47it/s]"
     ]
    },
    {
     "name": "stdout",
     "output_type": "stream",
     "text": [
      "Done\n",
      "\n",
      "Scraping https://www.homolka.cz/\n",
      "Error fetching https://www.homolka.cz/: 403 Client Error: Forbidden for url: https://www.homolka.cz/\n",
      "Done\n",
      "\n",
      "Scraping https://horazdovice.charita.cz/jak-pomahame/obcanska-poradna/\n"
     ]
    },
    {
     "name": "stderr",
     "output_type": "stream",
     "text": [
      " 37%|███▋      | 325/870 [03:34<02:37,  3.46it/s]"
     ]
    },
    {
     "name": "stdout",
     "output_type": "stream",
     "text": [
      "Done\n",
      "\n",
      "Scraping http://klubtulip.cz\n",
      ": HTTPConnectionPool(host='klubtulip.cz%0d', port=80): Max retries exceeded with url: / (Caused by NewConnectionError('<urllib3.connection.HTTPConnection object at 0x17294dd90>: Failed to establish a new connection: [Errno 8] nodename nor servname provided, or not known'))\n",
      "Done\n",
      "\n",
      "Scraping http://www.psychoterapeuti.cz/adresar-psychoterapeutu/item/12-cerny-kamil-mudr\n"
     ]
    },
    {
     "name": "stderr",
     "output_type": "stream",
     "text": [
      " 38%|███▊      | 328/870 [03:34<02:00,  4.51it/s]"
     ]
    },
    {
     "name": "stdout",
     "output_type": "stream",
     "text": [
      "Done\n",
      "\n",
      "Scraping https://www.centrumkamarad.eu\n",
      "Error fetching https://www.centrumkamarad.eu: HTTPSConnectionPool(host='www.centrumkamarad.eu', port=443): Max retries exceeded with url: / (Caused by NewConnectionError('<urllib3.connection.HTTPSConnection object at 0x17296a710>: Failed to establish a new connection: [Errno 8] nodename nor servname provided, or not known'))\n",
      "Done\n",
      "\n",
      "Scraping https://www.jahoda.cz\n"
     ]
    },
    {
     "name": "stderr",
     "output_type": "stream",
     "text": [
      " 38%|███▊      | 329/870 [03:35<02:12,  4.09it/s]"
     ]
    },
    {
     "name": "stdout",
     "output_type": "stream",
     "text": [
      "Done\n",
      "\n",
      "Scraping http://www.nemdac.cz/ambulance/psychiatricka-ambulance/\n"
     ]
    },
    {
     "name": "stderr",
     "output_type": "stream",
     "text": [
      " 38%|███▊      | 330/870 [03:36<04:28,  2.01it/s]"
     ]
    },
    {
     "name": "stdout",
     "output_type": "stream",
     "text": [
      "Error fetching http://www.nemdac.cz/ambulance/psychiatricka-ambulance/: 404 Client Error: Not Found for url: https://www.nemdac.cz/ambulance/psychiatricka-ambulance/\n",
      "Done\n",
      "\n",
      "Scraping https://www.firmy.cz/detail/2550598-mudr-hana-vermouskova-moravske-budejovice.html\n"
     ]
    },
    {
     "name": "stderr",
     "output_type": "stream",
     "text": [
      " 38%|███▊      | 331/870 [03:36<04:09,  2.16it/s]"
     ]
    },
    {
     "name": "stdout",
     "output_type": "stream",
     "text": [
      "Done\n",
      "\n",
      "Scraping http://www.pppkv.cz/\n"
     ]
    },
    {
     "name": "stderr",
     "output_type": "stream",
     "text": [
      " 38%|███▊      | 332/870 [03:37<03:46,  2.38it/s]"
     ]
    },
    {
     "name": "stdout",
     "output_type": "stream",
     "text": [
      "Done\n",
      "\n",
      "Scraping http://www.charitafm.cz/\n"
     ]
    },
    {
     "name": "stderr",
     "output_type": "stream",
     "text": [
      " 38%|███▊      | 333/870 [03:37<03:19,  2.69it/s]"
     ]
    },
    {
     "name": "stdout",
     "output_type": "stream",
     "text": [
      "Done\n",
      "\n",
      "Scraping http://www.adiktologickecentrum.cz/kontakt/1-melnik\n"
     ]
    },
    {
     "name": "stderr",
     "output_type": "stream",
     "text": [
      " 38%|███▊      | 334/870 [03:37<03:08,  2.85it/s]"
     ]
    },
    {
     "name": "stdout",
     "output_type": "stream",
     "text": [
      "Done\n",
      "\n",
      "Scraping http:// www.psycholog-sro.cz\n",
      "Error fetching http:// www.psycholog-sro.cz: HTTPConnectionPool(host='%20www.psycholog-sro.cz', port=80): Max retries exceeded with url: / (Caused by NewConnectionError('<urllib3.connection.HTTPConnection object at 0x171d963d0>: Failed to establish a new connection: [Errno 8] nodename nor servname provided, or not known'))\n",
      "Done\n",
      "\n",
      "Scraping https://www.firmy.cz/detail/12972695-mudr-marketa-dolezalova-havlickuv-brod.html\n"
     ]
    },
    {
     "name": "stderr",
     "output_type": "stream",
     "text": [
      " 39%|███▊      | 336/870 [03:38<02:30,  3.54it/s]"
     ]
    },
    {
     "name": "stdout",
     "output_type": "stream",
     "text": [
      "Done\n",
      "\n",
      "Scraping http://rodinnaporadna-strakonice.cz/index.htm\n",
      "Done\n",
      "\n",
      "Scraping https://www.psychotesty-ridici.cz/\n"
     ]
    },
    {
     "name": "stderr",
     "output_type": "stream",
     "text": [
      " 39%|███▉      | 338/870 [03:38<02:06,  4.21it/s]"
     ]
    },
    {
     "name": "stdout",
     "output_type": "stream",
     "text": [
      "Done\n",
      "\n",
      "Scraping https://terapie-koubova.webnode.cz/\n"
     ]
    },
    {
     "name": "stderr",
     "output_type": "stream",
     "text": [
      " 39%|███▉      | 339/870 [03:39<04:05,  2.17it/s]"
     ]
    },
    {
     "name": "stdout",
     "output_type": "stream",
     "text": [
      "Done\n",
      "\n",
      "Scraping https://www.kaleidoskop-os.cz\n"
     ]
    },
    {
     "name": "stderr",
     "output_type": "stream",
     "text": [
      " 39%|███▉      | 340/870 [03:41<06:42,  1.32it/s]"
     ]
    },
    {
     "name": "stdout",
     "output_type": "stream",
     "text": [
      "Done\n",
      "\n",
      "Scraping http://station17.prevent99.cz\n"
     ]
    },
    {
     "name": "stderr",
     "output_type": "stream",
     "text": [
      " 39%|███▉      | 342/870 [03:44<09:04,  1.03s/it]"
     ]
    },
    {
     "name": "stdout",
     "output_type": "stream",
     "text": [
      "Done\n",
      "\n",
      "Scraping http://www.charitaroudnice.cz\n",
      "Done\n",
      "\n",
      "Scraping http://www.psychoterapeut-liberec.cz/\n",
      "Done\n",
      "\n",
      "Scraping http://www.prah-brno.cz/novinky/2-uncategorised/63-odborne-socialni-poradenstvi\n"
     ]
    },
    {
     "name": "stderr",
     "output_type": "stream",
     "text": [
      " 40%|███▉      | 344/870 [03:46<08:03,  1.09it/s]"
     ]
    },
    {
     "name": "stdout",
     "output_type": "stream",
     "text": [
      "Error fetching http://www.prah-brno.cz/novinky/2-uncategorised/63-odborne-socialni-poradenstvi: 404 Client Error: Not Found for url: https://www.prahjm.cz/novinky/2-uncategorised/63-odborne-socialni-poradenstvi\n",
      "Done\n",
      "\n",
      "Scraping https://mudr-jitka-bartkova.modernilekar.cz/\n"
     ]
    },
    {
     "name": "stderr",
     "output_type": "stream",
     "text": [
      " 40%|███▉      | 346/870 [03:47<06:18,  1.38it/s]"
     ]
    },
    {
     "name": "stdout",
     "output_type": "stream",
     "text": [
      "Done\n",
      "\n",
      "Scraping https://www.css-hvozdy.cz\n",
      "Done\n",
      "\n",
      "Scraping https://www.opplzen.cz/\n"
     ]
    },
    {
     "name": "stderr",
     "output_type": "stream",
     "text": [
      " 40%|███▉      | 347/870 [03:47<06:07,  1.42it/s]"
     ]
    },
    {
     "name": "stdout",
     "output_type": "stream",
     "text": [
      "Done\n",
      "\n",
      "Scraping https://www.najdipomoc.cz/detail/psycholog/phdr-vladimir-forst/\n"
     ]
    },
    {
     "name": "stderr",
     "output_type": "stream",
     "text": [
      " 40%|████      | 348/870 [03:48<07:01,  1.24it/s]"
     ]
    },
    {
     "name": "stdout",
     "output_type": "stream",
     "text": [
      "Done\n",
      "\n",
      "Scraping http://poradna.krumlov.cz/w/-310/\n"
     ]
    },
    {
     "name": "stderr",
     "output_type": "stream",
     "text": [
      " 40%|████      | 349/870 [03:49<05:40,  1.53it/s]"
     ]
    },
    {
     "name": "stdout",
     "output_type": "stream",
     "text": [
      "Done\n",
      "\n",
      "Scraping https://www.pppjbc.cz/\n"
     ]
    },
    {
     "name": "stderr",
     "output_type": "stream",
     "text": [
      " 40%|████      | 350/870 [03:50<07:39,  1.13it/s]"
     ]
    },
    {
     "name": "stdout",
     "output_type": "stream",
     "text": [
      "Done\n",
      "\n",
      "Scraping https://www.klinikaeset.cz/\n"
     ]
    },
    {
     "name": "stderr",
     "output_type": "stream",
     "text": [
      " 40%|████      | 351/870 [03:50<06:15,  1.38it/s]"
     ]
    },
    {
     "name": "stdout",
     "output_type": "stream",
     "text": [
      "Done\n",
      "\n",
      "Scraping http://www.cheiront.cz\n"
     ]
    },
    {
     "name": "stderr",
     "output_type": "stream",
     "text": [
      " 40%|████      | 352/870 [03:55<17:03,  1.98s/it]"
     ]
    },
    {
     "name": "stdout",
     "output_type": "stream",
     "text": [
      "Done\n",
      "\n",
      "Scraping https://neocentrum.cz/\n"
     ]
    },
    {
     "name": "stderr",
     "output_type": "stream",
     "text": [
      " 41%|████      | 354/870 [03:58<12:31,  1.46s/it]"
     ]
    },
    {
     "name": "stdout",
     "output_type": "stream",
     "text": [
      "Done\n",
      "\n",
      "Scraping https://www.psychologkaraskova.cz/\n",
      "Done\n",
      "\n",
      "Scraping http://ppp-olomouc.cz/\n"
     ]
    },
    {
     "name": "stderr",
     "output_type": "stream",
     "text": [
      " 41%|████      | 356/870 [03:58<07:18,  1.17it/s]"
     ]
    },
    {
     "name": "stdout",
     "output_type": "stream",
     "text": [
      "Done\n",
      "\n",
      "Scraping http://www.ppp10.eu/\n",
      "Done\n",
      "\n",
      "Scraping http://www.psychocentrumzlin.cz/\n"
     ]
    },
    {
     "name": "stderr",
     "output_type": "stream",
     "text": [
      " 41%|████      | 357/870 [04:01<11:15,  1.32s/it]"
     ]
    },
    {
     "name": "stdout",
     "output_type": "stream",
     "text": [
      "Done\n",
      "\n",
      "Scraping http://www.ordinace.cz/ordinace/vo/design_10/profil.php?page=lekar&id=38061\n"
     ]
    },
    {
     "name": "stderr",
     "output_type": "stream",
     "text": [
      " 41%|████      | 358/870 [04:01<08:42,  1.02s/it]"
     ]
    },
    {
     "name": "stdout",
     "output_type": "stream",
     "text": [
      "Done\n",
      "\n",
      "Scraping https://www.kromeriz.charita.cz/sluzba/108/\n",
      "Done\n",
      "\n",
      "Scraping https://www.ceskytesin.charita.cz\n"
     ]
    },
    {
     "name": "stderr",
     "output_type": "stream",
     "text": [
      " 41%|████▏     | 361/870 [04:01<04:06,  2.06it/s]"
     ]
    },
    {
     "name": "stdout",
     "output_type": "stream",
     "text": [
      "Done\n",
      "\n",
      "Scraping http://www.proximasociale.cz\n",
      "Done\n",
      "\n",
      "Scraping http://www.psychologie-dopravni.cz/\n"
     ]
    },
    {
     "name": "stderr",
     "output_type": "stream",
     "text": [
      " 42%|████▏     | 362/870 [04:02<04:27,  1.90it/s]"
     ]
    },
    {
     "name": "stdout",
     "output_type": "stream",
     "text": [
      "Done\n",
      "\n",
      "Scraping https://www.sdbzlin.cz\n"
     ]
    },
    {
     "name": "stderr",
     "output_type": "stream",
     "text": [
      " 42%|████▏     | 363/870 [04:03<06:31,  1.29it/s]"
     ]
    },
    {
     "name": "stdout",
     "output_type": "stream",
     "text": [
      "Done\n",
      "\n",
      "Scraping https://www.firmy.cz/detail/385280-mudr-marie-zrneckova-zdar-nad-sazavou-4.html\n"
     ]
    },
    {
     "name": "stderr",
     "output_type": "stream",
     "text": [
      " 42%|████▏     | 364/870 [04:04<05:37,  1.50it/s]"
     ]
    },
    {
     "name": "stdout",
     "output_type": "stream",
     "text": [
      "Done\n",
      "\n",
      "Scraping http://www.akademickyustav.cz/oaza\n"
     ]
    },
    {
     "name": "stderr",
     "output_type": "stream",
     "text": [
      " 42%|████▏     | 365/870 [04:06<08:26,  1.00s/it]"
     ]
    },
    {
     "name": "stdout",
     "output_type": "stream",
     "text": [
      "Done\n",
      "\n",
      "Scraping http://www.modredvere.cz/cz/modre-dvere-ricany\n"
     ]
    },
    {
     "name": "stderr",
     "output_type": "stream",
     "text": [
      " 42%|████▏     | 367/870 [04:06<05:21,  1.56it/s]"
     ]
    },
    {
     "name": "stdout",
     "output_type": "stream",
     "text": [
      "Done\n",
      "\n",
      "Scraping https://www.charitalovosice.cz\n",
      "Done\n",
      "\n",
      "Scraping http://www.psychoterapeuti.cz/adresar-psychoterapeutu/item/46-macasova-helena-phdr\n"
     ]
    },
    {
     "name": "stderr",
     "output_type": "stream",
     "text": [
      " 42%|████▏     | 369/870 [04:07<03:43,  2.24it/s]"
     ]
    },
    {
     "name": "stdout",
     "output_type": "stream",
     "text": [
      "Done\n",
      "\n",
      "Scraping http://www.krizovecentrum.cz/\n",
      "Done\n",
      "\n",
      "Scraping https://psychiatrpraha.cz/\n"
     ]
    },
    {
     "name": "stderr",
     "output_type": "stream",
     "text": [
      " 43%|████▎     | 370/870 [04:08<04:44,  1.76it/s]"
     ]
    },
    {
     "name": "stdout",
     "output_type": "stream",
     "text": [
      "Done\n",
      "\n",
      "Scraping http://dlanzivotu.cz/nabizime/poradna-cesta-tehotenstvim/\n"
     ]
    },
    {
     "name": "stderr",
     "output_type": "stream",
     "text": [
      " 43%|████▎     | 371/870 [04:13<16:47,  2.02s/it]"
     ]
    },
    {
     "name": "stdout",
     "output_type": "stream",
     "text": [
      "Done\n",
      "\n",
      "Scraping https://www.firmy.cz/detail/2422937-mudr-veronika-pavlacka-vaverkova-stare-mesto.html\n"
     ]
    },
    {
     "name": "stderr",
     "output_type": "stream",
     "text": [
      " 43%|████▎     | 372/870 [04:14<12:50,  1.55s/it]"
     ]
    },
    {
     "name": "stdout",
     "output_type": "stream",
     "text": [
      "Done\n",
      "\n",
      "Scraping https://www.majak-plus.cz\n"
     ]
    },
    {
     "name": "stderr",
     "output_type": "stream",
     "text": [
      " 43%|████▎     | 373/870 [04:15<13:30,  1.63s/it]"
     ]
    },
    {
     "name": "stdout",
     "output_type": "stream",
     "text": [
      "Done\n",
      "\n",
      "Scraping http://www.slezskadiakonie.cz/\n"
     ]
    },
    {
     "name": "stderr",
     "output_type": "stream",
     "text": [
      " 43%|████▎     | 375/870 [04:16<07:51,  1.05it/s]"
     ]
    },
    {
     "name": "stdout",
     "output_type": "stream",
     "text": [
      "Done\n",
      "\n",
      "Scraping https://www.animaviva.cz\n",
      "Done\n",
      "\n",
      "Scraping https://www.kappa-praha.cz/\n"
     ]
    },
    {
     "name": "stderr",
     "output_type": "stream",
     "text": [
      " 43%|████▎     | 376/870 [04:16<06:32,  1.26it/s]"
     ]
    },
    {
     "name": "stdout",
     "output_type": "stream",
     "text": [
      "Done\n",
      "\n",
      "Scraping https://www.firmy.cz/detail/12864154-mudr-jiri-bohac-zlin.html\n"
     ]
    },
    {
     "name": "stderr",
     "output_type": "stream",
     "text": [
      " 43%|████▎     | 377/870 [04:17<05:47,  1.42it/s]"
     ]
    },
    {
     "name": "stdout",
     "output_type": "stream",
     "text": [
      "Done\n",
      "\n",
      "Scraping https://www.greendoors.cz\n"
     ]
    },
    {
     "name": "stderr",
     "output_type": "stream",
     "text": [
      " 44%|████▎     | 379/870 [04:19<05:56,  1.38it/s]"
     ]
    },
    {
     "name": "stdout",
     "output_type": "stream",
     "text": [
      "Done\n",
      "\n",
      "Scraping https://www.openhousebruntal.cz\n",
      "Done\n",
      "\n",
      "Scraping http://www.psychoterapeuti.cz/adresar-psychoterapeutu/item/10-cepicka-blanka-phdr\n"
     ]
    },
    {
     "name": "stderr",
     "output_type": "stream",
     "text": [
      " 44%|████▎     | 380/870 [04:19<05:00,  1.63it/s]"
     ]
    },
    {
     "name": "stdout",
     "output_type": "stream",
     "text": [
      "Done\n",
      "\n",
      "Scraping http://www.psychoterapeuti.cz/adresar-psychoterapeutu/item/74-kosova-martina-phdr\n"
     ]
    },
    {
     "name": "stderr",
     "output_type": "stream",
     "text": [
      " 44%|████▍     | 381/870 [04:19<04:23,  1.86it/s]"
     ]
    },
    {
     "name": "stdout",
     "output_type": "stream",
     "text": [
      "Done\n",
      "\n",
      "Scraping http://www.psychoterapeuti.cz/adresar-psychoterapeutu/item/14-bartuskova-ludmila-mudr-mgr-mgr\n"
     ]
    },
    {
     "name": "stderr",
     "output_type": "stream",
     "text": [
      " 44%|████▍     | 382/870 [04:20<03:50,  2.12it/s]"
     ]
    },
    {
     "name": "stdout",
     "output_type": "stream",
     "text": [
      "Done\n",
      "\n",
      "Scraping http://www.luma-mb.cz/\n"
     ]
    },
    {
     "name": "stderr",
     "output_type": "stream",
     "text": [
      " 44%|████▍     | 383/870 [04:20<03:45,  2.16it/s]"
     ]
    },
    {
     "name": "stdout",
     "output_type": "stream",
     "text": [
      "Done\n",
      "\n",
      "Scraping https://www.psychologieuorloje.cz/\n"
     ]
    },
    {
     "name": "stderr",
     "output_type": "stream",
     "text": [
      " 44%|████▍     | 384/870 [04:21<04:07,  1.96it/s]"
     ]
    },
    {
     "name": "stdout",
     "output_type": "stream",
     "text": [
      "Done\n",
      "\n",
      "Scraping http://www.porceta.cz\n",
      "Error fetching http://www.porceta.cz: 403 Client Error: Forbidden for url: https://www.porceta.cz/\n",
      "Done\n",
      "\n",
      "Scraping http://www.adiktologickecentrum.cz/kontakt/11-oat-mnisek-pod-brdy\n"
     ]
    },
    {
     "name": "stderr",
     "output_type": "stream",
     "text": [
      " 44%|████▍     | 387/870 [04:21<02:22,  3.39it/s]"
     ]
    },
    {
     "name": "stdout",
     "output_type": "stream",
     "text": [
      "Done\n",
      "\n",
      "Scraping https://psychologicka-poradna-trinec.webnode.cz/\n",
      "Done\n",
      "\n",
      "Scraping http://www.czphk.cz\n"
     ]
    },
    {
     "name": "stderr",
     "output_type": "stream",
     "text": [
      " 45%|████▍     | 388/870 [04:28<15:56,  1.99s/it]"
     ]
    },
    {
     "name": "stdout",
     "output_type": "stream",
     "text": [
      "Done\n",
      "\n",
      "Scraping https://www.dumrk.cz\n"
     ]
    },
    {
     "name": "stderr",
     "output_type": "stream",
     "text": [
      " 45%|████▍     | 389/870 [04:30<16:44,  2.09s/it]"
     ]
    },
    {
     "name": "stdout",
     "output_type": "stream",
     "text": [
      "Done\n",
      "\n",
      "Scraping https://www.kotec.cz\n"
     ]
    },
    {
     "name": "stderr",
     "output_type": "stream",
     "text": [
      " 45%|████▍     | 390/870 [04:32<15:20,  1.92s/it]"
     ]
    },
    {
     "name": "stdout",
     "output_type": "stream",
     "text": [
      "Done\n",
      "\n",
      "Scraping http://www.spirala-ul.cz/\n"
     ]
    },
    {
     "name": "stderr",
     "output_type": "stream",
     "text": [
      " 45%|████▍     | 391/870 [04:35<16:58,  2.13s/it]"
     ]
    },
    {
     "name": "stdout",
     "output_type": "stream",
     "text": [
      "Done\n",
      "\n",
      "Scraping https://www.firmy.cz/detail/385074-mudr-milan-patek-trest.html\n"
     ]
    },
    {
     "name": "stderr",
     "output_type": "stream",
     "text": [
      " 45%|████▌     | 392/870 [04:35<12:45,  1.60s/it]"
     ]
    },
    {
     "name": "stdout",
     "output_type": "stream",
     "text": [
      "Done\n",
      "\n",
      "Scraping https://www.nempt.cz/ambulance/soukrome-ambulance/psychiatricka-ambulance/\n"
     ]
    },
    {
     "name": "stderr",
     "output_type": "stream",
     "text": [
      " 45%|████▌     | 393/870 [04:38<17:21,  2.18s/it]"
     ]
    },
    {
     "name": "stdout",
     "output_type": "stream",
     "text": [
      "Error fetching https://www.nempt.cz/ambulance/soukrome-ambulance/psychiatricka-ambulance/: 404 Client Error: Not Found for url: https://nempt.cz/ambulance/soukrome-ambulance/psychiatricka-ambulance/\n",
      "Done\n",
      "\n",
      "Scraping http://ppp3a9.cz/\n",
      "Error fetching http://ppp3a9.cz/: HTTPConnectionPool(host='ppp3a9.cz', port=80): Max retries exceeded with url: / (Caused by NewConnectionError('<urllib3.connection.HTTPConnection object at 0x1723e4c50>: Failed to establish a new connection: [Errno 8] nodename nor servname provided, or not known'))\n",
      "Done\n",
      "\n",
      "Scraping http://www.zbb.cz\n"
     ]
    },
    {
     "name": "stderr",
     "output_type": "stream",
     "text": [
      " 45%|████▌     | 395/870 [04:39<10:07,  1.28s/it]"
     ]
    },
    {
     "name": "stdout",
     "output_type": "stream",
     "text": [
      "Done\n",
      "\n",
      "Scraping http://ww.poliklinika-hb.cz/126-mudr-zemanov\n",
      "Error fetching http://ww.poliklinika-hb.cz/126-mudr-zemanov: 404 Client Error: Not Found for url: http://ww.poliklinika-hb.cz/126-mudr-zemanov\n",
      "Done\n",
      "\n",
      "Scraping https://www.moje-klinika.cz/pracoviste-praha\n"
     ]
    },
    {
     "name": "stderr",
     "output_type": "stream",
     "text": [
      " 46%|████▌     | 397/870 [04:40<07:32,  1.04it/s]"
     ]
    },
    {
     "name": "stdout",
     "output_type": "stream",
     "text": [
      "Done\n",
      "\n",
      "Scraping http://www.psychoterapeuti.cz/adresar-psychoterapeutu/item/34-koblicova-alena-phdr\n"
     ]
    },
    {
     "name": "stderr",
     "output_type": "stream",
     "text": [
      " 46%|████▌     | 400/870 [04:40<04:13,  1.85it/s]"
     ]
    },
    {
     "name": "stdout",
     "output_type": "stream",
     "text": [
      "Done\n",
      "\n",
      "Scraping http://www.educozatec.cz/\n",
      "Error fetching http://www.educozatec.cz/: HTTPConnectionPool(host='www.educozatec.cz', port=80): Max retries exceeded with url: / (Caused by NewConnectionError('<urllib3.connection.HTTPConnection object at 0x172531c50>: Failed to establish a new connection: [Errno 8] nodename nor servname provided, or not known'))\n",
      "Done\n",
      "\n",
      "Scraping https://www.holesov.charita.cz\n",
      "Done\n",
      "\n",
      "Scraping http://www.magdalena-ops.eu/\n"
     ]
    },
    {
     "name": "stderr",
     "output_type": "stream",
     "text": [
      " 46%|████▌     | 401/870 [04:41<04:57,  1.57it/s]"
     ]
    },
    {
     "name": "stdout",
     "output_type": "stream",
     "text": [
      "Done\n",
      "\n",
      "Scraping https://www.frydekmistek.cz\n"
     ]
    },
    {
     "name": "stderr",
     "output_type": "stream",
     "text": [
      " 46%|████▌     | 402/870 [04:42<04:49,  1.62it/s]"
     ]
    },
    {
     "name": "stdout",
     "output_type": "stream",
     "text": [
      "Done\n",
      "\n",
      "Scraping https://plzen-psycholog.cz/\n"
     ]
    },
    {
     "name": "stderr",
     "output_type": "stream",
     "text": [
      " 46%|████▋     | 404/870 [04:44<06:18,  1.23it/s]"
     ]
    },
    {
     "name": "stdout",
     "output_type": "stream",
     "text": [
      "Done\n",
      "\n",
      "Scraping https://podaneruce.cz/\n",
      "Done\n",
      "\n",
      "Scraping https://www.psycholog-sro.cz/\n"
     ]
    },
    {
     "name": "stderr",
     "output_type": "stream",
     "text": [
      " 47%|████▋     | 406/870 [04:45<03:48,  2.03it/s]"
     ]
    },
    {
     "name": "stdout",
     "output_type": "stream",
     "text": [
      "Done\n",
      "\n",
      "Scraping https://www.psychemedic.cz/\n",
      "Done\n",
      "\n",
      "Scraping http://www.magdalena-ops.cz/\n"
     ]
    },
    {
     "name": "stderr",
     "output_type": "stream",
     "text": [
      " 47%|████▋     | 407/870 [04:45<04:42,  1.64it/s]"
     ]
    },
    {
     "name": "stdout",
     "output_type": "stream",
     "text": [
      "Done\n",
      "\n",
      "Scraping http://www.riaps.cz\n",
      "Error fetching http://www.riaps.cz: 403 Client Error: Forbidden for url: http://www.riaps.cz/\n",
      "Done\n",
      "\n",
      "Scraping http://www.psychoterapeuti.cz/adresar-psychoterapeutu/item/32-junek-petr-phdr\n"
     ]
    },
    {
     "name": "stderr",
     "output_type": "stream",
     "text": [
      " 47%|████▋     | 410/870 [04:46<02:47,  2.74it/s]"
     ]
    },
    {
     "name": "stdout",
     "output_type": "stream",
     "text": [
      "Done\n",
      "\n",
      "Scraping https://www.tisnov.charita.cz\n",
      "Done\n",
      "\n",
      "Scraping https://www.poradna-prava.cz\n"
     ]
    },
    {
     "name": "stderr",
     "output_type": "stream",
     "text": [
      " 47%|████▋     | 412/870 [04:47<02:29,  3.06it/s]"
     ]
    },
    {
     "name": "stdout",
     "output_type": "stream",
     "text": [
      "Done\n",
      "\n",
      "Scraping https://www.vorjihlava.cz/cdz_jihlava/informace\n",
      "Error fetching https://www.vorjihlava.cz/cdz_jihlava/informace: 404 Client Error: Not Found for url: https://www.vorjihlava.cz/cdz_jihlava/informace\n",
      "Done\n",
      "\n",
      "Scraping http://www.psychoterapeuti.cz/adresar-psychoterapeutu/item/91-konecny-martin-mudr\n"
     ]
    },
    {
     "name": "stderr",
     "output_type": "stream",
     "text": [
      " 48%|████▊     | 416/870 [04:47<01:23,  5.47it/s]"
     ]
    },
    {
     "name": "stdout",
     "output_type": "stream",
     "text": [
      "Done\n",
      "\n",
      "Scraping salesianiteplice.cz\n",
      "Error fetching salesianiteplice.cz: Invalid URL 'salesianiteplice.cz': No scheme supplied. Perhaps you meant https://salesianiteplice.cz?\n",
      "Done\n",
      "\n",
      "Scraping http://www.proximasociale.cz/\n",
      "Done\n",
      "\n",
      "Scraping https://www.psycholozkazpatehopatra.cz\n",
      "Error fetching https://www.psycholozkazpatehopatra.cz: 403 Client Error: Forbidden for url: https://www.psycholozkazpatehopatra.cz/\n",
      "Done\n",
      "\n",
      "Scraping http://www.psychoterapeuti.cz/adresar-psychoterapeutu/item/87-lacinova-olga-mgr\n"
     ]
    },
    {
     "name": "stderr",
     "output_type": "stream",
     "text": [
      " 48%|████▊     | 417/870 [04:48<01:34,  4.78it/s]"
     ]
    },
    {
     "name": "stdout",
     "output_type": "stream",
     "text": [
      "Done\n",
      "\n",
      "Scraping http://www.klinic.cz/\n",
      "Done\n",
      "\n",
      "Scraping http://www.modredvere.cz/cz/modre-dvere-praha\n"
     ]
    },
    {
     "name": "stderr",
     "output_type": "stream",
     "text": [
      " 48%|████▊     | 420/870 [04:48<01:30,  4.96it/s]"
     ]
    },
    {
     "name": "stdout",
     "output_type": "stream",
     "text": [
      "Done\n",
      "\n",
      "Scraping https://www.ordinace.cz/ordinace/redesign/index.php?id=1904\n",
      "Done\n",
      "\n",
      "Scraping https://www.susice.charita.cz/jak-pomahame/odborne-socialni-poradenstvi/\n"
     ]
    },
    {
     "name": "stderr",
     "output_type": "stream",
     "text": [
      " 49%|████▊     | 422/870 [04:48<01:21,  5.52it/s]"
     ]
    },
    {
     "name": "stdout",
     "output_type": "stream",
     "text": [
      "Done\n",
      "\n",
      "Scraping https://www.pisek.charita.cz\n",
      "Done\n",
      "\n",
      "Scraping https://psychiatrie-pelhrimov.webnode.cz/\n"
     ]
    },
    {
     "name": "stderr",
     "output_type": "stream",
     "text": [
      " 49%|████▊     | 424/870 [04:49<01:36,  4.60it/s]"
     ]
    },
    {
     "name": "stdout",
     "output_type": "stream",
     "text": [
      "Done\n",
      "\n",
      "Scraping https://alia13.webnode.cz/\n",
      "Done\n",
      "\n",
      "Scraping https://www.tempericb.cz\n"
     ]
    },
    {
     "name": "stderr",
     "output_type": "stream",
     "text": [
      " 49%|████▉     | 426/870 [04:49<01:16,  5.79it/s]"
     ]
    },
    {
     "name": "stdout",
     "output_type": "stream",
     "text": [
      "Error fetching https://www.tempericb.cz: HTTPSConnectionPool(host='www.tempericb.cz', port=443): Max retries exceeded with url: / (Caused by NewConnectionError('<urllib3.connection.HTTPSConnection object at 0x1723ea190>: Failed to establish a new connection: [Errno 61] Connection refused'))\n",
      "Done\n",
      "\n",
      "Scraping https://www.terapeutika.cz/\n",
      "Done\n",
      "\n",
      "Scraping http://www.vidacr.cz\n"
     ]
    },
    {
     "name": "stderr",
     "output_type": "stream",
     "text": [
      " 49%|████▉     | 427/870 [04:51<04:39,  1.59it/s]"
     ]
    },
    {
     "name": "stdout",
     "output_type": "stream",
     "text": [
      "Done\n",
      "\n",
      "Scraping https://euripidia-educa7.webnode.cz/\n",
      "Done\n",
      "\n"
     ]
    },
    {
     "name": "stderr",
     "output_type": "stream",
     "text": [
      " 49%|████▉     | 428/870 [04:52<03:50,  1.91it/s]"
     ]
    },
    {
     "name": "stdout",
     "output_type": "stream",
     "text": [
      "Scraping http://www.psychoterapeuti.cz/adresar-psychoterapeutu/item/115-stranska-lenka-mgr\n"
     ]
    },
    {
     "name": "stderr",
     "output_type": "stream",
     "text": [
      " 49%|████▉     | 429/870 [04:52<03:27,  2.12it/s]"
     ]
    },
    {
     "name": "stdout",
     "output_type": "stream",
     "text": [
      "Done\n",
      "\n",
      "Scraping http://www.vidacentrum.cz/\n"
     ]
    },
    {
     "name": "stderr",
     "output_type": "stream",
     "text": [
      " 49%|████▉     | 430/870 [04:54<06:23,  1.15it/s]"
     ]
    },
    {
     "name": "stdout",
     "output_type": "stream",
     "text": [
      "Done\n",
      "\n",
      "Scraping https://www.poradnaprozeny.eu/plzen/\n"
     ]
    },
    {
     "name": "stderr",
     "output_type": "stream",
     "text": [
      " 50%|████▉     | 432/870 [04:54<04:19,  1.69it/s]"
     ]
    },
    {
     "name": "stdout",
     "output_type": "stream",
     "text": [
      "Done\n",
      "\n",
      "Scraping https://www.koparkovamonika.cz/\n",
      "Done\n",
      "\n",
      "Scraping http://www.charitausti.cz\n"
     ]
    },
    {
     "name": "stderr",
     "output_type": "stream",
     "text": [
      " 50%|████▉     | 433/870 [04:55<03:37,  2.01it/s]"
     ]
    },
    {
     "name": "stdout",
     "output_type": "stream",
     "text": [
      "Done\n",
      "\n",
      "Scraping http://www.ratolest.cz\n"
     ]
    },
    {
     "name": "stderr",
     "output_type": "stream",
     "text": [
      " 50%|█████     | 435/870 [04:55<02:30,  2.90it/s]"
     ]
    },
    {
     "name": "stdout",
     "output_type": "stream",
     "text": [
      "Done\n",
      "\n",
      "Scraping https://www.csspraha.cz/krizove-centrum-riaps-krizova-intervence-a-psychologicka-podpora\n",
      "Error fetching https://www.csspraha.cz/krizove-centrum-riaps-krizova-intervence-a-psychologicka-podpora: 404 Client Error: Not Found for url: https://www.csspraha.cz/krizove-centrum-riaps-krizova-intervence-a-psychologicka-podpora\n",
      "Done\n",
      "\n",
      "Scraping https://nrzp.cz/\n"
     ]
    },
    {
     "name": "stderr",
     "output_type": "stream",
     "text": [
      " 50%|█████     | 436/870 [04:56<02:50,  2.54it/s]"
     ]
    },
    {
     "name": "stdout",
     "output_type": "stream",
     "text": [
      "Done\n",
      "\n",
      "Scraping https://charitafm.cz/nase-sluzby/pro-nemocne/beskydske-centrum-dusevniho-zdravi/\n",
      "Done\n",
      "\n",
      "Scraping http://poradna.cesbrod.cz/\n"
     ]
    },
    {
     "name": "stderr",
     "output_type": "stream",
     "text": [
      " 50%|█████     | 438/870 [04:56<02:21,  3.06it/s]"
     ]
    },
    {
     "name": "stdout",
     "output_type": "stream",
     "text": [
      "Done\n",
      "\n",
      "Scraping http://www.psychoterapeuti.cz/adresar-psychoterapeutu/item/29-hronova-romana-mudr\n"
     ]
    },
    {
     "name": "stderr",
     "output_type": "stream",
     "text": [
      " 50%|█████     | 439/870 [04:56<02:21,  3.04it/s]"
     ]
    },
    {
     "name": "stdout",
     "output_type": "stream",
     "text": [
      "Done\n",
      "\n",
      "Scraping https://www.portimo.cz\n"
     ]
    },
    {
     "name": "stderr",
     "output_type": "stream",
     "text": [
      " 51%|█████     | 440/870 [04:57<02:34,  2.79it/s]"
     ]
    },
    {
     "name": "stdout",
     "output_type": "stream",
     "text": [
      "Done\n",
      "\n",
      "Scraping https://www.cdzeset.cz/\n"
     ]
    },
    {
     "name": "stderr",
     "output_type": "stream",
     "text": [
      " 51%|█████     | 441/870 [04:57<02:27,  2.91it/s]"
     ]
    },
    {
     "name": "stdout",
     "output_type": "stream",
     "text": [
      "Done\n",
      "\n",
      "Scraping https://www.psy-dobiasova.cz\n",
      "Done\n",
      "\n",
      "Scraping http://www.centrum-poradenstvi.cz\n"
     ]
    },
    {
     "name": "stderr",
     "output_type": "stream",
     "text": [
      " 51%|█████     | 444/870 [04:58<01:41,  4.19it/s]"
     ]
    },
    {
     "name": "stdout",
     "output_type": "stream",
     "text": [
      "Done\n",
      "\n",
      "Scraping http://poradna.krumlov.cz/w/pobocky-ckrumlov-kaplice-vetrni-215/\n",
      "Done\n",
      "\n",
      "Scraping https://www.socsluzbyzdar.cz\n"
     ]
    },
    {
     "name": "stderr",
     "output_type": "stream",
     "text": [
      " 51%|█████     | 445/870 [04:58<01:51,  3.81it/s]"
     ]
    },
    {
     "name": "stdout",
     "output_type": "stream",
     "text": [
      "Done\n",
      "\n",
      "Scraping https://www.symedis.cz/\n"
     ]
    },
    {
     "name": "stderr",
     "output_type": "stream",
     "text": [
      " 51%|█████▏    | 447/870 [05:01<04:54,  1.43it/s]"
     ]
    },
    {
     "name": "stdout",
     "output_type": "stream",
     "text": [
      "Done\n",
      "\n",
      "Scraping https://www.ceskalipa.charita.cz\n",
      "Done\n",
      "\n",
      "Scraping https://www.ulita.cz\n"
     ]
    },
    {
     "name": "stderr",
     "output_type": "stream",
     "text": [
      " 51%|█████▏    | 448/870 [05:01<04:01,  1.75it/s]"
     ]
    },
    {
     "name": "stdout",
     "output_type": "stream",
     "text": [
      "Done\n",
      "\n",
      "Scraping http://www.cdzopava.cz/\n"
     ]
    },
    {
     "name": "stderr",
     "output_type": "stream",
     "text": [
      " 52%|█████▏    | 449/870 [05:01<03:35,  1.96it/s]"
     ]
    },
    {
     "name": "stdout",
     "output_type": "stream",
     "text": [
      "Done\n",
      "\n",
      "Scraping http://www.cszs.cz/\n",
      "Done\n",
      "\n",
      "Scraping https://www.inep.cz/\n"
     ]
    },
    {
     "name": "stderr",
     "output_type": "stream",
     "text": [
      " 52%|█████▏    | 452/870 [05:02<02:03,  3.38it/s]"
     ]
    },
    {
     "name": "stdout",
     "output_type": "stream",
     "text": [
      "Done\n",
      "\n",
      "Scraping https://www.pointmilovice.cz\n",
      "Done\n",
      "\n",
      "Scraping https://psycholograkovnik.cz/\n",
      "Done\n",
      "\n",
      "Scraping http://www.psycholog-slezsko.cz/\n"
     ]
    },
    {
     "name": "stderr",
     "output_type": "stream",
     "text": [
      " 52%|█████▏    | 454/870 [05:03<02:36,  2.65it/s]"
     ]
    },
    {
     "name": "stdout",
     "output_type": "stream",
     "text": [
      "Done\n",
      "\n",
      "Scraping https://kbterapie.webnode.cz/\n"
     ]
    },
    {
     "name": "stderr",
     "output_type": "stream",
     "text": [
      " 52%|█████▏    | 455/870 [05:03<02:59,  2.31it/s]"
     ]
    },
    {
     "name": "stdout",
     "output_type": "stream",
     "text": [
      "Done\n",
      "\n",
      "Scraping https://www.trantyrova.cz/\n"
     ]
    },
    {
     "name": "stderr",
     "output_type": "stream",
     "text": [
      " 52%|█████▏    | 456/870 [05:04<02:48,  2.45it/s]"
     ]
    },
    {
     "name": "stdout",
     "output_type": "stream",
     "text": [
      "Done\n",
      "\n",
      "Scraping http://www.respondeo.cz/\n"
     ]
    },
    {
     "name": "stderr",
     "output_type": "stream",
     "text": [
      " 53%|█████▎    | 457/870 [05:06<05:50,  1.18it/s]"
     ]
    },
    {
     "name": "stdout",
     "output_type": "stream",
     "text": [
      "Done\n",
      "\n",
      "Scraping https://pardubice.nempk.cz/\n",
      "Error fetching https://pardubice.nempk.cz/: HTTPSConnectionPool(host='pardubice.nempk.cz', port=443): Max retries exceeded with url: / (Caused by SSLError(SSLCertVerificationError(1, '[SSL: CERTIFICATE_VERIFY_FAILED] certificate verify failed: unable to get local issuer certificate (_ssl.c:1002)')))\n",
      "Done\n",
      "\n",
      "Scraping http://www.sance.chrudim.cz\n"
     ]
    },
    {
     "name": "stderr",
     "output_type": "stream",
     "text": [
      " 53%|█████▎    | 459/870 [05:06<03:56,  1.74it/s]"
     ]
    },
    {
     "name": "stdout",
     "output_type": "stream",
     "text": [
      "Done\n",
      "\n",
      "Scraping http://www.psychoterapeuti.cz/adresar-psychoterapeutu/item/35-kocourek-jiri-doc-phdr-phd\n"
     ]
    },
    {
     "name": "stderr",
     "output_type": "stream",
     "text": [
      " 53%|█████▎    | 461/870 [05:07<02:59,  2.28it/s]"
     ]
    },
    {
     "name": "stdout",
     "output_type": "stream",
     "text": [
      "Done\n",
      "\n",
      "Scraping https://www.prostor-plus.cz\n",
      "Done\n",
      "\n",
      "Scraping http://www.drom.cz\n"
     ]
    },
    {
     "name": "stderr",
     "output_type": "stream",
     "text": [
      " 53%|█████▎    | 462/870 [05:08<04:19,  1.57it/s]"
     ]
    },
    {
     "name": "stdout",
     "output_type": "stream",
     "text": [
      "Done\n",
      "\n",
      "Scraping http://www.arcana.cz/\n"
     ]
    },
    {
     "name": "stderr",
     "output_type": "stream",
     "text": [
      " 53%|█████▎    | 463/870 [05:08<03:53,  1.74it/s]"
     ]
    },
    {
     "name": "stdout",
     "output_type": "stream",
     "text": [
      "Done\n",
      "\n",
      "Scraping http://www.opppvyskov.cz/\n"
     ]
    },
    {
     "name": "stderr",
     "output_type": "stream",
     "text": [
      " 53%|█████▎    | 464/870 [05:09<03:16,  2.07it/s]"
     ]
    },
    {
     "name": "stdout",
     "output_type": "stream",
     "text": [
      "Done\n",
      "\n",
      "Scraping http://kppp-plzen.cz/\n"
     ]
    },
    {
     "name": "stderr",
     "output_type": "stream",
     "text": [
      " 53%|█████▎    | 465/870 [05:09<03:23,  1.99it/s]"
     ]
    },
    {
     "name": "stdout",
     "output_type": "stream",
     "text": [
      "Done\n",
      "\n",
      "Scraping psychosomatika.info\n",
      "Error fetching psychosomatika.info: Invalid URL 'psychosomatika.info': No scheme supplied. Perhaps you meant https://psychosomatika.info?\n",
      "Done\n",
      "\n",
      "Scraping https://www.ppp-pardubice.cz/\n"
     ]
    },
    {
     "name": "stderr",
     "output_type": "stream",
     "text": [
      " 54%|█████▎    | 467/870 [05:10<02:20,  2.87it/s]"
     ]
    },
    {
     "name": "stdout",
     "output_type": "stream",
     "text": [
      "Done\n",
      "\n",
      "Scraping https://www.komunitnicentrum.com\n"
     ]
    },
    {
     "name": "stderr",
     "output_type": "stream",
     "text": [
      " 54%|█████▍    | 468/870 [05:10<02:38,  2.54it/s]"
     ]
    },
    {
     "name": "stdout",
     "output_type": "stream",
     "text": [
      "Done\n",
      "\n",
      "Scraping http://www.psychoterapeuti.cz/adresar-psychoterapeutu/item/41-lorenc-jan-mudr\n"
     ]
    },
    {
     "name": "stderr",
     "output_type": "stream",
     "text": [
      " 54%|█████▍    | 469/870 [05:10<02:32,  2.62it/s]"
     ]
    },
    {
     "name": "stdout",
     "output_type": "stream",
     "text": [
      "Done\n",
      "\n",
      "Scraping https://www.cbudejovice.charita.cz\n",
      "Done\n",
      "\n"
     ]
    },
    {
     "name": "stderr",
     "output_type": "stream",
     "text": [
      " 54%|█████▍    | 470/870 [05:11<02:13,  3.00it/s]"
     ]
    },
    {
     "name": "stdout",
     "output_type": "stream",
     "text": [
      "Scraping https://www.d-os.net\n",
      "Done\n",
      "\n",
      "Scraping https://www.optrebic.cz/\n"
     ]
    },
    {
     "name": "stderr",
     "output_type": "stream",
     "text": [
      " 54%|█████▍    | 472/870 [05:11<01:59,  3.34it/s]"
     ]
    },
    {
     "name": "stdout",
     "output_type": "stream",
     "text": [
      "Done\n",
      "\n",
      "Scraping http://www.psychoterapeuti.cz/adresar-psychoterapeutu/item/111-hrdlickova-barbora-mgr\n"
     ]
    },
    {
     "name": "stderr",
     "output_type": "stream",
     "text": [
      " 54%|█████▍    | 473/870 [05:12<02:08,  3.09it/s]"
     ]
    },
    {
     "name": "stdout",
     "output_type": "stream",
     "text": [
      "Done\n",
      "\n",
      "Scraping https://www.socialnipece.cz\n"
     ]
    },
    {
     "name": "stderr",
     "output_type": "stream",
     "text": [
      " 54%|█████▍    | 474/870 [05:12<02:38,  2.49it/s]"
     ]
    },
    {
     "name": "stdout",
     "output_type": "stream",
     "text": [
      "Done\n",
      "\n",
      "Scraping https://euc.cz\n"
     ]
    },
    {
     "name": "stderr",
     "output_type": "stream",
     "text": [
      " 55%|█████▍    | 475/870 [05:13<02:30,  2.63it/s]"
     ]
    },
    {
     "name": "stdout",
     "output_type": "stream",
     "text": [
      "Done\n",
      "\n",
      "Scraping psyche-centrum.cz\n",
      "Error fetching psyche-centrum.cz: Invalid URL 'psyche-centrum.cz': No scheme supplied. Perhaps you meant https://psyche-centrum.cz?\n",
      "Done\n",
      "\n",
      "Scraping https://www.firmy.cz/detail/13284321-mudr-libuse-jonasova-humpolec.html\n"
     ]
    },
    {
     "name": "stderr",
     "output_type": "stream",
     "text": [
      " 55%|█████▍    | 477/870 [05:13<01:47,  3.65it/s]"
     ]
    },
    {
     "name": "stdout",
     "output_type": "stream",
     "text": [
      "Done\n",
      "\n",
      "Scraping http://psychologuh.cz/\n"
     ]
    },
    {
     "name": "stderr",
     "output_type": "stream",
     "text": [
      " 55%|█████▍    | 478/870 [05:13<02:00,  3.24it/s]"
     ]
    },
    {
     "name": "stdout",
     "output_type": "stream",
     "text": [
      "Done\n",
      "\n",
      "Scraping http://centrumarcha.cz\n"
     ]
    },
    {
     "name": "stderr",
     "output_type": "stream",
     "text": [
      " 55%|█████▌    | 479/870 [05:14<02:27,  2.64it/s]"
     ]
    },
    {
     "name": "stdout",
     "output_type": "stream",
     "text": [
      "Done\n",
      "\n",
      "Scraping https://www.firmy.cz/detail/384601-mudr-eva-krejci-humpolec.html\n"
     ]
    },
    {
     "name": "stderr",
     "output_type": "stream",
     "text": [
      " 55%|█████▌    | 480/870 [05:14<02:42,  2.40it/s]"
     ]
    },
    {
     "name": "stdout",
     "output_type": "stream",
     "text": [
      "Done\n",
      "\n",
      "Scraping http://www.psychoterapeuti.cz/adresar-psychoterapeutu/item/116-dreslerova-iveta-mgr\n"
     ]
    },
    {
     "name": "stderr",
     "output_type": "stream",
     "text": [
      " 55%|█████▌    | 482/870 [05:15<02:01,  3.18it/s]"
     ]
    },
    {
     "name": "stdout",
     "output_type": "stream",
     "text": [
      "Done\n",
      "\n",
      "Scraping https://www.unko.cz/\n",
      "Error fetching https://www.unko.cz/: 403 Client Error: Forbidden for url: https://www.unko.cz/\n",
      "Done\n",
      "\n",
      "Scraping https://www.navstevalekare.cz/lekari/psychiatr--psychiatrie-s51017/karlovarsky-kraj-k302/cheb-o514/cheb-m3945/mudr-vladimir-capek-d6821.html\n"
     ]
    },
    {
     "name": "stderr",
     "output_type": "stream",
     "text": [
      " 56%|█████▌    | 484/870 [05:15<01:35,  4.04it/s]"
     ]
    },
    {
     "name": "stdout",
     "output_type": "stream",
     "text": [
      "Done\n",
      "\n",
      "Scraping https://clinterap.cz/klinicka-psychologie-praha-10/\n",
      "Done\n",
      "\n",
      "Scraping http://www.hermesgroup.cz\n"
     ]
    },
    {
     "name": "stderr",
     "output_type": "stream",
     "text": [
      " 56%|█████▌    | 487/870 [05:16<01:02,  6.09it/s]"
     ]
    },
    {
     "name": "stdout",
     "output_type": "stream",
     "text": [
      "Done\n",
      "\n",
      "Scraping https://www.prosapia-zu.cz\n",
      "Error fetching https://www.prosapia-zu.cz: HTTPSConnectionPool(host='www.prosapia-zu.cz', port=443): Max retries exceeded with url: / (Caused by SSLError(CertificateError(\"hostname 'www.prosapia-zu.cz' doesn't match either of '*.savana-hosting.cz', 'savana-hosting.cz'\")))\n",
      "Done\n",
      "\n",
      "Scraping https://www.charitamost.cz\n",
      "Done\n",
      "\n",
      "Scraping https://sites.google.com/view/psycholog-strakonice/\n"
     ]
    },
    {
     "name": "stderr",
     "output_type": "stream",
     "text": [
      " 56%|█████▌    | 488/870 [05:16<01:17,  4.90it/s]"
     ]
    },
    {
     "name": "stdout",
     "output_type": "stream",
     "text": [
      "Done\n",
      "\n",
      "Scraping https://mudr-jiri-bartos-kv.cz/\n",
      "Done\n",
      "\n",
      "Scraping http://www.fnmotol.cz/kliniky-a-oddeleni/spolecna-pracoviste/oddeleni-klinicke-psychologie/vedeni-a-personal/\n"
     ]
    },
    {
     "name": "stderr",
     "output_type": "stream",
     "text": [
      " 56%|█████▋    | 491/870 [05:19<03:27,  1.82it/s]"
     ]
    },
    {
     "name": "stdout",
     "output_type": "stream",
     "text": [
      "Error fetching http://www.fnmotol.cz/kliniky-a-oddeleni/spolecna-pracoviste/oddeleni-klinicke-psychologie/vedeni-a-personal/: 404 Client Error: Not Found for url: https://www.fnmotol.cz/kliniky-a-oddeleni/spolecna-pracoviste/oddeleni-klinicke-psychologie/vedeni-a-personal/\n",
      "Done\n",
      "\n",
      "Scraping https://www.psychocentrum.cz/\n",
      "Done\n",
      "\n",
      "Scraping https://www.psychologiekv.cz/\n"
     ]
    },
    {
     "name": "stderr",
     "output_type": "stream",
     "text": [
      " 57%|█████▋    | 492/870 [05:19<02:55,  2.15it/s]"
     ]
    },
    {
     "name": "stdout",
     "output_type": "stream",
     "text": [
      "Done\n",
      "\n",
      "Scraping https://www.jicin.charita.cz\n",
      "Done\n",
      "\n"
     ]
    },
    {
     "name": "stderr",
     "output_type": "stream",
     "text": [
      " 57%|█████▋    | 494/870 [05:19<02:00,  3.12it/s]"
     ]
    },
    {
     "name": "stdout",
     "output_type": "stream",
     "text": [
      "Scraping http://poradna.krumlov.cz/w/pobocky-tsviny-nhrady-218/\n",
      "Done\n",
      "\n",
      "Scraping http://www.mudrprokes.cz/\n"
     ]
    },
    {
     "name": "stderr",
     "output_type": "stream",
     "text": [
      " 57%|█████▋    | 495/870 [05:19<01:39,  3.78it/s]"
     ]
    },
    {
     "name": "stdout",
     "output_type": "stream",
     "text": [
      "Done\n",
      "\n",
      "Scraping https://ppp9.cz/\n"
     ]
    },
    {
     "name": "stderr",
     "output_type": "stream",
     "text": [
      " 57%|█████▋    | 497/870 [05:22<04:18,  1.44it/s]"
     ]
    },
    {
     "name": "stdout",
     "output_type": "stream",
     "text": [
      "Done\n",
      "\n",
      "Scraping https://www.proximasociale.cz\n",
      "Done\n",
      "\n",
      "Scraping https://mudr-vaclav-ferus.zdravotniregistr.cz/\n"
     ]
    },
    {
     "name": "stderr",
     "output_type": "stream",
     "text": [
      " 57%|█████▋    | 498/870 [05:22<03:39,  1.70it/s]"
     ]
    },
    {
     "name": "stdout",
     "output_type": "stream",
     "text": [
      "Done\n",
      "\n",
      "Scraping https://mudrslanina.webnode.cz/_files/200000069-75c1e75c20/Medajlonek%20Hanzlovsk%C3%BD.pdf\n",
      "Error fetching https://mudrslanina.webnode.cz/_files/200000069-75c1e75c20/Medajlonek%20Hanzlovsk%C3%BD.pdf: 404 Client Error: Not Found for url: https://mudrslanina.webnode.cz/_files/200000069-75c1e75c20/Medajlonek%20Hanzlovsk%C3%BD.pdf\n",
      "Done\n",
      "\n",
      "Scraping http://www.lukuvka.cz/\n"
     ]
    },
    {
     "name": "stderr",
     "output_type": "stream",
     "text": [
      " 58%|█████▊    | 501/870 [05:23<01:52,  3.29it/s]"
     ]
    },
    {
     "name": "stdout",
     "output_type": "stream",
     "text": [
      "Done\n",
      "\n",
      "Scraping https://www.charitakt.cz/J-P/osoby-v-nepriznive-socialni-situaci/socialni-poradna-och-klatovy/\n",
      "Done\n",
      "\n",
      "Scraping http://pivecka-ops.cz/?page_id=1948\n"
     ]
    },
    {
     "name": "stderr",
     "output_type": "stream",
     "text": [
      " 58%|█████▊    | 503/870 [05:24<02:28,  2.47it/s]"
     ]
    },
    {
     "name": "stdout",
     "output_type": "stream",
     "text": [
      "Error fetching http://pivecka-ops.cz/?page_id=1948: 404 Client Error: Not Found for url: https://pivecka-ops.cz/?page_id=1948\n",
      "Done\n",
      "\n",
      "Scraping http://www.usti.ymca.cz\n",
      "Done\n",
      "\n",
      "Scraping http://www.dumtriprani.cz/\n"
     ]
    },
    {
     "name": "stderr",
     "output_type": "stream",
     "text": [
      " 58%|█████▊    | 504/870 [05:25<04:32,  1.34it/s]"
     ]
    },
    {
     "name": "stdout",
     "output_type": "stream",
     "text": [
      "Done\n",
      "\n",
      "Scraping http://www.romanojasnica.cz/\n"
     ]
    },
    {
     "name": "stderr",
     "output_type": "stream",
     "text": [
      " 58%|█████▊    | 505/870 [05:26<03:53,  1.56it/s]"
     ]
    },
    {
     "name": "stdout",
     "output_type": "stream",
     "text": [
      "Done\n",
      "\n",
      "Scraping http://www.psychomost.cz/\n",
      "Error fetching http://www.psychomost.cz/: HTTPConnectionPool(host='www.psychomost.cz', port=80): Max retries exceeded with url: / (Caused by NewConnectionError('<urllib3.connection.HTTPConnection object at 0x17251c4d0>: Failed to establish a new connection: [Errno 8] nodename nor servname provided, or not known'))\n",
      "Done\n",
      "\n",
      "Scraping http://www.kodytkova.cz/\n"
     ]
    },
    {
     "name": "stderr",
     "output_type": "stream",
     "text": [
      " 58%|█████▊    | 507/870 [05:26<02:33,  2.37it/s]"
     ]
    },
    {
     "name": "stdout",
     "output_type": "stream",
     "text": [
      "Done\n",
      "\n",
      "Scraping https://www.ulice-plzen.com/\n"
     ]
    },
    {
     "name": "stderr",
     "output_type": "stream",
     "text": [
      " 59%|█████▊    | 509/870 [05:27<01:58,  3.05it/s]"
     ]
    },
    {
     "name": "stdout",
     "output_type": "stream",
     "text": [
      "Done\n",
      "\n",
      "Scraping http://www.hodonin.charita.cz\n",
      "Done\n",
      "\n",
      "Scraping https://www.pepor-plzen.cz/\n"
     ]
    },
    {
     "name": "stderr",
     "output_type": "stream",
     "text": [
      " 59%|█████▊    | 511/870 [05:27<01:35,  3.78it/s]"
     ]
    },
    {
     "name": "stdout",
     "output_type": "stream",
     "text": [
      "Done\n",
      "\n",
      "Scraping https://www.charitakt.cz\n",
      "Done\n",
      "\n",
      "Scraping https://www.tvuj-lekar.cz/69979090/45335/samostatna-ordinace-lekare-psychiatra\n"
     ]
    },
    {
     "name": "stderr",
     "output_type": "stream",
     "text": [
      " 59%|█████▉    | 512/870 [05:27<01:22,  4.33it/s]"
     ]
    },
    {
     "name": "stdout",
     "output_type": "stream",
     "text": [
      "Done\n",
      "\n",
      "Scraping https://ppporadna.cz/\n",
      "Done\n",
      "\n",
      "Scraping http://www.kotec.cz/regiony/cheb/kontaktni-centrum/\n"
     ]
    },
    {
     "name": "stderr",
     "output_type": "stream",
     "text": [
      " 59%|█████▉    | 514/870 [05:29<02:40,  2.22it/s]"
     ]
    },
    {
     "name": "stdout",
     "output_type": "stream",
     "text": [
      "Done\n",
      "\n",
      "Scraping https://www.pnbrno.cz/centrum-dusevniho-zdravi/\n"
     ]
    },
    {
     "name": "stderr",
     "output_type": "stream",
     "text": [
      " 59%|█████▉    | 515/870 [05:29<02:37,  2.25it/s]"
     ]
    },
    {
     "name": "stdout",
     "output_type": "stream",
     "text": [
      "Done\n",
      "\n",
      "Scraping http://www.nadeje.cz\n"
     ]
    },
    {
     "name": "stderr",
     "output_type": "stream",
     "text": [
      " 59%|█████▉    | 516/870 [05:30<03:28,  1.70it/s]"
     ]
    },
    {
     "name": "stdout",
     "output_type": "stream",
     "text": [
      "Done\n",
      "\n",
      "Scraping tvuj-terapeut.cz\n",
      "Error fetching tvuj-terapeut.cz: Invalid URL 'tvuj-terapeut.cz': No scheme supplied. Perhaps you meant https://tvuj-terapeut.cz?\n",
      "Done\n",
      "\n",
      "Scraping https://www.zvole.info\n"
     ]
    },
    {
     "name": "stderr",
     "output_type": "stream",
     "text": [
      " 60%|█████▉    | 518/870 [05:31<02:54,  2.02it/s]"
     ]
    },
    {
     "name": "stdout",
     "output_type": "stream",
     "text": [
      "Done\n",
      "\n",
      "Scraping https://zuzanarihova.lender.cz\n"
     ]
    },
    {
     "name": "stderr",
     "output_type": "stream",
     "text": [
      " 60%|█████▉    | 519/870 [05:31<02:33,  2.29it/s]"
     ]
    },
    {
     "name": "stdout",
     "output_type": "stream",
     "text": [
      "Done\n",
      "\n",
      "Scraping https://www.sdruzenipetrov.cz\n"
     ]
    },
    {
     "name": "stderr",
     "output_type": "stream",
     "text": [
      " 60%|██████    | 522/870 [05:32<01:59,  2.91it/s]"
     ]
    },
    {
     "name": "stdout",
     "output_type": "stream",
     "text": [
      "Done\n",
      "\n",
      "Scraping http://www.psychoterapie-iz.cz/\n",
      "Done\n",
      "\n",
      "Scraping https://www.ppppraha7a8.cz/\n",
      "Done\n",
      "\n",
      "Scraping https://psychosomatika.cz/\n"
     ]
    },
    {
     "name": "stderr",
     "output_type": "stream",
     "text": [
      " 60%|██████    | 523/870 [05:32<01:41,  3.43it/s]"
     ]
    },
    {
     "name": "stdout",
     "output_type": "stream",
     "text": [
      "Done\n",
      "\n",
      "Scraping https://www.milicak.cz\n",
      "Error fetching https://www.milicak.cz: HTTPSConnectionPool(host='www.milicak.cz', port=443): Max retries exceeded with url: / (Caused by SSLError(CertificateError(\"hostname 'www.milicak.cz' doesn't match either of '*.default.cz', 'default.cz'\")))\n",
      "Done\n",
      "\n",
      "Scraping https://www.recoveryclinic.cz/\n"
     ]
    },
    {
     "name": "stderr",
     "output_type": "stream",
     "text": [
      " 60%|██████    | 525/870 [05:33<01:38,  3.51it/s]"
     ]
    },
    {
     "name": "stdout",
     "output_type": "stream",
     "text": [
      "Done\n",
      "\n",
      "Scraping https://www.artmovement.cz\n"
     ]
    },
    {
     "name": "stderr",
     "output_type": "stream",
     "text": [
      " 60%|██████    | 526/870 [05:34<02:39,  2.15it/s]"
     ]
    },
    {
     "name": "stdout",
     "output_type": "stream",
     "text": [
      "Done\n",
      "\n",
      "Scraping https://psycholog-iva-gregorova.business.site/\n"
     ]
    },
    {
     "name": "stderr",
     "output_type": "stream",
     "text": [
      " 61%|██████    | 528/870 [05:34<02:00,  2.83it/s]"
     ]
    },
    {
     "name": "stdout",
     "output_type": "stream",
     "text": [
      "Error fetching https://psycholog-iva-gregorova.business.site/: 404 Client Error: Not Found for url: https://psycholog-iva-gregorova.business.site/\n",
      "Done\n",
      "\n",
      "Scraping https://dk.fnplzen.cz/cs/node/394\n",
      "Done\n",
      "\n",
      "Scraping https://www.psychoterapie-ostrava-praha.cz/Praha.php\n"
     ]
    },
    {
     "name": "stderr",
     "output_type": "stream",
     "text": [
      " 61%|██████    | 529/870 [05:34<01:39,  3.41it/s]"
     ]
    },
    {
     "name": "stdout",
     "output_type": "stream",
     "text": [
      "Done\n",
      "\n",
      "Scraping https://search.seznam.cz/?q=psychiatrick%C3%A1+ambulance+plze%C5%88sk%C3%BD+kraj&oq\n"
     ]
    },
    {
     "name": "stderr",
     "output_type": "stream",
     "text": [
      " 61%|██████    | 531/870 [05:35<01:40,  3.36it/s]"
     ]
    },
    {
     "name": "stdout",
     "output_type": "stream",
     "text": [
      "Done\n",
      "\n",
      "Scraping http://www.clovekvtisni.cz/plzen\n",
      "Error fetching http://www.clovekvtisni.cz/plzen: HTTPSConnectionPool(host='www.clovekvtisni.cz', port=443): Max retries exceeded with url: /plzen (Caused by SSLError(SSLCertVerificationError(1, '[SSL: CERTIFICATE_VERIFY_FAILED] certificate verify failed: unable to get local issuer certificate (_ssl.c:1002)')))\n",
      "Done\n",
      "\n",
      "Scraping http://www.pontis.cz\n"
     ]
    },
    {
     "name": "stderr",
     "output_type": "stream",
     "text": [
      " 61%|██████    | 532/870 [05:36<02:17,  2.46it/s]"
     ]
    },
    {
     "name": "stdout",
     "output_type": "stream",
     "text": [
      "Done\n",
      "\n",
      "Scraping https://www.ssp-ol.cz/poradny-pro-rodinu/rozcestnik\n"
     ]
    },
    {
     "name": "stderr",
     "output_type": "stream",
     "text": [
      " 61%|██████▏   | 533/870 [05:36<02:00,  2.79it/s]"
     ]
    },
    {
     "name": "stdout",
     "output_type": "stream",
     "text": [
      "Done\n",
      "\n",
      "Scraping http://www.psychologiebrno.cz/\n"
     ]
    },
    {
     "name": "stderr",
     "output_type": "stream",
     "text": [
      " 61%|██████▏   | 534/870 [05:37<03:23,  1.65it/s]"
     ]
    },
    {
     "name": "stdout",
     "output_type": "stream",
     "text": [
      "Done\n",
      "\n",
      "Scraping https://www.firmy.cz/detail/13425689-mudr-jana-bytelova-klatovy-i.html\n"
     ]
    },
    {
     "name": "stderr",
     "output_type": "stream",
     "text": [
      " 62%|██████▏   | 536/870 [05:38<02:16,  2.45it/s]"
     ]
    },
    {
     "name": "stdout",
     "output_type": "stream",
     "text": [
      "Done\n",
      "\n",
      "Scraping http://www.zajicova-psychologie.cz/\n",
      "Done\n",
      "\n",
      "Scraping https://psychiatriejinak.cz/#utm_source=firmy.cz&utm_medium=ppd&utm_campaign=firmy.cz-12845336\n"
     ]
    },
    {
     "name": "stderr",
     "output_type": "stream",
     "text": [
      " 62%|██████▏   | 537/870 [05:39<03:47,  1.47it/s]"
     ]
    },
    {
     "name": "stdout",
     "output_type": "stream",
     "text": [
      "Done\n",
      "\n",
      "Scraping http://www.klaudianovanemocnice.cz/psycholog-mgr-robert-lasak/ms-2075/p1=2075\n"
     ]
    },
    {
     "name": "stderr",
     "output_type": "stream",
     "text": [
      " 62%|██████▏   | 538/870 [05:39<03:13,  1.71it/s]"
     ]
    },
    {
     "name": "stdout",
     "output_type": "stream",
     "text": [
      "Done\n",
      "\n",
      "Scraping https://www.firmy.cz/detail/384826-mudr-eva-fialkova-tabor.html\n"
     ]
    },
    {
     "name": "stderr",
     "output_type": "stream",
     "text": [
      " 62%|██████▏   | 539/870 [05:40<03:03,  1.81it/s]"
     ]
    },
    {
     "name": "stdout",
     "output_type": "stream",
     "text": [
      "Done\n",
      "\n",
      "Scraping https://www.socialni-susice.cz/nase-sluzby/odborne-socialni-poradenstvi/\n"
     ]
    },
    {
     "name": "stderr",
     "output_type": "stream",
     "text": [
      " 62%|██████▏   | 540/870 [05:41<04:23,  1.25it/s]"
     ]
    },
    {
     "name": "stdout",
     "output_type": "stream",
     "text": [
      "Done\n",
      "\n",
      "Scraping http://www.cetera.cz\n",
      "Done\n",
      "\n",
      "Scraping https://www.cestaintegrace.cz\n"
     ]
    },
    {
     "name": "stderr",
     "output_type": "stream",
     "text": [
      " 62%|██████▏   | 542/870 [05:43<04:52,  1.12it/s]"
     ]
    },
    {
     "name": "stdout",
     "output_type": "stream",
     "text": [
      "Done\n",
      "\n",
      "Scraping http://www.psychoterapeuti.cz/adresar-psychoterapeutu/item/66-premysl-suchomel-mudr\n"
     ]
    },
    {
     "name": "stderr",
     "output_type": "stream",
     "text": [
      " 62%|██████▏   | 543/870 [05:43<04:06,  1.33it/s]"
     ]
    },
    {
     "name": "stdout",
     "output_type": "stream",
     "text": [
      "Done\n",
      "\n",
      "Scraping https://www.psychologie-stein.cz/index.php\n"
     ]
    },
    {
     "name": "stderr",
     "output_type": "stream",
     "text": [
      " 63%|██████▎   | 544/870 [05:44<03:52,  1.40it/s]"
     ]
    },
    {
     "name": "stdout",
     "output_type": "stream",
     "text": [
      "Done\n",
      "\n",
      "Scraping https://www.pamatovacek.cz/odborne-socialni-poradenstvi\n"
     ]
    },
    {
     "name": "stderr",
     "output_type": "stream",
     "text": [
      " 63%|██████▎   | 546/870 [05:44<02:30,  2.16it/s]"
     ]
    },
    {
     "name": "stdout",
     "output_type": "stream",
     "text": [
      "Done\n",
      "\n",
      "Scraping https://www.monada.cz/psychologie/\n",
      "Done\n",
      "\n",
      "Scraping https://www.nemocnicekolin.cz/klinicka-psychologie/d-2289/p1=2120\n"
     ]
    },
    {
     "name": "stderr",
     "output_type": "stream",
     "text": [
      " 63%|██████▎   | 548/870 [05:45<02:02,  2.63it/s]"
     ]
    },
    {
     "name": "stdout",
     "output_type": "stream",
     "text": [
      "Done\n",
      "\n",
      "Scraping https://www.psychologicka-ordinace-janovska.cz/\n",
      "Done\n",
      "\n",
      "Scraping https://www.milatovajana.cz/\n"
     ]
    },
    {
     "name": "stderr",
     "output_type": "stream",
     "text": [
      " 63%|██████▎   | 551/870 [05:45<01:09,  4.58it/s]"
     ]
    },
    {
     "name": "stdout",
     "output_type": "stream",
     "text": [
      "Done\n",
      "\n",
      "Scraping nem-tr.cz/cze/ambulance/klinicky-psycholog/\n",
      "Error fetching nem-tr.cz/cze/ambulance/klinicky-psycholog/: Invalid URL 'nem-tr.cz/cze/ambulance/klinicky-psycholog/': No scheme supplied. Perhaps you meant https://nem-tr.cz/cze/ambulance/klinicky-psycholog/?\n",
      "Done\n",
      "\n",
      "Scraping https://www.psychologie-zdravi.cz/\n",
      "Done\n",
      "\n",
      "Scraping https://www.psychologiekolin.cz/\n"
     ]
    },
    {
     "name": "stderr",
     "output_type": "stream",
     "text": [
      " 64%|██████▎   | 553/870 [05:46<01:40,  3.15it/s]"
     ]
    },
    {
     "name": "stdout",
     "output_type": "stream",
     "text": [
      "Done\n",
      "\n",
      "Scraping https://www.psycholog-marie-opava.cz/\n",
      "Done\n",
      "\n",
      "Scraping https://www.vaspsychiatr.cz\n"
     ]
    },
    {
     "name": "stderr",
     "output_type": "stream",
     "text": [
      " 64%|██████▎   | 554/870 [07:01<1:38:53, 18.78s/it]"
     ]
    },
    {
     "name": "stdout",
     "output_type": "stream",
     "text": [
      "Error fetching https://www.vaspsychiatr.cz: HTTPSConnectionPool(host='www.vaspsychiatr.cz', port=443): Max retries exceeded with url: / (Caused by ConnectTimeoutError(<urllib3.connection.HTTPSConnection object at 0x17283bed0>, 'Connection to www.vaspsychiatr.cz timed out. (connect timeout=None)'))\n",
      "Done\n",
      "\n",
      "Scraping http://www.pppfm.cz/\n"
     ]
    },
    {
     "name": "stderr",
     "output_type": "stream",
     "text": [
      " 64%|██████▍   | 555/870 [07:02<1:13:13, 13.95s/it]"
     ]
    },
    {
     "name": "stdout",
     "output_type": "stream",
     "text": [
      "Done\n",
      "\n",
      "Scraping https://www.znamylekar.cz/nada-kravcivova/psycholog/ceska-lipa\n"
     ]
    },
    {
     "name": "stderr",
     "output_type": "stream",
     "text": [
      " 64%|██████▍   | 556/870 [07:06<59:22, 11.35s/it]  "
     ]
    },
    {
     "name": "stdout",
     "output_type": "stream",
     "text": [
      "Done\n",
      "\n",
      "Scraping https://search.seznam.cz/?q=psychiatrick%C3%A1+ambulance+plze%C5%88sk%C3%BD+kraj\n"
     ]
    },
    {
     "name": "stderr",
     "output_type": "stream",
     "text": [
      " 64%|██████▍   | 558/870 [07:07<31:01,  5.97s/it]"
     ]
    },
    {
     "name": "stdout",
     "output_type": "stream",
     "text": [
      "Done\n",
      "\n",
      "Scraping http://www.unko.cz/\n",
      "Error fetching http://www.unko.cz/: 403 Client Error: Forbidden for url: https://www.unko.cz/\n",
      "Done\n",
      "\n",
      "Scraping http://www.pojmanova.cz/\n",
      "Error fetching http://www.pojmanova.cz/: HTTPConnectionPool(host='www.pojmanova.cz', port=80): Max retries exceeded with url: / (Caused by NewConnectionError('<urllib3.connection.HTTPConnection object at 0x172599e90>: Failed to establish a new connection: [Errno 8] nodename nor servname provided, or not known'))\n",
      "Done\n",
      "\n",
      "Scraping http://www.zonaklub.cz\n"
     ]
    },
    {
     "name": "stderr",
     "output_type": "stream",
     "text": [
      " 64%|██████▍   | 560/870 [07:08<18:28,  3.58s/it]"
     ]
    },
    {
     "name": "stdout",
     "output_type": "stream",
     "text": [
      "Done\n",
      "\n",
      "Scraping https://www.dopravnipsycholog.info/\n"
     ]
    },
    {
     "name": "stderr",
     "output_type": "stream",
     "text": [
      " 64%|██████▍   | 561/870 [07:08<14:20,  2.78s/it]"
     ]
    },
    {
     "name": "stdout",
     "output_type": "stream",
     "text": [
      "Done\n",
      "\n",
      "Scraping https://psycholog-domazlice.cz/\n"
     ]
    },
    {
     "name": "stderr",
     "output_type": "stream",
     "text": [
      " 65%|██████▍   | 562/870 [07:09<11:11,  2.18s/it]"
     ]
    },
    {
     "name": "stdout",
     "output_type": "stream",
     "text": [
      "Error fetching https://psycholog-domazlice.cz/: 403 Client Error: Forbidden for url: https://psycholog-domazlice.cz/\n",
      "Done\n",
      "\n",
      "Scraping http://www.pppnj.cz/Stranky/default.aspx\n"
     ]
    },
    {
     "name": "stderr",
     "output_type": "stream",
     "text": [
      " 65%|██████▍   | 563/870 [07:09<08:38,  1.69s/it]"
     ]
    },
    {
     "name": "stdout",
     "output_type": "stream",
     "text": [
      "Done\n",
      "\n",
      "Scraping http://www.ppp-ostrava.cz/\n"
     ]
    },
    {
     "name": "stderr",
     "output_type": "stream",
     "text": [
      " 65%|██████▍   | 564/870 [07:10<07:59,  1.57s/it]"
     ]
    },
    {
     "name": "stdout",
     "output_type": "stream",
     "text": [
      "Done\n",
      "\n",
      "Scraping http://www.psychoterapeuti.cz/adresar-psychoterapeutu/item/19-drabkova-hana-phdr\n"
     ]
    },
    {
     "name": "stderr",
     "output_type": "stream",
     "text": [
      " 65%|██████▍   | 565/870 [07:11<06:13,  1.22s/it]"
     ]
    },
    {
     "name": "stdout",
     "output_type": "stream",
     "text": [
      "Done\n",
      "\n",
      "Scraping http://www.prevcentrum.cz/nzdm\n"
     ]
    },
    {
     "name": "stderr",
     "output_type": "stream",
     "text": [
      " 65%|██████▌   | 566/870 [07:13<07:34,  1.49s/it]"
     ]
    },
    {
     "name": "stdout",
     "output_type": "stream",
     "text": [
      "Error fetching http://www.prevcentrum.cz/nzdm: 404 Client Error: Not Found for url: https://www.prevcentrum.cz/nzdm\n",
      "Done\n",
      "\n",
      "Scraping https://www.firmy.cz/detail/479833-mudr-lubomir-hadas-hradec-kralove.html\n"
     ]
    },
    {
     "name": "stderr",
     "output_type": "stream",
     "text": [
      " 65%|██████▌   | 567/870 [07:13<06:00,  1.19s/it]"
     ]
    },
    {
     "name": "stdout",
     "output_type": "stream",
     "text": [
      "Done\n",
      "\n",
      "Scraping onhb.cz/Article.asp?nDepartmentID=256&nArticleID=341&nLanguageID=1\n",
      "Error fetching onhb.cz/Article.asp?nDepartmentID=256&nArticleID=341&nLanguageID=1: Invalid URL 'onhb.cz/Article.asp?nDepartmentID=256&nArticleID=341&nLanguageID=1': No scheme supplied. Perhaps you meant https://onhb.cz/Article.asp?nDepartmentID=256&nArticleID=341&nLanguageID=1?\n",
      "Done\n",
      "\n",
      "Scraping https://www.mesto-most.cz\n"
     ]
    },
    {
     "name": "stderr",
     "output_type": "stream",
     "text": [
      " 66%|██████▌   | 570/870 [07:14<02:53,  1.73it/s]"
     ]
    },
    {
     "name": "stdout",
     "output_type": "stream",
     "text": [
      "Done\n",
      "\n",
      "Scraping https://www.poradnaprozeny.eu/\n",
      "Done\n",
      "\n",
      "Scraping https://www.firmy.cz/detail/2459422-mudr-iva-zapletalova-kromeriz.html\n"
     ]
    },
    {
     "name": "stderr",
     "output_type": "stream",
     "text": [
      " 66%|██████▌   | 571/870 [07:14<02:45,  1.80it/s]"
     ]
    },
    {
     "name": "stdout",
     "output_type": "stream",
     "text": [
      "Done\n",
      "\n",
      "Scraping http://www.linkaduvery.kh.cz/\n",
      "Done\n",
      "\n",
      "Scraping http://www.pppp.cz/\n"
     ]
    },
    {
     "name": "stderr",
     "output_type": "stream",
     "text": [
      " 66%|██████▌   | 573/870 [07:24<11:42,  2.36s/it]"
     ]
    },
    {
     "name": "stdout",
     "output_type": "stream",
     "text": [
      "Done\n",
      "\n",
      "Scraping http://www.psychoterapeuti.cz/adresar-psychoterapeutu/item/30-hudlicka-petr-mgr\n"
     ]
    },
    {
     "name": "stderr",
     "output_type": "stream",
     "text": [
      " 66%|██████▌   | 574/870 [07:24<09:21,  1.90s/it]"
     ]
    },
    {
     "name": "stdout",
     "output_type": "stream",
     "text": [
      "Done\n",
      "\n",
      "Scraping https://www.alfafarm.cz/lekarsky-dum/paeddr-mgr-yvona-obrucova/\n"
     ]
    },
    {
     "name": "stderr",
     "output_type": "stream",
     "text": [
      " 66%|██████▌   | 576/870 [07:26<07:17,  1.49s/it]"
     ]
    },
    {
     "name": "stdout",
     "output_type": "stream",
     "text": [
      "Done\n",
      "\n",
      "Scraping http://www.ppppraha.cz/\n",
      "Done\n",
      "\n",
      "Scraping http://www.trebic.charita.cz\n"
     ]
    },
    {
     "name": "stderr",
     "output_type": "stream",
     "text": [
      " 66%|██████▋   | 577/870 [07:27<05:44,  1.18s/it]"
     ]
    },
    {
     "name": "stdout",
     "output_type": "stream",
     "text": [
      "Done\n",
      "\n",
      "Scraping https://mudr-magdalena-bohacova.business.site/\n"
     ]
    },
    {
     "name": "stderr",
     "output_type": "stream",
     "text": [
      " 66%|██████▋   | 578/870 [07:28<05:29,  1.13s/it]"
     ]
    },
    {
     "name": "stdout",
     "output_type": "stream",
     "text": [
      "Done\n",
      "\n",
      "Scraping http://www.psychoterapeuti.cz/adresar-psychoterapeutu/item/50-paucova-zuzana-mgr\n"
     ]
    },
    {
     "name": "stderr",
     "output_type": "stream",
     "text": [
      " 67%|██████▋   | 579/870 [07:28<04:23,  1.11it/s]"
     ]
    },
    {
     "name": "stdout",
     "output_type": "stream",
     "text": [
      "Done\n",
      "\n",
      "Scraping http://www.psychoterapeuti.cz/adresar-psychoterapeutu/item/38-krausova-dana-phdr\n"
     ]
    },
    {
     "name": "stderr",
     "output_type": "stream",
     "text": [
      " 67%|██████▋   | 580/870 [07:28<03:32,  1.36it/s]"
     ]
    },
    {
     "name": "stdout",
     "output_type": "stream",
     "text": [
      "Done\n",
      "\n",
      "Scraping http://www.ppp.opava.cz/\n"
     ]
    },
    {
     "name": "stderr",
     "output_type": "stream",
     "text": [
      " 67%|██████▋   | 581/870 [07:30<04:23,  1.10it/s]"
     ]
    },
    {
     "name": "stdout",
     "output_type": "stream",
     "text": [
      "Done\n",
      "\n",
      "Scraping https://search.seznam.cz/search?q=psychiatr%20p%C3%ADsek&sourceid=web&thru=related&sId=cWZTosuX6OhCGTtKeYxH&overlay_type=firmy-hint-1905&overlay_id=firm-13284641\n"
     ]
    },
    {
     "name": "stderr",
     "output_type": "stream",
     "text": [
      " 67%|██████▋   | 583/870 [07:31<03:05,  1.55it/s]"
     ]
    },
    {
     "name": "stdout",
     "output_type": "stream",
     "text": [
      "Done\n",
      "\n",
      "Scraping http://okp.fnplzen.cz/cs/node/1928\n",
      "Done\n",
      "\n",
      "Scraping https://www.valmez.charita.cz\n"
     ]
    },
    {
     "name": "stderr",
     "output_type": "stream",
     "text": [
      " 67%|██████▋   | 584/870 [07:32<04:10,  1.14it/s]"
     ]
    },
    {
     "name": "stdout",
     "output_type": "stream",
     "text": [
      "Done\n",
      "\n",
      "Scraping http://www.lecbaduse.cz/\n"
     ]
    },
    {
     "name": "stderr",
     "output_type": "stream",
     "text": [
      " 67%|██████▋   | 586/870 [07:33<02:36,  1.81it/s]"
     ]
    },
    {
     "name": "stdout",
     "output_type": "stream",
     "text": [
      "Done\n",
      "\n",
      "Scraping https://www.sos-vesnicky.cz\n",
      "Done\n",
      "\n",
      "Scraping https://www.portusprachatice.cz\n"
     ]
    },
    {
     "name": "stderr",
     "output_type": "stream",
     "text": [
      " 68%|██████▊   | 588/870 [07:34<02:52,  1.63it/s]"
     ]
    },
    {
     "name": "stdout",
     "output_type": "stream",
     "text": [
      "Done\n",
      "\n",
      "Scraping http://www.jihlava.charita.cz\n",
      "Done\n",
      "\n",
      "Scraping https://www.darmodej.cz\n"
     ]
    },
    {
     "name": "stderr",
     "output_type": "stream",
     "text": [
      " 68%|██████▊   | 589/870 [07:34<02:22,  1.97it/s]"
     ]
    },
    {
     "name": "stdout",
     "output_type": "stream",
     "text": [
      "Done\n",
      "\n",
      "Scraping https://www.fokuslabe.cz/centra-dusevniho-zdravi/centrum-dusevniho-zdravi-usti-nad-labem/\n"
     ]
    },
    {
     "name": "stderr",
     "output_type": "stream",
     "text": [
      " 68%|██████▊   | 591/870 [07:35<01:31,  3.04it/s]"
     ]
    },
    {
     "name": "stdout",
     "output_type": "stream",
     "text": [
      "Error fetching https://www.fokuslabe.cz/centra-dusevniho-zdravi/centrum-dusevniho-zdravi-usti-nad-labem/: 404 Client Error: Not Found for url: https://www.fokuslabe.cz/centra-dusevniho-zdravi/centrum-dusevniho-zdravi-usti-nad-labem/\n",
      "Done\n",
      "\n",
      "Scraping https://www.dchoo.charita.cz\n",
      "Done\n",
      "\n",
      "Scraping http://odry.charita.cz\n"
     ]
    },
    {
     "name": "stderr",
     "output_type": "stream",
     "text": [
      " 68%|██████▊   | 592/870 [07:36<02:06,  2.19it/s]"
     ]
    },
    {
     "name": "stdout",
     "output_type": "stream",
     "text": [
      "Done\n",
      "\n",
      "Scraping http://www.psychoterapeuti.cz/adresar-psychoterapeutu/item/68-dufek-jan-mgr\n"
     ]
    },
    {
     "name": "stderr",
     "output_type": "stream",
     "text": [
      " 68%|██████▊   | 595/870 [07:36<01:17,  3.56it/s]"
     ]
    },
    {
     "name": "stdout",
     "output_type": "stream",
     "text": [
      "Done\n",
      "\n",
      "Scraping http://phdrdokoupilova.cz/\n",
      "Done\n",
      "\n",
      "Scraping https://www.charita-most.cz\n",
      "Done\n",
      "\n",
      "Scraping http://www.slunce.info\n",
      "Done\n",
      "\n",
      "Scraping http://www.psychoterapeuti.cz/adresar-psychoterapeutu/item/100-tejklova-milena-phdr\n"
     ]
    },
    {
     "name": "stderr",
     "output_type": "stream",
     "text": [
      " 69%|██████▊   | 597/870 [07:37<01:07,  4.02it/s]"
     ]
    },
    {
     "name": "stdout",
     "output_type": "stream",
     "text": [
      "Done\n",
      "\n",
      "Scraping https://www.registrlekaru.cz/ordinace-psychiatrie-katerina-volfova-17876/\n",
      "Done\n",
      "\n",
      "Scraping https://nemkv.cz/ambulance-klinicke-psychologie\n"
     ]
    },
    {
     "name": "stderr",
     "output_type": "stream",
     "text": [
      " 69%|██████▉   | 599/870 [07:37<00:54,  4.93it/s]"
     ]
    },
    {
     "name": "stdout",
     "output_type": "stream",
     "text": [
      "Done\n",
      "\n",
      "Scraping https://cz.linkedin.com/in/jana-kohnov%C3%A1-8a486057\n"
     ]
    },
    {
     "name": "stderr",
     "output_type": "stream",
     "text": [
      " 69%|██████▉   | 600/870 [07:37<01:03,  4.28it/s]"
     ]
    },
    {
     "name": "stdout",
     "output_type": "stream",
     "text": [
      "Done\n",
      "\n",
      "Scraping http://www.neuropsychiatriehk.cz/lipky\n"
     ]
    },
    {
     "name": "stderr",
     "output_type": "stream",
     "text": [
      " 69%|██████▉   | 602/870 [07:41<03:36,  1.24it/s]"
     ]
    },
    {
     "name": "stdout",
     "output_type": "stream",
     "text": [
      "Error fetching http://www.neuropsychiatriehk.cz/lipky: 404 Client Error: Not Found for url: http://neuropsychiatriehk.cz/lipky\n",
      "Done\n",
      "\n",
      "Scraping http://znojmo.charita.cz\n",
      "Done\n",
      "\n",
      "Scraping https://www.najdipomoc.cz/detail/psycholog/phdr-dagmar-utkova/\n"
     ]
    },
    {
     "name": "stderr",
     "output_type": "stream",
     "text": [
      " 69%|██████▉   | 603/870 [07:42<03:42,  1.20it/s]"
     ]
    },
    {
     "name": "stdout",
     "output_type": "stream",
     "text": [
      "Done\n",
      "\n",
      "Scraping http://www.psychoterapeuti.cz/adresar-psychoterapeutu/item/36-kolarova-zdenka-mgr\n"
     ]
    },
    {
     "name": "stderr",
     "output_type": "stream",
     "text": [
      " 69%|██████▉   | 604/870 [07:42<03:05,  1.43it/s]"
     ]
    },
    {
     "name": "stdout",
     "output_type": "stream",
     "text": [
      "Done\n",
      "\n",
      "Scraping http://psychoterapie-rokycany.cz/\n"
     ]
    },
    {
     "name": "stderr",
     "output_type": "stream",
     "text": [
      " 70%|██████▉   | 606/870 [07:43<01:58,  2.23it/s]"
     ]
    },
    {
     "name": "stdout",
     "output_type": "stream",
     "text": [
      "Done\n",
      "\n",
      "Scraping http://www.rodinnaporadnacb.cz/\n",
      "Done\n",
      "\n",
      "Scraping http://www.pppliberec.cz/\n"
     ]
    },
    {
     "name": "stderr",
     "output_type": "stream",
     "text": [
      " 70%|██████▉   | 607/870 [07:43<01:39,  2.65it/s]"
     ]
    },
    {
     "name": "stdout",
     "output_type": "stream",
     "text": [
      "Done\n",
      "\n",
      "Scraping https://www.cdz-brandysko.cz\n"
     ]
    },
    {
     "name": "stderr",
     "output_type": "stream",
     "text": [
      " 70%|███████   | 609/870 [07:44<02:11,  1.98it/s]"
     ]
    },
    {
     "name": "stdout",
     "output_type": "stream",
     "text": [
      "Done\n",
      "\n",
      "Scraping https://www.ekatalog.cz/firma/265781-honova-marcela-mudr/\n",
      "Error fetching https://www.ekatalog.cz/firma/265781-honova-marcela-mudr/: 404 Client Error: Not Found for url: https://www.ekatalog.cz/firma/265781-honova-marcela-mudr/\n",
      "Done\n",
      "\n",
      "Scraping https://mudr-magdalena-borikova-vojtkova.narodnizdravotniregistr.cz/\n"
     ]
    },
    {
     "name": "stderr",
     "output_type": "stream",
     "text": [
      " 70%|███████   | 610/870 [07:45<03:01,  1.43it/s]"
     ]
    },
    {
     "name": "stdout",
     "output_type": "stream",
     "text": [
      "Done\n",
      "\n",
      "Scraping http://dusevnizdravi.com/centrum-dusevniho-zdravi/\n"
     ]
    },
    {
     "name": "stderr",
     "output_type": "stream",
     "text": [
      " 70%|███████   | 611/870 [07:53<11:55,  2.76s/it]"
     ]
    },
    {
     "name": "stdout",
     "output_type": "stream",
     "text": [
      "Done\n",
      "\n",
      "Scraping https://www.elimopava.cz\n"
     ]
    },
    {
     "name": "stderr",
     "output_type": "stream",
     "text": [
      " 70%|███████   | 612/870 [07:54<09:18,  2.16s/it]"
     ]
    },
    {
     "name": "stdout",
     "output_type": "stream",
     "text": [
      "Done\n",
      "\n",
      "Scraping https://www.spolekkolumbus.cz/\n"
     ]
    },
    {
     "name": "stderr",
     "output_type": "stream",
     "text": [
      " 70%|███████   | 613/870 [07:55<08:09,  1.90s/it]"
     ]
    },
    {
     "name": "stdout",
     "output_type": "stream",
     "text": [
      "Done\n",
      "\n",
      "Scraping http://www.modredvere.cz\n"
     ]
    },
    {
     "name": "stderr",
     "output_type": "stream",
     "text": [
      " 71%|███████   | 616/870 [07:56<03:32,  1.19it/s]"
     ]
    },
    {
     "name": "stdout",
     "output_type": "stream",
     "text": [
      "Done\n",
      "\n",
      "Scraping http://www.michaelvaclavik.cz/\n",
      "Done\n",
      "\n",
      "Scraping http://www.ymkarium.ymca.cz\n",
      "Error fetching http://www.ymkarium.ymca.cz: 404 Client Error: Not Found for url: http://www.ymkarium.ymca.cz/\n",
      "Done\n",
      "\n",
      "Scraping https://www.detskapsychiatriesokolov.cz/\n"
     ]
    },
    {
     "name": "stderr",
     "output_type": "stream",
     "text": [
      " 71%|███████   | 617/870 [07:57<03:26,  1.23it/s]"
     ]
    },
    {
     "name": "stdout",
     "output_type": "stream",
     "text": [
      "Done\n",
      "\n",
      "Scraping http://www.psychoterapeuti.cz/adresar-psychoterapeutu/item/4-skrivanek-miloslav-mudr\n"
     ]
    },
    {
     "name": "stderr",
     "output_type": "stream",
     "text": [
      " 71%|███████   | 618/870 [07:57<03:01,  1.39it/s]"
     ]
    },
    {
     "name": "stdout",
     "output_type": "stream",
     "text": [
      "Done\n",
      "\n",
      "Scraping https://www.netfirmy.cz/firma/6757-polacek-jaroslav-mudr/\n"
     ]
    },
    {
     "name": "stderr",
     "output_type": "stream",
     "text": [
      " 71%|███████   | 619/870 [07:57<02:25,  1.72it/s]"
     ]
    },
    {
     "name": "stdout",
     "output_type": "stream",
     "text": [
      "Error fetching https://www.netfirmy.cz/firma/6757-polacek-jaroslav-mudr/: 404 Client Error: Not Found for url: https://www.netfirmy.cz/firma/6757-polacek-jaroslav-mudr/\n",
      "Done\n",
      "\n",
      "Scraping https://psychiatrie-ambulance.cz\n"
     ]
    },
    {
     "name": "stderr",
     "output_type": "stream",
     "text": [
      " 71%|███████▏  | 620/870 [07:58<03:05,  1.35it/s]"
     ]
    },
    {
     "name": "stdout",
     "output_type": "stream",
     "text": [
      "Done\n",
      "\n",
      "Scraping http://www.strada.cz/\n"
     ]
    },
    {
     "name": "stderr",
     "output_type": "stream",
     "text": [
      " 71%|███████▏  | 621/870 [07:59<02:30,  1.65it/s]"
     ]
    },
    {
     "name": "stdout",
     "output_type": "stream",
     "text": [
      "Done\n",
      "\n",
      "Scraping https://www.ckp-dobrichovice.cz/\n"
     ]
    },
    {
     "name": "stderr",
     "output_type": "stream",
     "text": [
      " 72%|███████▏  | 623/870 [07:59<01:44,  2.36it/s]"
     ]
    },
    {
     "name": "stdout",
     "output_type": "stream",
     "text": [
      "Done\n",
      "\n",
      "Scraping https://www.nhrozenkov.charita.cz/kontakty/?s=poradna-sv-rity\n",
      "Done\n",
      "\n",
      "Scraping https://www.fnhk.cz/psych/kliniky-ambulance.html#utm_source=firmy.cz&utm_medium=ppd&utm_content=kategorie&utm_term=Psychiatrick%c3%a9%20ambulance&utm_campaign=firmy.cz-12989534\n"
     ]
    },
    {
     "name": "stderr",
     "output_type": "stream",
     "text": [
      " 72%|███████▏  | 624/870 [08:00<01:39,  2.48it/s]"
     ]
    },
    {
     "name": "stdout",
     "output_type": "stream",
     "text": [
      "Done\n",
      "\n",
      "Scraping https://euc.cz/nase-zarizeni/kliniky/euc-klinika-praha-kartouzska/tym/phdr-pavel-kral-phd/#reserve\n"
     ]
    },
    {
     "name": "stderr",
     "output_type": "stream",
     "text": [
      " 72%|███████▏  | 625/870 [08:01<02:47,  1.47it/s]"
     ]
    },
    {
     "name": "stdout",
     "output_type": "stream",
     "text": [
      "Done\n",
      "\n",
      "Scraping http://www.psychologcimlova.cz/uvod.html\n",
      "Error fetching http://www.psychologcimlova.cz/uvod.html: 404 Client Error: Not Found for url: http://www.psychologcimlova.cz/uvod.html\n",
      "Done\n",
      "\n",
      "Scraping http://www.motylek.org\n"
     ]
    },
    {
     "name": "stderr",
     "output_type": "stream",
     "text": [
      " 72%|███████▏  | 627/870 [08:02<02:19,  1.74it/s]"
     ]
    },
    {
     "name": "stdout",
     "output_type": "stream",
     "text": [
      "Done\n",
      "\n",
      "Scraping https://www.psychocentrumdomecek.cz\n",
      "Done\n",
      "\n"
     ]
    },
    {
     "name": "stderr",
     "output_type": "stream",
     "text": [
      " 72%|███████▏  | 629/870 [08:02<01:36,  2.51it/s]"
     ]
    },
    {
     "name": "stdout",
     "output_type": "stream",
     "text": [
      "Scraping https://www.fokuslabe.cz\n",
      "Done\n",
      "\n",
      "Scraping http://www.kpppb.cz/index.php?page=o-nas\n"
     ]
    },
    {
     "name": "stderr",
     "output_type": "stream",
     "text": [
      " 72%|███████▏  | 630/870 [08:03<02:22,  1.68it/s]"
     ]
    },
    {
     "name": "stdout",
     "output_type": "stream",
     "text": [
      "Done\n",
      "\n",
      "Scraping http://apsycholog.cz/\n"
     ]
    },
    {
     "name": "stderr",
     "output_type": "stream",
     "text": [
      " 73%|███████▎  | 631/870 [08:04<02:42,  1.47it/s]"
     ]
    },
    {
     "name": "stdout",
     "output_type": "stream",
     "text": [
      "Done\n",
      "\n",
      "Scraping http://www.psychologos.cz/ordinace-klinicke-psychologie-namest-nad-oslavou/#utm_source=firmy.cz&utm_medium=ppd&utm_content=kategorie&utm_term=Psychologick%c3%a9%20a%20psychiatrick%c3%a9%20ordinace%20a%20pracovi%c5%a1t%c4%9b&utm_campaign=firmy.cz-13307684\n"
     ]
    },
    {
     "name": "stderr",
     "output_type": "stream",
     "text": [
      " 73%|███████▎  | 632/870 [08:05<02:27,  1.61it/s]"
     ]
    },
    {
     "name": "stdout",
     "output_type": "stream",
     "text": [
      "Done\n",
      "\n",
      "Scraping https://www.optrebic.cz/kontakt/obcanska-poradna-moravske-budejovice/\n"
     ]
    },
    {
     "name": "stderr",
     "output_type": "stream",
     "text": [
      " 73%|███████▎  | 633/870 [08:05<02:17,  1.72it/s]"
     ]
    },
    {
     "name": "stdout",
     "output_type": "stream",
     "text": [
      "Done\n",
      "\n",
      "Scraping http://www.psychoterapeuti.cz/adresar-psychoterapeutu/item/76-svehlikova-dana-mgr\n"
     ]
    },
    {
     "name": "stderr",
     "output_type": "stream",
     "text": [
      " 73%|███████▎  | 634/870 [08:06<02:06,  1.87it/s]"
     ]
    },
    {
     "name": "stdout",
     "output_type": "stream",
     "text": [
      "Done\n",
      "\n",
      "Scraping http://www.psychologiebratkova.cz/\n"
     ]
    },
    {
     "name": "stderr",
     "output_type": "stream",
     "text": [
      " 73%|███████▎  | 637/870 [08:07<01:37,  2.40it/s]"
     ]
    },
    {
     "name": "stdout",
     "output_type": "stream",
     "text": [
      "Done\n",
      "\n",
      "Scraping proximity.unas.cz\n",
      "Error fetching proximity.unas.cz: Invalid URL 'proximity.unas.cz': No scheme supplied. Perhaps you meant https://proximity.unas.cz?\n",
      "Done\n",
      "\n",
      "Scraping https://charita-sv-alexandra.cz/socialni-sluzby-a-aktivita/poradna-sv-alexandra/\n",
      "Done\n",
      "\n",
      "Scraping https://www.charitafm.cz\n"
     ]
    },
    {
     "name": "stderr",
     "output_type": "stream",
     "text": [
      " 73%|███████▎  | 638/870 [08:07<01:22,  2.81it/s]"
     ]
    },
    {
     "name": "stdout",
     "output_type": "stream",
     "text": [
      "Done\n",
      "\n",
      "Scraping http://www.adiktologie.cz/\n"
     ]
    },
    {
     "name": "stderr",
     "output_type": "stream",
     "text": [
      " 73%|███████▎  | 639/870 [08:08<01:36,  2.40it/s]"
     ]
    },
    {
     "name": "stdout",
     "output_type": "stream",
     "text": [
      "Done\n",
      "\n",
      "Scraping https://www.rc-routa.cz\n"
     ]
    },
    {
     "name": "stderr",
     "output_type": "stream",
     "text": [
      " 74%|███████▎  | 640/870 [08:08<01:45,  2.17it/s]"
     ]
    },
    {
     "name": "stdout",
     "output_type": "stream",
     "text": [
      "Done\n",
      "\n",
      "Scraping https://ordinace-thamova.webnode.cz/\n"
     ]
    },
    {
     "name": "stderr",
     "output_type": "stream",
     "text": [
      " 74%|███████▎  | 641/870 [08:08<01:30,  2.53it/s]"
     ]
    },
    {
     "name": "stdout",
     "output_type": "stream",
     "text": [
      "Error fetching https://ordinace-thamova.webnode.cz/: 404 Client Error: Not Found for url: https://ordinace-thamova.webnode.cz/\n",
      "Done\n",
      "\n",
      "Scraping https://veronikagalusova.cz\n"
     ]
    },
    {
     "name": "stderr",
     "output_type": "stream",
     "text": [
      " 74%|███████▍  | 642/870 [08:09<02:13,  1.71it/s]"
     ]
    },
    {
     "name": "stdout",
     "output_type": "stream",
     "text": [
      "Done\n",
      "\n",
      "Scraping https://www.opengate.cz/\n"
     ]
    },
    {
     "name": "stderr",
     "output_type": "stream",
     "text": [
      " 74%|███████▍  | 643/870 [08:10<02:23,  1.58it/s]"
     ]
    },
    {
     "name": "stdout",
     "output_type": "stream",
     "text": [
      "Done\n",
      "\n",
      "Scraping https://www.asertivita.com/\n"
     ]
    },
    {
     "name": "stderr",
     "output_type": "stream",
     "text": [
      " 74%|███████▍  | 644/870 [08:10<01:58,  1.91it/s]"
     ]
    },
    {
     "name": "stdout",
     "output_type": "stream",
     "text": [
      "Done\n",
      "\n",
      "Scraping http://www.psychoterapeuti.cz/adresar-psychoterapeutu/item/113-kolackova-barbara-phdr-mgr\n"
     ]
    },
    {
     "name": "stderr",
     "output_type": "stream",
     "text": [
      " 74%|███████▍  | 645/870 [08:11<01:45,  2.14it/s]"
     ]
    },
    {
     "name": "stdout",
     "output_type": "stream",
     "text": [
      "Done\n",
      "\n",
      "Scraping http://www.linka-duvery.cz/\n"
     ]
    },
    {
     "name": "stderr",
     "output_type": "stream",
     "text": [
      " 74%|███████▍  | 646/870 [08:12<02:10,  1.72it/s]"
     ]
    },
    {
     "name": "stdout",
     "output_type": "stream",
     "text": [
      "Done\n",
      "\n",
      "Scraping https://tomashrubykv.cz/\n"
     ]
    },
    {
     "name": "stderr",
     "output_type": "stream",
     "text": [
      " 74%|███████▍  | 647/870 [08:12<01:50,  2.02it/s]"
     ]
    },
    {
     "name": "stdout",
     "output_type": "stream",
     "text": [
      "Done\n",
      "\n",
      "Scraping http://www.psychoterapeuti.cz/adresar-psychoterapeutu/item/56-ruzickova-ivana-mudr\n"
     ]
    },
    {
     "name": "stderr",
     "output_type": "stream",
     "text": [
      " 74%|███████▍  | 648/870 [08:12<01:42,  2.17it/s]"
     ]
    },
    {
     "name": "stdout",
     "output_type": "stream",
     "text": [
      "Done\n",
      "\n",
      "Scraping http://www.anabell.cz\n"
     ]
    },
    {
     "name": "stderr",
     "output_type": "stream",
     "text": [
      " 75%|███████▍  | 649/870 [08:13<01:38,  2.25it/s]"
     ]
    },
    {
     "name": "stdout",
     "output_type": "stream",
     "text": [
      "Done\n",
      "\n",
      "Scraping http://www.ckp-dobrichovice.cz\n"
     ]
    },
    {
     "name": "stderr",
     "output_type": "stream",
     "text": [
      " 75%|███████▍  | 650/870 [08:13<01:42,  2.14it/s]"
     ]
    },
    {
     "name": "stdout",
     "output_type": "stream",
     "text": [
      "Done\n",
      "\n",
      "Scraping https://www.alzheimerporadnavysocina.cz\n"
     ]
    },
    {
     "name": "stderr",
     "output_type": "stream",
     "text": [
      " 75%|███████▍  | 651/870 [08:13<01:28,  2.47it/s]"
     ]
    },
    {
     "name": "stdout",
     "output_type": "stream",
     "text": [
      "Done\n",
      "\n",
      "Scraping https://www.zivot-je-hra.cz/\n"
     ]
    },
    {
     "name": "stderr",
     "output_type": "stream",
     "text": [
      " 75%|███████▍  | 652/870 [08:17<05:06,  1.40s/it]"
     ]
    },
    {
     "name": "stdout",
     "output_type": "stream",
     "text": [
      "Done\n",
      "\n",
      "Scraping https://weinholdova.webnode.cz/\n"
     ]
    },
    {
     "name": "stderr",
     "output_type": "stream",
     "text": [
      " 75%|███████▌  | 653/870 [08:19<05:11,  1.44s/it]"
     ]
    },
    {
     "name": "stdout",
     "output_type": "stream",
     "text": [
      "Done\n",
      "\n",
      "Scraping http://www.sojka.hbnet.cz\n",
      "Done\n",
      "\n",
      "Scraping https://www.melaops.cz\n"
     ]
    },
    {
     "name": "stderr",
     "output_type": "stream",
     "text": [
      " 75%|███████▌  | 655/870 [08:19<03:12,  1.12it/s]"
     ]
    },
    {
     "name": "stdout",
     "output_type": "stream",
     "text": [
      "Done\n",
      "\n",
      "Scraping https://www.romanojasnica.cz\n",
      "Done\n",
      "\n"
     ]
    },
    {
     "name": "stderr",
     "output_type": "stream",
     "text": [
      " 75%|███████▌  | 656/870 [08:19<02:35,  1.38it/s]"
     ]
    },
    {
     "name": "stdout",
     "output_type": "stream",
     "text": [
      "Scraping http://www.ulita.cz/\n"
     ]
    },
    {
     "name": "stderr",
     "output_type": "stream",
     "text": [
      " 76%|███████▌  | 658/870 [08:20<01:46,  2.00it/s]"
     ]
    },
    {
     "name": "stdout",
     "output_type": "stream",
     "text": [
      "Done\n",
      "\n",
      "Scraping https://www.poradnaplzen.cz/\n",
      "Done\n",
      "\n",
      "Scraping http://www.oppp5.cz/\n"
     ]
    },
    {
     "name": "stderr",
     "output_type": "stream",
     "text": [
      " 76%|███████▌  | 659/870 [08:20<01:24,  2.51it/s]"
     ]
    },
    {
     "name": "stdout",
     "output_type": "stream",
     "text": [
      "Done\n",
      "\n",
      "Scraping http://www.dejdar-martin.cz/\n",
      "Done\n",
      "\n"
     ]
    },
    {
     "name": "stderr",
     "output_type": "stream",
     "text": [
      " 76%|███████▌  | 660/870 [08:20<01:12,  2.91it/s]"
     ]
    },
    {
     "name": "stdout",
     "output_type": "stream",
     "text": [
      "Scraping https://www.musskt.cz/muss/poradenstvi.asp\n"
     ]
    },
    {
     "name": "stderr",
     "output_type": "stream",
     "text": [
      " 76%|███████▌  | 661/870 [08:21<01:08,  3.03it/s]"
     ]
    },
    {
     "name": "stdout",
     "output_type": "stream",
     "text": [
      "Done\n",
      "\n",
      "Scraping http://www.linkabezpeci.cz/\n"
     ]
    },
    {
     "name": "stderr",
     "output_type": "stream",
     "text": [
      " 76%|███████▌  | 662/870 [08:21<01:06,  3.11it/s]"
     ]
    },
    {
     "name": "stdout",
     "output_type": "stream",
     "text": [
      "Done\n",
      "\n",
      "Scraping https://www.czplk.cz\n"
     ]
    },
    {
     "name": "stderr",
     "output_type": "stream",
     "text": [
      " 76%|███████▌  | 663/870 [08:22<02:18,  1.49it/s]"
     ]
    },
    {
     "name": "stdout",
     "output_type": "stream",
     "text": [
      "Done\n",
      "\n",
      "Scraping http://www.psychoterapeuti.cz/adresar-psychoterapeutu/item/88-brezikova-alena-mudr\n"
     ]
    },
    {
     "name": "stderr",
     "output_type": "stream",
     "text": [
      " 76%|███████▋  | 664/870 [08:23<01:58,  1.74it/s]"
     ]
    },
    {
     "name": "stdout",
     "output_type": "stream",
     "text": [
      "Done\n",
      "\n",
      "Scraping https://www.psychiatriestrakonice.cz/\n"
     ]
    },
    {
     "name": "stderr",
     "output_type": "stream",
     "text": [
      " 76%|███████▋  | 665/870 [08:23<01:41,  2.01it/s]"
     ]
    },
    {
     "name": "stdout",
     "output_type": "stream",
     "text": [
      "Done\n",
      "\n",
      "Scraping https://www.charitarumburk.cz\n"
     ]
    },
    {
     "name": "stderr",
     "output_type": "stream",
     "text": [
      " 77%|███████▋  | 666/870 [08:23<01:27,  2.34it/s]"
     ]
    },
    {
     "name": "stdout",
     "output_type": "stream",
     "text": [
      "Done\n",
      "\n",
      "Scraping https://klinika.podaneruce.cz/\n"
     ]
    },
    {
     "name": "stderr",
     "output_type": "stream",
     "text": [
      " 77%|███████▋  | 667/870 [08:26<03:27,  1.02s/it]"
     ]
    },
    {
     "name": "stdout",
     "output_type": "stream",
     "text": [
      "Done\n",
      "\n",
      "Scraping http://www.modredvere.cz/cz/modre-dvere-kostelec-nad-cernymi-lesy\n"
     ]
    },
    {
     "name": "stderr",
     "output_type": "stream",
     "text": [
      " 77%|███████▋  | 669/870 [08:26<02:05,  1.60it/s]"
     ]
    },
    {
     "name": "stdout",
     "output_type": "stream",
     "text": [
      "Done\n",
      "\n",
      "Scraping https://www.olomouc.charita.cz\n",
      "Done\n",
      "\n",
      "Scraping http://cross.prevent99.cz\n"
     ]
    },
    {
     "name": "stderr",
     "output_type": "stream",
     "text": [
      " 77%|███████▋  | 670/870 [08:29<04:11,  1.26s/it]"
     ]
    },
    {
     "name": "stdout",
     "output_type": "stream",
     "text": [
      "Done\n",
      "\n",
      "Scraping https://www.uhbrod.charita.cz/socialni-sluzby/odborne-socialni-poradenstvi/\n"
     ]
    },
    {
     "name": "stderr",
     "output_type": "stream",
     "text": [
      " 77%|███████▋  | 671/870 [08:29<03:10,  1.04it/s]"
     ]
    },
    {
     "name": "stdout",
     "output_type": "stream",
     "text": [
      "Done\n",
      "\n",
      "Scraping https://www.csps-hk.cz/\n"
     ]
    },
    {
     "name": "stderr",
     "output_type": "stream",
     "text": [
      " 77%|███████▋  | 672/870 [08:30<02:39,  1.24it/s]"
     ]
    },
    {
     "name": "stdout",
     "output_type": "stream",
     "text": [
      "Done\n",
      "\n",
      "Scraping http://www.ops.cz\n"
     ]
    },
    {
     "name": "stderr",
     "output_type": "stream",
     "text": [
      " 77%|███████▋  | 673/870 [08:33<04:44,  1.44s/it]"
     ]
    },
    {
     "name": "stdout",
     "output_type": "stream",
     "text": [
      "Done\n",
      "\n",
      "Scraping https://www.centrum-acko.cz/index.php/o-nas/poradna/poradna-detailni-popis-sluzby/\n"
     ]
    },
    {
     "name": "stderr",
     "output_type": "stream",
     "text": [
      " 77%|███████▋  | 674/870 [08:34<05:04,  1.55s/it]"
     ]
    },
    {
     "name": "stdout",
     "output_type": "stream",
     "text": [
      "Done\n",
      "\n",
      "Scraping http://www.psychoterapeuti.cz/adresar-psychoterapeutu/item/18-dolezalova-lucie-mgr\n"
     ]
    },
    {
     "name": "stderr",
     "output_type": "stream",
     "text": [
      " 78%|███████▊  | 675/870 [08:35<03:51,  1.19s/it]"
     ]
    },
    {
     "name": "stdout",
     "output_type": "stream",
     "text": [
      "Done\n",
      "\n",
      "Scraping https://www.fnhk.cz/psych/kliniky-ambulance.html\n"
     ]
    },
    {
     "name": "stderr",
     "output_type": "stream",
     "text": [
      " 78%|███████▊  | 676/870 [08:35<02:57,  1.09it/s]"
     ]
    },
    {
     "name": "stdout",
     "output_type": "stream",
     "text": [
      "Done\n",
      "\n",
      "Scraping http://www.mudrcerny.cz/\n",
      "Done\n",
      "\n",
      "Scraping asistovanekontakty.cz\n",
      "Error fetching asistovanekontakty.cz: Invalid URL 'asistovanekontakty.cz': No scheme supplied. Perhaps you meant https://asistovanekontakty.cz?\n",
      "Done\n",
      "\n",
      "Scraping https://www.psychologie-praha3.cz/\n"
     ]
    },
    {
     "name": "stderr",
     "output_type": "stream",
     "text": [
      " 78%|███████▊  | 680/870 [08:36<01:14,  2.57it/s]"
     ]
    },
    {
     "name": "stdout",
     "output_type": "stream",
     "text": [
      "Done\n",
      "\n",
      "Scraping https://nrpzs.uzis.cz/detail-135139-psychiatrie-psychoterapie-s-r-o.html\n",
      "Done\n",
      "\n",
      "Scraping http://www.sterba.mypage.cz/\n"
     ]
    },
    {
     "name": "stderr",
     "output_type": "stream",
     "text": [
      " 78%|███████▊  | 681/870 [09:51<55:56, 17.76s/it]"
     ]
    },
    {
     "name": "stdout",
     "output_type": "stream",
     "text": [
      "Error fetching http://www.sterba.mypage.cz/: HTTPConnectionPool(host='www.sterba.mypage.cz', port=80): Max retries exceeded with url: / (Caused by ConnectTimeoutError(<urllib3.connection.HTTPConnection object at 0x173938c50>, 'Connection to www.sterba.mypage.cz timed out. (connect timeout=None)'))\n",
      "Done\n",
      "\n",
      "Scraping http://www.psychoterapeuti.cz/adresar-psychoterapeutu/item/44-simova-marie-phdr\n"
     ]
    },
    {
     "name": "stderr",
     "output_type": "stream",
     "text": [
      " 78%|███████▊  | 682/870 [09:51<42:05, 13.43s/it]"
     ]
    },
    {
     "name": "stdout",
     "output_type": "stream",
     "text": [
      "Done\n",
      "\n",
      "Scraping psycholog-hradec-kralove.cz\n",
      "Error fetching psycholog-hradec-kralove.cz: Invalid URL 'psycholog-hradec-kralove.cz': No scheme supplied. Perhaps you meant https://psycholog-hradec-kralove.cz?\n",
      "Done\n",
      "\n",
      "Scraping http://www.stredisko-komplexni-terapie.cz/index.html\n",
      "Done\n",
      "\n",
      "Scraping https://www.psychiatrie-hajda.cz/#utm_source=firmy.cz&utm_medium=ppd&utm_campaign=firmy.cz-13300779\n",
      "Error fetching https://www.psychiatrie-hajda.cz/#utm_source=firmy.cz&utm_medium=ppd&utm_campaign=firmy.cz-13300779: HTTPSConnectionPool(host='www.psychiatrie-hajda.cz', port=443): Max retries exceeded with url: / (Caused by NewConnectionError('<urllib3.connection.HTTPSConnection object at 0x1720d6710>: Failed to establish a new connection: [Errno 8] nodename nor servname provided, or not known'))\n",
      "Done\n",
      "\n",
      "Scraping https://www.psychologie-vlasim.cz/\n"
     ]
    },
    {
     "name": "stderr",
     "output_type": "stream",
     "text": [
      " 79%|███████▉  | 687/870 [09:52<14:08,  4.64s/it]"
     ]
    },
    {
     "name": "stdout",
     "output_type": "stream",
     "text": [
      "Done\n",
      "\n",
      "Scraping http://www.unko.cz\n",
      "Error fetching http://www.unko.cz: 403 Client Error: Forbidden for url: https://www.unko.cz/\n",
      "Done\n",
      "\n",
      "Scraping nnm.cz/ambulance-detail?id=049\n",
      "Error fetching nnm.cz/ambulance-detail?id=049: Invalid URL 'nnm.cz/ambulance-detail?id=049': No scheme supplied. Perhaps you meant https://nnm.cz/ambulance-detail?id=049?\n",
      "Done\n",
      "\n",
      "Scraping https://www.znamylekar.cz/irena-smolova/psychiatr/plzen\n"
     ]
    },
    {
     "name": "stderr",
     "output_type": "stream",
     "text": [
      " 79%|███████▉  | 690/870 [09:53<08:01,  2.68s/it]"
     ]
    },
    {
     "name": "stdout",
     "output_type": "stream",
     "text": [
      "Done\n",
      "\n",
      "Scraping http://www.sasmcb.cz\n",
      "Done\n",
      "\n",
      "Scraping https://www.pppaspcvysocina.cz/\n"
     ]
    },
    {
     "name": "stderr",
     "output_type": "stream",
     "text": [
      " 80%|███████▉  | 693/870 [09:54<04:13,  1.43s/it]"
     ]
    },
    {
     "name": "stdout",
     "output_type": "stream",
     "text": [
      "Done\n",
      "\n",
      "Scraping https://www.vidacr.cz\n",
      "Error fetching https://www.vidacr.cz: HTTPSConnectionPool(host='www.vidacr.cz', port=443): Max retries exceeded with url: / (Caused by NewConnectionError('<urllib3.connection.HTTPSConnection object at 0x172ae0ad0>: Failed to establish a new connection: [Errno 61] Connection refused'))\n",
      "Done\n",
      "\n",
      "Scraping https://tabor.charita.cz/sluzba/1102/\n",
      "Done\n",
      "\n",
      "Scraping http://www.psychoterapeuti.cz/adresar-psychoterapeutu/item/110-janeckova-barbora-phdr-ph-d\n"
     ]
    },
    {
     "name": "stderr",
     "output_type": "stream",
     "text": [
      " 80%|███████▉  | 694/870 [09:54<03:33,  1.21s/it]"
     ]
    },
    {
     "name": "stdout",
     "output_type": "stream",
     "text": [
      "Done\n",
      "\n",
      "Scraping https://www.diakoniezapad.cz/sluzby-diakonie-zapad/pro-lidi-v-nouzi/teren-pro-ohrozene-osoby/\n"
     ]
    },
    {
     "name": "stderr",
     "output_type": "stream",
     "text": [
      " 80%|████████  | 696/870 [09:55<02:17,  1.27it/s]"
     ]
    },
    {
     "name": "stdout",
     "output_type": "stream",
     "text": [
      "Error fetching https://www.diakoniezapad.cz/sluzby-diakonie-zapad/pro-lidi-v-nouzi/teren-pro-ohrozene-osoby/: 404 Client Error: Not Found for url: https://www.zapad.diakonie.cz/sluzby-diakonie-zapad/pro-lidi-v-nouzi/teren-pro-ohrozene-osoby/\n",
      "Done\n",
      "\n",
      "Scraping https://www.chrobak-terapeut.cz/\n",
      "Done\n",
      "\n",
      "Scraping https://www.nemta.cz/oddeleni/psychiatricke/?ambulance=535\n"
     ]
    },
    {
     "name": "stderr",
     "output_type": "stream",
     "text": [
      " 80%|████████  | 697/870 [09:55<02:07,  1.36it/s]"
     ]
    },
    {
     "name": "stdout",
     "output_type": "stream",
     "text": [
      "Done\n",
      "\n",
      "Scraping http://www.domecek.org\n"
     ]
    },
    {
     "name": "stderr",
     "output_type": "stream",
     "text": [
      " 80%|████████  | 699/870 [09:58<02:32,  1.12it/s]"
     ]
    },
    {
     "name": "stdout",
     "output_type": "stream",
     "text": [
      "Done\n",
      "\n",
      "Scraping http://www.blansko.charita.cz/\n",
      "Done\n",
      "\n",
      "Scraping http://obcanskaporadna.cz\n"
     ]
    },
    {
     "name": "stderr",
     "output_type": "stream",
     "text": [
      " 80%|████████  | 700/870 [09:58<01:55,  1.47it/s]"
     ]
    },
    {
     "name": "stdout",
     "output_type": "stream",
     "text": [
      "Done\n",
      "\n",
      "Scraping http://www.psychoterapeuti.cz/adresar-psychoterapeutu/item/82-knop-jan-mgr\n"
     ]
    },
    {
     "name": "stderr",
     "output_type": "stream",
     "text": [
      " 81%|████████  | 701/870 [09:58<01:38,  1.72it/s]"
     ]
    },
    {
     "name": "stdout",
     "output_type": "stream",
     "text": [
      "Done\n",
      "\n",
      "Scraping https://www.psychologieplzen.cz/\n"
     ]
    },
    {
     "name": "stderr",
     "output_type": "stream",
     "text": [
      " 81%|████████  | 702/870 [10:01<03:13,  1.15s/it]"
     ]
    },
    {
     "name": "stdout",
     "output_type": "stream",
     "text": [
      "Done\n",
      "\n",
      "Scraping csps-hk.cz\n",
      "Error fetching csps-hk.cz: Invalid URL 'csps-hk.cz': No scheme supplied. Perhaps you meant https://csps-hk.cz?\n",
      "Done\n",
      "\n",
      "Scraping http://www.clovekvtisni.cz/\n",
      "Error fetching http://www.clovekvtisni.cz/: HTTPSConnectionPool(host='www.clovekvtisni.cz', port=443): Max retries exceeded with url: / (Caused by SSLError(SSLCertVerificationError(1, '[SSL: CERTIFICATE_VERIFY_FAILED] certificate verify failed: unable to get local issuer certificate (_ssl.c:1002)')))\n",
      "Done\n",
      "\n",
      "Scraping http://www.psychoterapeuti.cz/adresar-psychoterapeutu/item/63-vlachova-marie-phdr\n"
     ]
    },
    {
     "name": "stderr",
     "output_type": "stream",
     "text": [
      " 81%|████████  | 705/870 [10:01<01:36,  1.70it/s]"
     ]
    },
    {
     "name": "stdout",
     "output_type": "stream",
     "text": [
      "Done\n",
      "\n",
      "Scraping http://www.neposeda.org\n"
     ]
    },
    {
     "name": "stderr",
     "output_type": "stream",
     "text": [
      " 81%|████████  | 706/870 [10:04<02:59,  1.09s/it]"
     ]
    },
    {
     "name": "stdout",
     "output_type": "stream",
     "text": [
      "Done\n",
      "\n",
      "Scraping https://www.magdalena-ops.eu\n",
      "Error fetching https://www.magdalena-ops.eu: HTTPSConnectionPool(host='www.magdalena-ops.eu', port=443): Max retries exceeded with url: / (Caused by SSLError(CertificateError(\"hostname 'www.magdalena-ops.eu' doesn't match either of '*.webglobe.com', 'webglobe.com'\")))\n",
      "Done\n",
      "\n",
      "Scraping http://www.pateb.cz\n"
     ]
    },
    {
     "name": "stderr",
     "output_type": "stream",
     "text": [
      " 81%|████████▏ | 708/870 [10:05<02:23,  1.13it/s]"
     ]
    },
    {
     "name": "stdout",
     "output_type": "stream",
     "text": [
      "Done\n",
      "\n",
      "Scraping https://silviebartosova.www3.cz\n"
     ]
    },
    {
     "name": "stderr",
     "output_type": "stream",
     "text": [
      " 81%|████████▏ | 709/870 [10:09<04:12,  1.57s/it]"
     ]
    },
    {
     "name": "stdout",
     "output_type": "stream",
     "text": [
      "Error fetching https://silviebartosova.www3.cz: HTTPSConnectionPool(host='silviebartosova.www3.cz', port=443): Max retries exceeded with url: / (Caused by NewConnectionError('<urllib3.connection.HTTPSConnection object at 0x172a53e10>: Failed to establish a new connection: [Errno 51] Network is unreachable'))\n",
      "Done\n",
      "\n",
      "Scraping https://www.charitasluknov.cz\n"
     ]
    },
    {
     "name": "stderr",
     "output_type": "stream",
     "text": [
      " 82%|████████▏ | 711/870 [10:10<02:35,  1.02it/s]"
     ]
    },
    {
     "name": "stdout",
     "output_type": "stream",
     "text": [
      "Done\n",
      "\n",
      "Scraping https://www.kamin.klubexit.cz\n",
      "Error fetching https://www.kamin.klubexit.cz: HTTPSConnectionPool(host='www.kamin.klubexit.cz', port=443): Max retries exceeded with url: / (Caused by SSLError(CertificateError(\"hostname 'www.kamin.klubexit.cz' doesn't match either of '*.profiwh.com', 'profiwh.com'\")))\n",
      "Done\n",
      "\n",
      "Scraping https://www.psycholog-hatakova.cz\n"
     ]
    },
    {
     "name": "stderr",
     "output_type": "stream",
     "text": [
      " 82%|████████▏ | 712/870 [10:10<01:58,  1.33it/s]"
     ]
    },
    {
     "name": "stdout",
     "output_type": "stream",
     "text": [
      "Done\n",
      "\n",
      "Scraping https://www.zmatlova.cz/\n"
     ]
    },
    {
     "name": "stderr",
     "output_type": "stream",
     "text": [
      " 82%|████████▏ | 713/870 [10:11<02:01,  1.30it/s]"
     ]
    },
    {
     "name": "stdout",
     "output_type": "stream",
     "text": [
      "Done\n",
      "\n",
      "Scraping http://www.kh.charita.cz\n"
     ]
    },
    {
     "name": "stderr",
     "output_type": "stream",
     "text": [
      " 82%|████████▏ | 716/870 [10:11<00:58,  2.62it/s]"
     ]
    },
    {
     "name": "stdout",
     "output_type": "stream",
     "text": [
      "Done\n",
      "\n",
      "Scraping psychoterapiehradeckralove.cz\n",
      "Error fetching psychoterapiehradeckralove.cz: Invalid URL 'psychoterapiehradeckralove.cz': No scheme supplied. Perhaps you meant https://psychoterapiehradeckralove.cz?\n",
      "Done\n",
      "\n",
      "Scraping https://www.zdar.charita.cz\n",
      "Done\n",
      "\n",
      "Scraping https://www.centrom.cz\n"
     ]
    },
    {
     "name": "stderr",
     "output_type": "stream",
     "text": [
      " 82%|████████▏ | 717/870 [10:12<01:30,  1.69it/s]"
     ]
    },
    {
     "name": "stdout",
     "output_type": "stream",
     "text": [
      "Done\n",
      "\n",
      "Scraping https://www.firmy.cz/detail/12865783-psychiatrie-mudr-fritzova-plzen-jizni-predmesti.html\n"
     ]
    },
    {
     "name": "stderr",
     "output_type": "stream",
     "text": [
      " 83%|████████▎ | 718/870 [10:13<01:23,  1.82it/s]"
     ]
    },
    {
     "name": "stdout",
     "output_type": "stream",
     "text": [
      "Done\n",
      "\n",
      "Scraping http://www.mihop.cz/\n"
     ]
    },
    {
     "name": "stderr",
     "output_type": "stream",
     "text": [
      " 83%|████████▎ | 720/870 [10:13<00:58,  2.56it/s]"
     ]
    },
    {
     "name": "stdout",
     "output_type": "stream",
     "text": [
      "Done\n",
      "\n",
      "Scraping https://www.zlin.charita.cz/adresar/?s=odborne-socialni-a-dluhove-poradenstvi#directory-detail\n",
      "Done\n",
      "\n",
      "Scraping klubbarka.estranky.cz\n",
      "Error fetching klubbarka.estranky.cz: Invalid URL 'klubbarka.estranky.cz': No scheme supplied. Perhaps you meant https://klubbarka.estranky.cz?\n",
      "Done\n",
      "\n",
      "Scraping https://www.martinbayer.cz/\n"
     ]
    },
    {
     "name": "stderr",
     "output_type": "stream",
     "text": [
      " 83%|████████▎ | 722/870 [10:15<01:42,  1.44it/s]"
     ]
    },
    {
     "name": "stdout",
     "output_type": "stream",
     "text": [
      "Done\n",
      "\n",
      "Scraping http://www.psychologickapraxe-krnov.cz/\n",
      "Error fetching http://www.psychologickapraxe-krnov.cz/: HTTPConnectionPool(host='www.psychologickapraxe-krnov.cz', port=80): Max retries exceeded with url: / (Caused by NewConnectionError('<urllib3.connection.HTTPConnection object at 0x172181d90>: Failed to establish a new connection: [Errno 8] nodename nor servname provided, or not known'))\n",
      "Done\n",
      "\n",
      "Scraping http://www.brno.cz\n"
     ]
    },
    {
     "name": "stderr",
     "output_type": "stream",
     "text": [
      " 83%|████████▎ | 725/870 [10:16<00:59,  2.45it/s]"
     ]
    },
    {
     "name": "stdout",
     "output_type": "stream",
     "text": [
      "Done\n",
      "\n",
      "Scraping https://www.tyn.charita.cz\n",
      "Done\n",
      "\n",
      "Scraping https://ordinace-thamova.webnode.https//www.psychologpraha.cz/cz/\n",
      "Error fetching https://ordinace-thamova.webnode.https//www.psychologpraha.cz/cz/: HTTPSConnectionPool(host='ordinace-thamova.webnode.https', port=443): Max retries exceeded with url: //www.psychologpraha.cz/cz/ (Caused by NewConnectionError('<urllib3.connection.HTTPSConnection object at 0x17238c290>: Failed to establish a new connection: [Errno 8] nodename nor servname provided, or not known'))\n",
      "Done\n",
      "\n",
      "Scraping http://www.amkp.cz/\n"
     ]
    },
    {
     "name": "stderr",
     "output_type": "stream",
     "text": [
      " 84%|████████▎ | 727/870 [10:16<00:46,  3.07it/s]"
     ]
    },
    {
     "name": "stdout",
     "output_type": "stream",
     "text": [
      "Done\n",
      "\n",
      "Scraping http://www.psychoterapeuti.cz/adresar-psychoterapeutu/item/28-holubova-dana-mudr\n"
     ]
    },
    {
     "name": "stderr",
     "output_type": "stream",
     "text": [
      " 84%|████████▎ | 728/870 [10:16<00:47,  3.02it/s]"
     ]
    },
    {
     "name": "stdout",
     "output_type": "stream",
     "text": [
      "Done\n",
      "\n",
      "Scraping https://www.skp-centrum.cz\n"
     ]
    },
    {
     "name": "stderr",
     "output_type": "stream",
     "text": [
      " 84%|████████▍ | 729/870 [10:17<01:00,  2.34it/s]"
     ]
    },
    {
     "name": "stdout",
     "output_type": "stream",
     "text": [
      "Done\n",
      "\n",
      "Scraping https://www.anabell.cz\n",
      "Error fetching https://www.anabell.cz: HTTPSConnectionPool(host='www.anabell.cz', port=443): Max retries exceeded with url: / (Caused by SSLError(CertificateError(\"hostname 'www.anabell.cz' doesn't match either of '*.savana-hosting.cz', 'savana-hosting.cz'\")))\n",
      "Done\n",
      "\n",
      "Scraping http://www.pdz.cz/\n"
     ]
    },
    {
     "name": "stderr",
     "output_type": "stream",
     "text": [
      " 84%|████████▍ | 731/870 [10:19<01:16,  1.82it/s]"
     ]
    },
    {
     "name": "stdout",
     "output_type": "stream",
     "text": [
      "Done\n",
      "\n",
      "Scraping https://www.socsluzbymilevsko.cz/odborne-socialni-poradenstvi-milevsko\n"
     ]
    },
    {
     "name": "stderr",
     "output_type": "stream",
     "text": [
      " 84%|████████▍ | 732/870 [10:19<01:05,  2.11it/s]"
     ]
    },
    {
     "name": "stdout",
     "output_type": "stream",
     "text": [
      "Done\n",
      "\n",
      "Scraping https://www.futra.cz\n"
     ]
    },
    {
     "name": "stderr",
     "output_type": "stream",
     "text": [
      " 84%|████████▍ | 733/870 [10:22<02:30,  1.10s/it]"
     ]
    },
    {
     "name": "stdout",
     "output_type": "stream",
     "text": [
      "Done\n",
      "\n",
      "Scraping https://www.navstevalekare.cz/lekari/psychiatr--psychiatrie-s51017/jihocesky-kraj-k300/cesky-krumlov-o501.html\n"
     ]
    },
    {
     "name": "stderr",
     "output_type": "stream",
     "text": [
      " 84%|████████▍ | 734/870 [10:22<02:00,  1.13it/s]"
     ]
    },
    {
     "name": "stdout",
     "output_type": "stream",
     "text": [
      "Done\n",
      "\n",
      "Scraping http://www.psychoterapeuti.cz/adresar-psychoterapeutu/item/98-oral-ivo-phdr\n"
     ]
    },
    {
     "name": "stderr",
     "output_type": "stream",
     "text": [
      " 84%|████████▍ | 735/870 [10:23<01:39,  1.35it/s]"
     ]
    },
    {
     "name": "stdout",
     "output_type": "stream",
     "text": [
      "Done\n",
      "\n",
      "Scraping http://www.psycholog-tejklova.cz/\n",
      "Done\n",
      "\n",
      "Scraping http://www.psychoterapeuti.cz/adresar-psychoterapeutu/item/24-gjuricova-sarka-phdr\n"
     ]
    },
    {
     "name": "stderr",
     "output_type": "stream",
     "text": [
      " 85%|████████▍ | 737/870 [10:23<01:06,  2.01it/s]"
     ]
    },
    {
     "name": "stdout",
     "output_type": "stream",
     "text": [
      "Done\n",
      "\n",
      "Scraping https://www.vzajemnesouziti.cz\n"
     ]
    },
    {
     "name": "stderr",
     "output_type": "stream",
     "text": [
      " 85%|████████▍ | 738/870 [10:23<01:00,  2.19it/s]"
     ]
    },
    {
     "name": "stdout",
     "output_type": "stream",
     "text": [
      "Done\n",
      "\n",
      "Scraping https://www.ledovec.cz/centrum-dusevniho-zdravi/cdz-plzen\n"
     ]
    },
    {
     "name": "stderr",
     "output_type": "stream",
     "text": [
      " 85%|████████▍ | 739/870 [10:24<01:23,  1.58it/s]"
     ]
    },
    {
     "name": "stdout",
     "output_type": "stream",
     "text": [
      "Done\n",
      "\n",
      "Scraping https://www.psychocentrum.cz\n"
     ]
    },
    {
     "name": "stderr",
     "output_type": "stream",
     "text": [
      " 85%|████████▌ | 741/870 [10:25<00:53,  2.43it/s]"
     ]
    },
    {
     "name": "stdout",
     "output_type": "stream",
     "text": [
      "Done\n",
      "\n",
      "Scraping https://www.agarta.cz/\n",
      "Done\n",
      "\n",
      "Scraping http://www.janpechar.cz/\n",
      "Done\n",
      "\n",
      "Scraping https://www.medical-center.cz/\n"
     ]
    },
    {
     "name": "stderr",
     "output_type": "stream",
     "text": [
      " 86%|████████▌ | 744/870 [10:25<00:29,  4.28it/s]"
     ]
    },
    {
     "name": "stdout",
     "output_type": "stream",
     "text": [
      "Done\n",
      "\n",
      "Scraping http://hb.charita.cz/nabizene-sluzby/sluzby-socialni/nizkoprahovy-klub-ban/\n",
      "Error fetching http://hb.charita.cz/nabizene-sluzby/sluzby-socialni/nizkoprahovy-klub-ban/: 404 Client Error: Not Found for url: https://hb.charita.cz/nabizene-sluzby/sluzby-socialni/nizkoprahovy-klub-ban/\n",
      "Done\n",
      "\n",
      "Scraping https://www.psychocentrum.cz/pracoviste-havlickuv-brod\n"
     ]
    },
    {
     "name": "stderr",
     "output_type": "stream",
     "text": [
      " 86%|████████▌ | 745/870 [10:25<00:27,  4.61it/s]"
     ]
    },
    {
     "name": "stdout",
     "output_type": "stream",
     "text": [
      "Error fetching https://www.psychocentrum.cz/pracoviste-havlickuv-brod: 404 Client Error: Not Found for url: https://www.psychocentrum.cz/pracoviste-havlickuv-brod\n",
      "Done\n",
      "\n",
      "Scraping https://www.pppuk.cz/\n"
     ]
    },
    {
     "name": "stderr",
     "output_type": "stream",
     "text": [
      " 86%|████████▌ | 747/870 [10:26<00:27,  4.42it/s]"
     ]
    },
    {
     "name": "stdout",
     "output_type": "stream",
     "text": [
      "Done\n",
      "\n",
      "Scraping http://www.kdochce.estranky.cz/\n",
      "Done\n",
      "\n",
      "Scraping http://www.pomocvnouziops.cz/\n"
     ]
    },
    {
     "name": "stderr",
     "output_type": "stream",
     "text": [
      " 86%|████████▌ | 748/870 [10:26<00:26,  4.69it/s]"
     ]
    },
    {
     "name": "stdout",
     "output_type": "stream",
     "text": [
      "Done\n",
      "\n",
      "Scraping https://www.firmy.cz/detail/13283267-mudr-simona-baxova-plzen-vnitrni-mesto.html\n"
     ]
    },
    {
     "name": "stderr",
     "output_type": "stream",
     "text": [
      " 86%|████████▌ | 750/870 [10:27<00:33,  3.55it/s]"
     ]
    },
    {
     "name": "stdout",
     "output_type": "stream",
     "text": [
      "Done\n",
      "\n",
      "Scraping https://www.cdz-brno.cz/\n",
      "Done\n",
      "\n",
      "Scraping http://www.psychoterapeuti.cz/adresar-psychoterapeutu/item/1-duskova-ludmila-mudr\n"
     ]
    },
    {
     "name": "stderr",
     "output_type": "stream",
     "text": [
      " 86%|████████▋ | 751/870 [10:27<00:37,  3.17it/s]"
     ]
    },
    {
     "name": "stdout",
     "output_type": "stream",
     "text": [
      "Done\n",
      "\n",
      "Scraping http://www.viteznydech.com/\n"
     ]
    },
    {
     "name": "stderr",
     "output_type": "stream",
     "text": [
      " 87%|████████▋ | 753/870 [10:29<00:57,  2.04it/s]"
     ]
    },
    {
     "name": "stdout",
     "output_type": "stream",
     "text": [
      "Done\n",
      "\n",
      "Scraping https://susicka.info/\n",
      "Done\n",
      "\n",
      "Scraping https://www.dagmarhruba.cz/cs/\n"
     ]
    },
    {
     "name": "stderr",
     "output_type": "stream",
     "text": [
      " 87%|████████▋ | 754/870 [10:29<00:43,  2.66it/s]"
     ]
    },
    {
     "name": "stdout",
     "output_type": "stream",
     "text": [
      "Done\n",
      "\n",
      "Scraping https://www.firmy.cz/detail/385443-mudr-petr-pokorny-trebic-horka-domky.html\n"
     ]
    },
    {
     "name": "stderr",
     "output_type": "stream",
     "text": [
      " 87%|████████▋ | 755/870 [10:29<00:47,  2.43it/s]"
     ]
    },
    {
     "name": "stdout",
     "output_type": "stream",
     "text": [
      "Done\n",
      "\n",
      "Scraping https://cdz8.cz/\n"
     ]
    },
    {
     "name": "stderr",
     "output_type": "stream",
     "text": [
      " 87%|████████▋ | 756/870 [10:32<01:57,  1.03s/it]"
     ]
    },
    {
     "name": "stdout",
     "output_type": "stream",
     "text": [
      "Done\n",
      "\n",
      "Scraping https://www.clovekvtisni.cz/cs/socialni-prace/pobocka/karlovy-vary\n",
      "Error fetching https://www.clovekvtisni.cz/cs/socialni-prace/pobocka/karlovy-vary: HTTPSConnectionPool(host='www.clovekvtisni.cz', port=443): Max retries exceeded with url: /cs/socialni-prace/pobocka/karlovy-vary (Caused by SSLError(SSLCertVerificationError(1, '[SSL: CERTIFICATE_VERIFY_FAILED] certificate verify failed: unable to get local issuer certificate (_ssl.c:1002)')))\n",
      "Done\n",
      "\n",
      "Scraping http://www.psychoterapeuti.cz/mspsychiatrie.cz\n"
     ]
    },
    {
     "name": "stderr",
     "output_type": "stream",
     "text": [
      " 87%|████████▋ | 759/870 [10:34<01:26,  1.29it/s]"
     ]
    },
    {
     "name": "stdout",
     "output_type": "stream",
     "text": [
      "Error fetching http://www.psychoterapeuti.cz/mspsychiatrie.cz: Exceeded 30 redirects.\n",
      "Done\n",
      "\n",
      "Scraping https://www.psycholog-analytik.cz/\n",
      "Done\n",
      "\n",
      "Scraping https://www.szss-cheb.cz\n"
     ]
    },
    {
     "name": "stderr",
     "output_type": "stream",
     "text": [
      " 87%|████████▋ | 760/870 [10:34<01:24,  1.30it/s]"
     ]
    },
    {
     "name": "stdout",
     "output_type": "stream",
     "text": [
      "Done\n",
      "\n",
      "Scraping http://www.psychoterapeuti.cz/adresar-psychoterapeutu/item/40-kuzelkova-helena-mudr\n"
     ]
    },
    {
     "name": "stderr",
     "output_type": "stream",
     "text": [
      " 87%|████████▋ | 761/870 [10:35<01:11,  1.53it/s]"
     ]
    },
    {
     "name": "stdout",
     "output_type": "stream",
     "text": [
      "Done\n",
      "\n",
      "Scraping https://www.firmy.cz/detail/385470-mudr-blanka-stastna-chotebor.html\n"
     ]
    },
    {
     "name": "stderr",
     "output_type": "stream",
     "text": [
      " 88%|████████▊ | 762/870 [10:35<01:05,  1.64it/s]"
     ]
    },
    {
     "name": "stdout",
     "output_type": "stream",
     "text": [
      "Done\n",
      "\n",
      "Scraping https://psychologvsetin.cz/\n"
     ]
    },
    {
     "name": "stderr",
     "output_type": "stream",
     "text": [
      " 88%|████████▊ | 763/870 [10:38<02:04,  1.16s/it]"
     ]
    },
    {
     "name": "stdout",
     "output_type": "stream",
     "text": [
      "Done\n",
      "\n",
      "Scraping http://www.osmyden.cz\n"
     ]
    },
    {
     "name": "stderr",
     "output_type": "stream",
     "text": [
      " 88%|████████▊ | 764/870 [10:39<01:54,  1.08s/it]"
     ]
    },
    {
     "name": "stdout",
     "output_type": "stream",
     "text": [
      "Done\n",
      "\n",
      "Scraping https://www.lecbaduse.cz/\n",
      "Done\n",
      "\n"
     ]
    },
    {
     "name": "stderr",
     "output_type": "stream",
     "text": [
      " 88%|████████▊ | 766/870 [10:39<01:04,  1.61it/s]"
     ]
    },
    {
     "name": "stdout",
     "output_type": "stream",
     "text": [
      "Scraping https://www.u-kryt.cz\n",
      "Done\n",
      "\n",
      "Scraping http://www.spzkolobezka.cz/\n"
     ]
    },
    {
     "name": "stderr",
     "output_type": "stream",
     "text": [
      " 88%|████████▊ | 767/870 [10:39<00:52,  1.98it/s]"
     ]
    },
    {
     "name": "stdout",
     "output_type": "stream",
     "text": [
      "Done\n",
      "\n",
      "Scraping http://www.kovarjakub.cz/\n"
     ]
    },
    {
     "name": "stderr",
     "output_type": "stream",
     "text": [
      " 88%|████████▊ | 768/870 [10:43<02:21,  1.39s/it]"
     ]
    },
    {
     "name": "stdout",
     "output_type": "stream",
     "text": [
      "Done\n",
      "\n",
      "Scraping https://www.ditekrize.cz/\n"
     ]
    },
    {
     "name": "stderr",
     "output_type": "stream",
     "text": [
      " 88%|████████▊ | 769/870 [10:43<01:56,  1.15s/it]"
     ]
    },
    {
     "name": "stdout",
     "output_type": "stream",
     "text": [
      "Done\n",
      "\n",
      "Scraping https://phdr-anna-kotrcova.zdravotniregistr.cz/\n"
     ]
    },
    {
     "name": "stderr",
     "output_type": "stream",
     "text": [
      " 89%|████████▊ | 770/870 [10:44<01:39,  1.01it/s]"
     ]
    },
    {
     "name": "stdout",
     "output_type": "stream",
     "text": [
      "Done\n",
      "\n",
      "Scraping https://komunitnikostel.cz/husita\n"
     ]
    },
    {
     "name": "stderr",
     "output_type": "stream",
     "text": [
      " 89%|████████▊ | 772/870 [10:45<01:02,  1.57it/s]"
     ]
    },
    {
     "name": "stdout",
     "output_type": "stream",
     "text": [
      "Error fetching https://komunitnikostel.cz/husita: 404 Client Error: Not Found for url: https://komunitnikostel.cz/husita\n",
      "Done\n",
      "\n",
      "Scraping https://www.fokuslabe.cz/centra-dusevniho-zdravi/centrum-dusevniho-zdravi-chomutov/\n",
      "Error fetching https://www.fokuslabe.cz/centra-dusevniho-zdravi/centrum-dusevniho-zdravi-chomutov/: 404 Client Error: Not Found for url: https://www.fokuslabe.cz/centra-dusevniho-zdravi/centrum-dusevniho-zdravi-chomutov/\n",
      "Done\n",
      "\n",
      "Scraping http://www.adelafararova.cz/\n"
     ]
    },
    {
     "name": "stderr",
     "output_type": "stream",
     "text": [
      " 89%|████████▉ | 773/870 [10:46<01:30,  1.07it/s]"
     ]
    },
    {
     "name": "stdout",
     "output_type": "stream",
     "text": [
      "Done\n",
      "\n",
      "Scraping https://www.renadi.cz\n"
     ]
    },
    {
     "name": "stderr",
     "output_type": "stream",
     "text": [
      " 89%|████████▉ | 774/870 [10:47<01:14,  1.30it/s]"
     ]
    },
    {
     "name": "stdout",
     "output_type": "stream",
     "text": [
      "Done\n",
      "\n",
      "Scraping https://www.navstevalekare.cz/lekari/psychiatr--psychiatrie-s51017/jihocesky-kraj-k300/cesky-krumlov-o501/cesky-krumlov-m1516/mudr-gabor-nagy-d5658.html\n"
     ]
    },
    {
     "name": "stderr",
     "output_type": "stream",
     "text": [
      " 89%|████████▉ | 777/870 [10:47<00:35,  2.64it/s]"
     ]
    },
    {
     "name": "stdout",
     "output_type": "stream",
     "text": [
      "Done\n",
      "\n",
      "Scraping https://www.kppp.cz/\n",
      "Done\n",
      "\n",
      "Scraping http://www.fokus-mb.cz/klubko\n",
      "Error fetching http://www.fokus-mb.cz/klubko: 403 Client Error: Forbidden for url: https://www.fokus-mb.cz/klubko/\n",
      "Done\n",
      "\n",
      "Scraping http://www.charita-most.cz\n"
     ]
    },
    {
     "name": "stderr",
     "output_type": "stream",
     "text": [
      " 89%|████████▉ | 778/870 [10:47<00:28,  3.22it/s]"
     ]
    },
    {
     "name": "stdout",
     "output_type": "stream",
     "text": [
      "Done\n",
      "\n",
      "Scraping http://www.csdz.cz/\n"
     ]
    },
    {
     "name": "stderr",
     "output_type": "stream",
     "text": [
      " 90%|████████▉ | 779/870 [10:48<00:31,  2.93it/s]"
     ]
    },
    {
     "name": "stdout",
     "output_type": "stream",
     "text": [
      "Done\n",
      "\n",
      "Scraping https://www.psychologrezkova.cz/\n"
     ]
    },
    {
     "name": "stderr",
     "output_type": "stream",
     "text": [
      " 90%|████████▉ | 780/870 [10:50<01:26,  1.04it/s]"
     ]
    },
    {
     "name": "stdout",
     "output_type": "stream",
     "text": [
      "Done\n",
      "\n",
      "Scraping https://www.psychologie-kurim.cz/\n",
      "Done\n",
      "\n",
      "Scraping http://brejlova.cz/\n"
     ]
    },
    {
     "name": "stderr",
     "output_type": "stream",
     "text": [
      " 90%|████████▉ | 782/870 [10:52<01:17,  1.14it/s]"
     ]
    },
    {
     "name": "stdout",
     "output_type": "stream",
     "text": [
      "Done\n",
      "\n",
      "Scraping https://www.oprk.cz\n"
     ]
    },
    {
     "name": "stderr",
     "output_type": "stream",
     "text": [
      " 90%|█████████ | 783/870 [10:53<01:20,  1.08it/s]"
     ]
    },
    {
     "name": "stdout",
     "output_type": "stream",
     "text": [
      "Done\n",
      "\n",
      "Scraping http://www.NADEJE.CZ/PLZEN\n"
     ]
    },
    {
     "name": "stderr",
     "output_type": "stream",
     "text": [
      " 90%|█████████ | 784/870 [10:54<01:20,  1.07it/s]"
     ]
    },
    {
     "name": "stdout",
     "output_type": "stream",
     "text": [
      "Done\n",
      "\n",
      "Scraping https://firmy.hradeckralove.cz/firma-psychoterapeuticke-centrum-mudr-elena-krivkova-33806/#ixzz6jVYeQm5u\n"
     ]
    },
    {
     "name": "stderr",
     "output_type": "stream",
     "text": [
      " 90%|█████████ | 785/870 [10:54<01:03,  1.33it/s]"
     ]
    },
    {
     "name": "stdout",
     "output_type": "stream",
     "text": [
      "Done\n",
      "\n",
      "Scraping https://www.mestovsetin.cz/mudr-eva-de-la-hozova/o-36549\n"
     ]
    },
    {
     "name": "stderr",
     "output_type": "stream",
     "text": [
      " 90%|█████████ | 786/870 [10:54<00:52,  1.60it/s]"
     ]
    },
    {
     "name": "stdout",
     "output_type": "stream",
     "text": [
      "Done\n",
      "\n",
      "Scraping https://www.dixie.ymca.cz\n",
      "Error fetching https://www.dixie.ymca.cz: HTTPSConnectionPool(host='www.dixie.ymca.cz', port=443): Max retries exceeded with url: / (Caused by SSLError(CertificateError(\"hostname 'www.dixie.ymca.cz' doesn't match either of '*.web4ce.cz', 'web4ce.cz'\")))\n",
      "Done\n",
      "\n",
      "Scraping http://kairos-hk.cz/nabizene-sluzby/\n",
      "Error fetching http://kairos-hk.cz/nabizene-sluzby/: HTTPConnectionPool(host='kairos-hk.cz', port=80): Max retries exceeded with url: /nabizene-sluzby/ (Caused by NewConnectionError('<urllib3.connection.HTTPConnection object at 0x171b22510>: Failed to establish a new connection: [Errno 8] nodename nor servname provided, or not known'))\n",
      "Done\n",
      "\n",
      "Scraping http://www.psychologcb.cz/\n"
     ]
    },
    {
     "name": "stderr",
     "output_type": "stream",
     "text": [
      " 91%|█████████ | 789/870 [10:55<00:31,  2.60it/s]"
     ]
    },
    {
     "name": "stdout",
     "output_type": "stream",
     "text": [
      "Done\n",
      "\n",
      "Scraping http://www.nadeje.cz/\n"
     ]
    },
    {
     "name": "stderr",
     "output_type": "stream",
     "text": [
      " 91%|█████████ | 790/870 [10:56<00:41,  1.92it/s]"
     ]
    },
    {
     "name": "stdout",
     "output_type": "stream",
     "text": [
      "Done\n",
      "\n",
      "Scraping https://www.clovekvtisni.cz/bilina\n",
      "Error fetching https://www.clovekvtisni.cz/bilina: HTTPSConnectionPool(host='www.clovekvtisni.cz', port=443): Max retries exceeded with url: /bilina (Caused by SSLError(SSLCertVerificationError(1, '[SSL: CERTIFICATE_VERIFY_FAILED] certificate verify failed: unable to get local issuer certificate (_ssl.c:1002)')))\n",
      "Done\n",
      "\n",
      "Scraping http://sela.webnode.cz/\n"
     ]
    },
    {
     "name": "stderr",
     "output_type": "stream",
     "text": [
      " 91%|█████████ | 793/870 [10:56<00:26,  2.87it/s]"
     ]
    },
    {
     "name": "stdout",
     "output_type": "stream",
     "text": [
      "Done\n",
      "\n",
      "Scraping https://psychologie-jablunkov.webnode.cz/\n",
      "Done\n",
      "\n",
      "Scraping mb-psychoterapie.cz\n",
      "Error fetching mb-psychoterapie.cz: Invalid URL 'mb-psychoterapie.cz': No scheme supplied. Perhaps you meant https://mb-psychoterapie.cz?\n",
      "Done\n",
      "\n",
      "Scraping https://www.charitahk.cz/komu-a-jak-pomahame/lidem-v-tisni-poradenstvi/\n"
     ]
    },
    {
     "name": "stderr",
     "output_type": "stream",
     "text": [
      " 91%|█████████▏| 796/870 [10:57<00:16,  4.57it/s]"
     ]
    },
    {
     "name": "stdout",
     "output_type": "stream",
     "text": [
      "Done\n",
      "\n",
      "Scraping https://www.trebic.charita.cz\n",
      "Done\n",
      "\n",
      "Scraping https://www.rodinavcentru.cz\n"
     ]
    },
    {
     "name": "stderr",
     "output_type": "stream",
     "text": [
      " 92%|█████████▏| 797/870 [10:57<00:14,  4.99it/s]"
     ]
    },
    {
     "name": "stdout",
     "output_type": "stream",
     "text": [
      "Done\n",
      "\n",
      "Scraping https://lecive-rozhovory.webnode.cz/\n"
     ]
    },
    {
     "name": "stderr",
     "output_type": "stream",
     "text": [
      " 92%|█████████▏| 798/870 [10:57<00:20,  3.45it/s]"
     ]
    },
    {
     "name": "stdout",
     "output_type": "stream",
     "text": [
      "Done\n",
      "\n",
      "Scraping http://www.psychoterapeuti.cz/adresar-psychoterapeutu/item/89-mandincova-petra-mgr-ph-d\n"
     ]
    },
    {
     "name": "stderr",
     "output_type": "stream",
     "text": [
      " 92%|█████████▏| 799/870 [10:58<00:21,  3.31it/s]"
     ]
    },
    {
     "name": "stdout",
     "output_type": "stream",
     "text": [
      "Done\n",
      "\n",
      "Scraping https://search.seznam.cz/?q=psycholog+hradec+kr%C3%A1lov%C3%A9&oq=psycholog+Hradec+&aq=1&sourceid=top&thru=sugend&sId=puFsObCO0i8VnJrk8ZoV&sgId=MTA5Nzc3MzkgMTYxMDk2ODAxNS42NzA%3D&overlay_type&overlay_id\n"
     ]
    },
    {
     "name": "stderr",
     "output_type": "stream",
     "text": [
      " 92%|█████████▏| 802/870 [10:59<00:18,  3.62it/s]"
     ]
    },
    {
     "name": "stdout",
     "output_type": "stream",
     "text": [
      "Done\n",
      "\n",
      "Scraping https://www.psychiatrie-maskova.cz\n",
      "Done\n",
      "\n",
      "Scraping http://www.slunce.info/\n",
      "Done\n",
      "\n",
      "Scraping https://www.zlatestranky.cz/profil/H691323\n"
     ]
    },
    {
     "name": "stderr",
     "output_type": "stream",
     "text": [
      " 92%|█████████▏| 803/870 [10:59<00:16,  3.96it/s]"
     ]
    },
    {
     "name": "stdout",
     "output_type": "stream",
     "text": [
      "Done\n",
      "\n",
      "Scraping http://www.psychoterapeuti.cz/adresar-psychoterapeutu/item/26-hodkova-pavla-mgr\n"
     ]
    },
    {
     "name": "stderr",
     "output_type": "stream",
     "text": [
      " 92%|█████████▏| 804/870 [10:59<00:17,  3.74it/s]"
     ]
    },
    {
     "name": "stdout",
     "output_type": "stream",
     "text": [
      "Done\n",
      "\n",
      "Scraping https://www.cpduha.cz\n"
     ]
    },
    {
     "name": "stderr",
     "output_type": "stream",
     "text": [
      " 93%|█████████▎| 805/870 [11:01<00:35,  1.85it/s]"
     ]
    },
    {
     "name": "stdout",
     "output_type": "stream",
     "text": [
      "Done\n",
      "\n",
      "Scraping http://www.ditevkrizi.cz/\n"
     ]
    },
    {
     "name": "stderr",
     "output_type": "stream",
     "text": [
      " 93%|█████████▎| 806/870 [11:02<00:55,  1.15it/s]"
     ]
    },
    {
     "name": "stdout",
     "output_type": "stream",
     "text": [
      "Done\n",
      "\n",
      "Scraping https://www.bkb.cz/\n"
     ]
    },
    {
     "name": "stderr",
     "output_type": "stream",
     "text": [
      " 93%|█████████▎| 807/870 [11:03<00:44,  1.42it/s]"
     ]
    },
    {
     "name": "stdout",
     "output_type": "stream",
     "text": [
      "Done\n",
      "\n",
      "Scraping https://psychiatrie-psychologie-kvary.webnode.cz/\n"
     ]
    },
    {
     "name": "stderr",
     "output_type": "stream",
     "text": [
      " 93%|█████████▎| 808/870 [11:04<00:52,  1.17it/s]"
     ]
    },
    {
     "name": "stdout",
     "output_type": "stream",
     "text": [
      "Done\n",
      "\n",
      "Scraping https://pppcl.cz/\n"
     ]
    },
    {
     "name": "stderr",
     "output_type": "stream",
     "text": [
      " 93%|█████████▎| 809/870 [11:17<04:34,  4.50s/it]"
     ]
    },
    {
     "name": "stdout",
     "output_type": "stream",
     "text": [
      "Done\n",
      "\n",
      "Scraping http://www.mnof.cz/\n"
     ]
    },
    {
     "name": "stderr",
     "output_type": "stream",
     "text": [
      " 93%|█████████▎| 810/870 [11:18<03:16,  3.28s/it]"
     ]
    },
    {
     "name": "stdout",
     "output_type": "stream",
     "text": [
      "Done\n",
      "\n",
      "Scraping http://www.psychotera.cz/profesni_zivotopisES.htm\n"
     ]
    },
    {
     "name": "stderr",
     "output_type": "stream",
     "text": [
      " 93%|█████████▎| 811/870 [11:22<03:29,  3.56s/it]"
     ]
    },
    {
     "name": "stdout",
     "output_type": "stream",
     "text": [
      "Error fetching http://www.psychotera.cz/profesni_zivotopisES.htm: 404 Client Error: Not Found for url: https://psychotera.cz/profesni_zivotopisES.htm\n",
      "Done\n",
      "\n",
      "Scraping https://www.nudz.cz/lecebna-pece/klinicka-psychologie/profil/\n"
     ]
    },
    {
     "name": "stderr",
     "output_type": "stream",
     "text": [
      " 93%|█████████▎| 812/870 [11:22<02:31,  2.61s/it]"
     ]
    },
    {
     "name": "stdout",
     "output_type": "stream",
     "text": [
      "Done\n",
      "\n",
      "Scraping https://www.freeklub.cz\n"
     ]
    },
    {
     "name": "stderr",
     "output_type": "stream",
     "text": [
      " 93%|█████████▎| 813/870 [12:37<22:56, 24.14s/it]"
     ]
    },
    {
     "name": "stdout",
     "output_type": "stream",
     "text": [
      "Error fetching https://www.freeklub.cz: HTTPSConnectionPool(host='www.freeklub.cz', port=443): Max retries exceeded with url: / (Caused by ConnectTimeoutError(<urllib3.connection.HTTPSConnection object at 0x1729282d0>, 'Connection to www.freeklub.cz timed out. (connect timeout=None)'))\n",
      "Done\n",
      "\n",
      "Scraping https://www.dokampaku.cz\n"
     ]
    },
    {
     "name": "stderr",
     "output_type": "stream",
     "text": [
      " 94%|█████████▎| 814/870 [12:38<15:59, 17.14s/it]"
     ]
    },
    {
     "name": "stdout",
     "output_type": "stream",
     "text": [
      "Done\n",
      "\n",
      "Scraping http://psychologiebratkova.cz/\n"
     ]
    },
    {
     "name": "stderr",
     "output_type": "stream",
     "text": [
      " 94%|█████████▎| 815/870 [12:39<11:15, 12.29s/it]"
     ]
    },
    {
     "name": "stdout",
     "output_type": "stream",
     "text": [
      "Done\n",
      "\n",
      "Scraping http://www.nemckr.cz/index.php/cs/ambulance/soukr-ordinace/psychiatrie\n",
      "Error fetching http://www.nemckr.cz/index.php/cs/ambulance/soukr-ordinace/psychiatrie: HTTPConnectionPool(host='www.nemckr.cz', port=80): Max retries exceeded with url: /index.php/cs/ambulance/soukr-ordinace/psychiatrie (Caused by NewConnectionError('<urllib3.connection.HTTPConnection object at 0x1725475d0>: Failed to establish a new connection: [Errno 8] nodename nor servname provided, or not known'))\n",
      "Done\n",
      "\n",
      "Scraping https://www.socialnisluzbyck.cz/katalog-sluzeb/ambulance-klinicke-psychologie-mgr-petra-feglerova/\n"
     ]
    },
    {
     "name": "stderr",
     "output_type": "stream",
     "text": [
      " 94%|█████████▍| 817/870 [12:39<05:58,  6.77s/it]"
     ]
    },
    {
     "name": "stdout",
     "output_type": "stream",
     "text": [
      "Done\n",
      "\n",
      "Scraping http://tomashrubykv.cz/\n"
     ]
    },
    {
     "name": "stderr",
     "output_type": "stream",
     "text": [
      " 94%|█████████▍| 818/870 [12:40<04:29,  5.18s/it]"
     ]
    },
    {
     "name": "stdout",
     "output_type": "stream",
     "text": [
      "Done\n",
      "\n",
      "Scraping https://www.zachranny-kruh.cz/\n"
     ]
    },
    {
     "name": "stderr",
     "output_type": "stream",
     "text": [
      " 94%|█████████▍| 819/870 [12:40<03:24,  4.02s/it]"
     ]
    },
    {
     "name": "stdout",
     "output_type": "stream",
     "text": [
      "Done\n",
      "\n",
      "Scraping http://jindrabachmanova.cz/\n"
     ]
    },
    {
     "name": "stderr",
     "output_type": "stream",
     "text": [
      " 94%|█████████▍| 820/870 [12:41<02:35,  3.11s/it]"
     ]
    },
    {
     "name": "stdout",
     "output_type": "stream",
     "text": [
      "Done\n",
      "\n",
      "Scraping https://www.psychiatrie-holesov.cz/\n"
     ]
    },
    {
     "name": "stderr",
     "output_type": "stream",
     "text": [
      " 94%|█████████▍| 821/870 [12:42<01:58,  2.42s/it]"
     ]
    },
    {
     "name": "stdout",
     "output_type": "stream",
     "text": [
      "Done\n",
      "\n",
      "Scraping https://www.znamylekar.cz/vladimir-beran-2/psychiatr/karlovy-vary\n"
     ]
    },
    {
     "name": "stderr",
     "output_type": "stream",
     "text": [
      " 94%|█████████▍| 822/870 [12:43<01:35,  1.99s/it]"
     ]
    },
    {
     "name": "stdout",
     "output_type": "stream",
     "text": [
      "Done\n",
      "\n",
      "Scraping http://www.opvm.cz/\n"
     ]
    },
    {
     "name": "stderr",
     "output_type": "stream",
     "text": [
      " 95%|█████████▍| 824/870 [12:44<00:59,  1.30s/it]"
     ]
    },
    {
     "name": "stdout",
     "output_type": "stream",
     "text": [
      "Done\n",
      "\n",
      "Scraping https://poliklinikaparnik.cz/\n",
      "Done\n",
      "\n",
      "Scraping http://www.ditekrize.cz/\n"
     ]
    },
    {
     "name": "stderr",
     "output_type": "stream",
     "text": [
      " 95%|█████████▍| 825/870 [12:45<00:49,  1.09s/it]"
     ]
    },
    {
     "name": "stdout",
     "output_type": "stream",
     "text": [
      "Done\n",
      "\n",
      "Scraping http://www.bkb.cz\n"
     ]
    },
    {
     "name": "stderr",
     "output_type": "stream",
     "text": [
      " 95%|█████████▍| 826/870 [12:45<00:37,  1.17it/s]"
     ]
    },
    {
     "name": "stdout",
     "output_type": "stream",
     "text": [
      "Done\n",
      "\n",
      "Scraping http://www.cepp.cz/\n"
     ]
    },
    {
     "name": "stderr",
     "output_type": "stream",
     "text": [
      " 95%|█████████▌| 828/870 [12:46<00:26,  1.56it/s]"
     ]
    },
    {
     "name": "stdout",
     "output_type": "stream",
     "text": [
      "Done\n",
      "\n",
      "Scraping http://prelouc.charita.cz\n",
      "Done\n",
      "\n",
      "Scraping https://www.psychocentrum.cz/pracoviste-jihlava\n"
     ]
    },
    {
     "name": "stderr",
     "output_type": "stream",
     "text": [
      " 95%|█████████▌| 830/870 [12:46<00:15,  2.59it/s]"
     ]
    },
    {
     "name": "stdout",
     "output_type": "stream",
     "text": [
      "Error fetching https://www.psychocentrum.cz/pracoviste-jihlava: 404 Client Error: Not Found for url: https://www.psychocentrum.cz/pracoviste-jihlava\n",
      "Done\n",
      "\n",
      "Scraping https://www.psychordinace.cz/\n",
      "Done\n",
      "\n",
      "Scraping http://psychologtabor.cz/\n"
     ]
    },
    {
     "name": "stderr",
     "output_type": "stream",
     "text": [
      " 96%|█████████▌| 831/870 [12:47<00:14,  2.78it/s]"
     ]
    },
    {
     "name": "stdout",
     "output_type": "stream",
     "text": [
      "Done\n",
      "\n",
      "Scraping http://www.opava.eurotopia.cz/index-caravan.php\n",
      "Error fetching http://www.opava.eurotopia.cz/index-caravan.php: 404 Client Error: Not Found for url: http://www.opava.eurotopia.cz/index-caravan.php\n",
      "Done\n",
      "\n",
      "Scraping http://www.pppbruntal.cz/\n"
     ]
    },
    {
     "name": "stderr",
     "output_type": "stream",
     "text": [
      " 96%|█████████▌| 834/870 [12:48<00:12,  2.83it/s]"
     ]
    },
    {
     "name": "stdout",
     "output_type": "stream",
     "text": [
      "Done\n",
      "\n",
      "Scraping https://cbudejovice.charita.cz/sluzba/32/\n",
      "Done\n",
      "\n",
      "Scraping http://www.sympathea.cz/\n"
     ]
    },
    {
     "name": "stderr",
     "output_type": "stream",
     "text": [
      " 96%|█████████▌| 835/870 [12:48<00:14,  2.41it/s]"
     ]
    },
    {
     "name": "stdout",
     "output_type": "stream",
     "text": [
      "Done\n",
      "\n",
      "Scraping http://www.armadaspasy.cz\n"
     ]
    },
    {
     "name": "stderr",
     "output_type": "stream",
     "text": [
      " 96%|█████████▌| 836/870 [12:49<00:14,  2.27it/s]"
     ]
    },
    {
     "name": "stdout",
     "output_type": "stream",
     "text": [
      "Done\n",
      "\n",
      "Scraping http://www.psychoterapeuti.cz/adresar-psychoterapeutu/item/79-zahradnik-petr-mudr\n"
     ]
    },
    {
     "name": "stderr",
     "output_type": "stream",
     "text": [
      " 96%|█████████▌| 837/870 [12:49<00:13,  2.42it/s]"
     ]
    },
    {
     "name": "stdout",
     "output_type": "stream",
     "text": [
      "Done\n",
      "\n",
      "Scraping https://www.mestovsetin.cz/mudr-lenka-sebelova/o-36579\n"
     ]
    },
    {
     "name": "stderr",
     "output_type": "stream",
     "text": [
      " 96%|█████████▋| 838/870 [12:49<00:11,  2.78it/s]"
     ]
    },
    {
     "name": "stdout",
     "output_type": "stream",
     "text": [
      "Done\n",
      "\n",
      "Scraping http://www.psychoterapeuti.cz/adresar-psychoterapeutu/item/70-hajkova-helena-mudr\n"
     ]
    },
    {
     "name": "stderr",
     "output_type": "stream",
     "text": [
      " 96%|█████████▋| 839/870 [12:50<00:10,  2.85it/s]"
     ]
    },
    {
     "name": "stdout",
     "output_type": "stream",
     "text": [
      "Done\n",
      "\n",
      "Scraping https://www.cinka-decin.cz\n",
      "Error fetching https://www.cinka-decin.cz: HTTPSConnectionPool(host='www.cinka-decin.cz', port=443): Max retries exceeded with url: / (Caused by SSLError(CertificateError(\"hostname 'www.cinka-decin.cz' doesn't match either of '*.blueboard.cz', 'blueboard.cz'\")))\n",
      "Done\n",
      "\n",
      "Scraping http://www.psychologie-krchova.cz/\n"
     ]
    },
    {
     "name": "stderr",
     "output_type": "stream",
     "text": [
      " 97%|█████████▋| 843/870 [12:50<00:05,  5.23it/s]"
     ]
    },
    {
     "name": "stdout",
     "output_type": "stream",
     "text": [
      "Done\n",
      "\n",
      "Scraping https://www.eeg-biofeedback-hradec.cz\n",
      "Error fetching https://www.eeg-biofeedback-hradec.cz: 403 Client Error: Forbidden for url: https://www.eeg-biofeedback-hradec.cz/\n",
      "Done\n",
      "\n",
      "Scraping http://www.ppporadnavize.cz/\n",
      "Done\n",
      "\n",
      "Scraping https://www.znamylekar.cz/milan-stepanovic/psycholog/liberec\n"
     ]
    },
    {
     "name": "stderr",
     "output_type": "stream",
     "text": [
      " 97%|█████████▋| 844/870 [12:51<00:08,  3.04it/s]"
     ]
    },
    {
     "name": "stdout",
     "output_type": "stream",
     "text": [
      "Done\n",
      "\n",
      "Scraping terapie-poradenstvi.wz.cz\n",
      "Error fetching terapie-poradenstvi.wz.cz: Invalid URL 'terapie-poradenstvi.wz.cz': No scheme supplied. Perhaps you meant https://terapie-poradenstvi.wz.cz?\n",
      "Done\n",
      "\n",
      "Scraping https://hb.charita.cz/jak-pomahame/obcanska-poradna-havlickuv-brod/\n",
      "Done\n",
      "\n",
      "Scraping https://www.skoladavinci.cz/dalsi-aktivity/\n"
     ]
    },
    {
     "name": "stderr",
     "output_type": "stream",
     "text": [
      " 97%|█████████▋| 847/870 [12:52<00:06,  3.61it/s]"
     ]
    },
    {
     "name": "stdout",
     "output_type": "stream",
     "text": [
      "Done\n",
      "\n",
      "Scraping http://www.zahrada2000.cz/\n"
     ]
    },
    {
     "name": "stderr",
     "output_type": "stream",
     "text": [
      " 97%|█████████▋| 848/870 [12:52<00:07,  3.02it/s]"
     ]
    },
    {
     "name": "stdout",
     "output_type": "stream",
     "text": [
      "Done\n",
      "\n",
      "Scraping http://www.css-ostrava.cz/\n"
     ]
    },
    {
     "name": "stderr",
     "output_type": "stream",
     "text": [
      " 98%|█████████▊| 849/870 [13:02<00:49,  2.34s/it]"
     ]
    },
    {
     "name": "stdout",
     "output_type": "stream",
     "text": [
      "Done\n",
      "\n",
      "Scraping https://www.psyche.cz/cdz\n"
     ]
    },
    {
     "name": "stderr",
     "output_type": "stream",
     "text": [
      " 98%|█████████▊| 850/870 [13:02<00:36,  1.85s/it]"
     ]
    },
    {
     "name": "stdout",
     "output_type": "stream",
     "text": [
      "Done\n",
      "\n",
      "Scraping http://www.psychologienymburk.cz/\n"
     ]
    },
    {
     "name": "stderr",
     "output_type": "stream",
     "text": [
      " 98%|█████████▊| 851/870 [13:03<00:31,  1.68s/it]"
     ]
    },
    {
     "name": "stdout",
     "output_type": "stream",
     "text": [
      "Done\n",
      "\n",
      "Scraping http://www.riaps.cz/cdz/\n",
      "Error fetching http://www.riaps.cz/cdz/: 403 Client Error: Forbidden for url: http://www.riaps.cz/cdz/\n",
      "Done\n",
      "\n",
      "Scraping http://www.varenkova.cz/\n"
     ]
    },
    {
     "name": "stderr",
     "output_type": "stream",
     "text": [
      " 98%|█████████▊| 853/870 [13:05<00:21,  1.28s/it]"
     ]
    },
    {
     "name": "stdout",
     "output_type": "stream",
     "text": [
      "Done\n",
      "\n",
      "Scraping https://www.pppbrno.cz/cs/\n",
      "Error fetching https://www.pppbrno.cz/cs/: 403 Client Error: Forbidden for url: https://www.pppbrno.cz/cs/\n",
      "Done\n",
      "\n",
      "Scraping https://www.prevent99.cz/spot/\n"
     ]
    },
    {
     "name": "stderr",
     "output_type": "stream",
     "text": [
      " 98%|█████████▊| 855/870 [13:07<00:19,  1.29s/it]"
     ]
    },
    {
     "name": "stdout",
     "output_type": "stream",
     "text": [
      "Done\n",
      "\n",
      "Scraping https://www.psycholog-jihlava.cz\n"
     ]
    },
    {
     "name": "stderr",
     "output_type": "stream",
     "text": [
      " 98%|█████████▊| 856/870 [13:08<00:14,  1.06s/it]"
     ]
    },
    {
     "name": "stdout",
     "output_type": "stream",
     "text": [
      "Done\n",
      "\n",
      "Scraping http://selfhelp.dinphoto.com/\n",
      "Error fetching http://selfhelp.dinphoto.com/: 403 Client Error: Forbidden for url: http://selfhelp.dinphoto.com/\n",
      "Done\n",
      "\n",
      "Scraping https://www.firmy.cz/detail/12999364-phdr-eva-otterova-hradec-kralove.html\n"
     ]
    },
    {
     "name": "stderr",
     "output_type": "stream",
     "text": [
      " 99%|█████████▊| 859/870 [13:09<00:07,  1.48it/s]"
     ]
    },
    {
     "name": "stdout",
     "output_type": "stream",
     "text": [
      "Done\n",
      "\n",
      "Scraping http://www.dchcb.cz/\n",
      "Done\n",
      "\n",
      "Scraping http://www.psychologie-metalova.cz/\n"
     ]
    },
    {
     "name": "stderr",
     "output_type": "stream",
     "text": [
      " 99%|█████████▉| 863/870 [13:09<00:02,  3.39it/s]"
     ]
    },
    {
     "name": "stdout",
     "output_type": "stream",
     "text": [
      "Done\n",
      "\n",
      "Scraping https://www.romanojasnica.webnode.cz\n",
      "Error fetching https://www.romanojasnica.webnode.cz: HTTPSConnectionPool(host='www.romanojasnica.webnode.cz', port=443): Max retries exceeded with url: / (Caused by SSLError(CertificateError(\"hostname 'www.romanojasnica.webnode.cz' doesn't match either of '*.cms.webnode.cz', '*.preview.webnode.cz', '*.static.webnode.cz', '*.user.webnode.cz', '*.webnode.cz', 'webnode.cz'\")))\n",
      "Done\n",
      "\n",
      "Scraping https://www.jiskraduse.cz\n",
      "Error fetching https://www.jiskraduse.cz: HTTPSConnectionPool(host='www.jiskraduse.cz', port=443): Max retries exceeded with url: / (Caused by NewConnectionError('<urllib3.connection.HTTPSConnection object at 0x171d95950>: Failed to establish a new connection: [Errno 8] nodename nor servname provided, or not known'))\n",
      "Done\n",
      "\n",
      "Scraping https://www.psychiatrietrebic.cz\n",
      "Error fetching https://www.psychiatrietrebic.cz: HTTPSConnectionPool(host='www.psychiatrietrebic.cz', port=443): Max retries exceeded with url: / (Caused by NewConnectionError('<urllib3.connection.HTTPSConnection object at 0x171d97850>: Failed to establish a new connection: [Errno 8] nodename nor servname provided, or not known'))\n",
      "Done\n",
      "\n",
      "Scraping https://www.firmy.cz/detail/13179143-phdr-terezia-novakova-psychologicka-ordinace-s-r-o-klatovy-iv.html\n",
      "Done\n",
      "\n",
      "Scraping https://search.seznam.cz/?q=psychiatrick%C3%A1+ambulance+plze%C5%88sk%C3%BD+kraj&oq=psychiatrick%C3%A1+ambulance+plze%C5%88sk%\n"
     ]
    },
    {
     "name": "stderr",
     "output_type": "stream",
     "text": [
      " 99%|█████████▉| 865/870 [13:10<00:01,  2.51it/s]"
     ]
    },
    {
     "name": "stdout",
     "output_type": "stream",
     "text": [
      "Done\n",
      "\n",
      "Scraping https://pisek.charita.cz/jak-pomahame/oblastni-poradna-pisek/\n",
      "Error fetching https://pisek.charita.cz/jak-pomahame/oblastni-poradna-pisek/: 404 Client Error: Not Found for url: https://pisek.charita.cz/jak-pomahame/oblastni-poradna-pisek/\n",
      "Done\n",
      "\n",
      "Scraping http://ssp-ol.cz/\n"
     ]
    },
    {
     "name": "stderr",
     "output_type": "stream",
     "text": [
      "100%|█████████▉| 867/870 [13:10<00:00,  3.06it/s]"
     ]
    },
    {
     "name": "stdout",
     "output_type": "stream",
     "text": [
      "Done\n",
      "\n",
      "Scraping http://www.psychoterapeuti.cz/adresar-psychoterapeutu/item/85-p-slova-blanka-phdr\n"
     ]
    },
    {
     "name": "stderr",
     "output_type": "stream",
     "text": [
      "100%|█████████▉| 868/870 [13:11<00:00,  3.05it/s]"
     ]
    },
    {
     "name": "stdout",
     "output_type": "stream",
     "text": [
      "Done\n",
      "\n",
      "Scraping http://www.psychoterapeuti.cz/adresar-psychoterapeutu/item/21-erker-vladimir-phdr\n"
     ]
    },
    {
     "name": "stderr",
     "output_type": "stream",
     "text": [
      "100%|█████████▉| 869/870 [13:11<00:00,  3.08it/s]"
     ]
    },
    {
     "name": "stdout",
     "output_type": "stream",
     "text": [
      "Done\n",
      "\n",
      "Scraping http://www.vkci.cz/\n"
     ]
    },
    {
     "name": "stderr",
     "output_type": "stream",
     "text": [
      "100%|██████████| 870/870 [13:11<00:00,  1.10it/s]"
     ]
    },
    {
     "name": "stdout",
     "output_type": "stream",
     "text": [
      "Done\n",
      "\n",
      "                                     nazev                       Kategorie  \\\n",
      "0                 CDZ Hradec Králové (PDZ)  CDZ - Centrum duševního zdraví   \n",
      "1                  CDZ Opava (Fokus Opava)  CDZ - Centrum duševního zdraví   \n",
      "2                        CDZ Chrudim (PDZ)  CDZ - Centrum duševního zdraví   \n",
      "3              CDZ Přerov (Duševní zdraví)  CDZ - Centrum duševního zdraví   \n",
      "4     Psychiatrická ambulance Karlovy Vary         Psychiatrická ambulance   \n",
      "...                                    ...                             ...   \n",
      "1451                           NZDM Decima           Nízkoprahové zařízení   \n",
      "1452                         NZDM Ymkárium           Nízkoprahové zařízení   \n",
      "1453                            NZDM Dixie           Nízkoprahové zařízení   \n",
      "1454               Nízkoprahový klub Orion           Nízkoprahové zařízení   \n",
      "1455              Nízkoprahový klub U-kryt           Nízkoprahové zařízení   \n",
      "\n",
      "                                                 Adresa  \\\n",
      "0     Kavčí plácek 121/1, Hradec Králové (část) 500 ...   \n",
      "1     Ostrožná 27/244, Opava 746 01, Moravskoslezský...   \n",
      "2     Městský park 828, Chrudim III (část) 537 01, P...   \n",
      "3     Kosmákova 44, Přerov, Přerov I-Město 750 02, O...   \n",
      "4     Krymská 1799/25A, Karlovy Vary 360 01, Karlova...   \n",
      "...                                                 ...   \n",
      "1451  U seřadiště 1578/1, Praha 10-Vršovice, 101 00 ...   \n",
      "1452     Tererova 1551/8, Praha 11-Chodov, 149 00 Praha   \n",
      "1453  Ortenovo náměstí 1275/34, Praha 7-Holešovice, ...   \n",
      "1454  Krčínova 801/6, Ústí nad Labem-Neštěmice, Krás...   \n",
      "1455  Jiřího z Poděbrad 3109, Frýdek, 738 01 Frýdek-...   \n",
      "\n",
      "                      E-mail                   Telefon  \\\n",
      "0              pdz-hk@pdz.cz               778 526 216   \n",
      "1       fokusopava@seznam.cz  553 652 433, 723 457 998   \n",
      "2              pdz-cr@pdz.cz  469 626 383, 774 915 755   \n",
      "3           tym@cdzprerov.cz               583 035 220   \n",
      "4     vaclav.ferus@seznam.cz               353 230 878   \n",
      "...                      ...                       ...   \n",
      "1451           praha@ymca.cz               775 317 814   \n",
      "1452  ymkarium@praha.ymca.cz               737 629 149   \n",
      "1453     dixie@praha.ymca.cz               737 872 116   \n",
      "1454          usti@ymca.cz\\r               475 220 831   \n",
      "1455        u-kryt@seznam.cz               776 219 568   \n",
      "\n",
      "                                                    web  \n",
      "0                                     http://www.pdz.cz  \n",
      "1                               http://www.cdzopava.cz/  \n",
      "2                                     http://www.pdz.cz  \n",
      "3     http://dusevnizdravi.com/centrum-dusevniho-zdr...  \n",
      "4        https://mudr-vaclav-ferus.zdravotniregistr.cz/  \n",
      "...                                                 ...  \n",
      "1451                          https://www.praha.ymca.cz  \n",
      "1452                        http://www.ymkarium.ymca.cz  \n",
      "1453                          https://www.dixie.ymca.cz  \n",
      "1454                            http://www.usti.ymca.cz  \n",
      "1455                              https://www.u-kryt.cz  \n",
      "\n",
      "[1116 rows x 6 columns]\n"
     ]
    },
    {
     "name": "stderr",
     "output_type": "stream",
     "text": [
      "\n"
     ]
    }
   ],
   "source": [
    "\n",
    "# Regular expressions for matching emails and phone numbers\n",
    "email_regex = re.compile(r\"[a-zA-Z0-9_.+-]+@[a-zA-Z0-9-]+\\.[a-zA-Z0-9-.]+\")\n",
    "phone_regex = re.compile(r\"\\+?(\\d[\\d\\-\\(\\) ]{9,}\\d)\")\n",
    "\n",
    "# List to collect data\n",
    "data = []\n",
    "\n",
    "# Function to scrape a single URL\n",
    "def scrape_website_main_page(url):\n",
    "    try:\n",
    "        response = requests.get(url)\n",
    "        response.raise_for_status()  # Raises an HTTPError if the response status code is 4XX or 5XX\n",
    "        soup = BeautifulSoup(response.text, 'html.parser')\n",
    "\n",
    "        emails = set(email_regex.findall(soup.text))\n",
    "        phones = set(phone_regex.findall(soup.text))\n",
    "\n",
    "        return emails, phones\n",
    "    except requests.RequestException as e:\n",
    "        print(f\"Error fetching {url}: {e}\")\n",
    "        return set(), set()\n",
    "\n",
    "def scrape_website_contacts(base_url, path='', visited_urls=set()):\n",
    "    full_url = urljoin(base_url, path)\n",
    "    if full_url in visited_urls:\n",
    "        return set(), set()  # Return empty sets if URL has already been visited\n",
    "    visited_urls.add(full_url)\n",
    "\n",
    "    try:\n",
    "        response = requests.get(full_url)\n",
    "        response.raise_for_status()\n",
    "        soup = BeautifulSoup(response.text, 'html.parser')\n",
    "\n",
    "        emails = set(email_regex.findall(soup.text))\n",
    "        phones = set(phone_regex.findall(soup.text))\n",
    "\n",
    "        # Checking for links that may contain contact info\n",
    "        contact_links = []\n",
    "        for link in soup.find_all('a', href=True):\n",
    "            if 'kontakt' in link.text.lower() or 'contact' in link.text.lower() or 'kontakty' in link.text.lower():\n",
    "                contact_href = urljoin(full_url, link['href'])\n",
    "                if contact_href not in visited_urls:\n",
    "                    contact_links.append(contact_href)\n",
    "\n",
    "        # Scrape each potential contact page\n",
    "        for link in contact_links:\n",
    "            sub_emails, sub_phones = scrape_website(base_url, link, visited_urls)\n",
    "            emails.update(sub_emails)\n",
    "            phones.update(sub_phones)\n",
    "\n",
    "        return emails, phones\n",
    "    except requests.RequestException as e:\n",
    "        print(f\"Error fetching {full_url}: {e}\")\n",
    "        return set(), set()\n",
    "\n",
    "# Loop through the URLs and scrape each one\n",
    "visited_urls = set()\n",
    "for url in tqdm(urls):\n",
    "    print(f\"Scraping {url}\")\n",
    "    \n",
    "    emails, phones = scrape_website_main_page(url)\n",
    "    if  ('' in emails) or  ('' in phones):        \n",
    "        emails, phones = scrape_website_contacts(url, visited_urls=visited_urls)\n",
    "    # Convert sets to comma-separated strings for storage\n",
    "    #emails_str = ', '.join(emails)\n",
    "    phones_str = ', '.join(phones)\n",
    "    \n",
    "    # Collect data\n",
    "    #data.append({'Website': url, 'Emails': emails_str, 'Phone Numbers': phones_str})\n",
    "    data.append({'Website': url, 'Phone Numbers': phones_str})\n",
    "    print(\"Done\")\n",
    "    print(\"\")\n",
    "# Create DataFrame from collected data\n",
    "df_res = pd.DataFrame(data)\n",
    "\n",
    "print(df)"
   ]
  },
  {
   "cell_type": "code",
   "execution_count": 9,
   "metadata": {},
   "outputs": [],
   "source": [
    "df_res.to_csv('df_scraped.csv')"
   ]
  },
  {
   "cell_type": "code",
   "execution_count": 6,
   "metadata": {},
   "outputs": [],
   "source": [
    "df_res = pd.DataFrame(data)"
   ]
  },
  {
   "cell_type": "code",
   "execution_count": 7,
   "metadata": {},
   "outputs": [
    {
     "data": {
      "text/html": [
       "<div>\n",
       "<style scoped>\n",
       "    .dataframe tbody tr th:only-of-type {\n",
       "        vertical-align: middle;\n",
       "    }\n",
       "\n",
       "    .dataframe tbody tr th {\n",
       "        vertical-align: top;\n",
       "    }\n",
       "\n",
       "    .dataframe thead th {\n",
       "        text-align: right;\n",
       "    }\n",
       "</style>\n",
       "<table border=\"1\" class=\"dataframe\">\n",
       "  <thead>\n",
       "    <tr style=\"text-align: right;\">\n",
       "      <th></th>\n",
       "      <th>Website</th>\n",
       "      <th>Phone Numbers</th>\n",
       "    </tr>\n",
       "  </thead>\n",
       "  <tbody>\n",
       "    <tr>\n",
       "      <th>0</th>\n",
       "      <td>https://www.zachranny-kruh.cz/</td>\n",
       "      <td>1 - 197-197</td>\n",
       "    </tr>\n",
       "    <tr>\n",
       "      <th>1</th>\n",
       "      <td>http://psych.fnplzen.cz/cs/node/839</td>\n",
       "      <td>377 103 959, 377 441 850, 377 103 111, 377 401...</td>\n",
       "    </tr>\n",
       "    <tr>\n",
       "      <th>2</th>\n",
       "      <td>http://www.porceta.cz</td>\n",
       "      <td></td>\n",
       "    </tr>\n",
       "    <tr>\n",
       "      <th>3</th>\n",
       "      <td>https://www.prevent99.cz/spot/</td>\n",
       "      <td></td>\n",
       "    </tr>\n",
       "    <tr>\n",
       "      <th>4</th>\n",
       "      <td>http://www.detemzlin.cz/</td>\n",
       "      <td>577 922 056</td>\n",
       "    </tr>\n",
       "    <tr>\n",
       "      <th>...</th>\n",
       "      <td>...</td>\n",
       "      <td>...</td>\n",
       "    </tr>\n",
       "    <tr>\n",
       "      <th>75</th>\n",
       "      <td>https://www.firmy.cz/detail/2422937-mudr-veron...</td>\n",
       "      <td>420 739 122 265</td>\n",
       "    </tr>\n",
       "    <tr>\n",
       "      <th>76</th>\n",
       "      <td>https://www.firmy.cz/detail/12999364-phdr-eva-...</td>\n",
       "      <td>725 048 038, 420 774 230 134</td>\n",
       "    </tr>\n",
       "    <tr>\n",
       "      <th>77</th>\n",
       "      <td>http://www.dejdar-martin.cz/</td>\n",
       "      <td>607 535 595</td>\n",
       "    </tr>\n",
       "    <tr>\n",
       "      <th>78</th>\n",
       "      <td>https://www.diakoniezapad.cz/sluzby-diakonie-z...</td>\n",
       "      <td></td>\n",
       "    </tr>\n",
       "    <tr>\n",
       "      <th>79</th>\n",
       "      <td>http://ppp3a9.cz/</td>\n",
       "      <td></td>\n",
       "    </tr>\n",
       "  </tbody>\n",
       "</table>\n",
       "<p>80 rows × 2 columns</p>\n",
       "</div>"
      ],
      "text/plain": [
       "                                              Website  \\\n",
       "0                      https://www.zachranny-kruh.cz/   \n",
       "1                 http://psych.fnplzen.cz/cs/node/839   \n",
       "2                               http://www.porceta.cz   \n",
       "3                      https://www.prevent99.cz/spot/   \n",
       "4                            http://www.detemzlin.cz/   \n",
       "..                                                ...   \n",
       "75  https://www.firmy.cz/detail/2422937-mudr-veron...   \n",
       "76  https://www.firmy.cz/detail/12999364-phdr-eva-...   \n",
       "77                       http://www.dejdar-martin.cz/   \n",
       "78  https://www.diakoniezapad.cz/sluzby-diakonie-z...   \n",
       "79                                  http://ppp3a9.cz/   \n",
       "\n",
       "                                        Phone Numbers  \n",
       "0                                         1 - 197-197  \n",
       "1   377 103 959, 377 441 850, 377 103 111, 377 401...  \n",
       "2                                                      \n",
       "3                                                      \n",
       "4                                         577 922 056  \n",
       "..                                                ...  \n",
       "75                                    420 739 122 265  \n",
       "76                       725 048 038, 420 774 230 134  \n",
       "77                                        607 535 595  \n",
       "78                                                     \n",
       "79                                                     \n",
       "\n",
       "[80 rows x 2 columns]"
      ]
     },
     "execution_count": 7,
     "metadata": {},
     "output_type": "execute_result"
    }
   ],
   "source": [
    "df_res"
   ]
  },
  {
   "cell_type": "code",
   "execution_count": 8,
   "metadata": {},
   "outputs": [],
   "source": [
    "df_agg = df_agg.reset_index().rename(columns={'web': 'web', 'Telefon': 'Telefon'})\n",
    "df_agg = pd.DataFrame(df_agg)\n"
   ]
  },
  {
   "cell_type": "code",
   "execution_count": 9,
   "metadata": {},
   "outputs": [],
   "source": [
    "df_res = df_res.rename(columns= {\"Website\":\"web\"})"
   ]
  },
  {
   "cell_type": "code",
   "execution_count": 10,
   "metadata": {},
   "outputs": [
    {
     "ename": "KeyError",
     "evalue": "\"['level_0'] not found in axis\"",
     "output_type": "error",
     "traceback": [
      "\u001b[0;31m---------------------------------------------------------------------------\u001b[0m",
      "\u001b[0;31mKeyError\u001b[0m                                  Traceback (most recent call last)",
      "\u001b[0;32m/var/folders/rd/l77bltt96_97jdz4bbkmq5z40000gn/T/ipykernel_40531/1818291786.py\u001b[0m in \u001b[0;36m<module>\u001b[0;34m\u001b[0m\n\u001b[1;32m      1\u001b[0m \u001b[0mdf_agg\u001b[0m\u001b[0;34m.\u001b[0m\u001b[0mdrop\u001b[0m\u001b[0;34m(\u001b[0m\u001b[0;34m\"index\"\u001b[0m\u001b[0;34m,\u001b[0m \u001b[0maxis\u001b[0m \u001b[0;34m=\u001b[0m \u001b[0;36m1\u001b[0m\u001b[0;34m,\u001b[0m\u001b[0minplace\u001b[0m\u001b[0;34m=\u001b[0m\u001b[0;32mTrue\u001b[0m\u001b[0;34m)\u001b[0m\u001b[0;34m\u001b[0m\u001b[0;34m\u001b[0m\u001b[0m\n\u001b[0;32m----> 2\u001b[0;31m \u001b[0mdf_agg\u001b[0m\u001b[0;34m.\u001b[0m\u001b[0mdrop\u001b[0m\u001b[0;34m(\u001b[0m\u001b[0;34m\"level_0\"\u001b[0m\u001b[0;34m,\u001b[0m\u001b[0maxis\u001b[0m \u001b[0;34m=\u001b[0m \u001b[0;36m1\u001b[0m\u001b[0;34m,\u001b[0m \u001b[0minplace\u001b[0m\u001b[0;34m=\u001b[0m\u001b[0;32mTrue\u001b[0m\u001b[0;34m)\u001b[0m\u001b[0;34m\u001b[0m\u001b[0;34m\u001b[0m\u001b[0m\n\u001b[0m\u001b[1;32m      3\u001b[0m \u001b[0mdf_agg\u001b[0m\u001b[0;34m.\u001b[0m\u001b[0minfo\u001b[0m\u001b[0;34m(\u001b[0m\u001b[0;34m)\u001b[0m\u001b[0;34m\u001b[0m\u001b[0;34m\u001b[0m\u001b[0m\n",
      "\u001b[0;32m~/opt/anaconda3/lib/python3.9/site-packages/pandas/core/frame.py\u001b[0m in \u001b[0;36mdrop\u001b[0;34m(self, labels, axis, index, columns, level, inplace, errors)\u001b[0m\n\u001b[1;32m   5345\u001b[0m                 \u001b[0mweight\u001b[0m  \u001b[0;36m1.0\u001b[0m     \u001b[0;36m0.8\u001b[0m\u001b[0;34m\u001b[0m\u001b[0;34m\u001b[0m\u001b[0m\n\u001b[1;32m   5346\u001b[0m         \"\"\"\n\u001b[0;32m-> 5347\u001b[0;31m         return super().drop(\n\u001b[0m\u001b[1;32m   5348\u001b[0m             \u001b[0mlabels\u001b[0m\u001b[0;34m=\u001b[0m\u001b[0mlabels\u001b[0m\u001b[0;34m,\u001b[0m\u001b[0;34m\u001b[0m\u001b[0;34m\u001b[0m\u001b[0m\n\u001b[1;32m   5349\u001b[0m             \u001b[0maxis\u001b[0m\u001b[0;34m=\u001b[0m\u001b[0maxis\u001b[0m\u001b[0;34m,\u001b[0m\u001b[0;34m\u001b[0m\u001b[0;34m\u001b[0m\u001b[0m\n",
      "\u001b[0;32m~/opt/anaconda3/lib/python3.9/site-packages/pandas/core/generic.py\u001b[0m in \u001b[0;36mdrop\u001b[0;34m(self, labels, axis, index, columns, level, inplace, errors)\u001b[0m\n\u001b[1;32m   4709\u001b[0m         \u001b[0;32mfor\u001b[0m \u001b[0maxis\u001b[0m\u001b[0;34m,\u001b[0m \u001b[0mlabels\u001b[0m \u001b[0;32min\u001b[0m \u001b[0maxes\u001b[0m\u001b[0;34m.\u001b[0m\u001b[0mitems\u001b[0m\u001b[0;34m(\u001b[0m\u001b[0;34m)\u001b[0m\u001b[0;34m:\u001b[0m\u001b[0;34m\u001b[0m\u001b[0;34m\u001b[0m\u001b[0m\n\u001b[1;32m   4710\u001b[0m             \u001b[0;32mif\u001b[0m \u001b[0mlabels\u001b[0m \u001b[0;32mis\u001b[0m \u001b[0;32mnot\u001b[0m \u001b[0;32mNone\u001b[0m\u001b[0;34m:\u001b[0m\u001b[0;34m\u001b[0m\u001b[0;34m\u001b[0m\u001b[0m\n\u001b[0;32m-> 4711\u001b[0;31m                 \u001b[0mobj\u001b[0m \u001b[0;34m=\u001b[0m \u001b[0mobj\u001b[0m\u001b[0;34m.\u001b[0m\u001b[0m_drop_axis\u001b[0m\u001b[0;34m(\u001b[0m\u001b[0mlabels\u001b[0m\u001b[0;34m,\u001b[0m \u001b[0maxis\u001b[0m\u001b[0;34m,\u001b[0m \u001b[0mlevel\u001b[0m\u001b[0;34m=\u001b[0m\u001b[0mlevel\u001b[0m\u001b[0;34m,\u001b[0m \u001b[0merrors\u001b[0m\u001b[0;34m=\u001b[0m\u001b[0merrors\u001b[0m\u001b[0;34m)\u001b[0m\u001b[0;34m\u001b[0m\u001b[0;34m\u001b[0m\u001b[0m\n\u001b[0m\u001b[1;32m   4712\u001b[0m \u001b[0;34m\u001b[0m\u001b[0m\n\u001b[1;32m   4713\u001b[0m         \u001b[0;32mif\u001b[0m \u001b[0minplace\u001b[0m\u001b[0;34m:\u001b[0m\u001b[0;34m\u001b[0m\u001b[0;34m\u001b[0m\u001b[0m\n",
      "\u001b[0;32m~/opt/anaconda3/lib/python3.9/site-packages/pandas/core/generic.py\u001b[0m in \u001b[0;36m_drop_axis\u001b[0;34m(self, labels, axis, level, errors, only_slice)\u001b[0m\n\u001b[1;32m   4751\u001b[0m                 \u001b[0mnew_axis\u001b[0m \u001b[0;34m=\u001b[0m \u001b[0maxis\u001b[0m\u001b[0;34m.\u001b[0m\u001b[0mdrop\u001b[0m\u001b[0;34m(\u001b[0m\u001b[0mlabels\u001b[0m\u001b[0;34m,\u001b[0m \u001b[0mlevel\u001b[0m\u001b[0;34m=\u001b[0m\u001b[0mlevel\u001b[0m\u001b[0;34m,\u001b[0m \u001b[0merrors\u001b[0m\u001b[0;34m=\u001b[0m\u001b[0merrors\u001b[0m\u001b[0;34m)\u001b[0m\u001b[0;34m\u001b[0m\u001b[0;34m\u001b[0m\u001b[0m\n\u001b[1;32m   4752\u001b[0m             \u001b[0;32melse\u001b[0m\u001b[0;34m:\u001b[0m\u001b[0;34m\u001b[0m\u001b[0;34m\u001b[0m\u001b[0m\n\u001b[0;32m-> 4753\u001b[0;31m                 \u001b[0mnew_axis\u001b[0m \u001b[0;34m=\u001b[0m \u001b[0maxis\u001b[0m\u001b[0;34m.\u001b[0m\u001b[0mdrop\u001b[0m\u001b[0;34m(\u001b[0m\u001b[0mlabels\u001b[0m\u001b[0;34m,\u001b[0m \u001b[0merrors\u001b[0m\u001b[0;34m=\u001b[0m\u001b[0merrors\u001b[0m\u001b[0;34m)\u001b[0m\u001b[0;34m\u001b[0m\u001b[0;34m\u001b[0m\u001b[0m\n\u001b[0m\u001b[1;32m   4754\u001b[0m             \u001b[0mindexer\u001b[0m \u001b[0;34m=\u001b[0m \u001b[0maxis\u001b[0m\u001b[0;34m.\u001b[0m\u001b[0mget_indexer\u001b[0m\u001b[0;34m(\u001b[0m\u001b[0mnew_axis\u001b[0m\u001b[0;34m)\u001b[0m\u001b[0;34m\u001b[0m\u001b[0;34m\u001b[0m\u001b[0m\n\u001b[1;32m   4755\u001b[0m \u001b[0;34m\u001b[0m\u001b[0m\n",
      "\u001b[0;32m~/opt/anaconda3/lib/python3.9/site-packages/pandas/core/indexes/base.py\u001b[0m in \u001b[0;36mdrop\u001b[0;34m(self, labels, errors)\u001b[0m\n\u001b[1;32m   6990\u001b[0m         \u001b[0;32mif\u001b[0m \u001b[0mmask\u001b[0m\u001b[0;34m.\u001b[0m\u001b[0many\u001b[0m\u001b[0;34m(\u001b[0m\u001b[0;34m)\u001b[0m\u001b[0;34m:\u001b[0m\u001b[0;34m\u001b[0m\u001b[0;34m\u001b[0m\u001b[0m\n\u001b[1;32m   6991\u001b[0m             \u001b[0;32mif\u001b[0m \u001b[0merrors\u001b[0m \u001b[0;34m!=\u001b[0m \u001b[0;34m\"ignore\"\u001b[0m\u001b[0;34m:\u001b[0m\u001b[0;34m\u001b[0m\u001b[0;34m\u001b[0m\u001b[0m\n\u001b[0;32m-> 6992\u001b[0;31m                 \u001b[0;32mraise\u001b[0m \u001b[0mKeyError\u001b[0m\u001b[0;34m(\u001b[0m\u001b[0;34mf\"{labels[mask].tolist()} not found in axis\"\u001b[0m\u001b[0;34m)\u001b[0m\u001b[0;34m\u001b[0m\u001b[0;34m\u001b[0m\u001b[0m\n\u001b[0m\u001b[1;32m   6993\u001b[0m             \u001b[0mindexer\u001b[0m \u001b[0;34m=\u001b[0m \u001b[0mindexer\u001b[0m\u001b[0;34m[\u001b[0m\u001b[0;34m~\u001b[0m\u001b[0mmask\u001b[0m\u001b[0;34m]\u001b[0m\u001b[0;34m\u001b[0m\u001b[0;34m\u001b[0m\u001b[0m\n\u001b[1;32m   6994\u001b[0m         \u001b[0;32mreturn\u001b[0m \u001b[0mself\u001b[0m\u001b[0;34m.\u001b[0m\u001b[0mdelete\u001b[0m\u001b[0;34m(\u001b[0m\u001b[0mindexer\u001b[0m\u001b[0;34m)\u001b[0m\u001b[0;34m\u001b[0m\u001b[0;34m\u001b[0m\u001b[0m\n",
      "\u001b[0;31mKeyError\u001b[0m: \"['level_0'] not found in axis\""
     ]
    }
   ],
   "source": [
    "df_agg.drop(\"index\", axis = 1,inplace=True)\n",
    "df_agg.drop(\"level_0\",axis = 1, inplace=True)\n",
    "df_agg.info()"
   ]
  },
  {
   "cell_type": "code",
   "execution_count": 11,
   "metadata": {},
   "outputs": [],
   "source": [
    "preview = df_res.merge(df_agg , on=\"web\")"
   ]
  },
  {
   "cell_type": "markdown",
   "metadata": {},
   "source": []
  },
  {
   "cell_type": "code",
   "execution_count": 15,
   "metadata": {},
   "outputs": [
    {
     "data": {
      "text/html": [
       "<div>\n",
       "<style scoped>\n",
       "    .dataframe tbody tr th:only-of-type {\n",
       "        vertical-align: middle;\n",
       "    }\n",
       "\n",
       "    .dataframe tbody tr th {\n",
       "        vertical-align: top;\n",
       "    }\n",
       "\n",
       "    .dataframe thead th {\n",
       "        text-align: right;\n",
       "    }\n",
       "</style>\n",
       "<table border=\"1\" class=\"dataframe\">\n",
       "  <thead>\n",
       "    <tr style=\"text-align: right;\">\n",
       "      <th></th>\n",
       "      <th>web</th>\n",
       "      <th>Phone Numbers</th>\n",
       "      <th>Telefon</th>\n",
       "    </tr>\n",
       "  </thead>\n",
       "  <tbody>\n",
       "    <tr>\n",
       "      <th>0</th>\n",
       "      <td>https://www.zachranny-kruh.cz/</td>\n",
       "      <td>1 - 197-197</td>\n",
       "      <td>[353 230 000]</td>\n",
       "    </tr>\n",
       "    <tr>\n",
       "      <th>1</th>\n",
       "      <td>http://psych.fnplzen.cz/cs/node/839</td>\n",
       "      <td>377 103 959, 377 441 850, 377 103 111, 377 401...</td>\n",
       "      <td>[377 103 111]</td>\n",
       "    </tr>\n",
       "    <tr>\n",
       "      <th>2</th>\n",
       "      <td>http://www.porceta.cz</td>\n",
       "      <td></td>\n",
       "      <td>[777 882 002]</td>\n",
       "    </tr>\n",
       "    <tr>\n",
       "      <th>3</th>\n",
       "      <td>https://www.prevent99.cz/spot/</td>\n",
       "      <td></td>\n",
       "      <td>[606 089 789]</td>\n",
       "    </tr>\n",
       "    <tr>\n",
       "      <th>4</th>\n",
       "      <td>http://www.detemzlin.cz/</td>\n",
       "      <td>577 922 056</td>\n",
       "      <td>[577 645 231]</td>\n",
       "    </tr>\n",
       "    <tr>\n",
       "      <th>5</th>\n",
       "      <td>https://www.homolka.cz/</td>\n",
       "      <td></td>\n",
       "      <td>[257 271 111]</td>\n",
       "    </tr>\n",
       "    <tr>\n",
       "      <th>6</th>\n",
       "      <td>http://www.educozatec.cz/</td>\n",
       "      <td></td>\n",
       "      <td>[603 253 634]</td>\n",
       "    </tr>\n",
       "    <tr>\n",
       "      <th>7</th>\n",
       "      <td>https://www.charitasluknov.cz</td>\n",
       "      <td>602 236 279, 723 352 633</td>\n",
       "      <td>[734 799 081, 733 160 911]</td>\n",
       "    </tr>\n",
       "    <tr>\n",
       "      <th>8</th>\n",
       "      <td>http://www.psychoterapeuti.cz/adresar-psychote...</td>\n",
       "      <td>774 979 714, 257 322 366, 770 623 916, 607 669...</td>\n",
       "      <td>[233 351 741, 776 736 832]</td>\n",
       "    </tr>\n",
       "    <tr>\n",
       "      <th>9</th>\n",
       "      <td>http://www.psychoterapeuti.cz/adresar-psychote...</td>\n",
       "      <td>774 979 714, 257 322 366, 770 623 916, 607 669...</td>\n",
       "      <td>[777 808 424]</td>\n",
       "    </tr>\n",
       "    <tr>\n",
       "      <th>10</th>\n",
       "      <td>http://www.mudrcerny.cz/</td>\n",
       "      <td></td>\n",
       "      <td>[774 918 150]</td>\n",
       "    </tr>\n",
       "    <tr>\n",
       "      <th>11</th>\n",
       "      <td>https://cdz9.cz/</td>\n",
       "      <td>734 785 106</td>\n",
       "      <td>[734 785 106]</td>\n",
       "    </tr>\n",
       "    <tr>\n",
       "      <th>12</th>\n",
       "      <td>http://www.arcana.cz/</td>\n",
       "      <td></td>\n",
       "      <td>[604 207 640]</td>\n",
       "    </tr>\n",
       "    <tr>\n",
       "      <th>13</th>\n",
       "      <td>http://www.ordinace.cz/ordinace/vo/design_10/p...</td>\n",
       "      <td>420 354 692 253, 420 773 111 129, 773 111 129</td>\n",
       "      <td>[354 692 253]</td>\n",
       "    </tr>\n",
       "    <tr>\n",
       "      <th>14</th>\n",
       "      <td>http://www.kodytkova.cz/</td>\n",
       "      <td>721 979 708</td>\n",
       "      <td>[721 979 708]</td>\n",
       "    </tr>\n",
       "    <tr>\n",
       "      <th>15</th>\n",
       "      <td>https://www.socialnipece.cz</td>\n",
       "      <td></td>\n",
       "      <td>[720 053 420]</td>\n",
       "    </tr>\n",
       "    <tr>\n",
       "      <th>16</th>\n",
       "      <td>https://www.znamylekar.cz/jan-kovar/psycholog-...</td>\n",
       "      <td></td>\n",
       "      <td>[381261311, 731567836]</td>\n",
       "    </tr>\n",
       "    <tr>\n",
       "      <th>17</th>\n",
       "      <td>http://www.psy-dobiasova.cz/</td>\n",
       "      <td></td>\n",
       "      <td>[495 511 324]</td>\n",
       "    </tr>\n",
       "    <tr>\n",
       "      <th>18</th>\n",
       "      <td>https://www.ckp-dobrichovice.cz/</td>\n",
       "      <td></td>\n",
       "      <td>[723 603 600, 723 603 600]</td>\n",
       "    </tr>\n",
       "    <tr>\n",
       "      <th>19</th>\n",
       "      <td>https://www.sos-vesnicky.cz</td>\n",
       "      <td>420 233 335 452</td>\n",
       "      <td>[775 720 285]</td>\n",
       "    </tr>\n",
       "    <tr>\n",
       "      <th>20</th>\n",
       "      <td>http://www.aura-psycholog.cz/</td>\n",
       "      <td></td>\n",
       "      <td>[724 135 213]</td>\n",
       "    </tr>\n",
       "    <tr>\n",
       "      <th>21</th>\n",
       "      <td>https://www.pelhrimov.charita.cz</td>\n",
       "      <td>115-451000237, 565 322 539</td>\n",
       "      <td>[731 562 681]</td>\n",
       "    </tr>\n",
       "    <tr>\n",
       "      <th>22</th>\n",
       "      <td>https://www.psychiatr.info/#utm_source=firmy.c...</td>\n",
       "      <td>602 955 155</td>\n",
       "      <td>[602 955 155, 380 120 155]</td>\n",
       "    </tr>\n",
       "    <tr>\n",
       "      <th>23</th>\n",
       "      <td>http://www.motylek.org</td>\n",
       "      <td>775 403 270, 777 964 763, 777 964 764, 775 964...</td>\n",
       "      <td>[775 964 796]</td>\n",
       "    </tr>\n",
       "    <tr>\n",
       "      <th>24</th>\n",
       "      <td>http://www.sdbplzen.cz</td>\n",
       "      <td>377 266 953</td>\n",
       "      <td>[377 266 953]</td>\n",
       "    </tr>\n",
       "    <tr>\n",
       "      <th>25</th>\n",
       "      <td>https://www.darmodej.cz</td>\n",
       "      <td>2223242526272818, 29301234519, 151617181920211...</td>\n",
       "      <td>[775 039 589]</td>\n",
       "    </tr>\n",
       "    <tr>\n",
       "      <th>26</th>\n",
       "      <td>https://www.firmy.cz/detail/384809-mudr-viliam...</td>\n",
       "      <td>420 379 725 814</td>\n",
       "      <td>[379 725 814]</td>\n",
       "    </tr>\n",
       "    <tr>\n",
       "      <th>27</th>\n",
       "      <td>https://www.zlatestranky.cz/profil/H691323</td>\n",
       "      <td>420 354 430 001</td>\n",
       "      <td>[354 430 001]</td>\n",
       "    </tr>\n",
       "    <tr>\n",
       "      <th>28</th>\n",
       "      <td>https://mudr-magdalena-bohacova.business.site/</td>\n",
       "      <td></td>\n",
       "      <td>[731 085 300]</td>\n",
       "    </tr>\n",
       "    <tr>\n",
       "      <th>29</th>\n",
       "      <td>http://www.psychologiebrno.cz/</td>\n",
       "      <td></td>\n",
       "      <td>[602 737 026]</td>\n",
       "    </tr>\n",
       "  </tbody>\n",
       "</table>\n",
       "</div>"
      ],
      "text/plain": [
       "                                                  web  \\\n",
       "0                      https://www.zachranny-kruh.cz/   \n",
       "1                 http://psych.fnplzen.cz/cs/node/839   \n",
       "2                               http://www.porceta.cz   \n",
       "3                      https://www.prevent99.cz/spot/   \n",
       "4                            http://www.detemzlin.cz/   \n",
       "5                             https://www.homolka.cz/   \n",
       "6                           http://www.educozatec.cz/   \n",
       "7                       https://www.charitasluknov.cz   \n",
       "8   http://www.psychoterapeuti.cz/adresar-psychote...   \n",
       "9   http://www.psychoterapeuti.cz/adresar-psychote...   \n",
       "10                           http://www.mudrcerny.cz/   \n",
       "11                                   https://cdz9.cz/   \n",
       "12                              http://www.arcana.cz/   \n",
       "13  http://www.ordinace.cz/ordinace/vo/design_10/p...   \n",
       "14                           http://www.kodytkova.cz/   \n",
       "15                        https://www.socialnipece.cz   \n",
       "16  https://www.znamylekar.cz/jan-kovar/psycholog-...   \n",
       "17                       http://www.psy-dobiasova.cz/   \n",
       "18                   https://www.ckp-dobrichovice.cz/   \n",
       "19                        https://www.sos-vesnicky.cz   \n",
       "20                      http://www.aura-psycholog.cz/   \n",
       "21                   https://www.pelhrimov.charita.cz   \n",
       "22  https://www.psychiatr.info/#utm_source=firmy.c...   \n",
       "23                             http://www.motylek.org   \n",
       "24                             http://www.sdbplzen.cz   \n",
       "25                            https://www.darmodej.cz   \n",
       "26  https://www.firmy.cz/detail/384809-mudr-viliam...   \n",
       "27         https://www.zlatestranky.cz/profil/H691323   \n",
       "28     https://mudr-magdalena-bohacova.business.site/   \n",
       "29                     http://www.psychologiebrno.cz/   \n",
       "\n",
       "                                        Phone Numbers  \\\n",
       "0                                         1 - 197-197   \n",
       "1   377 103 959, 377 441 850, 377 103 111, 377 401...   \n",
       "2                                                       \n",
       "3                                                       \n",
       "4                                         577 922 056   \n",
       "5                                                       \n",
       "6                                                       \n",
       "7                            602 236 279, 723 352 633   \n",
       "8   774 979 714, 257 322 366, 770 623 916, 607 669...   \n",
       "9   774 979 714, 257 322 366, 770 623 916, 607 669...   \n",
       "10                                                      \n",
       "11                                        734 785 106   \n",
       "12                                                      \n",
       "13      420 354 692 253, 420 773 111 129, 773 111 129   \n",
       "14                                        721 979 708   \n",
       "15                                                      \n",
       "16                                                      \n",
       "17                                                      \n",
       "18                                                      \n",
       "19                                    420 233 335 452   \n",
       "20                                                      \n",
       "21                         115-451000237, 565 322 539   \n",
       "22                                        602 955 155   \n",
       "23  775 403 270, 777 964 763, 777 964 764, 775 964...   \n",
       "24                                        377 266 953   \n",
       "25  2223242526272818, 29301234519, 151617181920211...   \n",
       "26                                    420 379 725 814   \n",
       "27                                    420 354 430 001   \n",
       "28                                                      \n",
       "29                                                      \n",
       "\n",
       "                       Telefon  \n",
       "0                [353 230 000]  \n",
       "1                [377 103 111]  \n",
       "2                [777 882 002]  \n",
       "3                [606 089 789]  \n",
       "4                [577 645 231]  \n",
       "5                [257 271 111]  \n",
       "6                [603 253 634]  \n",
       "7   [734 799 081, 733 160 911]  \n",
       "8   [233 351 741, 776 736 832]  \n",
       "9                [777 808 424]  \n",
       "10               [774 918 150]  \n",
       "11               [734 785 106]  \n",
       "12               [604 207 640]  \n",
       "13               [354 692 253]  \n",
       "14               [721 979 708]  \n",
       "15               [720 053 420]  \n",
       "16      [381261311, 731567836]  \n",
       "17               [495 511 324]  \n",
       "18  [723 603 600, 723 603 600]  \n",
       "19               [775 720 285]  \n",
       "20               [724 135 213]  \n",
       "21               [731 562 681]  \n",
       "22  [602 955 155, 380 120 155]  \n",
       "23               [775 964 796]  \n",
       "24               [377 266 953]  \n",
       "25               [775 039 589]  \n",
       "26               [379 725 814]  \n",
       "27               [354 430 001]  \n",
       "28               [731 085 300]  \n",
       "29               [602 737 026]  "
      ]
     },
     "execution_count": 15,
     "metadata": {},
     "output_type": "execute_result"
    }
   ],
   "source": [
    "preview.head(30)"
   ]
  },
  {
   "cell_type": "code",
   "execution_count": null,
   "metadata": {},
   "outputs": [],
   "source": []
  }
 ],
 "metadata": {
  "kernelspec": {
   "display_name": "Python 3",
   "language": "python",
   "name": "python3"
  },
  "language_info": {
   "codemirror_mode": {
    "name": "ipython",
    "version": 3
   },
   "file_extension": ".py",
   "mimetype": "text/x-python",
   "name": "python",
   "nbconvert_exporter": "python",
   "pygments_lexer": "ipython3",
   "version": "3.11.4"
  }
 },
 "nbformat": 4,
 "nbformat_minor": 2
}
