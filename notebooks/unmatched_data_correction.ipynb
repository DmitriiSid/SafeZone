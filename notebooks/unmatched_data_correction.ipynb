{
 "cells": [
  {
   "cell_type": "code",
   "execution_count": 1,
   "id": "initial_id",
   "metadata": {
    "collapsed": true
   },
   "outputs": [],
   "source": [
    "import pandas as pd\n",
    "import requests\n",
    "import pandas as pd\n",
    "from bs4 import BeautifulSoup\n",
    "import re\n",
    "from tqdm import tqdm \n",
    "from urllib.parse import urljoin\n",
    "pd.set_option('display.max_rows', 500)\n"
   ]
  },
  {
   "cell_type": "code",
   "execution_count": 15,
   "id": "9e83ea2c",
   "metadata": {},
   "outputs": [],
   "source": [
    "unmatched_df = pd.read_csv(\"../data/unmatched_data.csv\", sep= \";\")\n",
    "unmatched_df_cor = unmatched_df[(unmatched_df[\"Matched\"] == \"unmatched\") & ~(unmatched_df[\"Valid Web\"].isna())][[\"Webová stránka\", \"Valid Web\"]]\n",
    "black_list_web = unmatched_df[(unmatched_df[\"Matched\"] == \"unmatched\") & (unmatched_df[\"Valid Web\"].isna())][\"Webová stránka\"]\n",
    "unmatched_df_cor.to_csv(\"../data/unmatched_corrected_urls.csv\")\n",
    "black_list_web.to_csv(\"../data/black_list_web.csv\")\n"
   ]
  },
  {
   "cell_type": "code",
   "execution_count": 16,
   "id": "0baf4bf4",
   "metadata": {},
   "outputs": [
    {
     "data": {
      "text/html": [
       "<div>\n",
       "<style scoped>\n",
       "    .dataframe tbody tr th:only-of-type {\n",
       "        vertical-align: middle;\n",
       "    }\n",
       "\n",
       "    .dataframe tbody tr th {\n",
       "        vertical-align: top;\n",
       "    }\n",
       "\n",
       "    .dataframe thead th {\n",
       "        text-align: right;\n",
       "    }\n",
       "</style>\n",
       "<table border=\"1\" class=\"dataframe\">\n",
       "  <thead>\n",
       "    <tr style=\"text-align: right;\">\n",
       "      <th></th>\n",
       "      <th>Webová stránka</th>\n",
       "      <th>Valid Web</th>\n",
       "    </tr>\n",
       "  </thead>\n",
       "  <tbody>\n",
       "    <tr>\n",
       "      <th>1</th>\n",
       "      <td>www.vaspsychiatr.cz</td>\n",
       "      <td>https://www.mudrwolna.cz/</td>\n",
       "    </tr>\n",
       "    <tr>\n",
       "      <th>10</th>\n",
       "      <td>http://www.psycholog-hk.cz/</td>\n",
       "      <td>https://psycholog-hk.eu/contact/</td>\n",
       "    </tr>\n",
       "    <tr>\n",
       "      <th>12</th>\n",
       "      <td>https://search.seznam.cz/?q=psycholog+hradec+k...</td>\n",
       "      <td>https://www.najdipomoc.cz/detail/psycholog/mgr...</td>\n",
       "    </tr>\n",
       "    <tr>\n",
       "      <th>14</th>\n",
       "      <td>www.eeg-biofeedback-hradec.cz</td>\n",
       "      <td>https://www.eeg-biofeedback-hradec.cz/</td>\n",
       "    </tr>\n",
       "    <tr>\n",
       "      <th>23</th>\n",
       "      <td>mb-psychoterapie.cz</td>\n",
       "      <td>http://www.mb-psychoterapie.cz/</td>\n",
       "    </tr>\n",
       "  </tbody>\n",
       "</table>\n",
       "</div>"
      ],
      "text/plain": [
       "                                       Webová stránka  \\\n",
       "1                                 www.vaspsychiatr.cz   \n",
       "10                        http://www.psycholog-hk.cz/   \n",
       "12  https://search.seznam.cz/?q=psycholog+hradec+k...   \n",
       "14                      www.eeg-biofeedback-hradec.cz   \n",
       "23                                mb-psychoterapie.cz   \n",
       "\n",
       "                                            Valid Web  \n",
       "1                          https://www.mudrwolna.cz/   \n",
       "10                   https://psycholog-hk.eu/contact/  \n",
       "12  https://www.najdipomoc.cz/detail/psycholog/mgr...  \n",
       "14             https://www.eeg-biofeedback-hradec.cz/  \n",
       "23                    http://www.mb-psychoterapie.cz/  "
      ]
     },
     "execution_count": 16,
     "metadata": {},
     "output_type": "execute_result"
    }
   ],
   "source": [
    "unmatched_df_cor.head()"
   ]
  },
  {
   "cell_type": "code",
   "execution_count": 17,
   "id": "1965ab50",
   "metadata": {},
   "outputs": [
    {
     "ename": "AttributeError",
     "evalue": "'str' object has no attribute 'isin'",
     "output_type": "error",
     "traceback": [
      "\u001b[0;31m---------------------------------------------------------------------------\u001b[0m",
      "\u001b[0;31mAttributeError\u001b[0m                            Traceback (most recent call last)",
      "Cell \u001b[0;32mIn[17], line 1\u001b[0m\n\u001b[0;32m----> 1\u001b[0m \u001b[38;5;28mprint\u001b[39m(\u001b[38;5;124;43m\"\u001b[39;49m\u001b[38;5;124;43mValid Web\u001b[39;49m\u001b[38;5;124;43m\"\u001b[39;49m\u001b[38;5;241;43m.\u001b[39;49m\u001b[43misin\u001b[49m(unmatched_df_cor\u001b[38;5;241m.\u001b[39mcolumns))\n",
      "\u001b[0;31mAttributeError\u001b[0m: 'str' object has no attribute 'isin'"
     ]
    }
   ],
   "source": [
    "print(\"Valid Web\".isin(unmatched_df_cor.columns))"
   ]
  },
  {
   "cell_type": "code",
   "execution_count": 18,
   "id": "5ec2b30e",
   "metadata": {},
   "outputs": [
    {
     "data": {
      "text/plain": [
       "True"
      ]
     },
     "execution_count": 18,
     "metadata": {},
     "output_type": "execute_result"
    }
   ],
   "source": [
    "unmatched_df_cor.columns.__contains__(\"Valid Web\")"
   ]
  },
  {
   "cell_type": "code",
   "execution_count": null,
   "id": "f196bfbd",
   "metadata": {},
   "outputs": [],
   "source": []
  }
 ],
 "metadata": {
  "kernelspec": {
   "display_name": "Python 3",
   "language": "python",
   "name": "python3"
  },
  "language_info": {
   "codemirror_mode": {
    "name": "ipython",
    "version": 3
   },
   "file_extension": ".py",
   "mimetype": "text/x-python",
   "name": "python",
   "nbconvert_exporter": "python",
   "pygments_lexer": "ipython3",
   "version": "3.9.7"
  }
 },
 "nbformat": 4,
 "nbformat_minor": 5
}
