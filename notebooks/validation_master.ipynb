{
 "cells": [
  {
   "cell_type": "code",
   "execution_count": 3,
   "metadata": {},
   "outputs": [],
   "source": [
    "import pandas as pd\n",
    "import requests\n",
    "import pandas as pd\n",
    "from bs4 import BeautifulSoup\n",
    "import re\n",
    "from tqdm import tqdm \n",
    "from urllib.parse import urljoin\n"
   ]
  },
  {
   "cell_type": "markdown",
   "metadata": {},
   "source": [
    "## Initial data"
   ]
  },
  {
   "cell_type": "code",
   "execution_count": 123,
   "metadata": {},
   "outputs": [],
   "source": [
    "db_pomoci = pd.read_csv(\"db_pomoci.csv\")\n",
    "black_list = ['http://www.dc-brno.cz']\n",
    "df = db_pomoci.rename(columns={\"Webová stránka\" : \"web\", \"Název\":\"nazev\"})\n",
    "df = df[(~df[\"web\"].isna()) & (~df['web'].isin(black_list))]\n",
    "df.loc[df['web'].str.startswith('www'), 'web'] = df['web'].str.replace('^www', 'https://www', regex=True)\n",
    "# df['web'] = df['web'].str.replace('https://www', 'www')\n",
    "# df['web'] = df['web'].str.replace('www', 'https://www')\n",
    "df_agg = df.groupby(\"web\")[\"Telefon\"].agg(list)\n",
    "df_agg[\"email\"] = df.groupby(\"web\")[\"E-mail\"].agg(list)\n",
    "df_agg = df_agg.reset_index().rename(columns={'web': 'web', 'Telefon': 'Telefon'})\n",
    "df_agg = pd.DataFrame(df_agg)\n",
    "\n",
    "# Scraped data\n",
    "\n",
    "db_scraped = pd.read_csv(\"data/29_05/df_scraped_v2.csv\")\n",
    "df_res = db_scraped[~db_scraped[\"Phone Numbers\"].isna()]\n",
    "df_res = df_res.rename(columns={'web': 'web', 'Telefon': 'Telefon'})#.drop(\"Unnamed: 0\", axis= 1)\n",
    "df_res = df_res.rename(columns= {\"Website\":\"web\"})\n",
    "df_res = df_res.rename(columns= {\"Phone Numbers\":\"phones_scraped\"})\n",
    "df_res = df_res.rename(columns= {\"Emails\":\"emails_scraped\"})\n",
    "\n",
    "\n",
    "maps_df = pd.read_csv(\"data/maps_results.csv\",sep=\";\")\n",
    "maps_df = maps_df.rename(columns={'Web': 'web', 'Phone': 'Telefon Mapy'})\n",
    "mapy = maps_df[[\"web\",\"Telefon Mapy\"]]#,\"Telefon Mapy\"\n"
   ]
  },
  {
   "cell_type": "code",
   "execution_count": 124,
   "metadata": {},
   "outputs": [
    {
     "name": "stdout",
     "output_type": "stream",
     "text": [
      "df_agg (871, 2)\n",
      "df_res (599, 3)\n",
      "df_mapy (1456, 2)\n"
     ]
    }
   ],
   "source": [
    "print(\"df_agg\", df_agg.shape)\n",
    "print(\"df_res\", df_res.shape)\n",
    "print(\"df_mapy\", mapy.shape)\n",
    "\n"
   ]
  },
  {
   "cell_type": "code",
   "execution_count": 125,
   "metadata": {},
   "outputs": [
    {
     "name": "stderr",
     "output_type": "stream",
     "text": [
      "/var/folders/rd/l77bltt96_97jdz4bbkmq5z40000gn/T/ipykernel_46796/1908990668.py:2: SettingWithCopyWarning: \n",
      "A value is trying to be set on a copy of a slice from a DataFrame.\n",
      "Try using .loc[row_indexer,col_indexer] = value instead\n",
      "\n",
      "See the caveats in the documentation: https://pandas.pydata.org/pandas-docs/stable/user_guide/indexing.html#returning-a-view-versus-a-copy\n",
      "  mapy['Telefon Mapy'] = mapy['Telefon Mapy'].str.split(', ')\n",
      "/var/folders/rd/l77bltt96_97jdz4bbkmq5z40000gn/T/ipykernel_46796/1908990668.py:6: SettingWithCopyWarning: \n",
      "A value is trying to be set on a copy of a slice from a DataFrame.\n",
      "Try using .loc[row_indexer,col_indexer] = value instead\n",
      "\n",
      "See the caveats in the documentation: https://pandas.pydata.org/pandas-docs/stable/user_guide/indexing.html#returning-a-view-versus-a-copy\n",
      "  mapy['source'] = 'mapy.cz'\n"
     ]
    }
   ],
   "source": [
    "df_res['phones_scraped'] = df_res['phones_scraped'].str.split(', ')\n",
    "mapy['Telefon Mapy'] = mapy['Telefon Mapy'].str.split(', ')\n",
    "df_res = df_res[[\"web\",\"phones_scraped\"]]\n",
    "df_res['source'] = 'scraped'\n",
    "df_agg['source'] = 'db'\n",
    "mapy['source'] = 'mapy.cz'\n",
    "#df_res['emails_scraped'] = df_res['emails_scraped'].str.split(', ')\n",
    "#df_agg = df_agg.rename(columns= {\"Telefon\":\"phones_scraped\"})\n",
    "df_res_exp = df_res.explode('phones_scraped').reset_index(drop=True)\n",
    "mapy_exp = mapy.explode('Telefon Mapy').reset_index(drop=True)\n",
    "mapy_exp = mapy_exp.rename(columns= {\"Telefon Mapy\":\"Telefon\"})\n",
    "df_res_exp = df_res.rename(columns= {\"phones_scraped\":\"Telefon\"})\n",
    "df_agg_exp = df_agg.explode('Telefon').reset_index(drop=True)\n",
    "df_union = pd.concat([df_agg_exp, df_res_exp,mapy_exp])"
   ]
  },
  {
   "cell_type": "code",
   "execution_count": 126,
   "metadata": {},
   "outputs": [
    {
     "data": {
      "text/html": [
       "<div>\n",
       "<style scoped>\n",
       "    .dataframe tbody tr th:only-of-type {\n",
       "        vertical-align: middle;\n",
       "    }\n",
       "\n",
       "    .dataframe tbody tr th {\n",
       "        vertical-align: top;\n",
       "    }\n",
       "\n",
       "    .dataframe thead th {\n",
       "        text-align: right;\n",
       "    }\n",
       "</style>\n",
       "<table border=\"1\" class=\"dataframe\">\n",
       "  <thead>\n",
       "    <tr style=\"text-align: right;\">\n",
       "      <th></th>\n",
       "      <th>web</th>\n",
       "      <th>Telefon</th>\n",
       "      <th>source</th>\n",
       "    </tr>\n",
       "  </thead>\n",
       "  <tbody>\n",
       "    <tr>\n",
       "      <th>0</th>\n",
       "      <td>http://www.pdz.cz</td>\n",
       "      <td>778 526 216</td>\n",
       "      <td>mapy.cz</td>\n",
       "    </tr>\n",
       "    <tr>\n",
       "      <th>1</th>\n",
       "      <td>http://www.cdzopava.cz/</td>\n",
       "      <td>553 652 433</td>\n",
       "      <td>mapy.cz</td>\n",
       "    </tr>\n",
       "    <tr>\n",
       "      <th>2</th>\n",
       "      <td>http://www.cdzopava.cz/</td>\n",
       "      <td>723 457 998</td>\n",
       "      <td>mapy.cz</td>\n",
       "    </tr>\n",
       "    <tr>\n",
       "      <th>3</th>\n",
       "      <td>http://www.pdz.cz</td>\n",
       "      <td>469 626 383</td>\n",
       "      <td>mapy.cz</td>\n",
       "    </tr>\n",
       "    <tr>\n",
       "      <th>4</th>\n",
       "      <td>http://www.pdz.cz</td>\n",
       "      <td>774 915 755</td>\n",
       "      <td>mapy.cz</td>\n",
       "    </tr>\n",
       "    <tr>\n",
       "      <th>...</th>\n",
       "      <td>...</td>\n",
       "      <td>...</td>\n",
       "      <td>...</td>\n",
       "    </tr>\n",
       "    <tr>\n",
       "      <th>1634</th>\n",
       "      <td>www.praha.ymca.cz</td>\n",
       "      <td>775 317 814</td>\n",
       "      <td>mapy.cz</td>\n",
       "    </tr>\n",
       "    <tr>\n",
       "      <th>1635</th>\n",
       "      <td>http://www.ymkarium.ymca.cz</td>\n",
       "      <td>737 629 149</td>\n",
       "      <td>mapy.cz</td>\n",
       "    </tr>\n",
       "    <tr>\n",
       "      <th>1636</th>\n",
       "      <td>www.dixie.ymca.cz</td>\n",
       "      <td>737 872 116</td>\n",
       "      <td>mapy.cz</td>\n",
       "    </tr>\n",
       "    <tr>\n",
       "      <th>1637</th>\n",
       "      <td>http://www.usti.ymca.cz</td>\n",
       "      <td>475 220 831</td>\n",
       "      <td>mapy.cz</td>\n",
       "    </tr>\n",
       "    <tr>\n",
       "      <th>1638</th>\n",
       "      <td>www.u-kryt.cz</td>\n",
       "      <td>776 219 568</td>\n",
       "      <td>mapy.cz</td>\n",
       "    </tr>\n",
       "  </tbody>\n",
       "</table>\n",
       "<p>1639 rows × 3 columns</p>\n",
       "</div>"
      ],
      "text/plain": [
       "                              web      Telefon   source\n",
       "0               http://www.pdz.cz  778 526 216  mapy.cz\n",
       "1         http://www.cdzopava.cz/  553 652 433  mapy.cz\n",
       "2         http://www.cdzopava.cz/  723 457 998  mapy.cz\n",
       "3               http://www.pdz.cz  469 626 383  mapy.cz\n",
       "4               http://www.pdz.cz  774 915 755  mapy.cz\n",
       "...                           ...          ...      ...\n",
       "1634            www.praha.ymca.cz  775 317 814  mapy.cz\n",
       "1635  http://www.ymkarium.ymca.cz  737 629 149  mapy.cz\n",
       "1636            www.dixie.ymca.cz  737 872 116  mapy.cz\n",
       "1637      http://www.usti.ymca.cz  475 220 831  mapy.cz\n",
       "1638                www.u-kryt.cz  776 219 568  mapy.cz\n",
       "\n",
       "[1639 rows x 3 columns]"
      ]
     },
     "execution_count": 126,
     "metadata": {},
     "output_type": "execute_result"
    }
   ],
   "source": [
    "mapy_exp"
   ]
  },
  {
   "cell_type": "code",
   "execution_count": 127,
   "metadata": {},
   "outputs": [
    {
     "data": {
      "text/html": [
       "<div>\n",
       "<style scoped>\n",
       "    .dataframe tbody tr th:only-of-type {\n",
       "        vertical-align: middle;\n",
       "    }\n",
       "\n",
       "    .dataframe tbody tr th {\n",
       "        vertical-align: top;\n",
       "    }\n",
       "\n",
       "    .dataframe thead th {\n",
       "        text-align: right;\n",
       "    }\n",
       "</style>\n",
       "<table border=\"1\" class=\"dataframe\">\n",
       "  <thead>\n",
       "    <tr style=\"text-align: right;\">\n",
       "      <th></th>\n",
       "      <th>web</th>\n",
       "      <th>Telefon</th>\n",
       "    </tr>\n",
       "    <tr>\n",
       "      <th>source</th>\n",
       "      <th></th>\n",
       "      <th></th>\n",
       "    </tr>\n",
       "  </thead>\n",
       "  <tbody>\n",
       "    <tr>\n",
       "      <th>db</th>\n",
       "      <td>1986</td>\n",
       "      <td>1971</td>\n",
       "    </tr>\n",
       "    <tr>\n",
       "      <th>mapy.cz</th>\n",
       "      <td>1267</td>\n",
       "      <td>1609</td>\n",
       "    </tr>\n",
       "    <tr>\n",
       "      <th>scraped</th>\n",
       "      <td>599</td>\n",
       "      <td>599</td>\n",
       "    </tr>\n",
       "  </tbody>\n",
       "</table>\n",
       "</div>"
      ],
      "text/plain": [
       "          web  Telefon\n",
       "source                \n",
       "db       1986     1971\n",
       "mapy.cz  1267     1609\n",
       "scraped   599      599"
      ]
     },
     "execution_count": 127,
     "metadata": {},
     "output_type": "execute_result"
    }
   ],
   "source": [
    "df_union.groupby(\"source\").count()"
   ]
  },
  {
   "cell_type": "code",
   "execution_count": 132,
   "metadata": {},
   "outputs": [
    {
     "data": {
      "text/html": [
       "<div>\n",
       "<style scoped>\n",
       "    .dataframe tbody tr th:only-of-type {\n",
       "        vertical-align: middle;\n",
       "    }\n",
       "\n",
       "    .dataframe tbody tr th {\n",
       "        vertical-align: top;\n",
       "    }\n",
       "\n",
       "    .dataframe thead th {\n",
       "        text-align: right;\n",
       "    }\n",
       "</style>\n",
       "<table border=\"1\" class=\"dataframe\">\n",
       "  <thead>\n",
       "    <tr style=\"text-align: right;\">\n",
       "      <th></th>\n",
       "      <th>web</th>\n",
       "      <th>Telefon</th>\n",
       "      <th>source</th>\n",
       "    </tr>\n",
       "  </thead>\n",
       "  <tbody>\n",
       "    <tr>\n",
       "      <th>1533</th>\n",
       "      <td>www.zvole.info</td>\n",
       "      <td>NaN</td>\n",
       "      <td>mapy.cz</td>\n",
       "    </tr>\n",
       "  </tbody>\n",
       "</table>\n",
       "</div>"
      ],
      "text/plain": [
       "                 web Telefon   source\n",
       "1533  www.zvole.info     NaN  mapy.cz"
      ]
     },
     "execution_count": 132,
     "metadata": {},
     "output_type": "execute_result"
    }
   ],
   "source": [
    "df_union[df_union[\"web\"]==\"www.zvole.info\"]"
   ]
  },
  {
   "cell_type": "code",
   "execution_count": 128,
   "metadata": {},
   "outputs": [],
   "source": [
    "set_unmatched = set(df_union[df_union[\"Telefon\"].isna() & df_union[\"web\"]!= 'email' ][\"web\"])\n"
   ]
  },
  {
   "cell_type": "code",
   "execution_count": 129,
   "metadata": {},
   "outputs": [
    {
     "data": {
      "text/plain": [
       "1009"
      ]
     },
     "execution_count": 129,
     "metadata": {},
     "output_type": "execute_result"
    }
   ],
   "source": [
    "len(set_unmatched)"
   ]
  },
  {
   "cell_type": "code",
   "execution_count": 63,
   "metadata": {},
   "outputs": [],
   "source": [
    "#df_union['Telefon'] = df_union['Telefon'].str.replace(r'\\s+', '', regex=True)\n",
    "#df_grouped = pd.DataFrame(df_union.groupby('web').count().sort_values(by=\"Telefon\",ascending=False))"
   ]
  },
  {
   "cell_type": "code",
   "execution_count": 130,
   "metadata": {},
   "outputs": [
    {
     "name": "stdout",
     "output_type": "stream",
     "text": [
      "6\n",
      "http://www.ckp-dobrichovice.cz\n",
      "http://www.fokus-mb.cz/klubko\n",
      "https://www.milicak.cz\n",
      "misa.zapletalova@tiscali.cz\n",
      "www.milicak.cz\n",
      "www.zvole.info\n"
     ]
    }
   ],
   "source": [
    "df_grouped = df_union.groupby('web').count()\n",
    "\n",
    "# Filter the DataFrame to get rows where the count of 'Telefon' is less than 1\n",
    "filtered_df = df_grouped[df_grouped['Telefon'] < 1]\n",
    "\n",
    "# Extract the list of 'web' values\n",
    "web_list = filtered_df.index.tolist()\n",
    "print(len(web_list))\n",
    "for c in web_list:\n",
    "    print(c)"
   ]
  },
  {
   "cell_type": "code",
   "execution_count": 134,
   "metadata": {},
   "outputs": [
    {
     "data": {
      "text/html": [
       "<div>\n",
       "<style scoped>\n",
       "    .dataframe tbody tr th:only-of-type {\n",
       "        vertical-align: middle;\n",
       "    }\n",
       "\n",
       "    .dataframe tbody tr th {\n",
       "        vertical-align: top;\n",
       "    }\n",
       "\n",
       "    .dataframe thead th {\n",
       "        text-align: right;\n",
       "    }\n",
       "</style>\n",
       "<table border=\"1\" class=\"dataframe\">\n",
       "  <thead>\n",
       "    <tr style=\"text-align: right;\">\n",
       "      <th></th>\n",
       "      <th>web</th>\n",
       "      <th>phones_scraped</th>\n",
       "      <th>source</th>\n",
       "    </tr>\n",
       "  </thead>\n",
       "  <tbody>\n",
       "    <tr>\n",
       "      <th>761</th>\n",
       "      <td>https://www.zvole.info</td>\n",
       "      <td>[+420 257 760 337, 257 760 337]</td>\n",
       "      <td>scraped</td>\n",
       "    </tr>\n",
       "  </tbody>\n",
       "</table>\n",
       "</div>"
      ],
      "text/plain": [
       "                        web                   phones_scraped   source\n",
       "761  https://www.zvole.info  [+420 257 760 337, 257 760 337]  scraped"
      ]
     },
     "execution_count": 134,
     "metadata": {},
     "output_type": "execute_result"
    }
   ],
   "source": [
    "#df_union[df_union[\"web\"] == 'asistovanekontakty.cz'].sort_values(by=\"Telefon\")\n",
    "web = 'https://www.zvole.info'\n",
    "df_agg[df_agg[\"web\"] == web].sort_values(by=\"Telefon\")\n",
    "df_res[df_res[\"web\"] == web].sort_values(by=\"phones_scraped\")"
   ]
  },
  {
   "cell_type": "code",
   "execution_count": null,
   "metadata": {},
   "outputs": [],
   "source": []
  },
  {
   "cell_type": "code",
   "execution_count": null,
   "metadata": {},
   "outputs": [],
   "source": []
  },
  {
   "cell_type": "code",
   "execution_count": 14,
   "metadata": {},
   "outputs": [
    {
     "data": {
      "text/html": [
       "<div>\n",
       "<style scoped>\n",
       "    .dataframe tbody tr th:only-of-type {\n",
       "        vertical-align: middle;\n",
       "    }\n",
       "\n",
       "    .dataframe tbody tr th {\n",
       "        vertical-align: top;\n",
       "    }\n",
       "\n",
       "    .dataframe thead th {\n",
       "        text-align: right;\n",
       "    }\n",
       "</style>\n",
       "<table border=\"1\" class=\"dataframe\">\n",
       "  <thead>\n",
       "    <tr style=\"text-align: right;\">\n",
       "      <th></th>\n",
       "      <th>web</th>\n",
       "      <th>phones_scraped</th>\n",
       "      <th>Telefon</th>\n",
       "      <th>Telefon Mapy</th>\n",
       "    </tr>\n",
       "  </thead>\n",
       "  <tbody>\n",
       "    <tr>\n",
       "      <th>0</th>\n",
       "      <td>http://www.pdz.cz</td>\n",
       "      <td>[121 407 9329, 64 24 22 18, 420 466 400 116]</td>\n",
       "      <td>[778 526 216, 469 626 383, 774 915 755]</td>\n",
       "      <td>778 526 216</td>\n",
       "    </tr>\n",
       "    <tr>\n",
       "      <th>1</th>\n",
       "      <td>http://www.pdz.cz</td>\n",
       "      <td>[121 407 9329, 64 24 22 18, 420 466 400 116]</td>\n",
       "      <td>[778 526 216, 469 626 383, 774 915 755]</td>\n",
       "      <td>469 626 383, 774 915 755</td>\n",
       "    </tr>\n",
       "    <tr>\n",
       "      <th>2</th>\n",
       "      <td>http://www.medsix.cz/?option=com_content&amp;view=...</td>\n",
       "      <td>[483 341 232, 483 300 087, 483 310 919, 483 34...</td>\n",
       "      <td>[483 341 267]</td>\n",
       "      <td>483 341 267</td>\n",
       "    </tr>\n",
       "    <tr>\n",
       "      <th>3</th>\n",
       "      <td>https://jindrichuvhradec.charita.cz/sluzba/852/</td>\n",
       "      <td>[731 402 982, 731 604 554, 605 849 877]</td>\n",
       "      <td>[731 402 982, 605 849 877]</td>\n",
       "      <td>731 402 982, 605 849 877</td>\n",
       "    </tr>\n",
       "    <tr>\n",
       "      <th>4</th>\n",
       "      <td>https://www.homeopatiecz.com/</td>\n",
       "      <td>[777 169 278, 736 660 315, 777 146 760, 725 76...</td>\n",
       "      <td>[736 660 315]</td>\n",
       "      <td>736 660 315</td>\n",
       "    </tr>\n",
       "    <tr>\n",
       "      <th>...</th>\n",
       "      <td>...</td>\n",
       "      <td>...</td>\n",
       "      <td>...</td>\n",
       "      <td>...</td>\n",
       "    </tr>\n",
       "    <tr>\n",
       "      <th>612</th>\n",
       "      <td>https://www.firmy.cz/detail/13179143-phdr-tere...</td>\n",
       "      <td>[420 376 322 688]</td>\n",
       "      <td>[376 322 688]</td>\n",
       "      <td>376 322 688</td>\n",
       "    </tr>\n",
       "    <tr>\n",
       "      <th>613</th>\n",
       "      <td>https://search.seznam.cz/?q=psychiatrick%C3%A1...</td>\n",
       "      <td>[420608971030]</td>\n",
       "      <td>[736 132 143]</td>\n",
       "      <td>736 132 143</td>\n",
       "    </tr>\n",
       "    <tr>\n",
       "      <th>614</th>\n",
       "      <td>http://ssp-ol.cz/</td>\n",
       "      <td>[585 427 141]</td>\n",
       "      <td>[774 406 453]</td>\n",
       "      <td>774 406 453</td>\n",
       "    </tr>\n",
       "    <tr>\n",
       "      <th>615</th>\n",
       "      <td>http://www.psychoterapeuti.cz/adresar-psychote...</td>\n",
       "      <td>[284 016 451, 736 660 315, 530 334 600, 775 18...</td>\n",
       "      <td>[466 611 601]</td>\n",
       "      <td>466 611 601</td>\n",
       "    </tr>\n",
       "    <tr>\n",
       "      <th>616</th>\n",
       "      <td>http://www.psychoterapeuti.cz/adresar-psychote...</td>\n",
       "      <td>[284 016 451, 736 660 315, 530 334 600, 775 18...</td>\n",
       "      <td>[261 006 253]</td>\n",
       "      <td>261 006 253</td>\n",
       "    </tr>\n",
       "  </tbody>\n",
       "</table>\n",
       "<p>617 rows × 4 columns</p>\n",
       "</div>"
      ],
      "text/plain": [
       "                                                   web  \\\n",
       "0                                    http://www.pdz.cz   \n",
       "1                                    http://www.pdz.cz   \n",
       "2    http://www.medsix.cz/?option=com_content&view=...   \n",
       "3      https://jindrichuvhradec.charita.cz/sluzba/852/   \n",
       "4                        https://www.homeopatiecz.com/   \n",
       "..                                                 ...   \n",
       "612  https://www.firmy.cz/detail/13179143-phdr-tere...   \n",
       "613  https://search.seznam.cz/?q=psychiatrick%C3%A1...   \n",
       "614                                  http://ssp-ol.cz/   \n",
       "615  http://www.psychoterapeuti.cz/adresar-psychote...   \n",
       "616  http://www.psychoterapeuti.cz/adresar-psychote...   \n",
       "\n",
       "                                        phones_scraped  \\\n",
       "0         [121 407 9329, 64 24 22 18, 420 466 400 116]   \n",
       "1         [121 407 9329, 64 24 22 18, 420 466 400 116]   \n",
       "2    [483 341 232, 483 300 087, 483 310 919, 483 34...   \n",
       "3              [731 402 982, 731 604 554, 605 849 877]   \n",
       "4    [777 169 278, 736 660 315, 777 146 760, 725 76...   \n",
       "..                                                 ...   \n",
       "612                                  [420 376 322 688]   \n",
       "613                                     [420608971030]   \n",
       "614                                      [585 427 141]   \n",
       "615  [284 016 451, 736 660 315, 530 334 600, 775 18...   \n",
       "616  [284 016 451, 736 660 315, 530 334 600, 775 18...   \n",
       "\n",
       "                                     Telefon              Telefon Mapy  \n",
       "0    [778 526 216, 469 626 383, 774 915 755]               778 526 216  \n",
       "1    [778 526 216, 469 626 383, 774 915 755]  469 626 383, 774 915 755  \n",
       "2                              [483 341 267]               483 341 267  \n",
       "3                 [731 402 982, 605 849 877]  731 402 982, 605 849 877  \n",
       "4                              [736 660 315]               736 660 315  \n",
       "..                                       ...                       ...  \n",
       "612                            [376 322 688]               376 322 688  \n",
       "613                            [736 132 143]               736 132 143  \n",
       "614                            [774 406 453]               774 406 453  \n",
       "615                            [466 611 601]               466 611 601  \n",
       "616                            [261 006 253]               261 006 253  \n",
       "\n",
       "[617 rows x 4 columns]"
      ]
     },
     "execution_count": 14,
     "metadata": {},
     "output_type": "execute_result"
    }
   ],
   "source": [
    "preview = df_res.merge(df_agg , on=\"web\")\n",
    "preview = preview.merge(mapy_tel , on=\"web\")\n",
    "preview['phones_scraped'] = preview['phones_scraped'].str.split(', ')\n",
    "preview\n"
   ]
  },
  {
   "cell_type": "code",
   "execution_count": 1,
   "metadata": {},
   "outputs": [
    {
     "ename": "NameError",
     "evalue": "name 'df_agg' is not defined",
     "output_type": "error",
     "traceback": [
      "\u001b[0;31m---------------------------------------------------------------------------\u001b[0m",
      "\u001b[0;31mNameError\u001b[0m                                 Traceback (most recent call last)",
      "Cell \u001b[0;32mIn[1], line 1\u001b[0m\n\u001b[0;32m----> 1\u001b[0m \u001b[43mdf_agg\u001b[49m\u001b[38;5;241m.\u001b[39mhead()\n",
      "\u001b[0;31mNameError\u001b[0m: name 'df_agg' is not defined"
     ]
    }
   ],
   "source": [
    "df_agg.head()"
   ]
  },
  {
   "cell_type": "code",
   "execution_count": null,
   "metadata": {},
   "outputs": [],
   "source": []
  }
 ],
 "metadata": {
  "kernelspec": {
   "display_name": "streamlit_env",
   "language": "python",
   "name": "python3"
  },
  "language_info": {
   "codemirror_mode": {
    "name": "ipython",
    "version": 3
   },
   "file_extension": ".py",
   "mimetype": "text/x-python",
   "name": "python",
   "nbconvert_exporter": "python",
   "pygments_lexer": "ipython3",
   "version": "3.11.4"
  }
 },
 "nbformat": 4,
 "nbformat_minor": 2
}
