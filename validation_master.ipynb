{
 "cells": [
  {
   "cell_type": "code",
   "execution_count": 1,
   "metadata": {},
   "outputs": [],
   "source": [
    "import pandas as pd\n",
    "import requests\n",
    "import pandas as pd\n",
    "from bs4 import BeautifulSoup\n",
    "import re\n",
    "from tqdm import tqdm \n",
    "from urllib.parse import urljoin\n"
   ]
  },
  {
   "cell_type": "markdown",
   "metadata": {},
   "source": [
    "## Initial data"
   ]
  },
  {
   "cell_type": "code",
   "execution_count": 2,
   "metadata": {},
   "outputs": [],
   "source": [
    "db_pomoci = pd.read_csv(\"db_pomoci.csv\")\n",
    "black_list = ['http://www.dc-brno.cz']\n",
    "df = db_pomoci.rename(columns={\"Webová stránka\" : \"web\", \"Název\":\"nazev\"})\n",
    "df = df[(~df[\"web\"].isna()) & (~df['web'].isin(black_list))]\n",
    "df.loc[df['web'].str.startswith('www'), 'web'] = df['web'].str.replace('^www', 'https://www', regex=True)\n",
    "# df['web'] = df['web'].str.replace('https://www', 'www')\n",
    "# df['web'] = df['web'].str.replace('www', 'https://www')\n",
    "df_agg = df.groupby(\"web\")[\"Telefon\"].agg(list)\n",
    "df_agg[\"email\"] = df.groupby(\"web\")[\"E-mail\"].agg(list)\n",
    "df_agg = df_agg.reset_index().rename(columns={'web': 'web', 'Telefon': 'Telefon'})\n",
    "df_agg = pd.DataFrame(df_agg)"
   ]
  },
  {
   "cell_type": "markdown",
   "metadata": {},
   "source": [
    "# Scraped data"
   ]
  },
  {
   "cell_type": "code",
   "execution_count": 3,
   "metadata": {},
   "outputs": [],
   "source": [
    "db_scraped = pd.read_csv(\"data/df_scraped.csv\")\n",
    "df_res = db_scraped[~db_scraped[\"Phone Numbers\"].isna()]\n",
    "df_res = df_res.rename(columns={'web': 'web', 'Telefon': 'Telefon'}).drop(\"Unnamed: 0\", axis= 1)\n",
    "df_res = df_res.rename(columns= {\"Website\":\"web\"})\n",
    "df_res = df_res.rename(columns= {\"Phone Numbers\":\"phones_scraped\"})"
   ]
  },
  {
   "cell_type": "markdown",
   "metadata": {},
   "source": [
    "# Mapy.cz"
   ]
  },
  {
   "cell_type": "code",
   "execution_count": 13,
   "metadata": {},
   "outputs": [],
   "source": [
    "maps_df = pd.read_csv(\"data/maps_results.csv\",sep=\";\")\n",
    "maps_df = maps_df.rename(columns={'Web': 'web', 'Phone': 'Telefon Mapy'})\n",
    "mapy_tel = maps_df[[\"web\",\"Telefon Mapy\"]]"
   ]
  },
  {
   "cell_type": "code",
   "execution_count": 14,
   "metadata": {},
   "outputs": [
    {
     "data": {
      "text/html": [
       "<div>\n",
       "<style scoped>\n",
       "    .dataframe tbody tr th:only-of-type {\n",
       "        vertical-align: middle;\n",
       "    }\n",
       "\n",
       "    .dataframe tbody tr th {\n",
       "        vertical-align: top;\n",
       "    }\n",
       "\n",
       "    .dataframe thead th {\n",
       "        text-align: right;\n",
       "    }\n",
       "</style>\n",
       "<table border=\"1\" class=\"dataframe\">\n",
       "  <thead>\n",
       "    <tr style=\"text-align: right;\">\n",
       "      <th></th>\n",
       "      <th>web</th>\n",
       "      <th>phones_scraped</th>\n",
       "      <th>Telefon</th>\n",
       "      <th>Telefon Mapy</th>\n",
       "    </tr>\n",
       "  </thead>\n",
       "  <tbody>\n",
       "    <tr>\n",
       "      <th>0</th>\n",
       "      <td>http://www.pdz.cz</td>\n",
       "      <td>[121 407 9329, 64 24 22 18, 420 466 400 116]</td>\n",
       "      <td>[778 526 216, 469 626 383, 774 915 755]</td>\n",
       "      <td>778 526 216</td>\n",
       "    </tr>\n",
       "    <tr>\n",
       "      <th>1</th>\n",
       "      <td>http://www.pdz.cz</td>\n",
       "      <td>[121 407 9329, 64 24 22 18, 420 466 400 116]</td>\n",
       "      <td>[778 526 216, 469 626 383, 774 915 755]</td>\n",
       "      <td>469 626 383, 774 915 755</td>\n",
       "    </tr>\n",
       "    <tr>\n",
       "      <th>2</th>\n",
       "      <td>http://www.medsix.cz/?option=com_content&amp;view=...</td>\n",
       "      <td>[483 341 232, 483 300 087, 483 310 919, 483 34...</td>\n",
       "      <td>[483 341 267]</td>\n",
       "      <td>483 341 267</td>\n",
       "    </tr>\n",
       "    <tr>\n",
       "      <th>3</th>\n",
       "      <td>https://jindrichuvhradec.charita.cz/sluzba/852/</td>\n",
       "      <td>[731 402 982, 731 604 554, 605 849 877]</td>\n",
       "      <td>[731 402 982, 605 849 877]</td>\n",
       "      <td>731 402 982, 605 849 877</td>\n",
       "    </tr>\n",
       "    <tr>\n",
       "      <th>4</th>\n",
       "      <td>https://www.homeopatiecz.com/</td>\n",
       "      <td>[777 169 278, 736 660 315, 777 146 760, 725 76...</td>\n",
       "      <td>[736 660 315]</td>\n",
       "      <td>736 660 315</td>\n",
       "    </tr>\n",
       "    <tr>\n",
       "      <th>...</th>\n",
       "      <td>...</td>\n",
       "      <td>...</td>\n",
       "      <td>...</td>\n",
       "      <td>...</td>\n",
       "    </tr>\n",
       "    <tr>\n",
       "      <th>612</th>\n",
       "      <td>https://www.firmy.cz/detail/13179143-phdr-tere...</td>\n",
       "      <td>[420 376 322 688]</td>\n",
       "      <td>[376 322 688]</td>\n",
       "      <td>376 322 688</td>\n",
       "    </tr>\n",
       "    <tr>\n",
       "      <th>613</th>\n",
       "      <td>https://search.seznam.cz/?q=psychiatrick%C3%A1...</td>\n",
       "      <td>[420608971030]</td>\n",
       "      <td>[736 132 143]</td>\n",
       "      <td>736 132 143</td>\n",
       "    </tr>\n",
       "    <tr>\n",
       "      <th>614</th>\n",
       "      <td>http://ssp-ol.cz/</td>\n",
       "      <td>[585 427 141]</td>\n",
       "      <td>[774 406 453]</td>\n",
       "      <td>774 406 453</td>\n",
       "    </tr>\n",
       "    <tr>\n",
       "      <th>615</th>\n",
       "      <td>http://www.psychoterapeuti.cz/adresar-psychote...</td>\n",
       "      <td>[284 016 451, 736 660 315, 530 334 600, 775 18...</td>\n",
       "      <td>[466 611 601]</td>\n",
       "      <td>466 611 601</td>\n",
       "    </tr>\n",
       "    <tr>\n",
       "      <th>616</th>\n",
       "      <td>http://www.psychoterapeuti.cz/adresar-psychote...</td>\n",
       "      <td>[284 016 451, 736 660 315, 530 334 600, 775 18...</td>\n",
       "      <td>[261 006 253]</td>\n",
       "      <td>261 006 253</td>\n",
       "    </tr>\n",
       "  </tbody>\n",
       "</table>\n",
       "<p>617 rows × 4 columns</p>\n",
       "</div>"
      ],
      "text/plain": [
       "                                                   web  \\\n",
       "0                                    http://www.pdz.cz   \n",
       "1                                    http://www.pdz.cz   \n",
       "2    http://www.medsix.cz/?option=com_content&view=...   \n",
       "3      https://jindrichuvhradec.charita.cz/sluzba/852/   \n",
       "4                        https://www.homeopatiecz.com/   \n",
       "..                                                 ...   \n",
       "612  https://www.firmy.cz/detail/13179143-phdr-tere...   \n",
       "613  https://search.seznam.cz/?q=psychiatrick%C3%A1...   \n",
       "614                                  http://ssp-ol.cz/   \n",
       "615  http://www.psychoterapeuti.cz/adresar-psychote...   \n",
       "616  http://www.psychoterapeuti.cz/adresar-psychote...   \n",
       "\n",
       "                                        phones_scraped  \\\n",
       "0         [121 407 9329, 64 24 22 18, 420 466 400 116]   \n",
       "1         [121 407 9329, 64 24 22 18, 420 466 400 116]   \n",
       "2    [483 341 232, 483 300 087, 483 310 919, 483 34...   \n",
       "3              [731 402 982, 731 604 554, 605 849 877]   \n",
       "4    [777 169 278, 736 660 315, 777 146 760, 725 76...   \n",
       "..                                                 ...   \n",
       "612                                  [420 376 322 688]   \n",
       "613                                     [420608971030]   \n",
       "614                                      [585 427 141]   \n",
       "615  [284 016 451, 736 660 315, 530 334 600, 775 18...   \n",
       "616  [284 016 451, 736 660 315, 530 334 600, 775 18...   \n",
       "\n",
       "                                     Telefon              Telefon Mapy  \n",
       "0    [778 526 216, 469 626 383, 774 915 755]               778 526 216  \n",
       "1    [778 526 216, 469 626 383, 774 915 755]  469 626 383, 774 915 755  \n",
       "2                              [483 341 267]               483 341 267  \n",
       "3                 [731 402 982, 605 849 877]  731 402 982, 605 849 877  \n",
       "4                              [736 660 315]               736 660 315  \n",
       "..                                       ...                       ...  \n",
       "612                            [376 322 688]               376 322 688  \n",
       "613                            [736 132 143]               736 132 143  \n",
       "614                            [774 406 453]               774 406 453  \n",
       "615                            [466 611 601]               466 611 601  \n",
       "616                            [261 006 253]               261 006 253  \n",
       "\n",
       "[617 rows x 4 columns]"
      ]
     },
     "execution_count": 14,
     "metadata": {},
     "output_type": "execute_result"
    }
   ],
   "source": [
    "preview = df_res.merge(df_agg , on=\"web\")\n",
    "preview = preview.merge(mapy_tel , on=\"web\")\n",
    "preview['phones_scraped'] = preview['phones_scraped'].str.split(', ')\n",
    "preview\n"
   ]
  },
  {
   "cell_type": "code",
   "execution_count": null,
   "metadata": {},
   "outputs": [],
   "source": []
  }
 ],
 "metadata": {
  "kernelspec": {
   "display_name": "streamlit_env",
   "language": "python",
   "name": "python3"
  },
  "language_info": {
   "codemirror_mode": {
    "name": "ipython",
    "version": 3
   },
   "file_extension": ".py",
   "mimetype": "text/x-python",
   "name": "python",
   "nbconvert_exporter": "python",
   "pygments_lexer": "ipython3",
   "version": "3.11.4"
  }
 },
 "nbformat": 4,
 "nbformat_minor": 2
}
