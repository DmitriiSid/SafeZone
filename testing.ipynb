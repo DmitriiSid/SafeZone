{
 "cells": [
  {
   "cell_type": "code",
   "execution_count": 1,
   "metadata": {},
   "outputs": [],
   "source": [
    "import pandas as pd\n",
    "import requests\n",
    "import pandas as pd\n",
    "from bs4 import BeautifulSoup\n",
    "import re\n",
    "from tqdm import tqdm \n",
    "db_pomoci = pd.read_csv(\"db_pomoci.csv\")"
   ]
  },
  {
   "cell_type": "code",
   "execution_count": 2,
   "metadata": {},
   "outputs": [],
   "source": [
    "black_list = ['http://www.dc-brno.cz']\n",
    "df = db_pomoci.rename(columns={\"Webová stránka\" : \"web\", \"Název\":\"nazev\"})\n",
    "df = df[(~df[\"web\"].isna()) & (~df['web'].isin(black_list))]\n",
    "df.loc[df['web'].str.startswith('www'), 'web'] = df['web'].str.replace('^www', 'https://www', regex=True)\n",
    "# df['web'] = df['web'].str.replace('https://www', 'www')\n",
    "# df['web'] = df['web'].str.replace('www', 'https://www')\n",
    "df_agg = df.groupby(\"web\")[\"Telefon\"].agg(list)\n",
    "df_agg[\"email\"] = df.groupby(\"web\")[\"E-mail\"].agg(list)\n",
    "df_agg = df_agg.reset_index().rename(columns={'web': 'web', 'Telefon': 'Telefon'})\n",
    "df_agg = pd.DataFrame(df_agg)\n",
    "#df.sort_values(\"web\")\n"
   ]
  },
  {
   "cell_type": "code",
   "execution_count": 19,
   "metadata": {},
   "outputs": [
    {
     "data": {
      "text/html": [
       "<div>\n",
       "<style scoped>\n",
       "    .dataframe tbody tr th:only-of-type {\n",
       "        vertical-align: middle;\n",
       "    }\n",
       "\n",
       "    .dataframe tbody tr th {\n",
       "        vertical-align: top;\n",
       "    }\n",
       "\n",
       "    .dataframe thead th {\n",
       "        text-align: right;\n",
       "    }\n",
       "</style>\n",
       "<table border=\"1\" class=\"dataframe\">\n",
       "  <thead>\n",
       "    <tr style=\"text-align: right;\">\n",
       "      <th></th>\n",
       "      <th>nazev</th>\n",
       "      <th>Kategorie</th>\n",
       "      <th>Adresa</th>\n",
       "      <th>E-mail</th>\n",
       "      <th>Telefon</th>\n",
       "      <th>web</th>\n",
       "    </tr>\n",
       "  </thead>\n",
       "  <tbody>\n",
       "    <tr>\n",
       "      <th>63</th>\n",
       "      <td>CDZ Brno I (Práh jižní Morava)</td>\n",
       "      <td>CDZ - Centrum duševního zdraví</td>\n",
       "      <td>Štěpánská 2, Brno-Trnitá (část) 602 00, Jihomo...</td>\n",
       "      <td>terennitym@prah-brno.cz</td>\n",
       "      <td>733 643 379</td>\n",
       "      <td>https://www.cdz-brno.cz/</td>\n",
       "    </tr>\n",
       "    <tr>\n",
       "      <th>64</th>\n",
       "      <td>CDZ Brno II (Práh jižní Morava)</td>\n",
       "      <td>CDZ - Centrum duševního zdraví</td>\n",
       "      <td>Jugoslávská 17, Zábrdovice (Brno-sever) (část)...</td>\n",
       "      <td>cdz@pnbrno.cz</td>\n",
       "      <td>737 390 737</td>\n",
       "      <td>https://www.pnbrno.cz/centrum-dusevniho-zdravi/</td>\n",
       "    </tr>\n",
       "    <tr>\n",
       "      <th>321</th>\n",
       "      <td>Odborné sociální poradenství - poradna PřES PRÁH</td>\n",
       "      <td>Odborné sociální poradenství</td>\n",
       "      <td>Tuřanská 12, Brno-Tuřany (část) 620 00, Jihomo...</td>\n",
       "      <td>jana.wudyova@prah-brno.cz</td>\n",
       "      <td>734 850 546</td>\n",
       "      <td>http://www.prah-brno.cz/novinky/2-uncategorise...</td>\n",
       "    </tr>\n",
       "    <tr>\n",
       "      <th>492</th>\n",
       "      <td>Pedagogicko-psychologická poradna Brno, příspě...</td>\n",
       "      <td>Pedagogicko-psychologické poradny</td>\n",
       "      <td>Hybešova 253/15, Staré Brno, 602 00 Brno</td>\n",
       "      <td>hybesova@pppbrno.cz</td>\n",
       "      <td>541 422 822</td>\n",
       "      <td>https://www.pppbrno.cz/cs/</td>\n",
       "    </tr>\n",
       "    <tr>\n",
       "      <th>546</th>\n",
       "      <td>Černý Vojtěch PhDr., Ph.D.</td>\n",
       "      <td>Psychoterapeuti</td>\n",
       "      <td>Františkánská 6, 602 00 Brno</td>\n",
       "      <td>info@cervoy.cz</td>\n",
       "      <td>602 737 026</td>\n",
       "      <td>http://www.psychologiebrno.cz/</td>\n",
       "    </tr>\n",
       "    <tr>\n",
       "      <th>1428</th>\n",
       "      <td>Nízkoprahový klub Kumbál</td>\n",
       "      <td>Nízkoprahové zařízení</td>\n",
       "      <td>Vídeňská 14/78, Brno-střed, Štýřice, 639 00 Brno</td>\n",
       "      <td>gajdziok.jan@brno.cz</td>\n",
       "      <td>543 210 670</td>\n",
       "      <td>http://www.brno.cz</td>\n",
       "    </tr>\n",
       "  </tbody>\n",
       "</table>\n",
       "</div>"
      ],
      "text/plain": [
       "                                                  nazev  \\\n",
       "63                       CDZ Brno I (Práh jižní Morava)   \n",
       "64                      CDZ Brno II (Práh jižní Morava)   \n",
       "321    Odborné sociální poradenství - poradna PřES PRÁH   \n",
       "492   Pedagogicko-psychologická poradna Brno, příspě...   \n",
       "546                          Černý Vojtěch PhDr., Ph.D.   \n",
       "1428                           Nízkoprahový klub Kumbál   \n",
       "\n",
       "                              Kategorie  \\\n",
       "63       CDZ - Centrum duševního zdraví   \n",
       "64       CDZ - Centrum duševního zdraví   \n",
       "321        Odborné sociální poradenství   \n",
       "492   Pedagogicko-psychologické poradny   \n",
       "546                     Psychoterapeuti   \n",
       "1428              Nízkoprahové zařízení   \n",
       "\n",
       "                                                 Adresa  \\\n",
       "63    Štěpánská 2, Brno-Trnitá (část) 602 00, Jihomo...   \n",
       "64    Jugoslávská 17, Zábrdovice (Brno-sever) (část)...   \n",
       "321   Tuřanská 12, Brno-Tuřany (část) 620 00, Jihomo...   \n",
       "492            Hybešova 253/15, Staré Brno, 602 00 Brno   \n",
       "546                        Františkánská 6, 602 00 Brno   \n",
       "1428   Vídeňská 14/78, Brno-střed, Štýřice, 639 00 Brno   \n",
       "\n",
       "                         E-mail      Telefon  \\\n",
       "63      terennitym@prah-brno.cz  733 643 379   \n",
       "64                cdz@pnbrno.cz  737 390 737   \n",
       "321   jana.wudyova@prah-brno.cz  734 850 546   \n",
       "492         hybesova@pppbrno.cz  541 422 822   \n",
       "546              info@cervoy.cz  602 737 026   \n",
       "1428       gajdziok.jan@brno.cz  543 210 670   \n",
       "\n",
       "                                                    web  \n",
       "63                             https://www.cdz-brno.cz/  \n",
       "64      https://www.pnbrno.cz/centrum-dusevniho-zdravi/  \n",
       "321   http://www.prah-brno.cz/novinky/2-uncategorise...  \n",
       "492                          https://www.pppbrno.cz/cs/  \n",
       "546                      http://www.psychologiebrno.cz/  \n",
       "1428                                 http://www.brno.cz  "
      ]
     },
     "execution_count": 19,
     "metadata": {},
     "output_type": "execute_result"
    }
   ],
   "source": [
    "df[df[\"web\"].str.contains('brno')]"
   ]
  },
  {
   "cell_type": "code",
   "execution_count": 3,
   "metadata": {},
   "outputs": [],
   "source": [
    "urls = set(df[\"web\"])\n"
   ]
  },
  {
   "cell_type": "code",
   "execution_count": 5,
   "metadata": {},
   "outputs": [
    {
     "name": "stderr",
     "output_type": "stream",
     "text": [
      "  0%|          | 0/870 [00:00<?, ?it/s]"
     ]
    },
    {
     "name": "stdout",
     "output_type": "stream",
     "text": [
      "Scraping https://www.zachranny-kruh.cz/\n"
     ]
    },
    {
     "name": "stderr",
     "output_type": "stream",
     "text": [
      "  0%|          | 2/870 [00:01<08:42,  1.66it/s]"
     ]
    },
    {
     "name": "stdout",
     "output_type": "stream",
     "text": [
      "Done\n",
      "\n",
      "Scraping http://psych.fnplzen.cz/cs/node/839\n",
      "Done\n",
      "\n",
      "Scraping http://www.porceta.cz\n",
      "Error fetching http://www.porceta.cz: 403 Client Error: Forbidden for url: https://www.porceta.cz/\n",
      "Done\n",
      "\n",
      "Scraping https://www.prevent99.cz/spot/\n"
     ]
    },
    {
     "name": "stderr",
     "output_type": "stream",
     "text": [
      "  1%|          | 6/870 [00:01<02:53,  4.98it/s]"
     ]
    },
    {
     "name": "stdout",
     "output_type": "stream",
     "text": [
      "Done\n",
      "\n",
      "Scraping http://www.detemzlin.cz/\n",
      "Done\n",
      "\n",
      "Scraping https://www.homolka.cz/\n",
      "Error fetching https://www.homolka.cz/: 403 Client Error: Forbidden for url: https://www.homolka.cz/\n",
      "Done\n",
      "\n",
      "Scraping http://www.educozatec.cz/\n",
      "Error fetching http://www.educozatec.cz/: HTTPConnectionPool(host='www.educozatec.cz', port=80): Max retries exceeded with url: / (Caused by NewConnectionError('<urllib3.connection.HTTPConnection object at 0x7ff508f497c0>: Failed to establish a new connection: [Errno 8] nodename nor servname provided, or not known'))\n",
      "Done\n",
      "\n",
      "Scraping https://www.charitasluknov.cz\n"
     ]
    },
    {
     "name": "stderr",
     "output_type": "stream",
     "text": [
      "  1%|          | 8/870 [00:02<02:54,  4.95it/s]"
     ]
    },
    {
     "name": "stdout",
     "output_type": "stream",
     "text": [
      "Done\n",
      "\n",
      "Scraping http://www.psychoterapeuti.cz/adresar-psychoterapeutu/item/17-cibulkova-lenka-mgr\n"
     ]
    },
    {
     "name": "stderr",
     "output_type": "stream",
     "text": [
      "  1%|          | 9/870 [00:02<03:54,  3.67it/s]"
     ]
    },
    {
     "name": "stdout",
     "output_type": "stream",
     "text": [
      "Done\n",
      "\n",
      "Scraping http://www.psychoterapeuti.cz/adresar-psychoterapeutu/item/41-lorenc-jan-mudr\n"
     ]
    },
    {
     "name": "stderr",
     "output_type": "stream",
     "text": [
      "  1%|          | 10/870 [00:03<04:18,  3.33it/s]"
     ]
    },
    {
     "name": "stdout",
     "output_type": "stream",
     "text": [
      "Done\n",
      "\n",
      "Scraping http://www.mudrcerny.cz/\n",
      "Done\n",
      "\n",
      "Scraping https://cdz9.cz/\n"
     ]
    },
    {
     "name": "stderr",
     "output_type": "stream",
     "text": [
      "  1%|▏         | 12/870 [00:05<09:31,  1.50it/s]"
     ]
    },
    {
     "name": "stdout",
     "output_type": "stream",
     "text": [
      "Done\n",
      "\n",
      "Scraping http://www.arcana.cz/\n"
     ]
    },
    {
     "name": "stderr",
     "output_type": "stream",
     "text": [
      "  1%|▏         | 13/870 [00:05<08:43,  1.64it/s]"
     ]
    },
    {
     "name": "stdout",
     "output_type": "stream",
     "text": [
      "Done\n",
      "\n",
      "Scraping http://www.ordinace.cz/ordinace/vo/design_10/profil.php?page=lekar&id=38061\n"
     ]
    },
    {
     "name": "stderr",
     "output_type": "stream",
     "text": [
      "  2%|▏         | 14/870 [00:06<07:24,  1.92it/s]"
     ]
    },
    {
     "name": "stdout",
     "output_type": "stream",
     "text": [
      "Done\n",
      "\n",
      "Scraping http://www.kodytkova.cz/\n"
     ]
    },
    {
     "name": "stderr",
     "output_type": "stream",
     "text": [
      "  2%|▏         | 15/870 [00:06<06:36,  2.16it/s]"
     ]
    },
    {
     "name": "stdout",
     "output_type": "stream",
     "text": [
      "Done\n",
      "\n",
      "Scraping https://www.socialnipece.cz\n"
     ]
    },
    {
     "name": "stderr",
     "output_type": "stream",
     "text": [
      "  2%|▏         | 16/870 [00:07<07:28,  1.91it/s]"
     ]
    },
    {
     "name": "stdout",
     "output_type": "stream",
     "text": [
      "Done\n",
      "\n",
      "Scraping https://www.znamylekar.cz/jan-kovar/psycholog-detsky-psycholog/tabor\n"
     ]
    },
    {
     "name": "stderr",
     "output_type": "stream",
     "text": [
      "  2%|▏         | 18/870 [00:07<06:16,  2.27it/s]"
     ]
    },
    {
     "name": "stdout",
     "output_type": "stream",
     "text": [
      "Done\n",
      "\n",
      "Scraping http://www.psy-dobiasova.cz/\n",
      "Done\n",
      "\n",
      "Scraping https://www.ckp-dobrichovice.cz/\n"
     ]
    },
    {
     "name": "stderr",
     "output_type": "stream",
     "text": [
      "  2%|▏         | 19/870 [00:08<05:42,  2.49it/s]"
     ]
    },
    {
     "name": "stdout",
     "output_type": "stream",
     "text": [
      "Done\n",
      "\n",
      "Scraping https://www.sos-vesnicky.cz\n"
     ]
    },
    {
     "name": "stderr",
     "output_type": "stream",
     "text": [
      "  2%|▏         | 20/870 [00:08<05:10,  2.73it/s]"
     ]
    },
    {
     "name": "stdout",
     "output_type": "stream",
     "text": [
      "Done\n",
      "\n",
      "Scraping http://www.aura-psycholog.cz/\n",
      "Error fetching http://www.aura-psycholog.cz/: 403 Client Error: Forbidden for url: http://www.aura-psycholog.cz/\n",
      "Done\n",
      "\n",
      "Scraping https://www.pelhrimov.charita.cz\n"
     ]
    },
    {
     "name": "stderr",
     "output_type": "stream",
     "text": [
      "  3%|▎         | 22/870 [00:08<03:45,  3.76it/s]"
     ]
    },
    {
     "name": "stdout",
     "output_type": "stream",
     "text": [
      "Done\n",
      "\n",
      "Scraping https://www.psychiatr.info/#utm_source=firmy.cz&utm_medium=ppd&utm_campaign=firmy.cz-385369\n",
      "Done\n",
      "\n",
      "Scraping http://www.motylek.org\n"
     ]
    },
    {
     "name": "stderr",
     "output_type": "stream",
     "text": [
      "  3%|▎         | 24/870 [00:09<03:59,  3.53it/s]"
     ]
    },
    {
     "name": "stdout",
     "output_type": "stream",
     "text": [
      "Done\n",
      "\n",
      "Scraping http://www.sdbplzen.cz\n"
     ]
    },
    {
     "name": "stderr",
     "output_type": "stream",
     "text": [
      "  3%|▎         | 25/870 [00:09<04:16,  3.29it/s]"
     ]
    },
    {
     "name": "stdout",
     "output_type": "stream",
     "text": [
      "Done\n",
      "\n",
      "Scraping https://www.darmodej.cz\n"
     ]
    },
    {
     "name": "stderr",
     "output_type": "stream",
     "text": [
      "  3%|▎         | 26/870 [00:12<11:57,  1.18it/s]"
     ]
    },
    {
     "name": "stdout",
     "output_type": "stream",
     "text": [
      "Done\n",
      "\n",
      "Scraping https://www.firmy.cz/detail/384809-mudr-viliam-janac-domazlice-tynske-predmesti.html\n"
     ]
    },
    {
     "name": "stderr",
     "output_type": "stream",
     "text": [
      "  3%|▎         | 28/870 [00:12<08:10,  1.72it/s]"
     ]
    },
    {
     "name": "stdout",
     "output_type": "stream",
     "text": [
      "Done\n",
      "\n",
      "Scraping https://www.zlatestranky.cz/profil/H691323\n",
      "Done\n",
      "\n",
      "Scraping https://mudr-magdalena-bohacova.business.site/\n"
     ]
    },
    {
     "name": "stderr",
     "output_type": "stream",
     "text": [
      "  3%|▎         | 29/870 [00:14<12:39,  1.11it/s]"
     ]
    },
    {
     "name": "stdout",
     "output_type": "stream",
     "text": [
      "Done\n",
      "\n",
      "Scraping http://www.psychologiebrno.cz/\n"
     ]
    },
    {
     "name": "stderr",
     "output_type": "stream",
     "text": [
      "  4%|▎         | 31/870 [00:16<10:34,  1.32it/s]"
     ]
    },
    {
     "name": "stdout",
     "output_type": "stream",
     "text": [
      "Done\n",
      "\n",
      "Scraping https://www.tisnov.charita.cz\n",
      "Done\n",
      "\n",
      "Scraping https://www.futra.cz\n"
     ]
    },
    {
     "name": "stderr",
     "output_type": "stream",
     "text": [
      "  4%|▎         | 32/870 [00:18<15:10,  1.09s/it]"
     ]
    },
    {
     "name": "stdout",
     "output_type": "stream",
     "text": [
      "Done\n",
      "\n",
      "Scraping https://search.seznam.cz/search?q=psychiatr%20p%C3%ADsek&sourceid=web&thru=related&sId=cWZTosuX6OhCGTtKeYxH&overlay_type=firmy-hint-1905&overlay_id=firm-13284641\n"
     ]
    },
    {
     "name": "stderr",
     "output_type": "stream",
     "text": [
      "  4%|▍         | 35/870 [00:18<07:40,  1.81it/s]"
     ]
    },
    {
     "name": "stdout",
     "output_type": "stream",
     "text": [
      "Done\n",
      "\n",
      "Scraping http:// www.psychamb.cz\n",
      "Error fetching http:// www.psychamb.cz: 400 Client Error: Bad Request for url: http://%20www.psychamb.cz/\n",
      "Done\n",
      "\n",
      "Scraping https://www.statekvlckovice.cz\n",
      "Done\n",
      "\n",
      "Scraping https://www.opplzen.cz/\n"
     ]
    },
    {
     "name": "stderr",
     "output_type": "stream",
     "text": [
      "  4%|▍         | 38/870 [00:19<05:31,  2.51it/s]"
     ]
    },
    {
     "name": "stdout",
     "output_type": "stream",
     "text": [
      "Done\n",
      "\n",
      "Scraping onhb.cz/Article.asp?nDepartmentID=256&nArticleID=341&nLanguageID=1\n",
      "Error fetching onhb.cz/Article.asp?nDepartmentID=256&nArticleID=341&nLanguageID=1: Invalid URL 'onhb.cz/Article.asp?nDepartmentID=256&nArticleID=341&nLanguageID=1': No schema supplied. Perhaps you meant http://onhb.cz/Article.asp?nDepartmentID=256&nArticleID=341&nLanguageID=1?\n",
      "Done\n",
      "\n",
      "Scraping https://psychologicke-centrum-kromeriz.webnode.cz/\n",
      "Done\n",
      "\n",
      "Scraping https://www.ssp-ol.cz/poradny-pro-rodinu/rozcestnik\n"
     ]
    },
    {
     "name": "stderr",
     "output_type": "stream",
     "text": [
      "  4%|▍         | 39/870 [00:20<05:20,  2.59it/s]"
     ]
    },
    {
     "name": "stdout",
     "output_type": "stream",
     "text": [
      "Done\n",
      "\n",
      "Scraping https://www.jekhetane.cz\n",
      "Error fetching https://www.jekhetane.cz: HTTPSConnectionPool(host='www.jekhetane.cz', port=443): Max retries exceeded with url: / (Caused by SSLError(SSLCertVerificationError(\"hostname 'www.jekhetane.cz' doesn't match either of '*.nameserver.sk', 'nameserver.sk'\")))\n",
      "Done\n",
      "\n",
      "Scraping https://psychiatrie-psychologie-kvary.webnode.cz/\n"
     ]
    },
    {
     "name": "stderr",
     "output_type": "stream",
     "text": [
      "  5%|▍         | 42/870 [00:20<03:20,  4.12it/s]"
     ]
    },
    {
     "name": "stdout",
     "output_type": "stream",
     "text": [
      "Done\n",
      "\n",
      "Scraping https://www.firmy.cz/detail/385148-mudr-frantisek-zahourek-pisek-budejovicke-predmesti.html\n",
      "Error fetching https://www.firmy.cz/detail/385148-mudr-frantisek-zahourek-pisek-budejovicke-predmesti.html: 410 Client Error: Gone for url: https://www.firmy.cz/detail/385148-mudr-frantisek-zahourek-pisek-budejovicke-predmesti.html\n",
      "Done\n",
      "\n",
      "Scraping https://lpzsokolov.cz/index.php/lekari#mudr-moravcova-michaela\n"
     ]
    },
    {
     "name": "stderr",
     "output_type": "stream",
     "text": [
      "  5%|▍         | 43/870 [00:20<03:50,  3.59it/s]"
     ]
    },
    {
     "name": "stdout",
     "output_type": "stream",
     "text": [
      "Done\n",
      "\n",
      "Scraping http://www.psychoterapeuti.cz/adresar-psychoterapeutu/item/68-dufek-jan-mgr\n"
     ]
    },
    {
     "name": "stderr",
     "output_type": "stream",
     "text": [
      "  5%|▌         | 44/870 [00:21<04:07,  3.33it/s]"
     ]
    },
    {
     "name": "stdout",
     "output_type": "stream",
     "text": [
      "Done\n",
      "\n",
      "Scraping http://www.pateb.cz\n"
     ]
    },
    {
     "name": "stderr",
     "output_type": "stream",
     "text": [
      "  5%|▌         | 45/870 [00:25<17:13,  1.25s/it]"
     ]
    },
    {
     "name": "stdout",
     "output_type": "stream",
     "text": [
      "Done\n",
      "\n",
      "Scraping https://www.centrum-acko.cz/index.php/o-nas/poradna/poradna-detailni-popis-sluzby/\n"
     ]
    },
    {
     "name": "stderr",
     "output_type": "stream",
     "text": [
      "  5%|▌         | 46/870 [00:27<20:03,  1.46s/it]"
     ]
    },
    {
     "name": "stdout",
     "output_type": "stream",
     "text": [
      "Done\n",
      "\n",
      "Scraping http://www.kotec.cz/regiony/cheb/kontaktni-centrum/\n"
     ]
    },
    {
     "name": "stderr",
     "output_type": "stream",
     "text": [
      "  5%|▌         | 47/870 [00:28<19:36,  1.43s/it]"
     ]
    },
    {
     "name": "stdout",
     "output_type": "stream",
     "text": [
      "Done\n",
      "\n",
      "Scraping https://www.dopravnipsycholog.info/\n"
     ]
    },
    {
     "name": "stderr",
     "output_type": "stream",
     "text": [
      "  6%|▌         | 48/870 [00:28<14:50,  1.08s/it]"
     ]
    },
    {
     "name": "stdout",
     "output_type": "stream",
     "text": [
      "Done\n",
      "\n",
      "Scraping https://www.ceskytesin.charita.cz\n"
     ]
    },
    {
     "name": "stderr",
     "output_type": "stream",
     "text": [
      "  6%|▌         | 51/870 [00:29<06:50,  2.00it/s]"
     ]
    },
    {
     "name": "stdout",
     "output_type": "stream",
     "text": [
      "Done\n",
      "\n",
      "Scraping proximity.unas.cz\n",
      "Error fetching proximity.unas.cz: Invalid URL 'proximity.unas.cz': No schema supplied. Perhaps you meant http://proximity.unas.cz?\n",
      "Done\n",
      "\n",
      "Scraping https://psychologie-jablunkov.webnode.cz/\n",
      "Done\n",
      "\n",
      "Scraping https://www.proximasociale.cz\n"
     ]
    },
    {
     "name": "stderr",
     "output_type": "stream",
     "text": [
      "  6%|▌         | 53/870 [00:29<04:41,  2.90it/s]"
     ]
    },
    {
     "name": "stdout",
     "output_type": "stream",
     "text": [
      "Done\n",
      "\n",
      "Scraping https://www.detska-psychiatrie-mudr-novotna.cz/\n",
      "Done\n",
      "\n",
      "Scraping http://www.krystalhelp.cz/\n"
     ]
    },
    {
     "name": "stderr",
     "output_type": "stream",
     "text": [
      "  6%|▌         | 54/870 [00:30<06:05,  2.24it/s]"
     ]
    },
    {
     "name": "stdout",
     "output_type": "stream",
     "text": [
      "Done\n",
      "\n",
      "Scraping http://dusevnizdravi.com/centrum-dusevniho-zdravi/\n"
     ]
    },
    {
     "name": "stderr",
     "output_type": "stream",
     "text": [
      "  6%|▋         | 55/870 [00:39<39:31,  2.91s/it]"
     ]
    },
    {
     "name": "stdout",
     "output_type": "stream",
     "text": [
      "Done\n",
      "\n",
      "Scraping http://www.psycholog-tejklova.cz/\n",
      "Done\n",
      "\n",
      "Scraping http://www.psychoterapeuti.cz/adresar-psychoterapeutu/item/22-forman-hynek-mudr\n"
     ]
    },
    {
     "name": "stderr",
     "output_type": "stream",
     "text": [
      "  7%|▋         | 57/870 [00:39<23:24,  1.73s/it]"
     ]
    },
    {
     "name": "stdout",
     "output_type": "stream",
     "text": [
      "Done\n",
      "\n",
      "Scraping https://www.skp-centrum.cz\n"
     ]
    },
    {
     "name": "stderr",
     "output_type": "stream",
     "text": [
      "  7%|▋         | 60/870 [00:41<13:01,  1.04it/s]"
     ]
    },
    {
     "name": "stdout",
     "output_type": "stream",
     "text": [
      "Done\n",
      "\n",
      "Scraping http:// www.psycholog-sro.cz\n",
      "Error fetching http:// www.psycholog-sro.cz: HTTPConnectionPool(host='%20www.psycholog-sro.cz', port=80): Max retries exceeded with url: / (Caused by NewConnectionError('<urllib3.connection.HTTPConnection object at 0x7ff518994730>: Failed to establish a new connection: [Errno 8] nodename nor servname provided, or not known'))\n",
      "Done\n",
      "\n",
      "Scraping http://www.spondea.cz/\n",
      "Done\n",
      "\n",
      "Scraping https://www.poradnaprozeny.eu/#utm_source=firmy.cz&utm_medium=ppd&utm_campaign=firmy.cz-12891669\n"
     ]
    },
    {
     "name": "stderr",
     "output_type": "stream",
     "text": [
      "  7%|▋         | 61/870 [00:41<10:40,  1.26it/s]"
     ]
    },
    {
     "name": "stdout",
     "output_type": "stream",
     "text": [
      "Done\n",
      "\n",
      "Scraping http://www.adiktologickecentrum.cz/kontakt/1-melnik\n"
     ]
    },
    {
     "name": "stderr",
     "output_type": "stream",
     "text": [
      "  7%|▋         | 62/870 [00:43<15:47,  1.17s/it]"
     ]
    },
    {
     "name": "stdout",
     "output_type": "stream",
     "text": [
      "Done\n",
      "\n",
      "Scraping http://www.modredvere.cz/cz/modre-dvere-praha\n"
     ]
    },
    {
     "name": "stderr",
     "output_type": "stream",
     "text": [
      "  7%|▋         | 63/870 [00:44<13:18,  1.01it/s]"
     ]
    },
    {
     "name": "stdout",
     "output_type": "stream",
     "text": [
      "Done\n",
      "\n",
      "Scraping http://www.vsetin.caritas.cz\n"
     ]
    },
    {
     "name": "stderr",
     "output_type": "stream",
     "text": [
      "  7%|▋         | 64/870 [00:44<11:01,  1.22it/s]"
     ]
    },
    {
     "name": "stdout",
     "output_type": "stream",
     "text": [
      "Done\n",
      "\n",
      "Scraping http://www.vidacentrum.cz/\n"
     ]
    },
    {
     "name": "stderr",
     "output_type": "stream",
     "text": [
      "  8%|▊         | 66/870 [00:46<11:56,  1.12it/s]"
     ]
    },
    {
     "name": "stdout",
     "output_type": "stream",
     "text": [
      "Done\n",
      "\n",
      "Scraping http://www.charitahk.cz/\n",
      "Done\n",
      "\n",
      "Scraping http://www.psychoterapeuti.cz/adresar-psychoterapeutu/item/19-drabkova-hana-phdr\n"
     ]
    },
    {
     "name": "stderr",
     "output_type": "stream",
     "text": [
      "  8%|▊         | 67/870 [00:47<10:15,  1.31it/s]"
     ]
    },
    {
     "name": "stdout",
     "output_type": "stream",
     "text": [
      "Done\n",
      "\n",
      "Scraping https://www.firmy.cz/detail/479833-mudr-lubomir-hadas-hradec-kralove.html\n"
     ]
    },
    {
     "name": "stderr",
     "output_type": "stream",
     "text": [
      "  8%|▊         | 68/870 [00:47<08:33,  1.56it/s]"
     ]
    },
    {
     "name": "stdout",
     "output_type": "stream",
     "text": [
      "Done\n",
      "\n",
      "Scraping http://psychologiebratkova.cz/\n"
     ]
    },
    {
     "name": "stderr",
     "output_type": "stream",
     "text": [
      "  8%|▊         | 69/870 [00:48<10:49,  1.23it/s]"
     ]
    },
    {
     "name": "stdout",
     "output_type": "stream",
     "text": [
      "Done\n",
      "\n",
      "Scraping https://www.ambulancekm.cz/\n"
     ]
    },
    {
     "name": "stderr",
     "output_type": "stream",
     "text": [
      "  8%|▊         | 70/870 [00:49<08:30,  1.57it/s]"
     ]
    },
    {
     "name": "stdout",
     "output_type": "stream",
     "text": [
      "Done\n",
      "\n",
      "Scraping https://www.fnhk.cz/psych/kliniky-ambulance.html#utm_source=firmy.cz&utm_medium=ppd&utm_content=kategorie&utm_term=Psychiatrick%c3%a9%20ambulance&utm_campaign=firmy.cz-12989534\n"
     ]
    },
    {
     "name": "stderr",
     "output_type": "stream",
     "text": [
      "  8%|▊         | 73/870 [00:49<04:23,  3.02it/s]"
     ]
    },
    {
     "name": "stdout",
     "output_type": "stream",
     "text": [
      "Done\n",
      "\n",
      "Scraping http://www.psychoterapeut-liberec.cz/\n",
      "Done\n",
      "\n",
      "Scraping http://www.r-mosty.cz\n",
      "Done\n",
      "\n",
      "Scraping http://www.spirala-ul.cz/\n"
     ]
    },
    {
     "name": "stderr",
     "output_type": "stream",
     "text": [
      "  9%|▊         | 74/870 [00:52<13:27,  1.01s/it]"
     ]
    },
    {
     "name": "stdout",
     "output_type": "stream",
     "text": [
      "Done\n",
      "\n",
      "Scraping https://psychologvsetin.cz/\n"
     ]
    },
    {
     "name": "stderr",
     "output_type": "stream",
     "text": [
      "  9%|▊         | 75/870 [01:02<44:05,  3.33s/it]"
     ]
    },
    {
     "name": "stdout",
     "output_type": "stream",
     "text": [
      "Done\n",
      "\n",
      "Scraping https://www.firmy.cz/detail/2422937-mudr-veronika-pavlacka-vaverkova-stare-mesto.html\n"
     ]
    },
    {
     "name": "stderr",
     "output_type": "stream",
     "text": [
      "  9%|▊         | 76/870 [01:02<33:11,  2.51s/it]"
     ]
    },
    {
     "name": "stdout",
     "output_type": "stream",
     "text": [
      "Done\n",
      "\n",
      "Scraping https://www.firmy.cz/detail/12999364-phdr-eva-otterova-hradec-kralove.html\n"
     ]
    },
    {
     "name": "stderr",
     "output_type": "stream",
     "text": [
      "  9%|▉         | 78/870 [01:03<19:30,  1.48s/it]"
     ]
    },
    {
     "name": "stdout",
     "output_type": "stream",
     "text": [
      "Done\n",
      "\n",
      "Scraping http://www.dejdar-martin.cz/\n",
      "Done\n",
      "\n",
      "Scraping https://www.diakoniezapad.cz/sluzby-diakonie-zapad/pro-lidi-v-nouzi/poradna-pro-obcany-v-nesnazich/\n"
     ]
    },
    {
     "name": "stderr",
     "output_type": "stream",
     "text": [
      "  9%|▉         | 79/870 [01:04<15:15,  1.16s/it]"
     ]
    },
    {
     "name": "stdout",
     "output_type": "stream",
     "text": [
      "Error fetching https://www.diakoniezapad.cz/sluzby-diakonie-zapad/pro-lidi-v-nouzi/poradna-pro-obcany-v-nesnazich/: 404 Client Error: Not Found for url: https://www.zapad.diakonie.cz/sluzby-diakonie-zapad/pro-lidi-v-nouzi/poradna-pro-obcany-v-nesnazich/\n",
      "Done\n",
      "\n",
      "Scraping http://ppp3a9.cz/\n",
      "Error fetching http://ppp3a9.cz/: HTTPConnectionPool(host='ppp3a9.cz', port=80): Max retries exceeded with url: / (Caused by NewConnectionError('<urllib3.connection.HTTPConnection object at 0x7ff4e855b460>: Failed to establish a new connection: [Errno 8] nodename nor servname provided, or not known'))\n",
      "Done\n",
      "\n",
      "Scraping https://www.freeklub.cz\n"
     ]
    },
    {
     "name": "stderr",
     "output_type": "stream",
     "text": [
      "  9%|▉         | 80/870 [01:24<13:56,  1.06s/it]\n"
     ]
    },
    {
     "ename": "KeyboardInterrupt",
     "evalue": "",
     "output_type": "error",
     "traceback": [
      "\u001b[0;31m---------------------------------------------------------------------------\u001b[0m",
      "\u001b[0;31mKeyboardInterrupt\u001b[0m                         Traceback (most recent call last)",
      "\u001b[0;32m/var/folders/rd/l77bltt96_97jdz4bbkmq5z40000gn/T/ipykernel_40531/229863942.py\u001b[0m in \u001b[0;36m<module>\u001b[0;34m\u001b[0m\n\u001b[1;32m     25\u001b[0m     \u001b[0mprint\u001b[0m\u001b[0;34m(\u001b[0m\u001b[0;34mf\"Scraping {url}\"\u001b[0m\u001b[0;34m)\u001b[0m\u001b[0;34m\u001b[0m\u001b[0;34m\u001b[0m\u001b[0m\n\u001b[1;32m     26\u001b[0m \u001b[0;34m\u001b[0m\u001b[0m\n\u001b[0;32m---> 27\u001b[0;31m     \u001b[0memails\u001b[0m\u001b[0;34m,\u001b[0m \u001b[0mphones\u001b[0m \u001b[0;34m=\u001b[0m \u001b[0mscrape_website\u001b[0m\u001b[0;34m(\u001b[0m\u001b[0murl\u001b[0m\u001b[0;34m)\u001b[0m\u001b[0;34m\u001b[0m\u001b[0;34m\u001b[0m\u001b[0m\n\u001b[0m\u001b[1;32m     28\u001b[0m     \u001b[0;31m# Convert sets to comma-separated strings for storage\u001b[0m\u001b[0;34m\u001b[0m\u001b[0;34m\u001b[0m\u001b[0m\n\u001b[1;32m     29\u001b[0m     \u001b[0;31m#emails_str = ', '.join(emails)\u001b[0m\u001b[0;34m\u001b[0m\u001b[0;34m\u001b[0m\u001b[0m\n",
      "\u001b[0;32m/var/folders/rd/l77bltt96_97jdz4bbkmq5z40000gn/T/ipykernel_40531/229863942.py\u001b[0m in \u001b[0;36mscrape_website\u001b[0;34m(url)\u001b[0m\n\u001b[1;32m      9\u001b[0m \u001b[0;32mdef\u001b[0m \u001b[0mscrape_website\u001b[0m\u001b[0;34m(\u001b[0m\u001b[0murl\u001b[0m\u001b[0;34m)\u001b[0m\u001b[0;34m:\u001b[0m\u001b[0;34m\u001b[0m\u001b[0;34m\u001b[0m\u001b[0m\n\u001b[1;32m     10\u001b[0m     \u001b[0;32mtry\u001b[0m\u001b[0;34m:\u001b[0m\u001b[0;34m\u001b[0m\u001b[0;34m\u001b[0m\u001b[0m\n\u001b[0;32m---> 11\u001b[0;31m         \u001b[0mresponse\u001b[0m \u001b[0;34m=\u001b[0m \u001b[0mrequests\u001b[0m\u001b[0;34m.\u001b[0m\u001b[0mget\u001b[0m\u001b[0;34m(\u001b[0m\u001b[0murl\u001b[0m\u001b[0;34m)\u001b[0m\u001b[0;34m\u001b[0m\u001b[0;34m\u001b[0m\u001b[0m\n\u001b[0m\u001b[1;32m     12\u001b[0m         \u001b[0mresponse\u001b[0m\u001b[0;34m.\u001b[0m\u001b[0mraise_for_status\u001b[0m\u001b[0;34m(\u001b[0m\u001b[0;34m)\u001b[0m  \u001b[0;31m# Raises an HTTPError if the response status code is 4XX or 5XX\u001b[0m\u001b[0;34m\u001b[0m\u001b[0;34m\u001b[0m\u001b[0m\n\u001b[1;32m     13\u001b[0m         \u001b[0msoup\u001b[0m \u001b[0;34m=\u001b[0m \u001b[0mBeautifulSoup\u001b[0m\u001b[0;34m(\u001b[0m\u001b[0mresponse\u001b[0m\u001b[0;34m.\u001b[0m\u001b[0mtext\u001b[0m\u001b[0;34m,\u001b[0m \u001b[0;34m'html.parser'\u001b[0m\u001b[0;34m)\u001b[0m\u001b[0;34m\u001b[0m\u001b[0;34m\u001b[0m\u001b[0m\n",
      "\u001b[0;32m~/opt/anaconda3/lib/python3.9/site-packages/requests/api.py\u001b[0m in \u001b[0;36mget\u001b[0;34m(url, params, **kwargs)\u001b[0m\n\u001b[1;32m     73\u001b[0m     \"\"\"\n\u001b[1;32m     74\u001b[0m \u001b[0;34m\u001b[0m\u001b[0m\n\u001b[0;32m---> 75\u001b[0;31m     \u001b[0;32mreturn\u001b[0m \u001b[0mrequest\u001b[0m\u001b[0;34m(\u001b[0m\u001b[0;34m'get'\u001b[0m\u001b[0;34m,\u001b[0m \u001b[0murl\u001b[0m\u001b[0;34m,\u001b[0m \u001b[0mparams\u001b[0m\u001b[0;34m=\u001b[0m\u001b[0mparams\u001b[0m\u001b[0;34m,\u001b[0m \u001b[0;34m**\u001b[0m\u001b[0mkwargs\u001b[0m\u001b[0;34m)\u001b[0m\u001b[0;34m\u001b[0m\u001b[0;34m\u001b[0m\u001b[0m\n\u001b[0m\u001b[1;32m     76\u001b[0m \u001b[0;34m\u001b[0m\u001b[0m\n\u001b[1;32m     77\u001b[0m \u001b[0;34m\u001b[0m\u001b[0m\n",
      "\u001b[0;32m~/opt/anaconda3/lib/python3.9/site-packages/requests/api.py\u001b[0m in \u001b[0;36mrequest\u001b[0;34m(method, url, **kwargs)\u001b[0m\n\u001b[1;32m     59\u001b[0m     \u001b[0;31m# cases, and look like a memory leak in others.\u001b[0m\u001b[0;34m\u001b[0m\u001b[0;34m\u001b[0m\u001b[0m\n\u001b[1;32m     60\u001b[0m     \u001b[0;32mwith\u001b[0m \u001b[0msessions\u001b[0m\u001b[0;34m.\u001b[0m\u001b[0mSession\u001b[0m\u001b[0;34m(\u001b[0m\u001b[0;34m)\u001b[0m \u001b[0;32mas\u001b[0m \u001b[0msession\u001b[0m\u001b[0;34m:\u001b[0m\u001b[0;34m\u001b[0m\u001b[0;34m\u001b[0m\u001b[0m\n\u001b[0;32m---> 61\u001b[0;31m         \u001b[0;32mreturn\u001b[0m \u001b[0msession\u001b[0m\u001b[0;34m.\u001b[0m\u001b[0mrequest\u001b[0m\u001b[0;34m(\u001b[0m\u001b[0mmethod\u001b[0m\u001b[0;34m=\u001b[0m\u001b[0mmethod\u001b[0m\u001b[0;34m,\u001b[0m \u001b[0murl\u001b[0m\u001b[0;34m=\u001b[0m\u001b[0murl\u001b[0m\u001b[0;34m,\u001b[0m \u001b[0;34m**\u001b[0m\u001b[0mkwargs\u001b[0m\u001b[0;34m)\u001b[0m\u001b[0;34m\u001b[0m\u001b[0;34m\u001b[0m\u001b[0m\n\u001b[0m\u001b[1;32m     62\u001b[0m \u001b[0;34m\u001b[0m\u001b[0m\n\u001b[1;32m     63\u001b[0m \u001b[0;34m\u001b[0m\u001b[0m\n",
      "\u001b[0;32m~/opt/anaconda3/lib/python3.9/site-packages/requests/sessions.py\u001b[0m in \u001b[0;36mrequest\u001b[0;34m(self, method, url, params, data, headers, cookies, files, auth, timeout, allow_redirects, proxies, hooks, stream, verify, cert, json)\u001b[0m\n\u001b[1;32m    540\u001b[0m         }\n\u001b[1;32m    541\u001b[0m         \u001b[0msend_kwargs\u001b[0m\u001b[0;34m.\u001b[0m\u001b[0mupdate\u001b[0m\u001b[0;34m(\u001b[0m\u001b[0msettings\u001b[0m\u001b[0;34m)\u001b[0m\u001b[0;34m\u001b[0m\u001b[0;34m\u001b[0m\u001b[0m\n\u001b[0;32m--> 542\u001b[0;31m         \u001b[0mresp\u001b[0m \u001b[0;34m=\u001b[0m \u001b[0mself\u001b[0m\u001b[0;34m.\u001b[0m\u001b[0msend\u001b[0m\u001b[0;34m(\u001b[0m\u001b[0mprep\u001b[0m\u001b[0;34m,\u001b[0m \u001b[0;34m**\u001b[0m\u001b[0msend_kwargs\u001b[0m\u001b[0;34m)\u001b[0m\u001b[0;34m\u001b[0m\u001b[0;34m\u001b[0m\u001b[0m\n\u001b[0m\u001b[1;32m    543\u001b[0m \u001b[0;34m\u001b[0m\u001b[0m\n\u001b[1;32m    544\u001b[0m         \u001b[0;32mreturn\u001b[0m \u001b[0mresp\u001b[0m\u001b[0;34m\u001b[0m\u001b[0;34m\u001b[0m\u001b[0m\n",
      "\u001b[0;32m~/opt/anaconda3/lib/python3.9/site-packages/requests/sessions.py\u001b[0m in \u001b[0;36msend\u001b[0;34m(self, request, **kwargs)\u001b[0m\n\u001b[1;32m    653\u001b[0m \u001b[0;34m\u001b[0m\u001b[0m\n\u001b[1;32m    654\u001b[0m         \u001b[0;31m# Send the request\u001b[0m\u001b[0;34m\u001b[0m\u001b[0;34m\u001b[0m\u001b[0m\n\u001b[0;32m--> 655\u001b[0;31m         \u001b[0mr\u001b[0m \u001b[0;34m=\u001b[0m \u001b[0madapter\u001b[0m\u001b[0;34m.\u001b[0m\u001b[0msend\u001b[0m\u001b[0;34m(\u001b[0m\u001b[0mrequest\u001b[0m\u001b[0;34m,\u001b[0m \u001b[0;34m**\u001b[0m\u001b[0mkwargs\u001b[0m\u001b[0;34m)\u001b[0m\u001b[0;34m\u001b[0m\u001b[0;34m\u001b[0m\u001b[0m\n\u001b[0m\u001b[1;32m    656\u001b[0m \u001b[0;34m\u001b[0m\u001b[0m\n\u001b[1;32m    657\u001b[0m         \u001b[0;31m# Total elapsed time of the request (approximately)\u001b[0m\u001b[0;34m\u001b[0m\u001b[0;34m\u001b[0m\u001b[0m\n",
      "\u001b[0;32m~/opt/anaconda3/lib/python3.9/site-packages/requests/adapters.py\u001b[0m in \u001b[0;36msend\u001b[0;34m(self, request, stream, timeout, verify, cert, proxies)\u001b[0m\n\u001b[1;32m    437\u001b[0m         \u001b[0;32mtry\u001b[0m\u001b[0;34m:\u001b[0m\u001b[0;34m\u001b[0m\u001b[0;34m\u001b[0m\u001b[0m\n\u001b[1;32m    438\u001b[0m             \u001b[0;32mif\u001b[0m \u001b[0;32mnot\u001b[0m \u001b[0mchunked\u001b[0m\u001b[0;34m:\u001b[0m\u001b[0;34m\u001b[0m\u001b[0;34m\u001b[0m\u001b[0m\n\u001b[0;32m--> 439\u001b[0;31m                 resp = conn.urlopen(\n\u001b[0m\u001b[1;32m    440\u001b[0m                     \u001b[0mmethod\u001b[0m\u001b[0;34m=\u001b[0m\u001b[0mrequest\u001b[0m\u001b[0;34m.\u001b[0m\u001b[0mmethod\u001b[0m\u001b[0;34m,\u001b[0m\u001b[0;34m\u001b[0m\u001b[0;34m\u001b[0m\u001b[0m\n\u001b[1;32m    441\u001b[0m                     \u001b[0murl\u001b[0m\u001b[0;34m=\u001b[0m\u001b[0murl\u001b[0m\u001b[0;34m,\u001b[0m\u001b[0;34m\u001b[0m\u001b[0;34m\u001b[0m\u001b[0m\n",
      "\u001b[0;32m~/opt/anaconda3/lib/python3.9/site-packages/urllib3/connectionpool.py\u001b[0m in \u001b[0;36murlopen\u001b[0;34m(self, method, url, body, headers, retries, redirect, assert_same_host, timeout, pool_timeout, release_conn, chunked, body_pos, **response_kw)\u001b[0m\n\u001b[1;32m    697\u001b[0m \u001b[0;34m\u001b[0m\u001b[0m\n\u001b[1;32m    698\u001b[0m             \u001b[0;31m# Make the request on the httplib connection object.\u001b[0m\u001b[0;34m\u001b[0m\u001b[0;34m\u001b[0m\u001b[0m\n\u001b[0;32m--> 699\u001b[0;31m             httplib_response = self._make_request(\n\u001b[0m\u001b[1;32m    700\u001b[0m                 \u001b[0mconn\u001b[0m\u001b[0;34m,\u001b[0m\u001b[0;34m\u001b[0m\u001b[0;34m\u001b[0m\u001b[0m\n\u001b[1;32m    701\u001b[0m                 \u001b[0mmethod\u001b[0m\u001b[0;34m,\u001b[0m\u001b[0;34m\u001b[0m\u001b[0;34m\u001b[0m\u001b[0m\n",
      "\u001b[0;32m~/opt/anaconda3/lib/python3.9/site-packages/urllib3/connectionpool.py\u001b[0m in \u001b[0;36m_make_request\u001b[0;34m(self, conn, method, url, timeout, chunked, **httplib_request_kw)\u001b[0m\n\u001b[1;32m    380\u001b[0m         \u001b[0;31m# Trigger any extra validation we need to do.\u001b[0m\u001b[0;34m\u001b[0m\u001b[0;34m\u001b[0m\u001b[0m\n\u001b[1;32m    381\u001b[0m         \u001b[0;32mtry\u001b[0m\u001b[0;34m:\u001b[0m\u001b[0;34m\u001b[0m\u001b[0;34m\u001b[0m\u001b[0m\n\u001b[0;32m--> 382\u001b[0;31m             \u001b[0mself\u001b[0m\u001b[0;34m.\u001b[0m\u001b[0m_validate_conn\u001b[0m\u001b[0;34m(\u001b[0m\u001b[0mconn\u001b[0m\u001b[0;34m)\u001b[0m\u001b[0;34m\u001b[0m\u001b[0;34m\u001b[0m\u001b[0m\n\u001b[0m\u001b[1;32m    383\u001b[0m         \u001b[0;32mexcept\u001b[0m \u001b[0;34m(\u001b[0m\u001b[0mSocketTimeout\u001b[0m\u001b[0;34m,\u001b[0m \u001b[0mBaseSSLError\u001b[0m\u001b[0;34m)\u001b[0m \u001b[0;32mas\u001b[0m \u001b[0me\u001b[0m\u001b[0;34m:\u001b[0m\u001b[0;34m\u001b[0m\u001b[0;34m\u001b[0m\u001b[0m\n\u001b[1;32m    384\u001b[0m             \u001b[0;31m# Py2 raises this as a BaseSSLError, Py3 raises it as socket timeout.\u001b[0m\u001b[0;34m\u001b[0m\u001b[0;34m\u001b[0m\u001b[0m\n",
      "\u001b[0;32m~/opt/anaconda3/lib/python3.9/site-packages/urllib3/connectionpool.py\u001b[0m in \u001b[0;36m_validate_conn\u001b[0;34m(self, conn)\u001b[0m\n\u001b[1;32m   1008\u001b[0m         \u001b[0;31m# Force connect early to allow us to validate the connection.\u001b[0m\u001b[0;34m\u001b[0m\u001b[0;34m\u001b[0m\u001b[0m\n\u001b[1;32m   1009\u001b[0m         \u001b[0;32mif\u001b[0m \u001b[0;32mnot\u001b[0m \u001b[0mgetattr\u001b[0m\u001b[0;34m(\u001b[0m\u001b[0mconn\u001b[0m\u001b[0;34m,\u001b[0m \u001b[0;34m\"sock\"\u001b[0m\u001b[0;34m,\u001b[0m \u001b[0;32mNone\u001b[0m\u001b[0;34m)\u001b[0m\u001b[0;34m:\u001b[0m  \u001b[0;31m# AppEngine might not have  `.sock`\u001b[0m\u001b[0;34m\u001b[0m\u001b[0;34m\u001b[0m\u001b[0m\n\u001b[0;32m-> 1010\u001b[0;31m             \u001b[0mconn\u001b[0m\u001b[0;34m.\u001b[0m\u001b[0mconnect\u001b[0m\u001b[0;34m(\u001b[0m\u001b[0;34m)\u001b[0m\u001b[0;34m\u001b[0m\u001b[0;34m\u001b[0m\u001b[0m\n\u001b[0m\u001b[1;32m   1011\u001b[0m \u001b[0;34m\u001b[0m\u001b[0m\n\u001b[1;32m   1012\u001b[0m         \u001b[0;32mif\u001b[0m \u001b[0;32mnot\u001b[0m \u001b[0mconn\u001b[0m\u001b[0;34m.\u001b[0m\u001b[0mis_verified\u001b[0m\u001b[0;34m:\u001b[0m\u001b[0;34m\u001b[0m\u001b[0;34m\u001b[0m\u001b[0m\n",
      "\u001b[0;32m~/opt/anaconda3/lib/python3.9/site-packages/urllib3/connection.py\u001b[0m in \u001b[0;36mconnect\u001b[0;34m(self)\u001b[0m\n\u001b[1;32m    356\u001b[0m     \u001b[0;32mdef\u001b[0m \u001b[0mconnect\u001b[0m\u001b[0;34m(\u001b[0m\u001b[0mself\u001b[0m\u001b[0;34m)\u001b[0m\u001b[0;34m:\u001b[0m\u001b[0;34m\u001b[0m\u001b[0;34m\u001b[0m\u001b[0m\n\u001b[1;32m    357\u001b[0m         \u001b[0;31m# Add certificate verification\u001b[0m\u001b[0;34m\u001b[0m\u001b[0;34m\u001b[0m\u001b[0m\n\u001b[0;32m--> 358\u001b[0;31m         \u001b[0mconn\u001b[0m \u001b[0;34m=\u001b[0m \u001b[0mself\u001b[0m\u001b[0;34m.\u001b[0m\u001b[0m_new_conn\u001b[0m\u001b[0;34m(\u001b[0m\u001b[0;34m)\u001b[0m\u001b[0;34m\u001b[0m\u001b[0;34m\u001b[0m\u001b[0m\n\u001b[0m\u001b[1;32m    359\u001b[0m         \u001b[0mhostname\u001b[0m \u001b[0;34m=\u001b[0m \u001b[0mself\u001b[0m\u001b[0;34m.\u001b[0m\u001b[0mhost\u001b[0m\u001b[0;34m\u001b[0m\u001b[0;34m\u001b[0m\u001b[0m\n\u001b[1;32m    360\u001b[0m         \u001b[0mtls_in_tls\u001b[0m \u001b[0;34m=\u001b[0m \u001b[0;32mFalse\u001b[0m\u001b[0;34m\u001b[0m\u001b[0;34m\u001b[0m\u001b[0m\n",
      "\u001b[0;32m~/opt/anaconda3/lib/python3.9/site-packages/urllib3/connection.py\u001b[0m in \u001b[0;36m_new_conn\u001b[0;34m(self)\u001b[0m\n\u001b[1;32m    172\u001b[0m \u001b[0;34m\u001b[0m\u001b[0m\n\u001b[1;32m    173\u001b[0m         \u001b[0;32mtry\u001b[0m\u001b[0;34m:\u001b[0m\u001b[0;34m\u001b[0m\u001b[0;34m\u001b[0m\u001b[0m\n\u001b[0;32m--> 174\u001b[0;31m             conn = connection.create_connection(\n\u001b[0m\u001b[1;32m    175\u001b[0m                 \u001b[0;34m(\u001b[0m\u001b[0mself\u001b[0m\u001b[0;34m.\u001b[0m\u001b[0m_dns_host\u001b[0m\u001b[0;34m,\u001b[0m \u001b[0mself\u001b[0m\u001b[0;34m.\u001b[0m\u001b[0mport\u001b[0m\u001b[0;34m)\u001b[0m\u001b[0;34m,\u001b[0m \u001b[0mself\u001b[0m\u001b[0;34m.\u001b[0m\u001b[0mtimeout\u001b[0m\u001b[0;34m,\u001b[0m \u001b[0;34m**\u001b[0m\u001b[0mextra_kw\u001b[0m\u001b[0;34m\u001b[0m\u001b[0;34m\u001b[0m\u001b[0m\n\u001b[1;32m    176\u001b[0m             )\n",
      "\u001b[0;32m~/opt/anaconda3/lib/python3.9/site-packages/urllib3/util/connection.py\u001b[0m in \u001b[0;36mcreate_connection\u001b[0;34m(address, timeout, source_address, socket_options)\u001b[0m\n\u001b[1;32m     84\u001b[0m             \u001b[0;32mif\u001b[0m \u001b[0msource_address\u001b[0m\u001b[0;34m:\u001b[0m\u001b[0;34m\u001b[0m\u001b[0;34m\u001b[0m\u001b[0m\n\u001b[1;32m     85\u001b[0m                 \u001b[0msock\u001b[0m\u001b[0;34m.\u001b[0m\u001b[0mbind\u001b[0m\u001b[0;34m(\u001b[0m\u001b[0msource_address\u001b[0m\u001b[0;34m)\u001b[0m\u001b[0;34m\u001b[0m\u001b[0;34m\u001b[0m\u001b[0m\n\u001b[0;32m---> 86\u001b[0;31m             \u001b[0msock\u001b[0m\u001b[0;34m.\u001b[0m\u001b[0mconnect\u001b[0m\u001b[0;34m(\u001b[0m\u001b[0msa\u001b[0m\u001b[0;34m)\u001b[0m\u001b[0;34m\u001b[0m\u001b[0;34m\u001b[0m\u001b[0m\n\u001b[0m\u001b[1;32m     87\u001b[0m             \u001b[0;32mreturn\u001b[0m \u001b[0msock\u001b[0m\u001b[0;34m\u001b[0m\u001b[0;34m\u001b[0m\u001b[0m\n\u001b[1;32m     88\u001b[0m \u001b[0;34m\u001b[0m\u001b[0m\n",
      "\u001b[0;31mKeyboardInterrupt\u001b[0m: "
     ]
    }
   ],
   "source": [
    "\n",
    "# Regular expressions for matching emails and phone numbers\n",
    "email_regex = re.compile(r\"[a-zA-Z0-9_.+-]+@[a-zA-Z0-9-]+\\.[a-zA-Z0-9-.]+\")\n",
    "phone_regex = re.compile(r\"\\+?(\\d[\\d\\-\\(\\) ]{9,}\\d)\")\n",
    "\n",
    "# List to collect data\n",
    "data = []\n",
    "\n",
    "# Function to scrape a single URL\n",
    "def scrape_website(url):\n",
    "    try:\n",
    "        response = requests.get(url)\n",
    "        response.raise_for_status()  # Raises an HTTPError if the response status code is 4XX or 5XX\n",
    "        soup = BeautifulSoup(response.text, 'html.parser')\n",
    "\n",
    "        emails = set(email_regex.findall(soup.text))\n",
    "        phones = set(phone_regex.findall(soup.text))\n",
    "\n",
    "        return emails, phones\n",
    "    except requests.RequestException as e:\n",
    "        print(f\"Error fetching {url}: {e}\")\n",
    "        return set(), set()\n",
    "\n",
    "# Loop through the URLs and scrape each one\n",
    "for url in tqdm(urls):\n",
    "    print(f\"Scraping {url}\")\n",
    "    \n",
    "    emails, phones = scrape_website(url)\n",
    "    # Convert sets to comma-separated strings for storage\n",
    "    #emails_str = ', '.join(emails)\n",
    "    phones_str = ', '.join(phones)\n",
    "    \n",
    "    # Collect data\n",
    "    #data.append({'Website': url, 'Emails': emails_str, 'Phone Numbers': phones_str})\n",
    "    data.append({'Website': url, 'Phone Numbers': phones_str})\n",
    "    print(\"Done\")\n",
    "    print(\"\")\n",
    "# Create DataFrame from collected data\n",
    "df_res = pd.DataFrame(data)\n",
    "\n",
    "print(df)"
   ]
  },
  {
   "cell_type": "code",
   "execution_count": 6,
   "metadata": {},
   "outputs": [],
   "source": [
    "df_res = pd.DataFrame(data)"
   ]
  },
  {
   "cell_type": "code",
   "execution_count": 7,
   "metadata": {},
   "outputs": [
    {
     "data": {
      "text/html": [
       "<div>\n",
       "<style scoped>\n",
       "    .dataframe tbody tr th:only-of-type {\n",
       "        vertical-align: middle;\n",
       "    }\n",
       "\n",
       "    .dataframe tbody tr th {\n",
       "        vertical-align: top;\n",
       "    }\n",
       "\n",
       "    .dataframe thead th {\n",
       "        text-align: right;\n",
       "    }\n",
       "</style>\n",
       "<table border=\"1\" class=\"dataframe\">\n",
       "  <thead>\n",
       "    <tr style=\"text-align: right;\">\n",
       "      <th></th>\n",
       "      <th>Website</th>\n",
       "      <th>Phone Numbers</th>\n",
       "    </tr>\n",
       "  </thead>\n",
       "  <tbody>\n",
       "    <tr>\n",
       "      <th>0</th>\n",
       "      <td>https://www.zachranny-kruh.cz/</td>\n",
       "      <td>1 - 197-197</td>\n",
       "    </tr>\n",
       "    <tr>\n",
       "      <th>1</th>\n",
       "      <td>http://psych.fnplzen.cz/cs/node/839</td>\n",
       "      <td>377 103 959, 377 441 850, 377 103 111, 377 401...</td>\n",
       "    </tr>\n",
       "    <tr>\n",
       "      <th>2</th>\n",
       "      <td>http://www.porceta.cz</td>\n",
       "      <td></td>\n",
       "    </tr>\n",
       "    <tr>\n",
       "      <th>3</th>\n",
       "      <td>https://www.prevent99.cz/spot/</td>\n",
       "      <td></td>\n",
       "    </tr>\n",
       "    <tr>\n",
       "      <th>4</th>\n",
       "      <td>http://www.detemzlin.cz/</td>\n",
       "      <td>577 922 056</td>\n",
       "    </tr>\n",
       "    <tr>\n",
       "      <th>...</th>\n",
       "      <td>...</td>\n",
       "      <td>...</td>\n",
       "    </tr>\n",
       "    <tr>\n",
       "      <th>75</th>\n",
       "      <td>https://www.firmy.cz/detail/2422937-mudr-veron...</td>\n",
       "      <td>420 739 122 265</td>\n",
       "    </tr>\n",
       "    <tr>\n",
       "      <th>76</th>\n",
       "      <td>https://www.firmy.cz/detail/12999364-phdr-eva-...</td>\n",
       "      <td>725 048 038, 420 774 230 134</td>\n",
       "    </tr>\n",
       "    <tr>\n",
       "      <th>77</th>\n",
       "      <td>http://www.dejdar-martin.cz/</td>\n",
       "      <td>607 535 595</td>\n",
       "    </tr>\n",
       "    <tr>\n",
       "      <th>78</th>\n",
       "      <td>https://www.diakoniezapad.cz/sluzby-diakonie-z...</td>\n",
       "      <td></td>\n",
       "    </tr>\n",
       "    <tr>\n",
       "      <th>79</th>\n",
       "      <td>http://ppp3a9.cz/</td>\n",
       "      <td></td>\n",
       "    </tr>\n",
       "  </tbody>\n",
       "</table>\n",
       "<p>80 rows × 2 columns</p>\n",
       "</div>"
      ],
      "text/plain": [
       "                                              Website  \\\n",
       "0                      https://www.zachranny-kruh.cz/   \n",
       "1                 http://psych.fnplzen.cz/cs/node/839   \n",
       "2                               http://www.porceta.cz   \n",
       "3                      https://www.prevent99.cz/spot/   \n",
       "4                            http://www.detemzlin.cz/   \n",
       "..                                                ...   \n",
       "75  https://www.firmy.cz/detail/2422937-mudr-veron...   \n",
       "76  https://www.firmy.cz/detail/12999364-phdr-eva-...   \n",
       "77                       http://www.dejdar-martin.cz/   \n",
       "78  https://www.diakoniezapad.cz/sluzby-diakonie-z...   \n",
       "79                                  http://ppp3a9.cz/   \n",
       "\n",
       "                                        Phone Numbers  \n",
       "0                                         1 - 197-197  \n",
       "1   377 103 959, 377 441 850, 377 103 111, 377 401...  \n",
       "2                                                      \n",
       "3                                                      \n",
       "4                                         577 922 056  \n",
       "..                                                ...  \n",
       "75                                    420 739 122 265  \n",
       "76                       725 048 038, 420 774 230 134  \n",
       "77                                        607 535 595  \n",
       "78                                                     \n",
       "79                                                     \n",
       "\n",
       "[80 rows x 2 columns]"
      ]
     },
     "execution_count": 7,
     "metadata": {},
     "output_type": "execute_result"
    }
   ],
   "source": [
    "df_res"
   ]
  },
  {
   "cell_type": "code",
   "execution_count": 8,
   "metadata": {},
   "outputs": [],
   "source": [
    "df_agg = df_agg.reset_index().rename(columns={'web': 'web', 'Telefon': 'Telefon'})\n",
    "df_agg = pd.DataFrame(df_agg)\n"
   ]
  },
  {
   "cell_type": "code",
   "execution_count": 9,
   "metadata": {},
   "outputs": [],
   "source": [
    "df_res = df_res.rename(columns= {\"Website\":\"web\"})"
   ]
  },
  {
   "cell_type": "code",
   "execution_count": 10,
   "metadata": {},
   "outputs": [
    {
     "ename": "KeyError",
     "evalue": "\"['level_0'] not found in axis\"",
     "output_type": "error",
     "traceback": [
      "\u001b[0;31m---------------------------------------------------------------------------\u001b[0m",
      "\u001b[0;31mKeyError\u001b[0m                                  Traceback (most recent call last)",
      "\u001b[0;32m/var/folders/rd/l77bltt96_97jdz4bbkmq5z40000gn/T/ipykernel_40531/1818291786.py\u001b[0m in \u001b[0;36m<module>\u001b[0;34m\u001b[0m\n\u001b[1;32m      1\u001b[0m \u001b[0mdf_agg\u001b[0m\u001b[0;34m.\u001b[0m\u001b[0mdrop\u001b[0m\u001b[0;34m(\u001b[0m\u001b[0;34m\"index\"\u001b[0m\u001b[0;34m,\u001b[0m \u001b[0maxis\u001b[0m \u001b[0;34m=\u001b[0m \u001b[0;36m1\u001b[0m\u001b[0;34m,\u001b[0m\u001b[0minplace\u001b[0m\u001b[0;34m=\u001b[0m\u001b[0;32mTrue\u001b[0m\u001b[0;34m)\u001b[0m\u001b[0;34m\u001b[0m\u001b[0;34m\u001b[0m\u001b[0m\n\u001b[0;32m----> 2\u001b[0;31m \u001b[0mdf_agg\u001b[0m\u001b[0;34m.\u001b[0m\u001b[0mdrop\u001b[0m\u001b[0;34m(\u001b[0m\u001b[0;34m\"level_0\"\u001b[0m\u001b[0;34m,\u001b[0m\u001b[0maxis\u001b[0m \u001b[0;34m=\u001b[0m \u001b[0;36m1\u001b[0m\u001b[0;34m,\u001b[0m \u001b[0minplace\u001b[0m\u001b[0;34m=\u001b[0m\u001b[0;32mTrue\u001b[0m\u001b[0;34m)\u001b[0m\u001b[0;34m\u001b[0m\u001b[0;34m\u001b[0m\u001b[0m\n\u001b[0m\u001b[1;32m      3\u001b[0m \u001b[0mdf_agg\u001b[0m\u001b[0;34m.\u001b[0m\u001b[0minfo\u001b[0m\u001b[0;34m(\u001b[0m\u001b[0;34m)\u001b[0m\u001b[0;34m\u001b[0m\u001b[0;34m\u001b[0m\u001b[0m\n",
      "\u001b[0;32m~/opt/anaconda3/lib/python3.9/site-packages/pandas/core/frame.py\u001b[0m in \u001b[0;36mdrop\u001b[0;34m(self, labels, axis, index, columns, level, inplace, errors)\u001b[0m\n\u001b[1;32m   5345\u001b[0m                 \u001b[0mweight\u001b[0m  \u001b[0;36m1.0\u001b[0m     \u001b[0;36m0.8\u001b[0m\u001b[0;34m\u001b[0m\u001b[0;34m\u001b[0m\u001b[0m\n\u001b[1;32m   5346\u001b[0m         \"\"\"\n\u001b[0;32m-> 5347\u001b[0;31m         return super().drop(\n\u001b[0m\u001b[1;32m   5348\u001b[0m             \u001b[0mlabels\u001b[0m\u001b[0;34m=\u001b[0m\u001b[0mlabels\u001b[0m\u001b[0;34m,\u001b[0m\u001b[0;34m\u001b[0m\u001b[0;34m\u001b[0m\u001b[0m\n\u001b[1;32m   5349\u001b[0m             \u001b[0maxis\u001b[0m\u001b[0;34m=\u001b[0m\u001b[0maxis\u001b[0m\u001b[0;34m,\u001b[0m\u001b[0;34m\u001b[0m\u001b[0;34m\u001b[0m\u001b[0m\n",
      "\u001b[0;32m~/opt/anaconda3/lib/python3.9/site-packages/pandas/core/generic.py\u001b[0m in \u001b[0;36mdrop\u001b[0;34m(self, labels, axis, index, columns, level, inplace, errors)\u001b[0m\n\u001b[1;32m   4709\u001b[0m         \u001b[0;32mfor\u001b[0m \u001b[0maxis\u001b[0m\u001b[0;34m,\u001b[0m \u001b[0mlabels\u001b[0m \u001b[0;32min\u001b[0m \u001b[0maxes\u001b[0m\u001b[0;34m.\u001b[0m\u001b[0mitems\u001b[0m\u001b[0;34m(\u001b[0m\u001b[0;34m)\u001b[0m\u001b[0;34m:\u001b[0m\u001b[0;34m\u001b[0m\u001b[0;34m\u001b[0m\u001b[0m\n\u001b[1;32m   4710\u001b[0m             \u001b[0;32mif\u001b[0m \u001b[0mlabels\u001b[0m \u001b[0;32mis\u001b[0m \u001b[0;32mnot\u001b[0m \u001b[0;32mNone\u001b[0m\u001b[0;34m:\u001b[0m\u001b[0;34m\u001b[0m\u001b[0;34m\u001b[0m\u001b[0m\n\u001b[0;32m-> 4711\u001b[0;31m                 \u001b[0mobj\u001b[0m \u001b[0;34m=\u001b[0m \u001b[0mobj\u001b[0m\u001b[0;34m.\u001b[0m\u001b[0m_drop_axis\u001b[0m\u001b[0;34m(\u001b[0m\u001b[0mlabels\u001b[0m\u001b[0;34m,\u001b[0m \u001b[0maxis\u001b[0m\u001b[0;34m,\u001b[0m \u001b[0mlevel\u001b[0m\u001b[0;34m=\u001b[0m\u001b[0mlevel\u001b[0m\u001b[0;34m,\u001b[0m \u001b[0merrors\u001b[0m\u001b[0;34m=\u001b[0m\u001b[0merrors\u001b[0m\u001b[0;34m)\u001b[0m\u001b[0;34m\u001b[0m\u001b[0;34m\u001b[0m\u001b[0m\n\u001b[0m\u001b[1;32m   4712\u001b[0m \u001b[0;34m\u001b[0m\u001b[0m\n\u001b[1;32m   4713\u001b[0m         \u001b[0;32mif\u001b[0m \u001b[0minplace\u001b[0m\u001b[0;34m:\u001b[0m\u001b[0;34m\u001b[0m\u001b[0;34m\u001b[0m\u001b[0m\n",
      "\u001b[0;32m~/opt/anaconda3/lib/python3.9/site-packages/pandas/core/generic.py\u001b[0m in \u001b[0;36m_drop_axis\u001b[0;34m(self, labels, axis, level, errors, only_slice)\u001b[0m\n\u001b[1;32m   4751\u001b[0m                 \u001b[0mnew_axis\u001b[0m \u001b[0;34m=\u001b[0m \u001b[0maxis\u001b[0m\u001b[0;34m.\u001b[0m\u001b[0mdrop\u001b[0m\u001b[0;34m(\u001b[0m\u001b[0mlabels\u001b[0m\u001b[0;34m,\u001b[0m \u001b[0mlevel\u001b[0m\u001b[0;34m=\u001b[0m\u001b[0mlevel\u001b[0m\u001b[0;34m,\u001b[0m \u001b[0merrors\u001b[0m\u001b[0;34m=\u001b[0m\u001b[0merrors\u001b[0m\u001b[0;34m)\u001b[0m\u001b[0;34m\u001b[0m\u001b[0;34m\u001b[0m\u001b[0m\n\u001b[1;32m   4752\u001b[0m             \u001b[0;32melse\u001b[0m\u001b[0;34m:\u001b[0m\u001b[0;34m\u001b[0m\u001b[0;34m\u001b[0m\u001b[0m\n\u001b[0;32m-> 4753\u001b[0;31m                 \u001b[0mnew_axis\u001b[0m \u001b[0;34m=\u001b[0m \u001b[0maxis\u001b[0m\u001b[0;34m.\u001b[0m\u001b[0mdrop\u001b[0m\u001b[0;34m(\u001b[0m\u001b[0mlabels\u001b[0m\u001b[0;34m,\u001b[0m \u001b[0merrors\u001b[0m\u001b[0;34m=\u001b[0m\u001b[0merrors\u001b[0m\u001b[0;34m)\u001b[0m\u001b[0;34m\u001b[0m\u001b[0;34m\u001b[0m\u001b[0m\n\u001b[0m\u001b[1;32m   4754\u001b[0m             \u001b[0mindexer\u001b[0m \u001b[0;34m=\u001b[0m \u001b[0maxis\u001b[0m\u001b[0;34m.\u001b[0m\u001b[0mget_indexer\u001b[0m\u001b[0;34m(\u001b[0m\u001b[0mnew_axis\u001b[0m\u001b[0;34m)\u001b[0m\u001b[0;34m\u001b[0m\u001b[0;34m\u001b[0m\u001b[0m\n\u001b[1;32m   4755\u001b[0m \u001b[0;34m\u001b[0m\u001b[0m\n",
      "\u001b[0;32m~/opt/anaconda3/lib/python3.9/site-packages/pandas/core/indexes/base.py\u001b[0m in \u001b[0;36mdrop\u001b[0;34m(self, labels, errors)\u001b[0m\n\u001b[1;32m   6990\u001b[0m         \u001b[0;32mif\u001b[0m \u001b[0mmask\u001b[0m\u001b[0;34m.\u001b[0m\u001b[0many\u001b[0m\u001b[0;34m(\u001b[0m\u001b[0;34m)\u001b[0m\u001b[0;34m:\u001b[0m\u001b[0;34m\u001b[0m\u001b[0;34m\u001b[0m\u001b[0m\n\u001b[1;32m   6991\u001b[0m             \u001b[0;32mif\u001b[0m \u001b[0merrors\u001b[0m \u001b[0;34m!=\u001b[0m \u001b[0;34m\"ignore\"\u001b[0m\u001b[0;34m:\u001b[0m\u001b[0;34m\u001b[0m\u001b[0;34m\u001b[0m\u001b[0m\n\u001b[0;32m-> 6992\u001b[0;31m                 \u001b[0;32mraise\u001b[0m \u001b[0mKeyError\u001b[0m\u001b[0;34m(\u001b[0m\u001b[0;34mf\"{labels[mask].tolist()} not found in axis\"\u001b[0m\u001b[0;34m)\u001b[0m\u001b[0;34m\u001b[0m\u001b[0;34m\u001b[0m\u001b[0m\n\u001b[0m\u001b[1;32m   6993\u001b[0m             \u001b[0mindexer\u001b[0m \u001b[0;34m=\u001b[0m \u001b[0mindexer\u001b[0m\u001b[0;34m[\u001b[0m\u001b[0;34m~\u001b[0m\u001b[0mmask\u001b[0m\u001b[0;34m]\u001b[0m\u001b[0;34m\u001b[0m\u001b[0;34m\u001b[0m\u001b[0m\n\u001b[1;32m   6994\u001b[0m         \u001b[0;32mreturn\u001b[0m \u001b[0mself\u001b[0m\u001b[0;34m.\u001b[0m\u001b[0mdelete\u001b[0m\u001b[0;34m(\u001b[0m\u001b[0mindexer\u001b[0m\u001b[0;34m)\u001b[0m\u001b[0;34m\u001b[0m\u001b[0;34m\u001b[0m\u001b[0m\n",
      "\u001b[0;31mKeyError\u001b[0m: \"['level_0'] not found in axis\""
     ]
    }
   ],
   "source": [
    "df_agg.drop(\"index\", axis = 1,inplace=True)\n",
    "df_agg.drop(\"level_0\",axis = 1, inplace=True)\n",
    "df_agg.info()"
   ]
  },
  {
   "cell_type": "code",
   "execution_count": 11,
   "metadata": {},
   "outputs": [],
   "source": [
    "preview = df_res.merge(df_agg , on=\"web\")"
   ]
  },
  {
   "cell_type": "markdown",
   "metadata": {},
   "source": []
  },
  {
   "cell_type": "code",
   "execution_count": 15,
   "metadata": {},
   "outputs": [
    {
     "data": {
      "text/html": [
       "<div>\n",
       "<style scoped>\n",
       "    .dataframe tbody tr th:only-of-type {\n",
       "        vertical-align: middle;\n",
       "    }\n",
       "\n",
       "    .dataframe tbody tr th {\n",
       "        vertical-align: top;\n",
       "    }\n",
       "\n",
       "    .dataframe thead th {\n",
       "        text-align: right;\n",
       "    }\n",
       "</style>\n",
       "<table border=\"1\" class=\"dataframe\">\n",
       "  <thead>\n",
       "    <tr style=\"text-align: right;\">\n",
       "      <th></th>\n",
       "      <th>web</th>\n",
       "      <th>Phone Numbers</th>\n",
       "      <th>Telefon</th>\n",
       "    </tr>\n",
       "  </thead>\n",
       "  <tbody>\n",
       "    <tr>\n",
       "      <th>0</th>\n",
       "      <td>https://www.zachranny-kruh.cz/</td>\n",
       "      <td>1 - 197-197</td>\n",
       "      <td>[353 230 000]</td>\n",
       "    </tr>\n",
       "    <tr>\n",
       "      <th>1</th>\n",
       "      <td>http://psych.fnplzen.cz/cs/node/839</td>\n",
       "      <td>377 103 959, 377 441 850, 377 103 111, 377 401...</td>\n",
       "      <td>[377 103 111]</td>\n",
       "    </tr>\n",
       "    <tr>\n",
       "      <th>2</th>\n",
       "      <td>http://www.porceta.cz</td>\n",
       "      <td></td>\n",
       "      <td>[777 882 002]</td>\n",
       "    </tr>\n",
       "    <tr>\n",
       "      <th>3</th>\n",
       "      <td>https://www.prevent99.cz/spot/</td>\n",
       "      <td></td>\n",
       "      <td>[606 089 789]</td>\n",
       "    </tr>\n",
       "    <tr>\n",
       "      <th>4</th>\n",
       "      <td>http://www.detemzlin.cz/</td>\n",
       "      <td>577 922 056</td>\n",
       "      <td>[577 645 231]</td>\n",
       "    </tr>\n",
       "    <tr>\n",
       "      <th>5</th>\n",
       "      <td>https://www.homolka.cz/</td>\n",
       "      <td></td>\n",
       "      <td>[257 271 111]</td>\n",
       "    </tr>\n",
       "    <tr>\n",
       "      <th>6</th>\n",
       "      <td>http://www.educozatec.cz/</td>\n",
       "      <td></td>\n",
       "      <td>[603 253 634]</td>\n",
       "    </tr>\n",
       "    <tr>\n",
       "      <th>7</th>\n",
       "      <td>https://www.charitasluknov.cz</td>\n",
       "      <td>602 236 279, 723 352 633</td>\n",
       "      <td>[734 799 081, 733 160 911]</td>\n",
       "    </tr>\n",
       "    <tr>\n",
       "      <th>8</th>\n",
       "      <td>http://www.psychoterapeuti.cz/adresar-psychote...</td>\n",
       "      <td>774 979 714, 257 322 366, 770 623 916, 607 669...</td>\n",
       "      <td>[233 351 741, 776 736 832]</td>\n",
       "    </tr>\n",
       "    <tr>\n",
       "      <th>9</th>\n",
       "      <td>http://www.psychoterapeuti.cz/adresar-psychote...</td>\n",
       "      <td>774 979 714, 257 322 366, 770 623 916, 607 669...</td>\n",
       "      <td>[777 808 424]</td>\n",
       "    </tr>\n",
       "    <tr>\n",
       "      <th>10</th>\n",
       "      <td>http://www.mudrcerny.cz/</td>\n",
       "      <td></td>\n",
       "      <td>[774 918 150]</td>\n",
       "    </tr>\n",
       "    <tr>\n",
       "      <th>11</th>\n",
       "      <td>https://cdz9.cz/</td>\n",
       "      <td>734 785 106</td>\n",
       "      <td>[734 785 106]</td>\n",
       "    </tr>\n",
       "    <tr>\n",
       "      <th>12</th>\n",
       "      <td>http://www.arcana.cz/</td>\n",
       "      <td></td>\n",
       "      <td>[604 207 640]</td>\n",
       "    </tr>\n",
       "    <tr>\n",
       "      <th>13</th>\n",
       "      <td>http://www.ordinace.cz/ordinace/vo/design_10/p...</td>\n",
       "      <td>420 354 692 253, 420 773 111 129, 773 111 129</td>\n",
       "      <td>[354 692 253]</td>\n",
       "    </tr>\n",
       "    <tr>\n",
       "      <th>14</th>\n",
       "      <td>http://www.kodytkova.cz/</td>\n",
       "      <td>721 979 708</td>\n",
       "      <td>[721 979 708]</td>\n",
       "    </tr>\n",
       "    <tr>\n",
       "      <th>15</th>\n",
       "      <td>https://www.socialnipece.cz</td>\n",
       "      <td></td>\n",
       "      <td>[720 053 420]</td>\n",
       "    </tr>\n",
       "    <tr>\n",
       "      <th>16</th>\n",
       "      <td>https://www.znamylekar.cz/jan-kovar/psycholog-...</td>\n",
       "      <td></td>\n",
       "      <td>[381261311, 731567836]</td>\n",
       "    </tr>\n",
       "    <tr>\n",
       "      <th>17</th>\n",
       "      <td>http://www.psy-dobiasova.cz/</td>\n",
       "      <td></td>\n",
       "      <td>[495 511 324]</td>\n",
       "    </tr>\n",
       "    <tr>\n",
       "      <th>18</th>\n",
       "      <td>https://www.ckp-dobrichovice.cz/</td>\n",
       "      <td></td>\n",
       "      <td>[723 603 600, 723 603 600]</td>\n",
       "    </tr>\n",
       "    <tr>\n",
       "      <th>19</th>\n",
       "      <td>https://www.sos-vesnicky.cz</td>\n",
       "      <td>420 233 335 452</td>\n",
       "      <td>[775 720 285]</td>\n",
       "    </tr>\n",
       "    <tr>\n",
       "      <th>20</th>\n",
       "      <td>http://www.aura-psycholog.cz/</td>\n",
       "      <td></td>\n",
       "      <td>[724 135 213]</td>\n",
       "    </tr>\n",
       "    <tr>\n",
       "      <th>21</th>\n",
       "      <td>https://www.pelhrimov.charita.cz</td>\n",
       "      <td>115-451000237, 565 322 539</td>\n",
       "      <td>[731 562 681]</td>\n",
       "    </tr>\n",
       "    <tr>\n",
       "      <th>22</th>\n",
       "      <td>https://www.psychiatr.info/#utm_source=firmy.c...</td>\n",
       "      <td>602 955 155</td>\n",
       "      <td>[602 955 155, 380 120 155]</td>\n",
       "    </tr>\n",
       "    <tr>\n",
       "      <th>23</th>\n",
       "      <td>http://www.motylek.org</td>\n",
       "      <td>775 403 270, 777 964 763, 777 964 764, 775 964...</td>\n",
       "      <td>[775 964 796]</td>\n",
       "    </tr>\n",
       "    <tr>\n",
       "      <th>24</th>\n",
       "      <td>http://www.sdbplzen.cz</td>\n",
       "      <td>377 266 953</td>\n",
       "      <td>[377 266 953]</td>\n",
       "    </tr>\n",
       "    <tr>\n",
       "      <th>25</th>\n",
       "      <td>https://www.darmodej.cz</td>\n",
       "      <td>2223242526272818, 29301234519, 151617181920211...</td>\n",
       "      <td>[775 039 589]</td>\n",
       "    </tr>\n",
       "    <tr>\n",
       "      <th>26</th>\n",
       "      <td>https://www.firmy.cz/detail/384809-mudr-viliam...</td>\n",
       "      <td>420 379 725 814</td>\n",
       "      <td>[379 725 814]</td>\n",
       "    </tr>\n",
       "    <tr>\n",
       "      <th>27</th>\n",
       "      <td>https://www.zlatestranky.cz/profil/H691323</td>\n",
       "      <td>420 354 430 001</td>\n",
       "      <td>[354 430 001]</td>\n",
       "    </tr>\n",
       "    <tr>\n",
       "      <th>28</th>\n",
       "      <td>https://mudr-magdalena-bohacova.business.site/</td>\n",
       "      <td></td>\n",
       "      <td>[731 085 300]</td>\n",
       "    </tr>\n",
       "    <tr>\n",
       "      <th>29</th>\n",
       "      <td>http://www.psychologiebrno.cz/</td>\n",
       "      <td></td>\n",
       "      <td>[602 737 026]</td>\n",
       "    </tr>\n",
       "  </tbody>\n",
       "</table>\n",
       "</div>"
      ],
      "text/plain": [
       "                                                  web  \\\n",
       "0                      https://www.zachranny-kruh.cz/   \n",
       "1                 http://psych.fnplzen.cz/cs/node/839   \n",
       "2                               http://www.porceta.cz   \n",
       "3                      https://www.prevent99.cz/spot/   \n",
       "4                            http://www.detemzlin.cz/   \n",
       "5                             https://www.homolka.cz/   \n",
       "6                           http://www.educozatec.cz/   \n",
       "7                       https://www.charitasluknov.cz   \n",
       "8   http://www.psychoterapeuti.cz/adresar-psychote...   \n",
       "9   http://www.psychoterapeuti.cz/adresar-psychote...   \n",
       "10                           http://www.mudrcerny.cz/   \n",
       "11                                   https://cdz9.cz/   \n",
       "12                              http://www.arcana.cz/   \n",
       "13  http://www.ordinace.cz/ordinace/vo/design_10/p...   \n",
       "14                           http://www.kodytkova.cz/   \n",
       "15                        https://www.socialnipece.cz   \n",
       "16  https://www.znamylekar.cz/jan-kovar/psycholog-...   \n",
       "17                       http://www.psy-dobiasova.cz/   \n",
       "18                   https://www.ckp-dobrichovice.cz/   \n",
       "19                        https://www.sos-vesnicky.cz   \n",
       "20                      http://www.aura-psycholog.cz/   \n",
       "21                   https://www.pelhrimov.charita.cz   \n",
       "22  https://www.psychiatr.info/#utm_source=firmy.c...   \n",
       "23                             http://www.motylek.org   \n",
       "24                             http://www.sdbplzen.cz   \n",
       "25                            https://www.darmodej.cz   \n",
       "26  https://www.firmy.cz/detail/384809-mudr-viliam...   \n",
       "27         https://www.zlatestranky.cz/profil/H691323   \n",
       "28     https://mudr-magdalena-bohacova.business.site/   \n",
       "29                     http://www.psychologiebrno.cz/   \n",
       "\n",
       "                                        Phone Numbers  \\\n",
       "0                                         1 - 197-197   \n",
       "1   377 103 959, 377 441 850, 377 103 111, 377 401...   \n",
       "2                                                       \n",
       "3                                                       \n",
       "4                                         577 922 056   \n",
       "5                                                       \n",
       "6                                                       \n",
       "7                            602 236 279, 723 352 633   \n",
       "8   774 979 714, 257 322 366, 770 623 916, 607 669...   \n",
       "9   774 979 714, 257 322 366, 770 623 916, 607 669...   \n",
       "10                                                      \n",
       "11                                        734 785 106   \n",
       "12                                                      \n",
       "13      420 354 692 253, 420 773 111 129, 773 111 129   \n",
       "14                                        721 979 708   \n",
       "15                                                      \n",
       "16                                                      \n",
       "17                                                      \n",
       "18                                                      \n",
       "19                                    420 233 335 452   \n",
       "20                                                      \n",
       "21                         115-451000237, 565 322 539   \n",
       "22                                        602 955 155   \n",
       "23  775 403 270, 777 964 763, 777 964 764, 775 964...   \n",
       "24                                        377 266 953   \n",
       "25  2223242526272818, 29301234519, 151617181920211...   \n",
       "26                                    420 379 725 814   \n",
       "27                                    420 354 430 001   \n",
       "28                                                      \n",
       "29                                                      \n",
       "\n",
       "                       Telefon  \n",
       "0                [353 230 000]  \n",
       "1                [377 103 111]  \n",
       "2                [777 882 002]  \n",
       "3                [606 089 789]  \n",
       "4                [577 645 231]  \n",
       "5                [257 271 111]  \n",
       "6                [603 253 634]  \n",
       "7   [734 799 081, 733 160 911]  \n",
       "8   [233 351 741, 776 736 832]  \n",
       "9                [777 808 424]  \n",
       "10               [774 918 150]  \n",
       "11               [734 785 106]  \n",
       "12               [604 207 640]  \n",
       "13               [354 692 253]  \n",
       "14               [721 979 708]  \n",
       "15               [720 053 420]  \n",
       "16      [381261311, 731567836]  \n",
       "17               [495 511 324]  \n",
       "18  [723 603 600, 723 603 600]  \n",
       "19               [775 720 285]  \n",
       "20               [724 135 213]  \n",
       "21               [731 562 681]  \n",
       "22  [602 955 155, 380 120 155]  \n",
       "23               [775 964 796]  \n",
       "24               [377 266 953]  \n",
       "25               [775 039 589]  \n",
       "26               [379 725 814]  \n",
       "27               [354 430 001]  \n",
       "28               [731 085 300]  \n",
       "29               [602 737 026]  "
      ]
     },
     "execution_count": 15,
     "metadata": {},
     "output_type": "execute_result"
    }
   ],
   "source": [
    "preview.head(30)"
   ]
  },
  {
   "cell_type": "code",
   "execution_count": null,
   "metadata": {},
   "outputs": [],
   "source": []
  }
 ],
 "metadata": {
  "kernelspec": {
   "display_name": "Python 3",
   "language": "python",
   "name": "python3"
  },
  "language_info": {
   "codemirror_mode": {
    "name": "ipython",
    "version": 3
   },
   "file_extension": ".py",
   "mimetype": "text/x-python",
   "name": "python",
   "nbconvert_exporter": "python",
   "pygments_lexer": "ipython3",
   "version": "3.9.7"
  }
 },
 "nbformat": 4,
 "nbformat_minor": 2
}
